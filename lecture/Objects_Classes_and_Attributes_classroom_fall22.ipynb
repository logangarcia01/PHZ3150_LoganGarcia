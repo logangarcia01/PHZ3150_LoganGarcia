{
 "cells": [
  {
   "cell_type": "markdown",
   "metadata": {},
   "source": [
    "# Classes & Attributes"
   ]
  },
  {
   "cell_type": "code",
   "execution_count": null,
   "metadata": {},
   "outputs": [],
   "source": []
  },
  {
   "cell_type": "code",
   "execution_count": null,
   "metadata": {},
   "outputs": [],
   "source": [
    "import numpy as np"
   ]
  },
  {
   "cell_type": "markdown",
   "metadata": {},
   "source": [
    "### So far we have learned how to do basic things with Python ( assign variables, solve numerical problems, make lists and dictionaries...) and more complex things like making functions that we can use all the time .....Now we will see a bit more complex things and move to a more “object-oriented programming”: use  programmer defined types to organize both our code and data"
   ]
  },
  {
   "cell_type": "markdown",
   "metadata": {},
   "source": [
    "## Python is an object-oriented programming language, which means that it provides features that support object-oriented programming, which has these defining characteristics:\n",
    "- Programs include class and method definitions.\n",
    "- Most of the computation is expressed in terms of operations on objects.\n",
    "- Objects often represent things in the real world, and methods often correspond to the ways things in the real world interact."
   ]
  },
  {
   "cell_type": "code",
   "execution_count": null,
   "metadata": {},
   "outputs": [],
   "source": [
    "# source: ThinkPython2 ---- and in this class we will start seeing what this all means...."
   ]
  },
  {
   "cell_type": "markdown",
   "metadata": {},
   "source": [
    "## 1. Classes: programmer-defined types of data "
   ]
  },
  {
   "cell_type": "markdown",
   "metadata": {},
   "source": [
    "### You can decide to make a data type 'point' that stores the location of a point in 2D:"
   ]
  },
  {
   "cell_type": "code",
   "execution_count": null,
   "metadata": {},
   "outputs": [],
   "source": [
    "### from ThinkPython2:\n",
    "class Point:\n",
    "    \"\"\"Represents a point in 2-D space.\"\"\"\n"
   ]
  },
  {
   "cell_type": "markdown",
   "metadata": {},
   "source": [
    "### You can then call it as a function: Point()\n",
    "#### e.g,:\n"
   ]
  },
  {
   "cell_type": "code",
   "execution_count": null,
   "metadata": {},
   "outputs": [],
   "source": [
    "a = Point()"
   ]
  },
  {
   "cell_type": "markdown",
   "metadata": {},
   "source": [
    "### if you try to check out what a is you see that it is referencing the Point object you defined:"
   ]
  },
  {
   "cell_type": "code",
   "execution_count": null,
   "metadata": {},
   "outputs": [],
   "source": [
    "a"
   ]
  },
  {
   "cell_type": "code",
   "execution_count": null,
   "metadata": {},
   "outputs": [],
   "source": [
    "##### ---> a is an \"instance\" of the class Point and it is stored in my memory at 0x7f849121f9d0"
   ]
  },
  {
   "cell_type": "markdown",
   "metadata": {},
   "source": [
    "## 2. *A*ttributes: named elements of an object\n",
    "\n",
    "### you can assign values to the instance 'a' e.g., with the \".\" method :"
   ]
  },
  {
   "cell_type": "code",
   "execution_count": null,
   "metadata": {},
   "outputs": [],
   "source": [
    "a.x = 3.0\n",
    "a.y = 4.0 \n",
    "\n",
    "# seems familiar?  n = a.x  like  m = np.pi"
   ]
  },
  {
   "cell_type": "code",
   "execution_count": null,
   "metadata": {},
   "outputs": [],
   "source": [
    "print( a, a.x, a.y )"
   ]
  },
  {
   "cell_type": "code",
   "execution_count": null,
   "metadata": {},
   "outputs": [],
   "source": [
    "###you can use it in any expression you want, like, e.g.:\n",
    "\n",
    "d = np.sqrt( a.x ** 2. + a.y ** 2. )\n",
    "print( d )\n"
   ]
  },
  {
   "cell_type": "code",
   "execution_count": null,
   "metadata": {},
   "outputs": [],
   "source": [
    "# or in a function:\n",
    "\n",
    "def printme( my_attribute) :\n",
    "    print( my_attribute.x, my_attribute.y )\n",
    "    \n",
    "qq = printme( a )\n"
   ]
  },
  {
   "cell_type": "markdown",
   "metadata": {},
   "source": [
    "### attributes are mutable:\n"
   ]
  },
  {
   "cell_type": "code",
   "execution_count": null,
   "metadata": {},
   "outputs": [],
   "source": [
    "a.x = a.x + 5.  ## --> will work\n",
    "print( a.x )"
   ]
  },
  {
   "cell_type": "markdown",
   "metadata": {},
   "source": [
    "### Pure functions: do not change the objects passed to them and have no other effect other than returning a value"
   ]
  },
  {
   "cell_type": "code",
   "execution_count": null,
   "metadata": {},
   "outputs": [],
   "source": [
    "#e.g. (see later for an example that makes more sense):\n",
    "\n",
    "def sum_point(a1, a2):\n",
    "    tt = Point()\n",
    "    \n",
    "    tt.x = a1.x + a2.x\n",
    "    tt.y = a1.y + a2.y\n",
    "    \n",
    "    return tt\n",
    "\n",
    "\n",
    "a3 = Point()\n",
    "a3.x = 1.2\n",
    "a3.y = 3.5\n",
    "\n",
    "a2 = Point()\n",
    "a2.x = 2.2\n",
    "a2.y = 2.1\n",
    "\n",
    "\n",
    "q3 = sum_point( a2, a3 )\n",
    "\n",
    "print( q3.x, q3.y )\n",
    "\n"
   ]
  },
  {
   "cell_type": "markdown",
   "metadata": {},
   "source": [
    "### Modifiers: functions that modify the objects they get as parameters:\n"
   ]
  },
  {
   "cell_type": "code",
   "execution_count": null,
   "metadata": {},
   "outputs": [],
   "source": [
    "def change_the_point( my_attribute ):\n",
    "    \"\"\"changes your point in 2D space \"\"\"\n",
    "    \n",
    "    # change the point's location by 3 and 7:\n",
    "    my_attribute.x = my_attribute.x + 3\n",
    "    my_attribute.y = my_attribute.y + 7\n",
    "    \n",
    "    # return the new point\n",
    "    return my_attribute\n",
    "\n",
    "\n",
    "a2 = Point()\n",
    "a2.x = 2\n",
    "a2.y = 2.\n",
    "\n",
    "\n",
    "q2 = change_the_point( a2 )\n",
    "print( q2.x , q2.y )"
   ]
  },
  {
   "cell_type": "markdown",
   "metadata": {},
   "source": [
    "## 3. Methods: a function that is associated with a particular class.\n",
    "\n",
    "### Methods are defined inside a class definition so as to make the relationship between the class and the method explicit\n"
   ]
  },
  {
   "cell_type": "code",
   "execution_count": null,
   "metadata": {},
   "outputs": [],
   "source": [
    "#from ThinkPython2:\n",
    "\n",
    "#make class time and add method print_time that will print the time in given format. \n",
    "# to make it part of the class, you need to move it under the Time class definition:\n",
    "\n",
    "class Time: \n",
    "    def print_time(time): \n",
    "        print('%.2d:%.2d:%.2d' % (time.hour, time.minute, time.second ) )\n",
    "\n",
    "#make an instance of time:\n",
    "time = Time()\n",
    "time.hour = 11\n",
    "time.minute = 59\n",
    "time.second = 30\n",
    "\n",
    "#call print_time() from the class Time to print your time:\n",
    "\n",
    "time.print_time()\n"
   ]
  },
  {
   "cell_type": "markdown",
   "metadata": {},
   "source": [
    "### Time is the class and print_time() is a method in the class. Here time is an instance that has a print_time() method we can call. The item before the dot, the instance of the class, is called the subject.  It's what the call is really about."
   ]
  },
  {
   "cell_type": "markdown",
   "metadata": {},
   "source": [
    "### The subject gets passed as the first argument to the method.  Any other arguments must be included in the parentheses.  By convention, the first parameter of a method is called *self* :\n"
   ]
  },
  {
   "cell_type": "markdown",
   "metadata": {},
   "source": [
    "### You can use the special method *__init__* to initialize a method:"
   ]
  },
  {
   "cell_type": "code",
   "execution_count": null,
   "metadata": {},
   "outputs": [],
   "source": [
    "##### then inside class Time:\n",
    "class Time: \n",
    "    def __init__(self, hour=0, minute=0, second=0): \n",
    "        self.hour = hour\n",
    "        self.minute = minute\n",
    "        self.second = second\n",
    "        #### It is common for the parameters of __init__ to have the same names as the attributes\n",
    "        \n",
    "    def print_time(self): \n",
    "        print('%.2d:%.2d:%.2d' % (self.hour, self.minute, self.second ) )\n",
    "\n",
    "\n",
    "\n",
    "\n",
    "#make an instance of time:\n",
    "time = Time()\n",
    "#time.hour = 11  --> If I forget this it will set it to 0 because I initialize the time now at 0 \n",
    "time.minute = 59\n",
    "time.second = 30\n",
    "\n",
    "#call print_time() from the class Time to print your time:\n",
    "\n",
    "time.print_time()"
   ]
  },
  {
   "cell_type": "markdown",
   "metadata": {},
   "source": [
    "### Note the change of emphasis from typical functions which would be like *print_time( time )* --> ask function print_time() to print a time, and this one here, which sounds like we're asking time to print itself ( *time.print_time()* ).  What we want to focus on is the starting time, not the *print_time()* function.\n"
   ]
  },
  {
   "cell_type": "markdown",
   "metadata": {},
   "source": [
    "### You can also use the special *__str__* method to return a string representation of the object:"
   ]
  },
  {
   "cell_type": "code",
   "execution_count": null,
   "metadata": {},
   "outputs": [],
   "source": [
    "class Time: \n",
    "    def __init__(self, hour=0, minute=0, second=0): \n",
    "        self.hour = hour\n",
    "        self.minute = minute\n",
    "        self.second = second\n",
    "        \n",
    "    def __str__(self):\n",
    "        return '%.2d:%.2d:%.2d' % (self.hour, self.minute, self.second)"
   ]
  },
  {
   "cell_type": "code",
   "execution_count": null,
   "metadata": {},
   "outputs": [],
   "source": [
    "time = Time( 9, 45 )\n",
    "# and then: \n",
    "print( time )"
   ]
  },
  {
   "cell_type": "code",
   "execution_count": null,
   "metadata": {},
   "outputs": [],
   "source": [
    "#check:\n",
    "time"
   ]
  },
  {
   "cell_type": "markdown",
   "metadata": {},
   "source": [
    "### make a (pure) function that adds two given times:"
   ]
  },
  {
   "cell_type": "code",
   "execution_count": null,
   "metadata": {},
   "outputs": [],
   "source": [
    "def add_time_here(t1, t2):\n",
    "    \n",
    "    sumt = Time()\n",
    "\n",
    "    sumt.hour = t1.hour + t2.hour\n",
    "    sumt.minute = t1.minute + t2.minute\n",
    "    sumt.second = t1.second + t2.second\n",
    "        \n",
    "    return sumt\n",
    "    "
   ]
  },
  {
   "cell_type": "code",
   "execution_count": null,
   "metadata": {},
   "outputs": [],
   "source": [
    "#### from ThinkPython2: assume you go to the movies at 9:45 pm and the movie is 1h 35m long...when does it end?\n",
    "\n",
    "# initiate start time:\n",
    "start = Time()\n",
    "start.hour = 9\n",
    "start.minute = 45\n",
    "start.second = 0\n",
    "\n",
    "print( start )\n",
    "\n",
    "# and duration time:\n",
    "duration = Time()\n",
    "duration.hour = 1\n",
    "duration.minute = 35\n",
    "duration.second = 0\n",
    "\n",
    "print( start )\n",
    "\n",
    "# add them up to figure out when movie's done:\n",
    "done = add_time_here(start, duration)\n",
    "\n",
    "# print end time :\n",
    "print( done )\n"
   ]
  },
  {
   "cell_type": "code",
   "execution_count": null,
   "metadata": {},
   "outputs": [],
   "source": [
    "### oops, it went wrong! how do we fix this? we don't need 80min....\n",
    "\n",
    "def add_time_improved(t1, t2): \n",
    "    sumt = Time()\n",
    "    sumt.hour = t1.hour + t2.hour\n",
    "    sumt.minute = t1.minute + t2.minute\n",
    "    sumt.second = t1.second + t2.second\n",
    "\n",
    "    if sumt.second >= 60:\n",
    "        sumt.second = sumt.second - 60\n",
    "        sumt.minute = sumt.minute + 1\n",
    "        \n",
    "    if sumt.minute >= 60:\n",
    "        sumt.minute = sumt.minute - 60\n",
    "        sumt.hour   = sumt.hour   + 1\n",
    "\n",
    "    return sumt\n",
    "\n",
    "\n",
    "# add them up to figure out when movie's done:\n",
    "done = add_time_improved(start, duration)\n",
    "\n",
    "# print end time :\n",
    "print( done )"
   ]
  },
  {
   "cell_type": "code",
   "execution_count": null,
   "metadata": {},
   "outputs": [],
   "source": [
    "# let's collect some more modifiers for our time here:\n",
    "\n",
    "def time_to_int( time ):\n",
    "    \n",
    "    minutes = time.hour * 60 + time.minute\n",
    "    seconds = minutes   * 60 + time.second\n",
    "\n",
    "    return seconds\n",
    "\n",
    "\n",
    "def int_to_time( seconds ):\n",
    "\n",
    "    time = Time()\n",
    "    minutes,   time.second = divmod( seconds, 60 )\n",
    "    time.hour, time.minute = divmod( minutes, 60 )\n",
    "\n",
    "    return time\n",
    "\n",
    "def add_time( t1, t2 ):\n",
    "\n",
    "    seconds = time_to_int( t1 ) + time_to_int( t2 )\n",
    "    \n",
    "    return int_to_time( seconds )\n",
    "\n",
    "def increment( time, seconds ):\n",
    "    \n",
    "    seconds = time_to_int( time ) + seconds\n",
    "    \n",
    "    return int_to_time( seconds )\n"
   ]
  },
  {
   "cell_type": "code",
   "execution_count": null,
   "metadata": {},
   "outputs": [],
   "source": [
    "#when are we done?\n",
    "done = add_time(start, duration)\n",
    "\n",
    "print( done )\n",
    "\n",
    "# now let's get the end time and add 30,000 seconds to it....what time is that?\n",
    "a = increment(done, 30000)\n",
    "print( a )"
   ]
  },
  {
   "cell_type": "code",
   "execution_count": null,
   "metadata": {},
   "outputs": [],
   "source": []
  },
  {
   "cell_type": "code",
   "execution_count": null,
   "metadata": {},
   "outputs": [],
   "source": [
    "#Write a boolean function called is_after that takes two Time objects, t1 and t2, and returns \n",
    "# True if t1 follows t2 chronologically and False otherwise. Challenge: don’t use an\n",
    "# if statement\n",
    "def is_after(t1, t2):\n",
    "    tot1 = t1.hour * 3600 + t1.minute * 60 \n",
    "    tot2 = t2.hour * 3600 + t2.minute * 60 \n",
    "    \n",
    "    try:\n",
    "        tot1 - tot2 > 0\n",
    "        return \"True\"\n",
    "    except:\n",
    "        raise \n",
    "        print(\"False\")\n",
    "        \n",
    "duration2 = Time()\n",
    "duration3 = Time()\n",
    "\n",
    "\n",
    "duration2.hour   = 1\n",
    "duration2.minute = 35\n",
    "\n",
    "duration3.hour   = 0\n",
    "duration3.minute = 48\n",
    "\n",
    "print( is_after( duration2, duration3 ) )"
   ]
  },
  {
   "cell_type": "code",
   "execution_count": null,
   "metadata": {},
   "outputs": [],
   "source": [
    "### or:\n",
    "\n",
    "def is_after2(t1,t2):\n",
    "    \n",
    "    tot1 = t1.hour * 3600 + t1.minute * 60 \n",
    "    tot2 = t2.hour * 3600 + t2.minute * 60 \n",
    "\n",
    "    return tot1 > tot2\n",
    "\n",
    "\n",
    "duration2 = Time()\n",
    "duration3 = Time()\n",
    "\n",
    "\n",
    "duration2.hour   = 1\n",
    "duration2.minute = 35\n",
    "\n",
    "duration3.hour   = 0\n",
    "duration3.minute = 48\n",
    "\n",
    "print( is_after2( duration2 , duration3 ) )"
   ]
  },
  {
   "cell_type": "code",
   "execution_count": null,
   "metadata": {},
   "outputs": [],
   "source": [
    "## Rewriting is_after in the class Time is slightly more complicated because it takes two \n",
    "## Time objects as parameters. In this case it is conventional to name the first parameter self\n",
    "## and the second parameter other:\n",
    "\n",
    "\n",
    "class Time: \n",
    "    def __init__(self, hour=0, minute=0, second=0): \n",
    "        self.hour = hour\n",
    "        self.minute = minute\n",
    "        self.second = second\n",
    "        \n",
    "    def print_time(self): \n",
    "        print('%.2d:%.2d:%.2d' % (self.hour, self.minute, self.second ) )\n",
    "        \n",
    "    def is_after( self, other ):\n",
    "        return self.time_to_int() > other.time_to_int()\n",
    "\n",
    "    def time_to_int(self):\n",
    "        minutes = self.hour * 60 + self.minute\n",
    "        seconds = minutes   * 60 + self.second\n",
    "        return seconds\n"
   ]
  },
  {
   "cell_type": "code",
   "execution_count": null,
   "metadata": {},
   "outputs": [],
   "source": [
    "start = Time()\n",
    "end = Time()\n",
    "\n",
    "\n",
    "start.hour   = 1\n",
    "start.minute = 35\n",
    "\n",
    "end.hour   = 10\n",
    "end.minute = 48\n",
    "\n",
    "print( end.is_after( start ) )  # is the end after the start? note that order can matter; see later\n"
   ]
  },
  {
   "cell_type": "code",
   "execution_count": null,
   "metadata": {},
   "outputs": [],
   "source": [
    "#print( start.is_after( end ) )"
   ]
  },
  {
   "cell_type": "code",
   "execution_count": null,
   "metadata": {},
   "outputs": [],
   "source": []
  },
  {
   "cell_type": "markdown",
   "metadata": {},
   "source": [
    "### To help with debugging you can start building some tests for your parameters, e.g., is the time real/possible?"
   ]
  },
  {
   "cell_type": "code",
   "execution_count": null,
   "metadata": {},
   "outputs": [],
   "source": [
    "def valid_time(time):\n",
    "    \"\"\"Checks if a given time is real\"\"\"\n",
    "    if time.hour < 0 or time.minute < 0 or time.second < 0:\n",
    "        return False\n",
    "    \n",
    "    if time.minute >= 60 or time.second >= 60:\n",
    "        return False\n",
    "    \n",
    "    return True"
   ]
  },
  {
   "cell_type": "code",
   "execution_count": null,
   "metadata": {},
   "outputs": [],
   "source": [
    "foo = Time()\n",
    "\n",
    "foo.hour   = 1\n",
    "foo.minute = 3\n",
    "foo.second = -230\n",
    "\n",
    "valid_time( foo )"
   ]
  },
  {
   "cell_type": "code",
   "execution_count": null,
   "metadata": {},
   "outputs": [],
   "source": [
    "foo = Time()\n",
    "\n",
    "foo.hour   = 2\n",
    "foo.minute = 3\n",
    "foo.second = 23\n",
    "\n",
    "valid_time( foo )"
   ]
  },
  {
   "cell_type": "markdown",
   "metadata": {},
   "source": [
    "### You can then put this at the start of each function to check the arguments"
   ]
  },
  {
   "cell_type": "code",
   "execution_count": null,
   "metadata": {},
   "outputs": [],
   "source": [
    "# One way is to use an assertion:\n",
    "\n",
    "def add_time( t1, t2 ):\n",
    "    \n",
    "    assert valid_time( t1 ) and valid_time( t2 )  #--> if one return false you get assertion error\n",
    "\n",
    "    seconds = time_to_int( t1 ) + time_to_int( t2 )\n",
    "    \n",
    "    return int_to_time( seconds )\n",
    "\n",
    "\n",
    "foo.second = -30\n",
    "\n",
    "bar = add_time( foo, duration )\n",
    "\n",
    "print( bar )\n"
   ]
  },
  {
   "cell_type": "code",
   "execution_count": null,
   "metadata": {},
   "outputs": [],
   "source": [
    "foo2 = Time()\n",
    "\n",
    "foo2.hour   = 1\n",
    "foo2.minute = 3\n",
    "foo2.second = 23\n",
    "\n",
    "#print( valid_time( foo2 ) )\n",
    "\n",
    "foo3 = Time()\n",
    "\n",
    "foo3.hour   = 1\n",
    "foo3.minute = 2\n",
    "foo3.second = 17\n",
    "\n",
    "#print( valid_time( foo3)  )\n",
    "\n",
    "\n",
    "bar = add_time( foo2, foo3 )\n",
    "\n",
    "\n",
    "bar.print_time()"
   ]
  },
  {
   "cell_type": "code",
   "execution_count": null,
   "metadata": {},
   "outputs": [],
   "source": []
  },
  {
   "cell_type": "code",
   "execution_count": null,
   "metadata": {},
   "outputs": [],
   "source": [
    "# or raise an exception:\n",
    "\n",
    "def add_time( t1, t2 ):\n",
    "    \n",
    "    if not valid_time( t1 ) or not valid_time( t2 ):\n",
    "        raise ValueError(\"Invalid Time object in add_time()\")\n",
    "        \n",
    "    seconds = time_to_int( t1 ) + time_to_int( t2 )\n",
    "    \n",
    "    return int_to_time( seconds )\n",
    "\n",
    "foo.second = -230\n",
    "\n",
    "bar = add_time( foo, duration )\n",
    "\n",
    "done.print_time()"
   ]
  },
  {
   "cell_type": "markdown",
   "metadata": {},
   "source": [
    "### Get the file *timeclass.py*, which is a module.  It contains the full Time class, plus the one function, int_to_time(),  that does not take an instance of the Time class as an argument. It's called timeclass.py and not time.py as there is already a Python module called time.py.\n",
    "\n",
    "### Go look at timeclass.py now, and you'll see all our functions defined as methods of Time, some with special names.\n"
   ]
  },
  {
   "cell_type": "markdown",
   "metadata": {},
   "source": [
    "##### --------------"
   ]
  },
  {
   "cell_type": "code",
   "execution_count": null,
   "metadata": {},
   "outputs": [],
   "source": [
    "# Let's import timeclass:\n",
    "import timeclass"
   ]
  },
  {
   "cell_type": "code",
   "execution_count": null,
   "metadata": {},
   "outputs": [],
   "source": [
    "## Now, you can set the attributes in a new Time object: \n",
    "\n",
    "#before running it, what do you expect this gives? why?\n",
    "time = timeclass.Time()\n",
    "time.print_time()"
   ]
  },
  {
   "cell_type": "code",
   "execution_count": null,
   "metadata": {},
   "outputs": [],
   "source": [
    "#what about this: \n",
    "time = timeclass.Time(9)\n",
    "time.print_time()\n",
    "\n",
    "#or this one?\n",
    "time = timeclass.Time(9, 45)\n",
    "time.print_time()\n",
    "\n",
    "\n",
    "time = timeclass.Time(9, 45, 23)\n",
    "time.print_time()\n",
    "\n",
    "\n",
    "# You can print the time:\n",
    "\n",
    "print(time)\n",
    "# 09:45:23"
   ]
  },
  {
   "cell_type": "markdown",
   "metadata": {},
   "source": [
    "### Code will look more \"natural\".  We can add times to each other, we can add times to seconds or seconds to times, and we can print them, all using ordinary Python syntax:\n"
   ]
  },
  {
   "cell_type": "code",
   "execution_count": null,
   "metadata": {},
   "outputs": [],
   "source": [
    "start = timeclass.Time( 9, 45, 23)\n",
    "dur   = timeclass.Time(10, 45, 23)\n",
    "inter = 3600\n",
    "\n",
    "print(start)\n",
    "# 09:45:23\n",
    "print(dur)\n",
    "# 10:45:23"
   ]
  },
  {
   "cell_type": "markdown",
   "metadata": {},
   "source": [
    "### let's look at this case here:"
   ]
  },
  {
   "cell_type": "code",
   "execution_count": null,
   "metadata": {},
   "outputs": [],
   "source": [
    "print(start + dur)\n",
    "# 20:30:46\n",
    "print(start + inter)\n",
    "# 10:45:23\n",
    "print(inter + start)\n",
    "# 10:45:23\n"
   ]
  },
  {
   "cell_type": "markdown",
   "metadata": {},
   "source": [
    "### it worked because in timeclass.py we have let the code know what to do when it sees the + operand (see line 75)"
   ]
  },
  {
   "cell_type": "markdown",
   "metadata": {},
   "source": [
    "### Operator overloading: special methods that allow to change the behavior of operators on programmer-defined types. E.g., the \"+\" operator becomes an addition like this:\n"
   ]
  },
  {
   "cell_type": "code",
   "execution_count": null,
   "metadata": {},
   "outputs": [],
   "source": [
    "def __add__(self, other):    # when you see the + you will add the two like this:\n",
    "    \n",
    "    seconds = self.time_to_int() + other.time_to_int()\n",
    "    \n",
    "    return int_to_time(seconds)"
   ]
  },
  {
   "cell_type": "markdown",
   "metadata": {},
   "source": [
    "### For the two-parameter methods, you need to invoke it on one object and pass the other, and order might matter:"
   ]
  },
  {
   "cell_type": "code",
   "execution_count": null,
   "metadata": {},
   "outputs": [],
   "source": [
    "# e.g,:\n",
    "\n",
    "end = start + dur\n",
    "\n",
    "print( end.is_after( start ) )  # is the end after the start?\n",
    "\n",
    "print( start.is_after( end ) )  # or is the start after the end?\n",
    "\n",
    "\n",
    "# We don't directly call most of the methods anymore! They're called behind the scenes by the + operator and print().\n"
   ]
  },
  {
   "cell_type": "code",
   "execution_count": null,
   "metadata": {},
   "outputs": [],
   "source": [
    "# Write a class that gets a number and increases it by one:\n",
    "class add_one_class: \n",
    "    count = 0     # class attribute \n",
    "  \n",
    "    def increase(self): \n",
    "        add_one_class.count = add_one_class.count+1\n",
    "\n",
    "# Calling increase() on an object: \n",
    "s1 = add_one_class() \n",
    "s1.increase()         \n",
    "print ( s1.count )\n",
    "\n",
    "# Calling increase one more time: \n",
    "s2 = add_one_class() \n",
    "s2.increase() \n",
    "print ( s2.count )\n",
    "\n",
    "#now set your base count to 5:\n",
    "add_one_class.count = 5 \n",
    "s3 = add_one_class()\n",
    "\n",
    "#and increase it:\n",
    "s3.increase() \n",
    "print ( s3.count )\n",
    "\n"
   ]
  },
  {
   "cell_type": "code",
   "execution_count": null,
   "metadata": {},
   "outputs": [],
   "source": [
    "# Write a class that gets a number and multiplies it by ten:\n",
    "class multiple_ten_class: \n",
    "    count = 1     # class attribute \n",
    "  \n",
    "    def multiply(self): \n",
    "        multiple_ten_class.count = multiple_ten_class.count*10\n",
    "\n",
    "# Calling increase() on an object: \n",
    "s1 = multiple_ten_class() \n",
    "s1.multiply()         \n",
    "print (s1.count )  ###why did it print this????\n"
   ]
  },
  {
   "cell_type": "code",
   "execution_count": null,
   "metadata": {},
   "outputs": [],
   "source": [
    "# now try this:\n",
    "\n",
    "s2 = multiple_ten_class() \n",
    "s2.multiply() \n",
    "print (s2.count )  # why?\n",
    "  "
   ]
  },
  {
   "cell_type": "code",
   "execution_count": null,
   "metadata": {},
   "outputs": [],
   "source": [
    "#now set your base count to 5:\n",
    "multiple_ten_class.count = 5 \n",
    "\n",
    "s3 = multiple_ten_class()\n",
    "\n",
    "#and increase it:\n",
    "s3.multiply() \n",
    "print (s3.count )  "
   ]
  },
  {
   "cell_type": "code",
   "execution_count": null,
   "metadata": {},
   "outputs": [],
   "source": [
    "# what if I would try this:\n",
    "\n",
    "s2 = multiple_ten_class() \n",
    "s2.multiply() \n",
    "print (s2.count )  # why?"
   ]
  },
  {
   "cell_type": "code",
   "execution_count": null,
   "metadata": {},
   "outputs": [],
   "source": [
    "class Circle:\n",
    "    pi = 3.14\n",
    "\n",
    "#initialize the attribute of the class:\n",
    "    def __init__(self, radius):   \n",
    "        self.radius = radius\n",
    "        \n",
    "#define \n",
    "    def area(self):\n",
    "        print('radius is:',self.radius)\n",
    "        return self.pi * self.radius **2\n",
    "\n",
    "print(Circle.pi)\n",
    "\n",
    "c = Circle(20)\n",
    "print(c.pi)\n",
    "print(c.area())\n"
   ]
  },
  {
   "cell_type": "code",
   "execution_count": null,
   "metadata": {},
   "outputs": [],
   "source": [
    "class surface_volume_area_sphere:\n",
    "    \n",
    "#initialize:\n",
    "      def __init__(self,radius):\n",
    "        self.radius = radius\n",
    "        \n",
    "#define function that returs surface area of sphere:\n",
    "      def area(self):\n",
    "        return(4*np.pi*self.radius**2)\n",
    "    \n",
    "#define function that returns volume of sphere:\n",
    "      def volume(self):\n",
    "        return(4/3.*np.pi*self.radius**3)\n",
    "    \n",
    "rr = 100\n",
    "rsv = surface_volume_area_sphere(rr)\n",
    "\n",
    "print('The surface area of the sphere with radius', rr, 'is: ', rsv.area())\n",
    "print('The volume of the sphere with radius', rr, 'is: ',rsv.volume())"
   ]
  },
  {
   "cell_type": "code",
   "execution_count": null,
   "metadata": {},
   "outputs": [],
   "source": []
  },
  {
   "cell_type": "code",
   "execution_count": null,
   "metadata": {},
   "outputs": [],
   "source": []
  },
  {
   "cell_type": "code",
   "execution_count": null,
   "metadata": {},
   "outputs": [],
   "source": []
  },
  {
   "cell_type": "code",
   "execution_count": null,
   "metadata": {},
   "outputs": [],
   "source": []
  },
  {
   "cell_type": "markdown",
   "metadata": {},
   "source": [
    "### Practicum: \n",
    "\n",
    "### 1. You have two lists of words: \n",
    "\n",
    "list_1 = [ \"it's\",  'salty', 'break and','incomplete'] <br>\n",
    "list_2 = [ 'impossible',  'accelerate', 'tomatoes' ,'jump' ]\n",
    "\n",
    "### a. Write a code that scans the two lists and adds the elements of the lists (e.g., it'simpossible ) if: \n",
    "1. the length of the combined string is longer than 8 and less than 14\n",
    "2. a word from list 1 is used only once (so the second time it could be used it's skipped)\n",
    "\n",
    "### The combined words will be stored in list ***combined***.\n",
    "\n",
    "### b. Write a code that scans the two lists and adds the elements and prints out the shortest possible combination."
   ]
  },
  {
   "cell_type": "code",
   "execution_count": null,
   "metadata": {},
   "outputs": [],
   "source": []
  },
  {
   "cell_type": "code",
   "execution_count": null,
   "metadata": {},
   "outputs": [],
   "source": []
  },
  {
   "cell_type": "code",
   "execution_count": null,
   "metadata": {},
   "outputs": [],
   "source": []
  },
  {
   "cell_type": "code",
   "execution_count": null,
   "metadata": {},
   "outputs": [],
   "source": []
  },
  {
   "cell_type": "markdown",
   "metadata": {},
   "source": [
    "### 2. Read in file random_data_pickle.pickle (see the ***I/O, storing data, pickling, pandas, reading data*** demo for how to do it). If you know that it contains 3 columns, how do you unpickle the data into variable x,y, z in one line? Plot your y- z vs x."
   ]
  },
  {
   "cell_type": "code",
   "execution_count": null,
   "metadata": {},
   "outputs": [],
   "source": []
  },
  {
   "cell_type": "code",
   "execution_count": null,
   "metadata": {},
   "outputs": [],
   "source": []
  },
  {
   "cell_type": "code",
   "execution_count": null,
   "metadata": {},
   "outputs": [],
   "source": []
  },
  {
   "cell_type": "markdown",
   "metadata": {},
   "source": [
    "### 3. We have a vegetable garden, but we don’t know how many plants of each type to plant.If we want 4 pounds of carrots, 2 pounds of lettuce, 6 pounds of peppers, and 3 poundsof tomatoes, how many of each plant do we need and how much total length will these veggies take? Will it all fit in a single 12-foot garden row?\n",
    "\n",
    "### Write a function called garden(plant_info, production_info)that is a function of the information we have on the plants we want to seed and the production we want to have at the end of the growing season, in pounds. Each one of these arguments should accept a dictionary that has as keywords the names of the vegetables and as items: the length of land each plant takes and its production, and the wanted production respectively. The function should return a tuple containing information on whether a given combination of plants fits our yard (True/False), the required total row length (float), and the needed number of each kind of plant in the order given in the table below (int). Round the number of plants up to the next integer--no fractional plants! Also,don’t forget to add an appropriate docstring.\n",
    "\n",
    "\n",
    "\n",
    "Your plant_info should store the data in the table below:\n",
    "\n",
    "Plant | Takes [ft]    | Produces [lbs]\n",
    "--|:---------:|:-----------:\n",
    "carrot | 0.25   | 0.5 \n",
    "lettuce | 1.5 | 1\n",
    "pepper | 2 | 2 \n",
    "tomato | 2 | 10\n",
    "\n",
    "### Call the function for: 4 pounds of carrots, 2 pounds of lettuce, 6 pounds of peppers, and 3 poundsof tomatoes,  and print the result. Will it all fit in a single 12-foot garden row?"
   ]
  },
  {
   "cell_type": "code",
   "execution_count": null,
   "metadata": {},
   "outputs": [],
   "source": []
  },
  {
   "cell_type": "code",
   "execution_count": null,
   "metadata": {},
   "outputs": [],
   "source": []
  },
  {
   "cell_type": "markdown",
   "metadata": {},
   "source": [
    "### Write a second function called gardenreport that takes the inputs returned from garden, but in the shape of six function arguments (so: gardenreport(fits_yes_no, total_length, num_carrots, num_lettuces, num_peppers, num_tomatoes); see ThinkPython2 12.4) .It should print a nice report stating in complete English sentences, one line each, whether theoutput will fit, how long the row will be, and, for each kind of plant (4 lines), how many plants are required. Once you know that it works, make the function save the output to a file named my_gardent.txt using the appropriate open/write statements of Python."
   ]
  },
  {
   "cell_type": "code",
   "execution_count": null,
   "metadata": {},
   "outputs": [],
   "source": []
  }
 ],
 "metadata": {
  "kernelspec": {
   "display_name": "Python 3 (ipykernel)",
   "language": "python",
   "name": "python3"
  },
  "language_info": {
   "codemirror_mode": {
    "name": "ipython",
    "version": 3
   },
   "file_extension": ".py",
   "mimetype": "text/x-python",
   "name": "python",
   "nbconvert_exporter": "python",
   "pygments_lexer": "ipython3",
   "version": "3.7.13"
  }
 },
 "nbformat": 4,
 "nbformat_minor": 2
}
