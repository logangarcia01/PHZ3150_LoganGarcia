{
 "cells": [
  {
   "cell_type": "markdown",
   "metadata": {},
   "source": [
    "# Numpy, lists and tuples practicum"
   ]
  },
  {
   "cell_type": "markdown",
   "metadata": {},
   "source": [
    "### Start by importing numpy:"
   ]
  },
  {
   "cell_type": "code",
   "execution_count": 2,
   "metadata": {},
   "outputs": [],
   "source": [
    "import numpy as np"
   ]
  },
  {
   "cell_type": "markdown",
   "metadata": {},
   "source": [
    "### First create an array x from 100 to 1,000 with a step of 2:"
   ]
  },
  {
   "cell_type": "code",
   "execution_count": 3,
   "metadata": {},
   "outputs": [],
   "source": [
    "x = np.arange (100,1000,2)"
   ]
  },
  {
   "cell_type": "markdown",
   "metadata": {},
   "source": [
    "### then create an array y from 1,000 to 2,800 with a step of 4:"
   ]
  },
  {
   "cell_type": "code",
   "execution_count": 4,
   "metadata": {},
   "outputs": [],
   "source": [
    "y = np.arange(1000,2800,4)"
   ]
  },
  {
   "cell_type": "markdown",
   "metadata": {},
   "source": [
    "### check the shape of x and y:"
   ]
  },
  {
   "cell_type": "code",
   "execution_count": 5,
   "metadata": {},
   "outputs": [
    {
     "name": "stdout",
     "output_type": "stream",
     "text": [
      "(450,)\n",
      "(450,)\n"
     ]
    }
   ],
   "source": [
    "print( x.shape )\n",
    "print( y.shape )"
   ]
  },
  {
   "cell_type": "markdown",
   "metadata": {},
   "source": [
    "### get the length of x:"
   ]
  },
  {
   "cell_type": "code",
   "execution_count": 6,
   "metadata": {},
   "outputs": [
    {
     "name": "stdout",
     "output_type": "stream",
     "text": [
      "450\n"
     ]
    }
   ],
   "source": [
    "print(len (x))"
   ]
  },
  {
   "cell_type": "markdown",
   "metadata": {},
   "source": [
    "### Create array z equal to the difference of y minus x "
   ]
  },
  {
   "cell_type": "code",
   "execution_count": 7,
   "metadata": {},
   "outputs": [],
   "source": [
    "z = y-x"
   ]
  },
  {
   "cell_type": "markdown",
   "metadata": {},
   "source": [
    "### print it:"
   ]
  },
  {
   "cell_type": "code",
   "execution_count": 8,
   "metadata": {},
   "outputs": [
    {
     "name": "stdout",
     "output_type": "stream",
     "text": [
      "[ 900  902  904  906  908  910  912  914  916  918  920  922  924  926\n",
      "  928  930  932  934  936  938  940  942  944  946  948  950  952  954\n",
      "  956  958  960  962  964  966  968  970  972  974  976  978  980  982\n",
      "  984  986  988  990  992  994  996  998 1000 1002 1004 1006 1008 1010\n",
      " 1012 1014 1016 1018 1020 1022 1024 1026 1028 1030 1032 1034 1036 1038\n",
      " 1040 1042 1044 1046 1048 1050 1052 1054 1056 1058 1060 1062 1064 1066\n",
      " 1068 1070 1072 1074 1076 1078 1080 1082 1084 1086 1088 1090 1092 1094\n",
      " 1096 1098 1100 1102 1104 1106 1108 1110 1112 1114 1116 1118 1120 1122\n",
      " 1124 1126 1128 1130 1132 1134 1136 1138 1140 1142 1144 1146 1148 1150\n",
      " 1152 1154 1156 1158 1160 1162 1164 1166 1168 1170 1172 1174 1176 1178\n",
      " 1180 1182 1184 1186 1188 1190 1192 1194 1196 1198 1200 1202 1204 1206\n",
      " 1208 1210 1212 1214 1216 1218 1220 1222 1224 1226 1228 1230 1232 1234\n",
      " 1236 1238 1240 1242 1244 1246 1248 1250 1252 1254 1256 1258 1260 1262\n",
      " 1264 1266 1268 1270 1272 1274 1276 1278 1280 1282 1284 1286 1288 1290\n",
      " 1292 1294 1296 1298 1300 1302 1304 1306 1308 1310 1312 1314 1316 1318\n",
      " 1320 1322 1324 1326 1328 1330 1332 1334 1336 1338 1340 1342 1344 1346\n",
      " 1348 1350 1352 1354 1356 1358 1360 1362 1364 1366 1368 1370 1372 1374\n",
      " 1376 1378 1380 1382 1384 1386 1388 1390 1392 1394 1396 1398 1400 1402\n",
      " 1404 1406 1408 1410 1412 1414 1416 1418 1420 1422 1424 1426 1428 1430\n",
      " 1432 1434 1436 1438 1440 1442 1444 1446 1448 1450 1452 1454 1456 1458\n",
      " 1460 1462 1464 1466 1468 1470 1472 1474 1476 1478 1480 1482 1484 1486\n",
      " 1488 1490 1492 1494 1496 1498 1500 1502 1504 1506 1508 1510 1512 1514\n",
      " 1516 1518 1520 1522 1524 1526 1528 1530 1532 1534 1536 1538 1540 1542\n",
      " 1544 1546 1548 1550 1552 1554 1556 1558 1560 1562 1564 1566 1568 1570\n",
      " 1572 1574 1576 1578 1580 1582 1584 1586 1588 1590 1592 1594 1596 1598\n",
      " 1600 1602 1604 1606 1608 1610 1612 1614 1616 1618 1620 1622 1624 1626\n",
      " 1628 1630 1632 1634 1636 1638 1640 1642 1644 1646 1648 1650 1652 1654\n",
      " 1656 1658 1660 1662 1664 1666 1668 1670 1672 1674 1676 1678 1680 1682\n",
      " 1684 1686 1688 1690 1692 1694 1696 1698 1700 1702 1704 1706 1708 1710\n",
      " 1712 1714 1716 1718 1720 1722 1724 1726 1728 1730 1732 1734 1736 1738\n",
      " 1740 1742 1744 1746 1748 1750 1752 1754 1756 1758 1760 1762 1764 1766\n",
      " 1768 1770 1772 1774 1776 1778 1780 1782 1784 1786 1788 1790 1792 1794\n",
      " 1796 1798]\n"
     ]
    }
   ],
   "source": [
    "print(z)"
   ]
  },
  {
   "cell_type": "markdown",
   "metadata": {},
   "source": [
    "### multiply x by 2, subtract 100 from y and add all this togeter ( (x*2) + (y-100)); assign to variable test1 "
   ]
  },
  {
   "cell_type": "code",
   "execution_count": 9,
   "metadata": {},
   "outputs": [],
   "source": [
    "test1 = (x*2) + (y-100)"
   ]
  },
  {
   "cell_type": "markdown",
   "metadata": {},
   "source": [
    "### calculate and print the min of test1, its max and its mean:"
   ]
  },
  {
   "cell_type": "code",
   "execution_count": 10,
   "metadata": {},
   "outputs": [
    {
     "name": "stdout",
     "output_type": "stream",
     "text": [
      "1100 4692 2896.0\n"
     ]
    }
   ],
   "source": [
    "print (np.min(test1), np.max(test1), np.mean (test1))"
   ]
  },
  {
   "cell_type": "markdown",
   "metadata": {},
   "source": [
    "### print the mean of the base 10 logarithm of x"
   ]
  },
  {
   "cell_type": "code",
   "execution_count": 11,
   "metadata": {},
   "outputs": [
    {
     "name": "stdout",
     "output_type": "stream",
     "text": [
      "2.675704070469898\n"
     ]
    }
   ],
   "source": [
    "print (np.mean (np.log10(x)))"
   ]
  },
  {
   "cell_type": "markdown",
   "metadata": {},
   "source": [
    "### 1. Create a numpy array x that goes from 1 up to and including 100 (last element must be 100.0) with a step of 0.1. \n",
    "- Verify its type using the type command and its size using the .shape command.  \n",
    "- Print x. \n",
    "- Print its maximum, minimum and mean. \n",
    "- Add 5 to x and print it. \n",
    "- Print an array whose values are 10 times larger than x."
   ]
  },
  {
   "cell_type": "code",
   "execution_count": 14,
   "metadata": {},
   "outputs": [],
   "source": [
    "accel = np.array( [ 10, 13, 5, 22, -4, 8, -12 ] )"
   ]
  },
  {
   "cell_type": "code",
   "execution_count": 15,
   "metadata": {},
   "outputs": [
    {
     "name": "stdout",
     "output_type": "stream",
     "text": [
      "[ 10  13   5  22  -4   8 -12]\n"
     ]
    }
   ],
   "source": [
    "print(accel)"
   ]
  },
  {
   "cell_type": "code",
   "execution_count": 22,
   "metadata": {},
   "outputs": [
    {
     "name": "stdout",
     "output_type": "stream",
     "text": [
      "[ 20  26  10  44  -8  16 -24]\n"
     ]
    }
   ],
   "source": [
    "print(accel[1])"
   ]
  },
  {
   "cell_type": "code",
   "execution_count": 17,
   "metadata": {},
   "outputs": [
    {
     "name": "stdout",
     "output_type": "stream",
     "text": [
      "100.00000000000009 1.0 50.500000000000036\n"
     ]
    }
   ],
   "source": [
    "print (np.max(x), np.min(x), np.mean(x))"
   ]
  },
  {
   "cell_type": "code",
   "execution_count": 18,
   "metadata": {},
   "outputs": [],
   "source": [
    "# print (x + 5)"
   ]
  },
  {
   "cell_type": "code",
   "execution_count": 19,
   "metadata": {},
   "outputs": [
    {
     "name": "stdout",
     "output_type": "stream",
     "text": [
      "[  10.   11.   12.   13.   14.   15.   16.   17.   18.   19.   20.   21.\n",
      "   22.   23.   24.   25.   26.   27.   28.   29.   30.   31.   32.   33.\n",
      "   34.   35.   36.   37.   38.   39.   40.   41.   42.   43.   44.   45.\n",
      "   46.   47.   48.   49.   50.   51.   52.   53.   54.   55.   56.   57.\n",
      "   58.   59.   60.   61.   62.   63.   64.   65.   66.   67.   68.   69.\n",
      "   70.   71.   72.   73.   74.   75.   76.   77.   78.   79.   80.   81.\n",
      "   82.   83.   84.   85.   86.   87.   88.   89.   90.   91.   92.   93.\n",
      "   94.   95.   96.   97.   98.   99.  100.  101.  102.  103.  104.  105.\n",
      "  106.  107.  108.  109.  110.  111.  112.  113.  114.  115.  116.  117.\n",
      "  118.  119.  120.  121.  122.  123.  124.  125.  126.  127.  128.  129.\n",
      "  130.  131.  132.  133.  134.  135.  136.  137.  138.  139.  140.  141.\n",
      "  142.  143.  144.  145.  146.  147.  148.  149.  150.  151.  152.  153.\n",
      "  154.  155.  156.  157.  158.  159.  160.  161.  162.  163.  164.  165.\n",
      "  166.  167.  168.  169.  170.  171.  172.  173.  174.  175.  176.  177.\n",
      "  178.  179.  180.  181.  182.  183.  184.  185.  186.  187.  188.  189.\n",
      "  190.  191.  192.  193.  194.  195.  196.  197.  198.  199.  200.  201.\n",
      "  202.  203.  204.  205.  206.  207.  208.  209.  210.  211.  212.  213.\n",
      "  214.  215.  216.  217.  218.  219.  220.  221.  222.  223.  224.  225.\n",
      "  226.  227.  228.  229.  230.  231.  232.  233.  234.  235.  236.  237.\n",
      "  238.  239.  240.  241.  242.  243.  244.  245.  246.  247.  248.  249.\n",
      "  250.  251.  252.  253.  254.  255.  256.  257.  258.  259.  260.  261.\n",
      "  262.  263.  264.  265.  266.  267.  268.  269.  270.  271.  272.  273.\n",
      "  274.  275.  276.  277.  278.  279.  280.  281.  282.  283.  284.  285.\n",
      "  286.  287.  288.  289.  290.  291.  292.  293.  294.  295.  296.  297.\n",
      "  298.  299.  300.  301.  302.  303.  304.  305.  306.  307.  308.  309.\n",
      "  310.  311.  312.  313.  314.  315.  316.  317.  318.  319.  320.  321.\n",
      "  322.  323.  324.  325.  326.  327.  328.  329.  330.  331.  332.  333.\n",
      "  334.  335.  336.  337.  338.  339.  340.  341.  342.  343.  344.  345.\n",
      "  346.  347.  348.  349.  350.  351.  352.  353.  354.  355.  356.  357.\n",
      "  358.  359.  360.  361.  362.  363.  364.  365.  366.  367.  368.  369.\n",
      "  370.  371.  372.  373.  374.  375.  376.  377.  378.  379.  380.  381.\n",
      "  382.  383.  384.  385.  386.  387.  388.  389.  390.  391.  392.  393.\n",
      "  394.  395.  396.  397.  398.  399.  400.  401.  402.  403.  404.  405.\n",
      "  406.  407.  408.  409.  410.  411.  412.  413.  414.  415.  416.  417.\n",
      "  418.  419.  420.  421.  422.  423.  424.  425.  426.  427.  428.  429.\n",
      "  430.  431.  432.  433.  434.  435.  436.  437.  438.  439.  440.  441.\n",
      "  442.  443.  444.  445.  446.  447.  448.  449.  450.  451.  452.  453.\n",
      "  454.  455.  456.  457.  458.  459.  460.  461.  462.  463.  464.  465.\n",
      "  466.  467.  468.  469.  470.  471.  472.  473.  474.  475.  476.  477.\n",
      "  478.  479.  480.  481.  482.  483.  484.  485.  486.  487.  488.  489.\n",
      "  490.  491.  492.  493.  494.  495.  496.  497.  498.  499.  500.  501.\n",
      "  502.  503.  504.  505.  506.  507.  508.  509.  510.  511.  512.  513.\n",
      "  514.  515.  516.  517.  518.  519.  520.  521.  522.  523.  524.  525.\n",
      "  526.  527.  528.  529.  530.  531.  532.  533.  534.  535.  536.  537.\n",
      "  538.  539.  540.  541.  542.  543.  544.  545.  546.  547.  548.  549.\n",
      "  550.  551.  552.  553.  554.  555.  556.  557.  558.  559.  560.  561.\n",
      "  562.  563.  564.  565.  566.  567.  568.  569.  570.  571.  572.  573.\n",
      "  574.  575.  576.  577.  578.  579.  580.  581.  582.  583.  584.  585.\n",
      "  586.  587.  588.  589.  590.  591.  592.  593.  594.  595.  596.  597.\n",
      "  598.  599.  600.  601.  602.  603.  604.  605.  606.  607.  608.  609.\n",
      "  610.  611.  612.  613.  614.  615.  616.  617.  618.  619.  620.  621.\n",
      "  622.  623.  624.  625.  626.  627.  628.  629.  630.  631.  632.  633.\n",
      "  634.  635.  636.  637.  638.  639.  640.  641.  642.  643.  644.  645.\n",
      "  646.  647.  648.  649.  650.  651.  652.  653.  654.  655.  656.  657.\n",
      "  658.  659.  660.  661.  662.  663.  664.  665.  666.  667.  668.  669.\n",
      "  670.  671.  672.  673.  674.  675.  676.  677.  678.  679.  680.  681.\n",
      "  682.  683.  684.  685.  686.  687.  688.  689.  690.  691.  692.  693.\n",
      "  694.  695.  696.  697.  698.  699.  700.  701.  702.  703.  704.  705.\n",
      "  706.  707.  708.  709.  710.  711.  712.  713.  714.  715.  716.  717.\n",
      "  718.  719.  720.  721.  722.  723.  724.  725.  726.  727.  728.  729.\n",
      "  730.  731.  732.  733.  734.  735.  736.  737.  738.  739.  740.  741.\n",
      "  742.  743.  744.  745.  746.  747.  748.  749.  750.  751.  752.  753.\n",
      "  754.  755.  756.  757.  758.  759.  760.  761.  762.  763.  764.  765.\n",
      "  766.  767.  768.  769.  770.  771.  772.  773.  774.  775.  776.  777.\n",
      "  778.  779.  780.  781.  782.  783.  784.  785.  786.  787.  788.  789.\n",
      "  790.  791.  792.  793.  794.  795.  796.  797.  798.  799.  800.  801.\n",
      "  802.  803.  804.  805.  806.  807.  808.  809.  810.  811.  812.  813.\n",
      "  814.  815.  816.  817.  818.  819.  820.  821.  822.  823.  824.  825.\n",
      "  826.  827.  828.  829.  830.  831.  832.  833.  834.  835.  836.  837.\n",
      "  838.  839.  840.  841.  842.  843.  844.  845.  846.  847.  848.  849.\n",
      "  850.  851.  852.  853.  854.  855.  856.  857.  858.  859.  860.  861.\n",
      "  862.  863.  864.  865.  866.  867.  868.  869.  870.  871.  872.  873.\n",
      "  874.  875.  876.  877.  878.  879.  880.  881.  882.  883.  884.  885.\n",
      "  886.  887.  888.  889.  890.  891.  892.  893.  894.  895.  896.  897.\n",
      "  898.  899.  900.  901.  902.  903.  904.  905.  906.  907.  908.  909.\n",
      "  910.  911.  912.  913.  914.  915.  916.  917.  918.  919.  920.  921.\n",
      "  922.  923.  924.  925.  926.  927.  928.  929.  930.  931.  932.  933.\n",
      "  934.  935.  936.  937.  938.  939.  940.  941.  942.  943.  944.  945.\n",
      "  946.  947.  948.  949.  950.  951.  952.  953.  954.  955.  956.  957.\n",
      "  958.  959.  960.  961.  962.  963.  964.  965.  966.  967.  968.  969.\n",
      "  970.  971.  972.  973.  974.  975.  976.  977.  978.  979.  980.  981.\n",
      "  982.  983.  984.  985.  986.  987.  988.  989.  990.  991.  992.  993.\n",
      "  994.  995.  996.  997.  998.  999. 1000.]\n"
     ]
    }
   ],
   "source": [
    "print (x * 10)"
   ]
  },
  {
   "cell_type": "code",
   "execution_count": null,
   "metadata": {},
   "outputs": [],
   "source": []
  },
  {
   "cell_type": "markdown",
   "metadata": {},
   "source": [
    "### 2. Create an array y that is the base 10 logarithm of x. \n",
    "- Print y. \n",
    "- Print the 10th to 24th elements of x and y. \n",
    "- Create an array z that is the same as y. \n",
    "- Change the 30th to 140th elements of z to be the 1/10 of their current value and the 500th to 600th elements of z to be 10 times larger than their current value. \n",
    "- Print z from the 600th element to the 100th element going backwards with a step of 50 (so the 600th, 550th, 500th etc element).   "
   ]
  },
  {
   "cell_type": "code",
   "execution_count": 20,
   "metadata": {},
   "outputs": [],
   "source": [
    "y = np.log10(x)"
   ]
  },
  {
   "cell_type": "code",
   "execution_count": 21,
   "metadata": {
    "scrolled": true
   },
   "outputs": [
    {
     "name": "stdout",
     "output_type": "stream",
     "text": [
      "[1.9 2.  2.1 2.2 2.3 2.4 2.5 2.6 2.7 2.8 2.9 3.  3.1 3.2 3.3]\n",
      "[0.2787536  0.30103    0.32221929 0.34242268 0.36172784 0.38021124\n",
      " 0.39794001 0.41497335 0.43136376 0.44715803 0.462398   0.47712125\n",
      " 0.49136169 0.50514998 0.51851394]\n"
     ]
    }
   ],
   "source": [
    "print (x [9:24])\n",
    "print (y [9:24])"
   ]
  },
  {
   "cell_type": "code",
   "execution_count": 24,
   "metadata": {},
   "outputs": [],
   "source": [
    "z = np.arange (1, 1000, .1)"
   ]
  },
  {
   "cell_type": "code",
   "execution_count": 26,
   "metadata": {},
   "outputs": [],
   "source": [
    "z=y"
   ]
  },
  {
   "cell_type": "code",
   "execution_count": 27,
   "metadata": {},
   "outputs": [
    {
     "data": {
      "text/plain": [
       "991"
      ]
     },
     "execution_count": 27,
     "metadata": {},
     "output_type": "execute_result"
    }
   ],
   "source": [
    "len(z)"
   ]
  },
  {
   "cell_type": "code",
   "execution_count": 28,
   "metadata": {},
   "outputs": [],
   "source": [
    "z[29:140] = 0.1 *z[29:140]"
   ]
  },
  {
   "cell_type": "code",
   "execution_count": 29,
   "metadata": {},
   "outputs": [],
   "source": [
    "z[499:601] = 10* z[499:601]"
   ]
  },
  {
   "cell_type": "code",
   "execution_count": 30,
   "metadata": {},
   "outputs": [
    {
     "name": "stdout",
     "output_type": "stream",
     "text": [
      "[17.85329835 17.48188027 17.07570176  1.66275783  1.61278386  1.5563025\n",
      "  1.49136169  1.41497335  1.32221929  1.20411998]\n"
     ]
    }
   ],
   "source": [
    "print(z[600:100:-50])"
   ]
  },
  {
   "cell_type": "code",
   "execution_count": null,
   "metadata": {},
   "outputs": [],
   "source": []
  },
  {
   "cell_type": "code",
   "execution_count": null,
   "metadata": {},
   "outputs": [],
   "source": []
  },
  {
   "cell_type": "code",
   "execution_count": null,
   "metadata": {},
   "outputs": [],
   "source": []
  },
  {
   "cell_type": "code",
   "execution_count": null,
   "metadata": {},
   "outputs": [],
   "source": []
  },
  {
   "cell_type": "code",
   "execution_count": null,
   "metadata": {},
   "outputs": [],
   "source": []
  },
  {
   "cell_type": "code",
   "execution_count": null,
   "metadata": {},
   "outputs": [],
   "source": []
  },
  {
   "cell_type": "code",
   "execution_count": null,
   "metadata": {},
   "outputs": [],
   "source": []
  },
  {
   "cell_type": "markdown",
   "metadata": {},
   "source": [
    "### 3. Create array base1 that goes from 100 to 600 with a step of 2. \n",
    "- Create array base2 that goes from 75.5 to 0.5 with a step of -0.3. \n",
    "\n",
    "- Assuming that base1 is the one side of a (orthogonal parallelogram) field and base2 the other side, calculate the surface area of all fields (field_surface). \n",
    "- How many fields are there in your sample? \n",
    "- How many unique surface areas are there in your sample?"
   ]
  },
  {
   "cell_type": "code",
   "execution_count": 33,
   "metadata": {},
   "outputs": [],
   "source": [
    "base1 = np.arange (100, 600, 2)\n",
    "base2 = np.arange (75.5, 0.5, -0.3)"
   ]
  },
  {
   "cell_type": "code",
   "execution_count": 34,
   "metadata": {},
   "outputs": [
    {
     "name": "stdout",
     "output_type": "stream",
     "text": [
      "250 250\n"
     ]
    }
   ],
   "source": [
    "print(len (base1), len(base2))"
   ]
  },
  {
   "cell_type": "code",
   "execution_count": 35,
   "metadata": {},
   "outputs": [],
   "source": [
    "field_surface = base1 * base2"
   ]
  },
  {
   "cell_type": "code",
   "execution_count": 36,
   "metadata": {},
   "outputs": [
    {
     "name": "stdout",
     "output_type": "stream",
     "text": [
      "250\n"
     ]
    }
   ],
   "source": [
    "print (len (field_surface))"
   ]
  },
  {
   "cell_type": "code",
   "execution_count": 37,
   "metadata": {},
   "outputs": [
    {
     "name": "stdout",
     "output_type": "stream",
     "text": [
      "[  478.4   655.6   831.6  1006.4  1180.   1352.4  1523.6  1693.6  1862.4\n",
      "  2030.   2196.4  2361.6  2525.6  2688.4  2850.   3010.4  3169.6  3327.6\n",
      "  3484.4  3640.   3794.4  3947.6  4099.6  4250.4  4400.   4548.4  4695.6\n",
      "  4841.6  4986.4  5130.   5272.4  5413.6  5553.6  5692.4  5830.   5966.4\n",
      "  6101.6  6235.6  6368.4  6500.   6630.4  6759.6  6887.6  7014.4  7140.\n",
      "  7264.4  7387.6  7509.6  7550.   7630.4  7670.4  7750.   7789.6  7868.4\n",
      "  7907.6  7985.6  8024.4  8101.6  8140.   8216.4  8254.4  8330.   8367.6\n",
      "  8442.4  8479.6  8553.6  8590.4  8663.6  8700.   8772.4  8808.4  8880.\n",
      "  8915.6  8986.4  9021.6  9091.6  9126.4  9195.6  9230.   9298.4  9332.4\n",
      "  9400.   9433.6  9500.4  9533.6  9599.6  9632.4  9697.6  9730.   9794.4\n",
      "  9826.4  9890.   9921.6  9984.4 10015.6 10077.6 10108.4 10169.6 10200.\n",
      " 10260.4 10290.4 10350.  10379.6 10438.4 10467.6 10525.6 10554.4 10611.6\n",
      " 10640.  10696.4 10724.4 10780.  10807.6 10862.4 10889.6 10943.6 10970.4\n",
      " 11023.6 11050.  11102.4 11128.4 11180.  11205.6 11256.4 11281.6 11331.6\n",
      " 11356.4 11405.6 11430.  11478.4 11502.4 11550.  11573.6 11620.4 11643.6\n",
      " 11689.6 11712.4 11757.6 11780.  11824.4 11846.4 11890.  11911.6 11954.4\n",
      " 11975.6 12017.6 12038.4 12079.6 12100.  12140.4 12160.4 12200.  12219.6\n",
      " 12258.4 12277.6 12315.6 12334.4 12371.6 12390.  12426.4 12444.4 12480.\n",
      " 12497.6 12532.4 12549.6 12583.6 12600.4 12633.6 12650.  12682.4 12698.4\n",
      " 12730.  12745.6 12776.4 12791.6 12821.6 12836.4 12865.6 12880.  12908.4\n",
      " 12922.4 12950.  12963.6 12990.4 13003.6 13029.6 13042.4 13067.6 13080.\n",
      " 13104.4 13116.4 13140.  13151.6 13174.4 13185.6 13207.6 13218.4 13239.6\n",
      " 13250.  13270.4 13280.4 13300.  13309.6 13328.4 13337.6 13355.6 13364.4\n",
      " 13381.6 13390.  13406.4 13414.4 13430.  13437.6 13452.4 13459.6 13473.6\n",
      " 13480.4 13493.6 13500.  13512.4 13518.4 13530.  13535.6 13546.4 13551.6\n",
      " 13561.6 13566.4 13575.6 13580.  13588.4 13592.4 13600.  13603.6 13610.4\n",
      " 13613.6 13619.6 13622.4 13627.6 13630.  13634.4 13636.4 13640.  13641.6\n",
      " 13644.4 13645.6 13647.6 13648.4 13649.6 13650.  13650.4]\n"
     ]
    }
   ],
   "source": [
    "print(np.unique(field_surface))"
   ]
  },
  {
   "cell_type": "code",
   "execution_count": null,
   "metadata": {},
   "outputs": [],
   "source": []
  },
  {
   "cell_type": "markdown",
   "metadata": {},
   "source": [
    "### One of the great features of numpy is that it also allows you to read data in an array in a single command. You do that with np.loadtxt( \"name_of_file\" ) [see also: https://numpy.org/doc/stable/reference/generated/numpy.loadtxt.html ] or np.genfromtxt(\"name_of_file\") [see also: https://numpy.org/doc/stable/reference/generated/numpy.genfromtxt.html ]. \n",
    "\n",
    "### E.g., get file *my_first_data.dat* from the Webcouses/demos/ . Open it with a text editor to see what it looks like. \n",
    "- Read it in an array *all_input_data* with loadtxt or genfromtxt. \n",
    "- Check what your array looks like (print it). \n",
    "- Print all times each car traveled. \n",
    "- Print all distances the cars traveled. \n",
    "- Calculate the distance each car traveled **in a single line** and asign it to array *distances_traveled*. \n",
    "- Print *distances_traveled*"
   ]
  },
  {
   "cell_type": "code",
   "execution_count": 39,
   "metadata": {},
   "outputs": [],
   "source": [
    "all_input_data = np.loadtxt('my_first_data.dat')"
   ]
  },
  {
   "cell_type": "code",
   "execution_count": null,
   "metadata": {},
   "outputs": [],
   "source": [
    "# Car_number  Time [hr]  Speed [mph]"
   ]
  },
  {
   "cell_type": "code",
   "execution_count": 40,
   "metadata": {},
   "outputs": [
    {
     "name": "stdout",
     "output_type": "stream",
     "text": [
      "[[  1.    5.2 120.2]\n",
      " [  2.    3.1 110. ]\n",
      " [  3.    2.4 100.5]\n",
      " [  4.    5.1  65.3]\n",
      " [  5.    2.4 119.6]]\n"
     ]
    }
   ],
   "source": [
    "print(all_input_data)"
   ]
  },
  {
   "cell_type": "code",
   "execution_count": 41,
   "metadata": {},
   "outputs": [
    {
     "name": "stdout",
     "output_type": "stream",
     "text": [
      "[5.2 3.1 2.4 5.1 2.4]\n"
     ]
    }
   ],
   "source": [
    "print(all_input_data [:, 1])"
   ]
  },
  {
   "cell_type": "code",
   "execution_count": 43,
   "metadata": {},
   "outputs": [],
   "source": [
    "distance_traveled = (all_input_data [:, 1] * all_input_data [:, 2])"
   ]
  },
  {
   "cell_type": "code",
   "execution_count": 44,
   "metadata": {},
   "outputs": [
    {
     "name": "stdout",
     "output_type": "stream",
     "text": [
      "[625.04 341.   241.2  333.03 287.04]\n"
     ]
    }
   ],
   "source": [
    "print (distance_traveled)"
   ]
  },
  {
   "cell_type": "markdown",
   "metadata": {},
   "source": [
    "### Now let's try the genfromtxt with data: *test_genfromtxt.dat*. \n",
    "- Read data into variable student_data. \n",
    "- Print the IDs of the students. \n",
    "- Print the average quiz  grade for student 202204. \n",
    "- Print the average quiz grade and the IDs of all students that passed the class with a C- or better ( average total of more than 7.0)."
   ]
  },
  {
   "cell_type": "code",
   "execution_count": 47,
   "metadata": {},
   "outputs": [],
   "source": [
    "student_data = np.genfromtxt ('test_genfromtxt.dat')"
   ]
  },
  {
   "cell_type": "code",
   "execution_count": 48,
   "metadata": {},
   "outputs": [
    {
     "name": "stdout",
     "output_type": "stream",
     "text": [
      "[[2.02201e+05 8.10000e+00 8.40000e+00 8.20000e+00]\n",
      " [2.02202e+05 7.50000e+00 7.00000e+00 7.30000e+00]\n",
      " [2.02203e+05 7.90000e+00 8.50000e+00 8.40000e+00]\n",
      " [2.02204e+05 9.50000e+00 9.70000e+00 9.70000e+00]\n",
      " [2.02205e+05 5.30000e+00 6.00000e+00 5.90000e+00]\n",
      " [2.02206e+05 5.10000e+00 7.10000e+00 6.80000e+00]]\n"
     ]
    }
   ],
   "source": [
    "print (student_data)"
   ]
  },
  {
   "cell_type": "code",
   "execution_count": null,
   "metadata": {},
   "outputs": [],
   "source": [
    "#Student ID  Average-Grade-Quiz  Average-Grade-Exam    Average-Total"
   ]
  },
  {
   "cell_type": "code",
   "execution_count": 49,
   "metadata": {},
   "outputs": [
    {
     "name": "stdout",
     "output_type": "stream",
     "text": [
      "[202201. 202202. 202203. 202204. 202205. 202206.]\n"
     ]
    }
   ],
   "source": [
    "IDs = student_data[:,0]\n",
    "print (IDs)"
   ]
  },
  {
   "cell_type": "code",
   "execution_count": 50,
   "metadata": {},
   "outputs": [
    {
     "name": "stdout",
     "output_type": "stream",
     "text": [
      "9.5\n"
     ]
    }
   ],
   "source": [
    "print (student_data[3,1])"
   ]
  },
  {
   "cell_type": "code",
   "execution_count": 51,
   "metadata": {},
   "outputs": [
    {
     "data": {
      "text/plain": [
       "array([ True,  True,  True,  True, False, False])"
      ]
     },
     "execution_count": 51,
     "metadata": {},
     "output_type": "execute_result"
    }
   ],
   "source": [
    "student_data[:,3]>7"
   ]
  },
  {
   "cell_type": "code",
   "execution_count": 52,
   "metadata": {},
   "outputs": [
    {
     "data": {
      "text/plain": [
       "(array([0, 1, 2, 3], dtype=int64),)"
      ]
     },
     "execution_count": 52,
     "metadata": {},
     "output_type": "execute_result"
    }
   ],
   "source": [
    "np.where(student_data[:,3]>7)"
   ]
  },
  {
   "cell_type": "code",
   "execution_count": 53,
   "metadata": {},
   "outputs": [
    {
     "name": "stdout",
     "output_type": "stream",
     "text": [
      "[[8.1 7.5 7.9 9.5]]\n"
     ]
    }
   ],
   "source": [
    "print( student_data [np.where (student_data[:,3]>7),1])"
   ]
  },
  {
   "cell_type": "code",
   "execution_count": 54,
   "metadata": {},
   "outputs": [
    {
     "name": "stdout",
     "output_type": "stream",
     "text": [
      "[[202201. 202202. 202203. 202204.]]\n"
     ]
    }
   ],
   "source": [
    "print( student_data [np.where (student_data[:,3]>7),0])"
   ]
  },
  {
   "cell_type": "markdown",
   "metadata": {},
   "source": [
    "### 4. You just opened a new savings account that earns N percent interest per year. The interest that you earn is paid at the end of the year, and is added to the balance of the savings account. Write a *function end_of_year_interest* that takes as input the interest N and a single list *deposits_list* that containts the amount of money deposited into the account from the user at the start of years 1, 2 and 3 (assume this is the only deposit to the account). The function should then calculate the amount in the savings account at the end of years 1, 2 and 3 and print it out. Call the function for an interest rate of 2% and deposits of 100, 300 and 500. \n",
    "\n",
    "- Discuss: what should the input and output of your function be?\n",
    "- What does a good docstring need to include?\n",
    "- How do we code this up?\n",
    "- Code!\n"
   ]
  },
  {
   "cell_type": "code",
   "execution_count": null,
   "metadata": {},
   "outputs": [],
   "source": [
    "def enf_of_year_intrest(N, deposits_list):\n",
    "    \"\"\"Intrest is interger (ex: 2% is 2)\"\"\"\n",
    "    \n",
    "    year1_intrest = deposits_list[0]*N/100\n",
    "    year1_end = year1_intrest + deposits_list[0]\n",
    "    \n",
    "    print('end of year 1 i have', year1_end, '$')"
   ]
  },
  {
   "cell_type": "code",
   "execution_count": null,
   "metadata": {},
   "outputs": [],
   "source": []
  },
  {
   "cell_type": "code",
   "execution_count": null,
   "metadata": {},
   "outputs": [],
   "source": []
  },
  {
   "cell_type": "code",
   "execution_count": null,
   "metadata": {},
   "outputs": [],
   "source": []
  },
  {
   "cell_type": "markdown",
   "metadata": {},
   "source": [
    "### 5. Create a program that calculates how fast an object moves [ m/s ] when falling to the ground from a height h. Assume that the body free falls with initial speed 0 m/s, so that u$_{final}$ = $\\sqrt(2 * g * h)$, where g = 9.8 $m/s^2$ and h is in m. \n",
    "### Assume that we have a range of object that fall and the recorded height from which they start are stored in a numpy array  ***heights***. Make array ***heights*** from 3 m to 100m with a step of 2.5 (average height of a floor). \n",
    "\n",
    "- How will you calculate the final speed of the bodies falling from the different heights?\n",
    "\n",
    "- Create a variable u_final that calculates the final speed of the falling object from **all** heights in **one** line. \n",
    "- Print it"
   ]
  },
  {
   "cell_type": "code",
   "execution_count": null,
   "metadata": {},
   "outputs": [],
   "source": []
  },
  {
   "cell_type": "code",
   "execution_count": null,
   "metadata": {},
   "outputs": [],
   "source": []
  },
  {
   "cell_type": "code",
   "execution_count": null,
   "metadata": {},
   "outputs": [],
   "source": []
  },
  {
   "cell_type": "code",
   "execution_count": null,
   "metadata": {},
   "outputs": [],
   "source": []
  },
  {
   "cell_type": "markdown",
   "metadata": {},
   "source": [
    "### 6. Create a list *test_list_1* that contains the numbers 1, 2, 5, 7, 22, 34, 42. \n",
    "- Print it. \n",
    "- Change 22 to -10 (don't just copy-paste and change it in the series, access the appropriate element of test_list_1 and change it). \n",
    "- Print the mutated list. \n",
    "- Add elements 96 and 102 to the end of the list. \n",
    "- Add 0 to the start. "
   ]
  },
  {
   "cell_type": "code",
   "execution_count": null,
   "metadata": {},
   "outputs": [],
   "source": []
  },
  {
   "cell_type": "code",
   "execution_count": null,
   "metadata": {},
   "outputs": [],
   "source": []
  },
  {
   "cell_type": "code",
   "execution_count": null,
   "metadata": {},
   "outputs": [],
   "source": []
  },
  {
   "cell_type": "code",
   "execution_count": null,
   "metadata": {},
   "outputs": [],
   "source": []
  },
  {
   "cell_type": "code",
   "execution_count": null,
   "metadata": {},
   "outputs": [],
   "source": []
  },
  {
   "cell_type": "code",
   "execution_count": null,
   "metadata": {},
   "outputs": [],
   "source": []
  },
  {
   "cell_type": "code",
   "execution_count": null,
   "metadata": {},
   "outputs": [],
   "source": []
  },
  {
   "cell_type": "markdown",
   "metadata": {},
   "source": [
    "### 7. Create a tuple *trip_time* that contains the amount of hours a trip takes. Create a tuple *trip_distance* that contains the distance of a given trip in km. <br> Populate *trip_time* with numbers: 1.5, 3.2, 5.6, 14.3, 26.4 and *trip_distance* with 180, 320, 728, 1573, 3326. Calculate the average speed (remember it is distance/time) of each trip. \n",
    "- Can you use plain division of the tuples in a single line to do it? Why/why not?  \n",
    "- After each calculation store the average speed in a tuple called *trip_average_speed* (\"append\" each calculation to the previous tuple). Is the tuple you have at the end, the same as at the start? Why/why not? \n",
    "- You just realized you made a typo, and the 728 should have been 718! Change the tuple accordingly (and properly) and recalculate and print the new *trip_average_speed* tuple. \n",
    "\n",
    "\n",
    "### Make numpy arrays  *np_trip_time* and *np_trip_distance* from the original *trip_time* and *trip_distance*. Calculate the average speed of each trip using the numpy arrays and store it in array *np_trip_average_speed*. What is the benefit in comparison to tuples (or lists?)\n",
    "- You just realized you made the same typo, and the 728 should have been 718! How do you change the array now?"
   ]
  },
  {
   "cell_type": "code",
   "execution_count": null,
   "metadata": {},
   "outputs": [],
   "source": []
  },
  {
   "cell_type": "code",
   "execution_count": null,
   "metadata": {},
   "outputs": [],
   "source": []
  },
  {
   "cell_type": "code",
   "execution_count": null,
   "metadata": {},
   "outputs": [],
   "source": []
  },
  {
   "cell_type": "code",
   "execution_count": null,
   "metadata": {},
   "outputs": [],
   "source": []
  },
  {
   "cell_type": "code",
   "execution_count": null,
   "metadata": {},
   "outputs": [],
   "source": []
  },
  {
   "cell_type": "code",
   "execution_count": null,
   "metadata": {},
   "outputs": [],
   "source": []
  },
  {
   "cell_type": "code",
   "execution_count": null,
   "metadata": {},
   "outputs": [],
   "source": []
  },
  {
   "cell_type": "code",
   "execution_count": null,
   "metadata": {},
   "outputs": [],
   "source": []
  },
  {
   "cell_type": "code",
   "execution_count": null,
   "metadata": {},
   "outputs": [],
   "source": [
    "### also, yes, you can kind of do it in a single line but not in a way we have seen yet, e.g.:\n",
    "#from operator import truediv \n",
    "#trip_average_test_one_line = tuple( map( truediv, trip_distance , trip_time ) )  \n",
    "#print( trip_average_test_one_line )"
   ]
  },
  {
   "cell_type": "code",
   "execution_count": null,
   "metadata": {},
   "outputs": [],
   "source": [
    "# now let's change the element; remember tuples are immutable!\n",
    "#inital was trip_distance = ( 180, 320, 728, 1573, 3326 ) --> need to change trip_distance[ 2 ]\n"
   ]
  },
  {
   "cell_type": "code",
   "execution_count": null,
   "metadata": {},
   "outputs": [],
   "source": []
  },
  {
   "cell_type": "code",
   "execution_count": null,
   "metadata": {},
   "outputs": [],
   "source": []
  },
  {
   "cell_type": "code",
   "execution_count": null,
   "metadata": {},
   "outputs": [],
   "source": []
  },
  {
   "cell_type": "code",
   "execution_count": null,
   "metadata": {},
   "outputs": [],
   "source": []
  },
  {
   "cell_type": "code",
   "execution_count": null,
   "metadata": {},
   "outputs": [],
   "source": []
  },
  {
   "cell_type": "code",
   "execution_count": null,
   "metadata": {},
   "outputs": [],
   "source": []
  },
  {
   "cell_type": "code",
   "execution_count": null,
   "metadata": {},
   "outputs": [],
   "source": []
  },
  {
   "cell_type": "code",
   "execution_count": null,
   "metadata": {},
   "outputs": [],
   "source": []
  },
  {
   "cell_type": "code",
   "execution_count": null,
   "metadata": {},
   "outputs": [],
   "source": []
  },
  {
   "cell_type": "markdown",
   "metadata": {},
   "source": [
    "### 8. Open a text editor and save it as *all_my_functions.py*. Copy in there the function *acceleration* from your HW and from this and previous practicums the functions *end_of_year_interest* and *thunderstruck*. Change the names of the functions by adding a *_fromfile* at the end of each. <br> In a single command import *acceleration_fromfile* and *end_of_year_interest_fromfile* and *thunderstruck_fromfile*. Call the latter for the case you hear a thunder 10s after you see the lightning. \n",
    "\n",
    "#### Note that if you are using numpy in these functions you will need to start your all_my_functions.py with importing numpy as np."
   ]
  },
  {
   "cell_type": "code",
   "execution_count": null,
   "metadata": {},
   "outputs": [],
   "source": []
  },
  {
   "cell_type": "code",
   "execution_count": null,
   "metadata": {},
   "outputs": [],
   "source": []
  },
  {
   "cell_type": "code",
   "execution_count": null,
   "metadata": {},
   "outputs": [],
   "source": []
  },
  {
   "cell_type": "code",
   "execution_count": null,
   "metadata": {},
   "outputs": [],
   "source": []
  },
  {
   "cell_type": "code",
   "execution_count": null,
   "metadata": {},
   "outputs": [],
   "source": []
  },
  {
   "cell_type": "code",
   "execution_count": null,
   "metadata": {},
   "outputs": [],
   "source": []
  },
  {
   "cell_type": "markdown",
   "metadata": {},
   "source": [
    "### 9. The Body Mass Index is one of the available measures of how healthy a person is. It is defined as the ratio of a person's weight in kg, over the square of their height in m. Make a function BMI that uses the height and weight of a person and returns their BMI. \n",
    "\n",
    "### Make a list heights that contains the heights of people, and a list weights that containts their weights. Populate them with heights: 1.60, 2.10 and 1.80 and weights 60, 120 and 81.\n",
    "\n",
    "### Call the function BMI for all three people and print their BMI."
   ]
  },
  {
   "cell_type": "code",
   "execution_count": null,
   "metadata": {},
   "outputs": [],
   "source": []
  },
  {
   "cell_type": "code",
   "execution_count": null,
   "metadata": {},
   "outputs": [],
   "source": []
  },
  {
   "cell_type": "code",
   "execution_count": null,
   "metadata": {},
   "outputs": [],
   "source": []
  },
  {
   "cell_type": "code",
   "execution_count": null,
   "metadata": {},
   "outputs": [],
   "source": []
  },
  {
   "cell_type": "code",
   "execution_count": null,
   "metadata": {},
   "outputs": [],
   "source": []
  },
  {
   "cell_type": "markdown",
   "metadata": {},
   "source": [
    "###  10. Create a list student_h that contains lists with the heights of students in feet and inches. A person being 5' 6\" would be noted as [5, 6], a person being 5' 10\" would be noted as [5, 10]. Populate it with the heights of five students who are : 5’ 1”, 4’ 10”, 6’ 02”, 5’ 07”, and 6’ 11”. Create a function ft_to_m_cm that takes as input a value from student_h and returns each height in a new list [m, cm] (round cm up). Call the function for all values of student_h and print the results with an informative sentence (e.g., Student 1 has a height of 1 m 10 cm )  (Remember that 1 ft ~= 0.3048 m and 1 inch ~= 0.0254 m and 1m has 100cm). \n",
    "\n",
    "- Discuss: what should the function's input be? \n",
    "- What should its output be?\n",
    "- What does the function need to calculate? How will it do that?\n",
    "- Code it up!"
   ]
  },
  {
   "cell_type": "code",
   "execution_count": null,
   "metadata": {},
   "outputs": [],
   "source": [
    "#make student_h list:"
   ]
  },
  {
   "cell_type": "code",
   "execution_count": null,
   "metadata": {},
   "outputs": [],
   "source": [
    "#make your function:\n"
   ]
  },
  {
   "cell_type": "code",
   "execution_count": null,
   "metadata": {},
   "outputs": [],
   "source": [
    "#calculate the heights in m and cm and print with informative statement:"
   ]
  }
 ],
 "metadata": {
  "kernelspec": {
   "display_name": "Python 3 (ipykernel)",
   "language": "python",
   "name": "python3"
  },
  "language_info": {
   "codemirror_mode": {
    "name": "ipython",
    "version": 3
   },
   "file_extension": ".py",
   "mimetype": "text/x-python",
   "name": "python",
   "nbconvert_exporter": "python",
   "pygments_lexer": "ipython3",
   "version": "3.9.12"
  }
 },
 "nbformat": 4,
 "nbformat_minor": 2
}
