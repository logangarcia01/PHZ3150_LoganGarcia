{
 "cells": [
  {
   "cell_type": "markdown",
   "metadata": {},
   "source": [
    "# Bugs and revision control"
   ]
  },
  {
   "cell_type": "code",
   "execution_count": null,
   "metadata": {},
   "outputs": [],
   "source": []
  },
  {
   "cell_type": "code",
   "execution_count": null,
   "metadata": {},
   "outputs": [],
   "source": []
  },
  {
   "cell_type": "markdown",
   "metadata": {},
   "source": [
    "<img src=\"xkcd_debug.jpeg\" width=350 height=350 />\n",
    "source:xkcd"
   ]
  },
  {
   "cell_type": "markdown",
   "metadata": {},
   "source": [
    "### When writing a script/code think what you want to do and keep an eye for the details of what you are typing. \n"
   ]
  },
  {
   "cell_type": "markdown",
   "metadata": {},
   "source": [
    "###  1. Misplaced characters and wrong use of variables/math can result in your code not working --> will get error messages & will take some debugging: "
   ]
  },
  {
   "cell_type": "code",
   "execution_count": null,
   "metadata": {},
   "outputs": [],
   "source": [
    "#e.g.,:\n",
    "a = 1 \n",
    "\n",
    "while a < 20 : print ('working!', a )\n",
    "    a = a +1 \n",
    "    "
   ]
  },
  {
   "cell_type": "code",
   "execution_count": null,
   "metadata": {},
   "outputs": [],
   "source": [
    "# --> error already tells us what is wrong:\n",
    "a = 1 \n",
    "\n",
    "while a < 20 : \n",
    "    print ('working!', a)\n",
    "    a = a +1 "
   ]
  },
  {
   "cell_type": "markdown",
   "metadata": {},
   "source": [
    "### 2) Worst, they can make your code appear to work and *not* give any error messages while the code does not do what it is supposed to!  --> you need some trigger to realize & can take a lot of debugging"
   ]
  },
  {
   "cell_type": "code",
   "execution_count": null,
   "metadata": {},
   "outputs": [],
   "source": [
    "# if you try to run this use the Interupt kernel button after some point; why?\n",
    "a = 1 \n",
    "\n",
    "while a < 10 : \n",
    "    print ('working!')\n",
    "a = a +1 "
   ]
  },
  {
   "cell_type": "markdown",
   "metadata": {},
   "source": [
    "### You need to always TEST the code to make sure it does what you want\n",
    "### Best practice: write little snippets of code and test them\n",
    "\n",
    "### **Test often, test different cases!**  \n"
   ]
  },
  {
   "cell_type": "code",
   "execution_count": null,
   "metadata": {},
   "outputs": [],
   "source": []
  },
  {
   "cell_type": "markdown",
   "metadata": {},
   "source": [
    "### 3) Sometimes code doesn’t do what you want it to do, or doesn’t do anything at all"
   ]
  },
  {
   "cell_type": "markdown",
   "metadata": {},
   "source": [
    "### “First, try getting away from the computer for a few minutes. Computers emit waves that affect the brain, causing these effects:\n",
    "- Frustration and/or rage.\n",
    "- Superstitious beliefs ( the computer hates me ) and magical thinking ( the program only works when I wear my hat backward ).\n",
    "- Random-walk programming (the attempt to program by writing every possible program and choosing the one that does the right thing).”\n",
    "\n",
    "Source: ThinkPython2\n"
   ]
  },
  {
   "cell_type": "markdown",
   "metadata": {},
   "source": [
    "### Remember StackOverflow, numpy.org etc can be your best friends\n",
    "<img src=\"xkcd_find_help_bug.jpeg\" width=350 height=350 />\n",
    "source:xkcd"
   ]
  },
  {
   "cell_type": "markdown",
   "metadata": {},
   "source": [
    "### Debugging can take (much more) time if you have to go over large pieces of code. Try to test your code often when adding features to it."
   ]
  },
  {
   "cell_type": "markdown",
   "metadata": {},
   "source": [
    "### Traditional way of debugging: use print() to print variables etc at different parts of the code, till you figure out what is broken (e.g., does the code ever *really* enter that function you created, and does it return what it was supposed to?)\n"
   ]
  },
  {
   "cell_type": "markdown",
   "metadata": {},
   "source": [
    "### Python offers tools for debugging too: pdb\n",
    "\n",
    "### Need to import it and then you can use it from terminal (even ‘post mortem’), Jupyter notebook or Spyder\n",
    "\n",
    "- import pdb  \n",
    "\n",
    "- breakpoint()  --> since 3.7 the proper way to do it. Python freezes and waits for you to give it a command (for older Python versions you may see  pdb.set_trace())\n",
    "\n",
    "- n: move in the next line/stay in the same block of code\n",
    "- l & ll : to list the code \n",
    "- p: print an expression \n",
    "- s: execute current line and stop at the first possible occasion; moves to the  next possible occasion (could be in another function  \n",
    "    that is called)\n",
    "- c: continue until a breakpoint is encountered\n",
    "- q: quit\n"
   ]
  },
  {
   "cell_type": "code",
   "execution_count": null,
   "metadata": {},
   "outputs": [],
   "source": []
  },
  {
   "cell_type": "markdown",
   "metadata": {},
   "source": [
    "### We will start with some traditional debugging so that you get a handle of bugs and then move to the Python tools"
   ]
  },
  {
   "cell_type": "code",
   "execution_count": null,
   "metadata": {},
   "outputs": [],
   "source": []
  },
  {
   "cell_type": "code",
   "execution_count": null,
   "metadata": {},
   "outputs": [],
   "source": [
    "#### let's do our imports first:\n",
    "import numpy as np\n",
    "import matplotlib.pyplot as plt\n"
   ]
  },
  {
   "cell_type": "code",
   "execution_count": null,
   "metadata": {},
   "outputs": [],
   "source": [
    "#Is this buggy? If so, debug!\n",
    "\n",
    "#code that aims to tell you if a number equals 1 or 10\n",
    "num = int(input(\"Give me a number:\"))\n",
    "\n",
    "if num == 10 or 1:\n",
    "    print('the number is 10 or 1')\n",
    "else:\n",
    "    print('the number is not 10 or 1')"
   ]
  },
  {
   "cell_type": "code",
   "execution_count": null,
   "metadata": {},
   "outputs": [],
   "source": [
    "# oops! there is sth wrong. but what?\n",
    "\n",
    "num = int(input(\"Give me a number:\"))\n",
    "\n",
    "#did we get the number write? use print to find out:\n",
    "\n",
    "#did we enter the right part of the IF? use print to find out:\n",
    "if num == 10 or 1:\n",
    "\n",
    "    print('the number is 10 or 1')\n",
    "else:\n",
    " \n",
    "    print('the number is not 10 or 1')"
   ]
  },
  {
   "cell_type": "code",
   "execution_count": null,
   "metadata": {},
   "outputs": [],
   "source": [
    "#correct code:\n"
   ]
  },
  {
   "cell_type": "code",
   "execution_count": null,
   "metadata": {},
   "outputs": [],
   "source": []
  },
  {
   "cell_type": "code",
   "execution_count": null,
   "metadata": {},
   "outputs": [],
   "source": [
    "#Is this buggy? If so, debug!\n",
    "\n",
    "#code that aims to find the minimum number in a list:\n",
    "random_list = [15, 22, 12, 7, 33, 8, 10, 9, 100, 2, -4, 5]\n",
    "\n",
    "min_list=random_list[0]\n",
    "\n",
    "for i in random_list:\n",
    "    if i == min_list:   \n",
    "        min_list = i \n",
    "        \n",
    "print( min_list )"
   ]
  },
  {
   "cell_type": "code",
   "execution_count": null,
   "metadata": {},
   "outputs": [],
   "source": [
    "### oops! wrong again. How do we fix it?\n",
    "min_list=random_list[0]\n",
    "\n",
    "for i in random_list:\n",
    "       \n",
    "    if i == min_list:   \n",
    "        \n",
    "        min_list = i \n",
    "        \n",
    "print( min_list )"
   ]
  },
  {
   "cell_type": "code",
   "execution_count": null,
   "metadata": {},
   "outputs": [],
   "source": [
    "#correct code:\n"
   ]
  },
  {
   "cell_type": "code",
   "execution_count": null,
   "metadata": {},
   "outputs": [],
   "source": []
  },
  {
   "cell_type": "code",
   "execution_count": null,
   "metadata": {},
   "outputs": [],
   "source": [
    "#Is this buggy? If so, debug!\n",
    "\n",
    "#code that aims to order a list with strings from shortest to longest word:\n",
    "random_list  = [\"May\", \"be\", \"this\",  \"a\",  \"string\"]\n",
    "\n",
    "ordered_list = []\n",
    "len_list = []\n",
    "\n",
    "for i in range( len(random_list) ):\n",
    "      \n",
    "    if i == 0:\n",
    "        ordered_list.append (random_list[i]  )\n",
    "        len_list.append( len( random_list[i] ) )\n",
    "    else:\n",
    "        q = len( random_list[i] )\n",
    "  \n",
    "        if len( random_list[i] ) < np.max( len_list ):\n",
    "            ordered_list.append( random_list[ i ] )\n",
    "            \n",
    "            \n",
    "        if len( random_list[i] ) < np.min( len_list ):\n",
    "            ordered_list.reverse()\n",
    "            \n",
    "            ordered_list.append( random_list[i ] )\n",
    "            \n",
    "                        \n",
    "                                                                                         \n",
    "print( ordered_list ) "
   ]
  },
  {
   "cell_type": "code",
   "execution_count": null,
   "metadata": {},
   "outputs": [],
   "source": [
    "#correct code:"
   ]
  },
  {
   "cell_type": "code",
   "execution_count": null,
   "metadata": {},
   "outputs": [],
   "source": []
  },
  {
   "cell_type": "code",
   "execution_count": null,
   "metadata": {},
   "outputs": [],
   "source": []
  },
  {
   "cell_type": "code",
   "execution_count": null,
   "metadata": {},
   "outputs": [],
   "source": []
  },
  {
   "cell_type": "code",
   "execution_count": null,
   "metadata": {},
   "outputs": [],
   "source": [
    "#Is this buggy? If so, debug!\n",
    "\n",
    "#code that calculates the volume of a sphere of radius R :\n",
    "\n",
    "def volume(radius):\n",
    "    \"\"\"Calculates the volume of a sphere of radius R  \n",
    "    Input: R (m)\n",
    "    Output: V (m$^3$)\"\"\"\n",
    "\n",
    "    \n",
    "    volumee = (4./3.) * np.pi * (radius**3)\n",
    "    \n",
    "    return(volume)\n",
    "\n",
    "\n",
    "\n",
    "r = volume(4)\n",
    "print( r )\n",
    "\n",
    "r = volume(12)\n",
    "print( r )"
   ]
  },
  {
   "cell_type": "code",
   "execution_count": null,
   "metadata": {},
   "outputs": [],
   "source": [
    "#correct code:\n",
    "\n"
   ]
  },
  {
   "cell_type": "code",
   "execution_count": null,
   "metadata": {},
   "outputs": [],
   "source": []
  },
  {
   "cell_type": "code",
   "execution_count": null,
   "metadata": {},
   "outputs": [],
   "source": [
    "#code that asks the user to input two times and two radii and prints the acceleration of a body\n",
    "def acceleration(time1,time2,speed1,speed2):\n",
    "    \"\"\"Calculates the acceleration of object between times t1 and t2 \n",
    "    when speeds were u1 and u2 respectively\"\"\"\n",
    "\n",
    "    a = (speed2 - speed1)/ (time2-time1)\n",
    "    \n",
    "    return(a)\n",
    "\n",
    "t1 = float(input(\"Give time 1: \"))\n",
    "t2 = float(input(\"Give time 2: \"))\n",
    "u1 = float(input(\"Give speed 1: \"))\n",
    "u2 = float(input(\"Give speed 2: \"))\n",
    "\n",
    "print('Acceleration was: ', acceleration(u1,u2,t1,t2))\n"
   ]
  },
  {
   "cell_type": "code",
   "execution_count": null,
   "metadata": {},
   "outputs": [],
   "source": [
    "#correct code:\n",
    "\n"
   ]
  },
  {
   "cell_type": "code",
   "execution_count": null,
   "metadata": {},
   "outputs": [],
   "source": []
  },
  {
   "cell_type": "code",
   "execution_count": null,
   "metadata": {
    "scrolled": true
   },
   "outputs": [],
   "source": [
    "#Code that gets three values for the time (t), speed (u) and displacement (d) of a body and \n",
    "# keeps only the ones that are physically correct (so the ones for which u = d/t)\n",
    "\n",
    "t = np.arange(0.1, 10.1, 0.1)\n",
    "d = np.arange(0, 30, 0.3)\n",
    "u = np.arange(0, 20.2, 0.2)\n",
    "\n",
    "\n",
    "cor = np.zeros( (len( u ), len( d ), len( t ) ) )\n",
    "\n",
    "for i in range( len( u ) ):\n",
    "    for j in range( len( d ) ):\n",
    "        for k in range( len( t ) ):\n",
    "            \n",
    "            if u[ i ] == d[ i ] / t[ j ] :\n",
    "                print('found physically correct case!')\n",
    "                \n",
    "        cor[ i, j, k ] = u[ i ]\n",
    "            \n",
    "print( cor[ cor > 0 ] )"
   ]
  },
  {
   "cell_type": "code",
   "execution_count": null,
   "metadata": {},
   "outputs": [],
   "source": [
    "#correct code:\n"
   ]
  },
  {
   "cell_type": "code",
   "execution_count": null,
   "metadata": {
    "scrolled": true
   },
   "outputs": [],
   "source": []
  },
  {
   "cell_type": "code",
   "execution_count": null,
   "metadata": {},
   "outputs": [],
   "source": []
  },
  {
   "cell_type": "code",
   "execution_count": null,
   "metadata": {},
   "outputs": [],
   "source": []
  },
  {
   "cell_type": "code",
   "execution_count": null,
   "metadata": {},
   "outputs": [],
   "source": [
    "#Code that aims to tell you if a value in an input list is positive, zero or negative:\n",
    "\n",
    "a1 = [ 1, -9, 2, 1/np.exp(1), np.cos(np.pi), np.sin(0), \n",
    "      np.sin(np.pi), np.exp(-9), np.log(1e-5) ]\n",
    "\n",
    "\n",
    "#loop with a while:\n",
    "\n",
    "i = 0 \n",
    "\n",
    "while i < len(a1):\n",
    "    a = i\n",
    "    \n",
    "    try:\n",
    "        if a > 0.0:\n",
    "            print ( \"Your input is a positive value\")\n",
    "        elif a == 0.0:\n",
    "            print (\"Your input is zero\")\n",
    "        else:\n",
    "            print (\"Your input is a negative value\")\n",
    "            i = i+1\n",
    "            \n",
    "    except ValueError:\n",
    "        print(\"Not sure what your input value is :-/\")\n",
    "        break\n",
    "        \n",
    "    i +=1 "
   ]
  },
  {
   "cell_type": "code",
   "execution_count": null,
   "metadata": {},
   "outputs": [],
   "source": [
    "#let's fix it!\n",
    "#Code that aims to tell you if a value in an input list is positive, zero or negative:\n",
    "\n",
    "a1 = [ 1, -9, 2, 1/np.exp(1), np.cos(np.pi), np.sin(0), \n",
    "      np.sin(np.pi), np.exp(-9), np.log(1e-5) ]\n",
    "\n",
    "#let's see our array:\n",
    "print( a1 )\n"
   ]
  },
  {
   "cell_type": "code",
   "execution_count": null,
   "metadata": {},
   "outputs": [],
   "source": [
    "#fix the while loop:\n",
    "\n"
   ]
  },
  {
   "cell_type": "code",
   "execution_count": null,
   "metadata": {},
   "outputs": [],
   "source": [
    "\n",
    "\n"
   ]
  },
  {
   "cell_type": "code",
   "execution_count": null,
   "metadata": {},
   "outputs": [],
   "source": []
  },
  {
   "cell_type": "code",
   "execution_count": null,
   "metadata": {},
   "outputs": [],
   "source": []
  },
  {
   "cell_type": "code",
   "execution_count": null,
   "metadata": {},
   "outputs": [],
   "source": []
  },
  {
   "cell_type": "code",
   "execution_count": null,
   "metadata": {},
   "outputs": [],
   "source": [
    "# function that takes as input four numbers smaller than 10 and \n",
    "# calculates their factorials.\n",
    "\n",
    "def fact( l1, l2, l3, l4):\n",
    "    \n",
    "    n1   = 0\n",
    "    fac1 = 1\n",
    "    \n",
    "    while l1 - n1 > 0:\n",
    "        fac1 = fac1 * (l1-n1)\n",
    "        n1 = n1 +1\n",
    "\n",
    "        \n",
    "    fac2 = 1\n",
    "    \n",
    "    while l2 - n1 > 0:\n",
    "        fac2 = fac2 * (l2-n1)\n",
    "        n1 = n1 +1\n",
    "\n",
    "\n",
    "\n",
    "    fac3 = 1\n",
    "    \n",
    "    while l3 - n1 > 0:\n",
    "        fac3 = fac3 * (l3-n1)\n",
    "        n1 = n1 +1\n",
    "   \n",
    "\n",
    "    fac4 = 1\n",
    "    \n",
    "    while l4 - n1 > 0:\n",
    "        fac4 = fac4 * (l4-n1)\n",
    "        n1 = n1 +1\n",
    "\n",
    "        \n",
    "     \n",
    "    return fac1,fac2,fac3,fac4\n",
    "\n",
    "fact( 4, 3, 2  ,1 )"
   ]
  },
  {
   "cell_type": "code",
   "execution_count": null,
   "metadata": {},
   "outputs": [],
   "source": []
  },
  {
   "cell_type": "code",
   "execution_count": null,
   "metadata": {},
   "outputs": [],
   "source": []
  },
  {
   "cell_type": "code",
   "execution_count": null,
   "metadata": {},
   "outputs": [],
   "source": [
    "# now let's try the Python debugger:\n",
    "\n",
    "# short example from geeks for geeks, not super hard to see the bug as running it w/o \n",
    "# debugger also tells you the issue, but handy for trying : \n",
    "\n",
    "def debugger( a, b ): \n",
    "    \n",
    "    result = a / b  # do your thing...\n",
    "    return result   \n",
    "  \n",
    "    \n",
    "print( debugger( 1, 0 ) ) \n"
   ]
  },
  {
   "cell_type": "code",
   "execution_count": null,
   "metadata": {},
   "outputs": [],
   "source": [
    "# Remember:\n",
    "# - breakpoint()  --> since 3.7 the proper way to do it. Python freezes and waits for you to give it a command (for older Python versions you may see  pdb.set_trace())\n",
    "\n",
    "# - n: move in the next line/stay in the same block of code\n",
    "# - s: move at the  next possible occasion (could be in another function that is called)\n",
    "# - l & ll : to list the code \n",
    "# - p: print an expression \n",
    "# - s: execute current line and stop at the first possible occasion\n",
    "# - c: continue until a breakpoint is encountered\n",
    "# - q: quit\n"
   ]
  },
  {
   "cell_type": "code",
   "execution_count": null,
   "metadata": {},
   "outputs": [],
   "source": [
    "import pdb "
   ]
  },
  {
   "cell_type": "code",
   "execution_count": null,
   "metadata": {},
   "outputs": [],
   "source": [
    "# \n",
    "def debugger( a, b ): \n",
    "\n",
    "#    breakpoint()  # --> enter the debugging mode\n",
    "    pdb.set_trace()\n",
    "    result = a / b  # do your thing...\n",
    "    return result   \n",
    "  \n",
    "    \n",
    "print( debugger( 1, 0 ) ) \n",
    "\n",
    "# once the debugger kicks in try printing a, b and result...\n",
    "# let it execute and quit\n"
   ]
  },
  {
   "cell_type": "code",
   "execution_count": null,
   "metadata": {},
   "outputs": [],
   "source": []
  },
  {
   "cell_type": "code",
   "execution_count": null,
   "metadata": {},
   "outputs": [],
   "source": []
  },
  {
   "cell_type": "code",
   "execution_count": null,
   "metadata": {},
   "outputs": [],
   "source": [
    "# let's try again with this code:\n",
    "\n",
    "# Code that aims to draw an ellipse of major axis a and minor axis b. Code gives you all x and y \n",
    "# coordinates of points on the ellipse. As a reminder an ellipse is given by \n",
    "# ( ( x-x0 ) / a ) ^2 + ( ( y-y0 ) / b ) ^2 = 1\n",
    "\n",
    "x = -10. + np.arange(0, 20.1, 0.1) \n",
    "\n",
    "y = np.zeros( len( x ) )\n",
    "\n",
    "for i in range( len( x ) ):\n",
    "#    breakpoint()          \n",
    "    \n",
    "    q1   = x[ i ]   ** 2.\n",
    "    q2   = 1\n",
    "    \n",
    "    y1     = q2 - q1 \n",
    "    \n",
    "    y[ i ] = np.sqrt(y1)"
   ]
  },
  {
   "cell_type": "code",
   "execution_count": null,
   "metadata": {},
   "outputs": [],
   "source": [
    "# let's plot it:\n",
    "plt.plot( x,y, marker= 'o', linestyle ='none')"
   ]
  },
  {
   "cell_type": "code",
   "execution_count": null,
   "metadata": {},
   "outputs": [],
   "source": []
  },
  {
   "cell_type": "code",
   "execution_count": null,
   "metadata": {},
   "outputs": [],
   "source": [
    "# let's plot it:\n",
    "plt.plot( x,y, marker= 'o', linestyle ='none')"
   ]
  },
  {
   "cell_type": "code",
   "execution_count": null,
   "metadata": {},
   "outputs": [],
   "source": [
    "# add the breakpoint now:\n",
    "\n",
    "for i in range( len( x ) ):\n",
    "   # breakpoint()          \n",
    "    pdb.set_trace()\n",
    "\n",
    "    q1   = x[ i ]   ** 2.\n",
    "    q2   = 1\n",
    "    \n",
    "    pdb.set_trace()\n",
    "    a      = 5.\n",
    "    b      = 2.\n",
    "    y1     = q2 - q1 / ( a **2. )\n",
    "    \n",
    "    \n",
    "    y[ i ] = np.sqrt(y1 * (b**2.) )"
   ]
  },
  {
   "cell_type": "code",
   "execution_count": null,
   "metadata": {},
   "outputs": [],
   "source": []
  },
  {
   "cell_type": "markdown",
   "metadata": {},
   "source": [
    "## Recursion & the Infinite recursion bug:"
   ]
  },
  {
   "cell_type": "markdown",
   "metadata": {},
   "source": [
    "### so far we have seen it is fine to call a function from your main program, and you may even have a function calling another function like here:"
   ]
  },
  {
   "cell_type": "code",
   "execution_count": null,
   "metadata": {},
   "outputs": [],
   "source": [
    "import string\n",
    "\n",
    "def process_file(filename):\n",
    "    hist = dict()\n",
    "    fp = open(filename)\n",
    "    for line in fp:\n",
    "        process_line(line, hist)\n",
    "        \n",
    "    return(hist)\n",
    "\n",
    "\n",
    "def process_line(line, hist):\n",
    "\n",
    "    line = line.replace('-', ' ')\n",
    "\n",
    "    for word in line.split():\n",
    "\n",
    "        word = word.strip(string.punctuation + string.whitespace)\n",
    "        word = word.lower()\n",
    "        hist[word] = hist.get(word, 0) + 1\n",
    "        \n",
    "        \n",
    "\n",
    "process_file( 'emma.txt')\n",
    "\n"
   ]
  },
  {
   "cell_type": "markdown",
   "metadata": {},
   "source": [
    "### If a function calls itself, it is called “recursion”\n",
    " \n",
    "- Useful for many tasks, especially when the number of calls is unknown \n",
    "- factorial\n",
    "- Typically have an if statement that terminates recursion\n"
   ]
  },
  {
   "cell_type": "markdown",
   "metadata": {},
   "source": [
    "### **BUT:** Beware of calling too many times! by default ~1e3 calls is the limit in Python (you can change it though...see below)\n",
    "\n",
    "- Iteration is generally clearer and faster if you know how many iterations & takes less memory\n",
    "\n",
    "- Pre-allocating large arrays is much faster and more memory efficient than appending to existing arrays!\n"
   ]
  },
  {
   "cell_type": "code",
   "execution_count": null,
   "metadata": {},
   "outputs": [],
   "source": [
    "#e.g., from ThinkPython2:\n",
    "\n",
    "def countdown(n):\n",
    "    if n <= 0:\n",
    "        print('Blastoff!')\n",
    "    else:\n",
    "        print(n)\n",
    "        countdown(n-1)\n",
    "        \n"
   ]
  },
  {
   "cell_type": "code",
   "execution_count": null,
   "metadata": {},
   "outputs": [],
   "source": [
    "countdown(3)"
   ]
  },
  {
   "cell_type": "markdown",
   "metadata": {},
   "source": [
    "#### If a recursion never reaches a base case (the \"if n<=0\" above), it goes on making recursive calls forever, and the program never terminates. This is known as *infinite recursion*.\n"
   ]
  },
  {
   "cell_type": "markdown",
   "metadata": {},
   "source": [
    "#### obviously not good. In an infinite loop program will go on forever; here you'll reach the max depth and program will err"
   ]
  },
  {
   "cell_type": "code",
   "execution_count": null,
   "metadata": {},
   "outputs": [],
   "source": [
    "def countdown(n):\n",
    "    \n",
    "        print(n)\n",
    "        countdown(n-1)"
   ]
  },
  {
   "cell_type": "code",
   "execution_count": null,
   "metadata": {},
   "outputs": [],
   "source": [
    "countdown(1002)"
   ]
  },
  {
   "cell_type": "code",
   "execution_count": null,
   "metadata": {},
   "outputs": [],
   "source": [
    "#from geeks for geeks:\n",
    "\n",
    "# A simple recursive function to compute the factorial of a number \n",
    "def fact(n): \n",
    "  \n",
    "    if(n == 0): \n",
    "        return 1\n",
    "  \n",
    "    return n * fact(n - 1) \n",
    "\n",
    "\n",
    "# taking input \n",
    "    \n",
    "f = int(input('Enter the number: \\n')) \n",
    "  \n",
    "print(fact(f)) "
   ]
  },
  {
   "cell_type": "code",
   "execution_count": null,
   "metadata": {},
   "outputs": [],
   "source": [
    "f = int(input('Enter the number: \\n')) \n",
    "print(fact(f)) "
   ]
  },
  {
   "cell_type": "code",
   "execution_count": null,
   "metadata": {},
   "outputs": [],
   "source": [
    "#if I would REALLY need to calculate this number I could change the recursion limit:\n",
    "import sys \n",
    "sys.setrecursionlimit(10**6) \n"
   ]
  },
  {
   "cell_type": "code",
   "execution_count": null,
   "metadata": {},
   "outputs": [],
   "source": [
    "f = int(input('Enter the number: \\n')) \n",
    "print(fact(f)) "
   ]
  },
  {
   "cell_type": "code",
   "execution_count": null,
   "metadata": {},
   "outputs": [],
   "source": []
  },
  {
   "cell_type": "code",
   "execution_count": null,
   "metadata": {},
   "outputs": [],
   "source": []
  },
  {
   "cell_type": "code",
   "execution_count": null,
   "metadata": {},
   "outputs": [],
   "source": [
    "\n"
   ]
  },
  {
   "cell_type": "markdown",
   "metadata": {},
   "source": [
    "TO DO FOR R: https://classroom.github.com/a/8tBzCzla"
   ]
  },
  {
   "cell_type": "code",
   "execution_count": null,
   "metadata": {},
   "outputs": [],
   "source": []
  },
  {
   "cell_type": "code",
   "execution_count": null,
   "metadata": {},
   "outputs": [],
   "source": []
  },
  {
   "cell_type": "markdown",
   "metadata": {},
   "source": [
    "### 1. Read the data from a_scatter_plot.dat and assign the 3 columns to x y z. Use a scatter plot to plot the data. So far we only learned about plt, so just use that. We will revisit this soon to make it in 3D! What shape could this be?"
   ]
  },
  {
   "cell_type": "code",
   "execution_count": null,
   "metadata": {},
   "outputs": [],
   "source": []
  },
  {
   "cell_type": "code",
   "execution_count": null,
   "metadata": {},
   "outputs": [],
   "source": []
  },
  {
   "cell_type": "markdown",
   "metadata": {},
   "source": [
    "### 2. Plot your x,y with errorbars sigma2 and sigma respectively. Plot x vs y only where sigma < 11.5."
   ]
  },
  {
   "cell_type": "code",
   "execution_count": null,
   "metadata": {},
   "outputs": [],
   "source": [
    "x = np.array( [0.25,0.5,0.75,1.,1.25,1.5,1.75,2.,2.25,2.5, \n",
    "               2.75,3.,3.25,3.5,3.75,4.0,4.25,4.5,4.75,5.0,5.25] ) \n",
    "y = np.array( [14.059, 19.18, 26.26, 25.95, 31.567, 44.464, 49.88, \n",
    "               64.016, 79.34, 93.229, 104.985, 113.425, 130.466, 150.331, \n",
    "               168.620, 185.888, 207.500, 225.716, 241.891, 268.802, 287.936] )\n",
    "\n",
    "sigma = np.array( [12.536, 13.601, 11.8492, 15.937, 12.6478, 13.927, 11.445, \n",
    "                   10.224, 12.981, 10.969, 11.666, 12.060, 10.173, 10.292, 14.507, \n",
    "                   12.195, 11.578, 9.321, 12.602, 13.03, 8.6004] )\n",
    "\n",
    "sigma2 = sigma * np.random.random( len(sigma) )* .2"
   ]
  },
  {
   "cell_type": "code",
   "execution_count": null,
   "metadata": {},
   "outputs": [],
   "source": []
  },
  {
   "cell_type": "code",
   "execution_count": null,
   "metadata": {},
   "outputs": [],
   "source": []
  },
  {
   "cell_type": "code",
   "execution_count": null,
   "metadata": {},
   "outputs": [],
   "source": []
  },
  {
   "cell_type": "code",
   "execution_count": null,
   "metadata": {},
   "outputs": [],
   "source": []
  }
 ],
 "metadata": {
  "kernelspec": {
   "display_name": "Python 3 (ipykernel)",
   "language": "python",
   "name": "python3"
  },
  "language_info": {
   "codemirror_mode": {
    "name": "ipython",
    "version": 3
   },
   "file_extension": ".py",
   "mimetype": "text/x-python",
   "name": "python",
   "nbconvert_exporter": "python",
   "pygments_lexer": "ipython3",
   "version": "3.7.13"
  }
 },
 "nbformat": 4,
 "nbformat_minor": 2
}
