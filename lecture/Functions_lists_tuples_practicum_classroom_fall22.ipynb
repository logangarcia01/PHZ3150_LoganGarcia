{
 "cells": [
  {
   "cell_type": "markdown",
   "id": "842dbed6",
   "metadata": {},
   "source": [
    "## Today we will practice things we learned about functions, lists and tuples."
   ]
  },
  {
   "cell_type": "markdown",
   "id": "2a7dc44c",
   "metadata": {},
   "source": [
    "### Concept reminder:\n",
    "\n",
    "1. Functions:\n",
    "    - are used for calculations you want to do repeatedly. Instead of coding the same thing again and again, you just call the function and you get the result for each case you want.\n",
    "    - Functions need a good docstring!\n",
    "    - The main body of your code and the function can have different names for the same quantity. The name should be consistent in the same body though!\n",
    "    - When your function gives a result you should calculate these numbers some other way to check that they are correct\n",
    "    \n"
   ]
  },
  {
   "cell_type": "code",
   "execution_count": null,
   "id": "8f5870af",
   "metadata": {},
   "outputs": [],
   "source": [
    "def car_distance( time, speed ):\n",
    "    \"\"\"Function that calculates the distance a car moves over time t, when moving at constant \n",
    "    speed u (s = u * t).\n",
    "    Input: time [ s ], speed [ m/s ]\n",
    "    Output: distance [ m ].\"\"\"\n",
    "    \n",
    "    \n",
    "    return time * speed "
   ]
  },
  {
   "cell_type": "code",
   "execution_count": null,
   "id": "0a27573b",
   "metadata": {},
   "outputs": [],
   "source": [
    "#or:\n",
    "\n",
    "def car_distance( time, speed ):\n",
    "    \"\"\"Function that calculates the distance a car moves over time t, when moving at constant \n",
    "    speed u (s = u * t).\n",
    "    Input: time [ s ], speed [ m/s ]\n",
    "    Output: distance [ m ].\"\"\"\n",
    "    \n",
    "    s = time * speed\n",
    "    \n",
    "    return s"
   ]
  },
  {
   "cell_type": "markdown",
   "id": "c61b2cd5",
   "metadata": {},
   "source": [
    "2. Lists:\n",
    "    - [ ]\n",
    "    - slicing\n",
    "    - mutable\n",
    "    \n",
    "    \n",
    "    "
   ]
  },
  {
   "cell_type": "code",
   "execution_count": 2,
   "id": "4021310c",
   "metadata": {},
   "outputs": [],
   "source": [
    "days_of_months = [ 31, 28, 31, 30  ]"
   ]
  },
  {
   "cell_type": "code",
   "execution_count": 1,
   "id": "ebb6dd58",
   "metadata": {},
   "outputs": [
    {
     "ename": "NameError",
     "evalue": "name 'days_of_months' is not defined",
     "output_type": "error",
     "traceback": [
      "\u001b[1;31m---------------------------------------------------------------------------\u001b[0m",
      "\u001b[1;31mNameError\u001b[0m                                 Traceback (most recent call last)",
      "Input \u001b[1;32mIn [1]\u001b[0m, in \u001b[0;36m<cell line: 2>\u001b[1;34m()\u001b[0m\n\u001b[0;32m      1\u001b[0m \u001b[38;5;66;03m# oops! We are in a leap year! Let's fix the list\u001b[39;00m\n\u001b[1;32m----> 2\u001b[0m \u001b[43mdays_of_months\u001b[49m[ \u001b[38;5;241m1\u001b[39m ] \u001b[38;5;241m=\u001b[39m \u001b[38;5;241m29\u001b[39m\n",
      "\u001b[1;31mNameError\u001b[0m: name 'days_of_months' is not defined"
     ]
    }
   ],
   "source": [
    "# oops! We are in a leap year! Let's fix the list\n",
    "days_of_months[ 1 ] = 29"
   ]
  },
  {
   "cell_type": "code",
   "execution_count": 3,
   "id": "72f23626",
   "metadata": {},
   "outputs": [
    {
     "name": "stdout",
     "output_type": "stream",
     "text": [
      "[31, 28, 31, 30]\n"
     ]
    }
   ],
   "source": [
    "print (days_of_months)"
   ]
  },
  {
   "cell_type": "markdown",
   "id": "8d155fa6",
   "metadata": {},
   "source": [
    "3. Tuples:\n",
    "    - ( )\n",
    "    - slicing\n",
    "    - immutable"
   ]
  },
  {
   "cell_type": "code",
   "execution_count": 4,
   "id": "4d7d83e3",
   "metadata": {},
   "outputs": [],
   "source": [
    "days_months_tuple = ( 31, 28, 31, 30 )"
   ]
  },
  {
   "cell_type": "code",
   "execution_count": 5,
   "id": "6d88961b",
   "metadata": {},
   "outputs": [],
   "source": [
    "# can I fix it for a leap year?"
   ]
  },
  {
   "cell_type": "code",
   "execution_count": 7,
   "id": "ca20481d",
   "metadata": {},
   "outputs": [
    {
     "name": "stdout",
     "output_type": "stream",
     "text": [
      "(31, 28, 31)\n"
     ]
    }
   ],
   "source": [
    "print(days_months_tuple[ :3 ])"
   ]
  },
  {
   "cell_type": "code",
   "execution_count": 8,
   "id": "3d638511",
   "metadata": {},
   "outputs": [
    {
     "ename": "TypeError",
     "evalue": "'tuple' object does not support item assignment",
     "output_type": "error",
     "traceback": [
      "\u001b[1;31m---------------------------------------------------------------------------\u001b[0m",
      "\u001b[1;31mTypeError\u001b[0m                                 Traceback (most recent call last)",
      "Input \u001b[1;32mIn [8]\u001b[0m, in \u001b[0;36m<cell line: 1>\u001b[1;34m()\u001b[0m\n\u001b[1;32m----> 1\u001b[0m days_months_tuple[ \u001b[38;5;241m1\u001b[39m ] \u001b[38;5;241m=\u001b[39m \u001b[38;5;241m29\u001b[39m\n",
      "\u001b[1;31mTypeError\u001b[0m: 'tuple' object does not support item assignment"
     ]
    }
   ],
   "source": [
    "days_months_tuple[ 1 ] = 29"
   ]
  },
  {
   "cell_type": "code",
   "execution_count": null,
   "id": "9f08764a",
   "metadata": {},
   "outputs": [],
   "source": []
  },
  {
   "cell_type": "markdown",
   "id": "986ea791",
   "metadata": {},
   "source": [
    "# Practicum!"
   ]
  },
  {
   "cell_type": "markdown",
   "id": "83dd7d29",
   "metadata": {},
   "source": [
    "\n",
    "\n",
    "### A. )  Create a function circuit_resistance that uses the measured voltage and current of a circuit and returns its total resistance.  Remember to use a good, appropriate docstring! \n",
    "\n",
    "-- Remember that R = V / I\n",
    "\n",
    "1) Discuss: What should the inputs of your function be? What should the output be?\n",
    "\n",
    "2) Discuss what can go wrong with this function. What info does a good docstring need to have? \n",
    "\n",
    "\n",
    "3) Write your function!\n",
    "\n",
    "\n",
    "4) Print the docstring.\n",
    "\n",
    "5) Assume an initial measurement of V = 10 V and I = 2A. Call circuit_resistance to find the total resistance of the circuit.\n",
    "\n",
    "6) Call circuit_resistance for I = 4A and V  = 10, 20 and 40 V .  \n",
    "\n",
    "7) Call circuit_resistance for V = 100 V and I = 10 and 50 A. \n",
    "\n",
    "\n"
   ]
  },
  {
   "cell_type": "code",
   "execution_count": 9,
   "id": "392081a9",
   "metadata": {},
   "outputs": [],
   "source": [
    "def circuit_resistance(V, I):\n",
    "    \"\"\"Function tht calculates the resistance of the circuit with the voltage V and Current I\n",
    "    Input: V [V], I [A]\n",
    "    Output: R [Ohm] \"\"\"\n",
    "    \n",
    "    R = V / I\n",
    "    \n",
    "    \n",
    "    \n",
    "    return R"
   ]
  },
  {
   "cell_type": "code",
   "execution_count": 10,
   "id": "e2209b57",
   "metadata": {},
   "outputs": [
    {
     "name": "stdout",
     "output_type": "stream",
     "text": [
      "Help on function circuit_resistance in module __main__:\n",
      "\n",
      "circuit_resistance(V, I)\n",
      "    Function tht calculates the resistance of the circuit with the voltage V and Current I\n",
      "    Input: V [V], I [A]\n",
      "    Output: R [Ohm]\n",
      "\n"
     ]
    }
   ],
   "source": [
    "help( circuit_resistance)"
   ]
  },
  {
   "cell_type": "code",
   "execution_count": 12,
   "id": "48c65bc9",
   "metadata": {},
   "outputs": [
    {
     "name": "stdout",
     "output_type": "stream",
     "text": [
      " First Circuit has a resistance of  5.0 Ohm.\n"
     ]
    }
   ],
   "source": [
    "#V = 10 and I = 2A\n",
    "\n",
    "print (\" First Circuit has a resistance of \", circuit_resistance (10,2), \"Ohm.\")"
   ]
  },
  {
   "cell_type": "code",
   "execution_count": 13,
   "id": "a8b973ae",
   "metadata": {},
   "outputs": [
    {
     "name": "stdout",
     "output_type": "stream",
     "text": [
      " Second Circuit has a resistance of  2.5 Ohm.\n",
      " Third Circuit has a resistance of  2.0 Ohm.\n"
     ]
    }
   ],
   "source": [
    "# I = 4A and V = 10, 20 and 40V\n",
    "\n",
    "print (\" Second Circuit has a resistance of \", circuit_resistance (10,4), \"Ohm.\")\n",
    "\n",
    "print (\" Third Circuit has a resistance of \", circuit_resistance (40,20), \"Ohm.\")"
   ]
  },
  {
   "cell_type": "code",
   "execution_count": null,
   "id": "5d33ae6f",
   "metadata": {},
   "outputs": [],
   "source": []
  },
  {
   "cell_type": "code",
   "execution_count": null,
   "id": "cf082d96",
   "metadata": {},
   "outputs": [],
   "source": []
  },
  {
   "cell_type": "code",
   "execution_count": null,
   "id": "0c22c429",
   "metadata": {},
   "outputs": [],
   "source": []
  },
  {
   "cell_type": "markdown",
   "id": "464ce2f8",
   "metadata": {},
   "source": [
    "### B. )  It's still storm season, so let's create a code that calculates the distance to where lightning strucks. Create function *thunderstruck* that calculates the distance from you of the point where lightning struck. Remember that lightning travels with the speed of light, so you can assume you see it instantaneously (as soon as it happens). Thunder on the other hand travels with the speed of sound, at $u_{sound} = 343$  m/s or $1088$ feet/s.  Remember to write an informative docstring.\n",
    "\n",
    "1) Discuss: what should the input of the function be? What should be its output?\n",
    "\n",
    "2) What information should a good docstring have?\n",
    "\n",
    "3) Code your funtion\n",
    "\n",
    "4) Print the docstring\n",
    "\n",
    "5) You hear the roar of thunder 5s after you see the lightning. How far away was the strike (in feet)?\n",
    "\n",
    "6) You hear the roar of thunder 12s after you saw the lightning. Where did it hit in miles ( 1miles = 5280 feet )?\n"
   ]
  },
  {
   "cell_type": "code",
   "execution_count": 14,
   "id": "50836803",
   "metadata": {},
   "outputs": [],
   "source": [
    "def thunderstruck(t):\n",
    "    \n",
    "    \"\"\"\n",
    "    Function that calculates how far away from us the lightning strikes\n",
    "    Input : time between lighting and roar of thunder [s]\n",
    "    Output : distance [ ft ]\n",
    "    \"\"\"\n",
    "    \n",
    "    d = 1088 * t\n",
    "    \n",
    "    return d"
   ]
  },
  {
   "cell_type": "code",
   "execution_count": 15,
   "id": "5c42010b",
   "metadata": {},
   "outputs": [
    {
     "name": "stdout",
     "output_type": "stream",
     "text": [
      "Help on function thunderstruck in module __main__:\n",
      "\n",
      "thunderstruck(t)\n",
      "    Function that calculates how far away from us the lightning strikes\n",
      "    Input : time between lighting and roar of thunder [s]\n",
      "    Output : distance [ ft ]\n",
      "\n"
     ]
    }
   ],
   "source": [
    "help (thunderstruck)"
   ]
  },
  {
   "cell_type": "code",
   "execution_count": 16,
   "id": "f0b6c2d4",
   "metadata": {},
   "outputs": [
    {
     "name": "stdout",
     "output_type": "stream",
     "text": [
      "The lightning struck  5440 feet away.\n"
     ]
    }
   ],
   "source": [
    "# hear the roar of thunder 5s after a ligthning strike, how far away in feet?\n",
    "\n",
    "print ( \"The lightning struck \", thunderstruck (5), \"feet away.\")"
   ]
  },
  {
   "cell_type": "code",
   "execution_count": null,
   "id": "00062074",
   "metadata": {},
   "outputs": [],
   "source": [
    "# hear the roar of thunder 12s after a ligthning strike, where did it hit in miles ( 1 mile = 5280ft) ?\n",
    "\n",
    "print ( \"The lightning struck \", thunderstruck (12), \"miles away.\")"
   ]
  },
  {
   "cell_type": "code",
   "execution_count": null,
   "id": "800104fd",
   "metadata": {},
   "outputs": [],
   "source": []
  },
  {
   "cell_type": "markdown",
   "id": "54af95a6",
   "metadata": {},
   "source": [
    "### C. ) Write a function called called FtoC that changes a temperature from F to C. \n",
    "#### Consider the following: \n",
    "\n",
    "1) What is the function that connects F to C? \n",
    "\n",
    "2) What should the input of the function be? What should the output be?\n",
    "\n",
    "3) What information does a good docstring need to have?\n",
    "\n",
    "4) Write your function\n",
    "\n",
    "\n",
    "### Save it in a separate file, not your Jupyter notebook. \n",
    "\n",
    "### In your main homework file, import this function and use it six times to convert -40, 0, 32, 75, 98.6, and 212 Fahrenheit to Celsius, printing each value on a line by itself. "
   ]
  },
  {
   "cell_type": "code",
   "execution_count": 1,
   "id": "ec0dfa18",
   "metadata": {},
   "outputs": [
    {
     "ename": "ModuleNotFoundError",
     "evalue": "No module named 'FtoC'",
     "output_type": "error",
     "traceback": [
      "\u001b[1;31m---------------------------------------------------------------------------\u001b[0m",
      "\u001b[1;31mModuleNotFoundError\u001b[0m                       Traceback (most recent call last)",
      "Input \u001b[1;32mIn [1]\u001b[0m, in \u001b[0;36m<cell line: 1>\u001b[1;34m()\u001b[0m\n\u001b[1;32m----> 1\u001b[0m \u001b[38;5;28;01mfrom\u001b[39;00m \u001b[38;5;21;01mFtoC\u001b[39;00m \u001b[38;5;28;01mimport\u001b[39;00m FtoC\n",
      "\u001b[1;31mModuleNotFoundError\u001b[0m: No module named 'FtoC'"
     ]
    }
   ],
   "source": [
    "from FtoC import FtoC"
   ]
  },
  {
   "cell_type": "code",
   "execution_count": null,
   "id": "c9d7f588",
   "metadata": {},
   "outputs": [],
   "source": []
  },
  {
   "cell_type": "code",
   "execution_count": null,
   "id": "7e334241",
   "metadata": {},
   "outputs": [],
   "source": []
  },
  {
   "cell_type": "code",
   "execution_count": null,
   "id": "b6a4332b",
   "metadata": {},
   "outputs": [],
   "source": []
  },
  {
   "cell_type": "code",
   "execution_count": null,
   "id": "ca7a21e6",
   "metadata": {},
   "outputs": [],
   "source": []
  },
  {
   "cell_type": "markdown",
   "id": "8f2af9d8",
   "metadata": {},
   "source": [
    "### D) Let's practice  working with lists:\n",
    "\n",
    "1) Create a list quantity_1 with numbers starting from 100 to 500 with a step of 100.  \n",
    "\n",
    "2) Create a list quantity_2 with numbers from 10 to 50 with a step of 10. \n",
    "\n",
    "3) Print quantity_1. Print the 2nd up to and including the 4th and element of quantity_2.\n",
    "\n",
    "4) Print the ratio of quantity_1 to quantity_2. Can you do it in one line? Why/why not?\n"
   ]
  },
  {
   "cell_type": "code",
   "execution_count": 2,
   "id": "43520d03",
   "metadata": {},
   "outputs": [],
   "source": [
    "quantity_1 = [100, 200, 300, 400, 500 ]\n",
    "quantity_2 = [10, 20, 30, 40, 50]"
   ]
  },
  {
   "cell_type": "code",
   "execution_count": 3,
   "id": "a4a3b1a4",
   "metadata": {},
   "outputs": [
    {
     "name": "stdout",
     "output_type": "stream",
     "text": [
      "[100, 200, 300, 400, 500]\n"
     ]
    }
   ],
   "source": [
    "print (quantity_1)"
   ]
  },
  {
   "cell_type": "code",
   "execution_count": 4,
   "id": "afe38fe0",
   "metadata": {},
   "outputs": [
    {
     "name": "stdout",
     "output_type": "stream",
     "text": [
      "[20, 30, 40]\n"
     ]
    }
   ],
   "source": [
    "print (quantity_2[1 : 4 ])"
   ]
  },
  {
   "cell_type": "code",
   "execution_count": 5,
   "id": "729c6f8b",
   "metadata": {},
   "outputs": [
    {
     "ename": "TypeError",
     "evalue": "unsupported operand type(s) for /: 'list' and 'list'",
     "output_type": "error",
     "traceback": [
      "\u001b[1;31m---------------------------------------------------------------------------\u001b[0m",
      "\u001b[1;31mTypeError\u001b[0m                                 Traceback (most recent call last)",
      "Input \u001b[1;32mIn [5]\u001b[0m, in \u001b[0;36m<cell line: 1>\u001b[1;34m()\u001b[0m\n\u001b[1;32m----> 1\u001b[0m \u001b[38;5;28mprint\u001b[39m (\u001b[43mquantity_1\u001b[49m\u001b[38;5;241;43m/\u001b[39;49m\u001b[43mquantity_2\u001b[49m)\n",
      "\u001b[1;31mTypeError\u001b[0m: unsupported operand type(s) for /: 'list' and 'list'"
     ]
    }
   ],
   "source": [
    "print (quantity_1/quantity_2)"
   ]
  },
  {
   "cell_type": "code",
   "execution_count": 6,
   "id": "ba914c36",
   "metadata": {},
   "outputs": [
    {
     "name": "stdout",
     "output_type": "stream",
     "text": [
      "10.0\n",
      "10.0\n"
     ]
    }
   ],
   "source": [
    "print (quantity_1[ 0 ]/quantity_2 [0])\n",
    "print (quantity_1[1]/quantity_2[1])"
   ]
  },
  {
   "cell_type": "code",
   "execution_count": null,
   "id": "26f9324a",
   "metadata": {},
   "outputs": [],
   "source": [
    "for i in range"
   ]
  },
  {
   "cell_type": "code",
   "execution_count": null,
   "id": "dd81eaff",
   "metadata": {},
   "outputs": [],
   "source": []
  },
  {
   "cell_type": "markdown",
   "id": "e6e3900f",
   "metadata": {},
   "source": [
    "### E) Make a function flight_duration that takes as input a list with the names of two cities and a float that is the distance between the cities in miles. The function will then print an informative statement about how much time it takes to go from one city to the other assuming an (optimistic) average $U_\\mathrm{fly} = 500$mph. Run it for flying from Orlando to Washington DC (trip1), Orlando to Miami (trip2) and Washington DC to Paris (trip3). The corresponding distances are: 759 miles, 204 miles and 3840 miles.\n",
    "\n",
    "\n",
    "1) discuss: \n",
    "    - what are our inputs? \n",
    "    - how will we calculate the required time? \n",
    "    - how will we use the input to print the required statement?\n",
    "    \n",
    "2) What information should a good docstring have?\n",
    "\n",
    "3) Write your function\n",
    "\n",
    "4) Call the function for the 3 trips requested.\n",
    "    "
   ]
  },
  {
   "cell_type": "code",
   "execution_count": 7,
   "id": "d36202b2",
   "metadata": {},
   "outputs": [],
   "source": [
    "def flight_duration (cities, dist):\n",
    "    \"\"\"Calculates the time it takes to  fly from city 1 to city 2 assuming a constant\n",
    "    speed of 500mph\n",
    "    Input: list of city names, distance [miles]\n",
    "    Output:  none/ print statement\"\"\"\n",
    "    \n",
    "    time = dist/500\n",
    "    \n",
    "    print(\"From\",cities[0] , \"to\",cities[1] , \" it will take approx.\",time , \"hours.\")"
   ]
  },
  {
   "cell_type": "code",
   "execution_count": 8,
   "id": "f6a76772",
   "metadata": {},
   "outputs": [
    {
     "name": "stdout",
     "output_type": "stream",
     "text": [
      "From orlando to Dc  it will take approx. 1.518 hours.\n"
     ]
    }
   ],
   "source": [
    "cities = ['orlando', 'Dc']\n",
    "dist = 759\n",
    "\n",
    "flight_duration(cities,dist)"
   ]
  },
  {
   "cell_type": "code",
   "execution_count": 9,
   "id": "f61485d7",
   "metadata": {},
   "outputs": [
    {
     "name": "stdout",
     "output_type": "stream",
     "text": [
      "From orlando to miami  it will take approx. 0.408 hours.\n"
     ]
    }
   ],
   "source": [
    "cities = ['orlando', 'miami']\n",
    "dist = 204\n",
    "\n",
    "flight_duration(cities,dist)"
   ]
  },
  {
   "cell_type": "code",
   "execution_count": null,
   "id": "2c0614a4",
   "metadata": {},
   "outputs": [],
   "source": []
  },
  {
   "cell_type": "code",
   "execution_count": null,
   "id": "70dfc22e",
   "metadata": {},
   "outputs": [],
   "source": []
  },
  {
   "cell_type": "code",
   "execution_count": null,
   "id": "6b1d7590",
   "metadata": {},
   "outputs": [],
   "source": []
  },
  {
   "cell_type": "code",
   "execution_count": null,
   "id": "63c52956",
   "metadata": {},
   "outputs": [],
   "source": []
  },
  {
   "cell_type": "markdown",
   "id": "5d6cb0fe",
   "metadata": {},
   "source": [
    "### F) Make a function say_it_three_times that takes as input a word my_word and prints it three times in a row. \n",
    "\n",
    "- Discuss: what should the input and output of the function be?\n",
    "\n",
    "- What information should a good docstring have?\n",
    "\n",
    "- Get coding! Start by makin the function print the words in different lines. \n",
    "    - How can you make it print the words in the same line?\n",
    "\n",
    "### Make a tuple three_words that contains the words 'my', 'oh' and 'he'. Call say_it_three_times for each value of the tuple three_words (one by one; we haven't learned about loops yet). Print my_word. Does it work? Why/Why not?"
   ]
  },
  {
   "cell_type": "code",
   "execution_count": null,
   "id": "73fdf102",
   "metadata": {},
   "outputs": [],
   "source": []
  },
  {
   "cell_type": "code",
   "execution_count": null,
   "id": "d75e86d7",
   "metadata": {},
   "outputs": [],
   "source": []
  },
  {
   "cell_type": "code",
   "execution_count": null,
   "id": "99d82a7f",
   "metadata": {},
   "outputs": [],
   "source": []
  },
  {
   "cell_type": "code",
   "execution_count": null,
   "id": "f86cb2e1",
   "metadata": {},
   "outputs": [],
   "source": []
  },
  {
   "cell_type": "code",
   "execution_count": null,
   "id": "5e5d63e6",
   "metadata": {},
   "outputs": [],
   "source": []
  },
  {
   "cell_type": "code",
   "execution_count": null,
   "id": "c060736f",
   "metadata": {},
   "outputs": [],
   "source": []
  },
  {
   "cell_type": "markdown",
   "id": "6fe89029",
   "metadata": {},
   "source": [
    "### G) You have a list data_1 that contains the values: 0, 20, 60, 120, 240, 62 and a tuple data_2 that contains the values: 10, 40, 30, 20, 12, 2. \n",
    "- Make a list multis whose elements are equal to the multiplication of data_1 with data_2 (so the first element is 0, the second 800 etc). Discuss: how do we start? how do we populate the list?\n",
    "- Make a tuple divs whose elements are equal to the division of data_1 with data_2 ( so first element is 0, second 0.5 etc). Discuss: how do we start? how do we populate the tuple?\n",
    "\n",
    "- Change the third element of multis to 1000. Does it work? Why/why not? If not, how can you make it work?\n",
    "- Change the fouth element of divs to 10. Does it work? Why/why not? If not, how can you make it work?\n",
    "\n",
    "\n"
   ]
  },
  {
   "cell_type": "code",
   "execution_count": 10,
   "id": "7c148842",
   "metadata": {},
   "outputs": [],
   "source": [
    "data_1 = [0,20,60,120,240,62]\n",
    "data_2 = (10,40,30,20,12,2) "
   ]
  },
  {
   "cell_type": "code",
   "execution_count": 11,
   "id": "a83a246a",
   "metadata": {},
   "outputs": [],
   "source": [
    "multis = [data_1[0] * data_2[0], data_1[1] * data_2[1], \n",
    "         data_1[2] * data_2[2], data_1[3] * data_2[3], \n",
    "         data_1[4] * data_2[4], data_1[5] * data_2[5] ]  "
   ]
  },
  {
   "cell_type": "code",
   "execution_count": 12,
   "id": "2149bd57",
   "metadata": {},
   "outputs": [
    {
     "name": "stdout",
     "output_type": "stream",
     "text": [
      "[0, 800, 1800, 2400, 2880, 124]\n"
     ]
    }
   ],
   "source": [
    "print(multis)"
   ]
  },
  {
   "cell_type": "code",
   "execution_count": null,
   "id": "aca3ed88",
   "metadata": {},
   "outputs": [],
   "source": []
  },
  {
   "cell_type": "code",
   "execution_count": 13,
   "id": "daa906e1",
   "metadata": {},
   "outputs": [],
   "source": [
    "divis = [data_1[0] / data_2[0], data_1[1] / data_2[1], \n",
    "         data_1[2] / data_2[2], data_1[3] / data_2[3], \n",
    "         data_1[4] / data_2[4], data_1[5] / data_2[5]]"
   ]
  },
  {
   "cell_type": "code",
   "execution_count": 14,
   "id": "c462f937",
   "metadata": {},
   "outputs": [
    {
     "name": "stdout",
     "output_type": "stream",
     "text": [
      "[0.0, 0.5, 2.0, 6.0, 20.0, 31.0]\n"
     ]
    }
   ],
   "source": [
    "print(divis)"
   ]
  },
  {
   "cell_type": "code",
   "execution_count": 15,
   "id": "65b39f23",
   "metadata": {},
   "outputs": [
    {
     "name": "stdout",
     "output_type": "stream",
     "text": [
      "[0, 800, 1000, 2400, 2880, 124]\n"
     ]
    }
   ],
   "source": [
    "multis[2] = 1000\n",
    "\n",
    "print( multis)"
   ]
  },
  {
   "cell_type": "code",
   "execution_count": null,
   "id": "491db324",
   "metadata": {},
   "outputs": [],
   "source": []
  }
 ],
 "metadata": {
  "kernelspec": {
   "display_name": "Python 3 (ipykernel)",
   "language": "python",
   "name": "python3"
  },
  "language_info": {
   "codemirror_mode": {
    "name": "ipython",
    "version": 3
   },
   "file_extension": ".py",
   "mimetype": "text/x-python",
   "name": "python",
   "nbconvert_exporter": "python",
   "pygments_lexer": "ipython3",
   "version": "3.9.12"
  }
 },
 "nbformat": 4,
 "nbformat_minor": 5
}
