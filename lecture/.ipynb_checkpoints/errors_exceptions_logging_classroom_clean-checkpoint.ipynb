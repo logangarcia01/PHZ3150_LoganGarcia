{
 "cells": [
  {
   "cell_type": "markdown",
   "metadata": {},
   "source": [
    "# Errors, exceptions and logging "
   ]
  },
  {
   "cell_type": "code",
   "execution_count": null,
   "metadata": {},
   "outputs": [],
   "source": [
    "# PHZ3150"
   ]
  },
  {
   "cell_type": "code",
   "execution_count": 1,
   "metadata": {},
   "outputs": [],
   "source": [
    "import numpy as np\n",
    "import matplotlib.pyplot as plt"
   ]
  },
  {
   "cell_type": "markdown",
   "metadata": {},
   "source": [
    "### While getting to debug a code you make come across a range of different bugs: \n",
    "- Syntax errors   : say you forgot to add a ) or put one to many \n",
    "   - Python will let you know\n",
    "- Runtime errors  : once code starts running something happens that wasn't supposed to --> exceptions \n",
    "   - Will need some debugging\n",
    "- Semantic errors : code will run but not as it should, but as you told it to (but that is in a wrong way)\n",
    "   - Can take a lot of debugging "
   ]
  },
  {
   "cell_type": "markdown",
   "metadata": {},
   "source": [
    "### Errors are generally fatal issues of your code that will kill the run. Exceptions can be handled without killing the code (if needed), warnings will generally not kill the code. \n",
    "\n",
    "### It is good practice to build a code that avoids errors and handles exceptions properly. When you share your code you want it to be used without (ideally any) debugging from someone else, so you should think of all issues that might arise..."
   ]
  },
  {
   "cell_type": "markdown",
   "metadata": {},
   "source": [
    "### Python has a lot of built-in errors/exceptions that are raised every time you run into a bug. The ones you will encounter more often probably are:\n",
    "- IO exceptions (e.g., filename not existing)\n",
    "- EOF \n",
    "- Nameerror (e.g., call a non-existing variable)\n",
    "- Indentation errors + tab errors\n",
    "- Indexerror (e.g. you call element 11 of array with 9 elements)\n",
    "\n",
    "### Your code can also keep on running and just raise some warnings\n",
    "- Runtimewarning (see above for examples-- sth weird happens in your code)\n",
    "\n",
    "### You can find the full list of exception and warnings here: https://docs.python.org/3/library/exceptions.html"
   ]
  },
  {
   "cell_type": "markdown",
   "metadata": {},
   "source": [
    "## -------------------------\n",
    "## Errors: "
   ]
  },
  {
   "cell_type": "code",
   "execution_count": null,
   "metadata": {},
   "outputs": [],
   "source": [
    "#e.g.,:\n",
    "a = [ 1, 2, 3, 4, 5 \n",
    "print ( a * 2 )    # --> gets a built-in exception\n",
    "     "
   ]
  },
  {
   "cell_type": "code",
   "execution_count": null,
   "metadata": {},
   "outputs": [],
   "source": [
    "#also in same family of errors:\n",
    "a = 5\n",
    "\n",
    "if a < 3:\n",
    "print( a )\n"
   ]
  },
  {
   "cell_type": "code",
   "execution_count": null,
   "metadata": {},
   "outputs": [],
   "source": [
    "# from ThinkPython2:\n",
    "def print_twice( bruce ):\n",
    "    print( bruce )\n",
    "    print( bruce )\n",
    "\n",
    "def cat_twice( part1, part2 ):\n",
    "    cat = part1 + part2\n",
    "    print_twice( cat )\n",
    "    \n",
    "    \n",
    "line1 = 'Bing tiddle '\n",
    "line2 = 'tiddle bang.'\n",
    "cat_twice( line1, line2 )\n",
    "\n",
    "#now let's print bruce and cat:\n",
    "print( bruce, cat )   # --> gets a built-in exception"
   ]
  },
  {
   "cell_type": "code",
   "execution_count": null,
   "metadata": {},
   "outputs": [],
   "source": [
    "import myrandomfunction"
   ]
  },
  {
   "cell_type": "code",
   "execution_count": null,
   "metadata": {},
   "outputs": [],
   "source": [
    "a = 4\n",
    "\n",
    "b = [5, 6, 7  #]"
   ]
  },
  {
   "cell_type": "code",
   "execution_count": null,
   "metadata": {},
   "outputs": [],
   "source": [
    "a = [ 1, 2, 3, 4, 5 ]\n",
    "\n",
    "print( a[ 6 ] )"
   ]
  },
  {
   "cell_type": "code",
   "execution_count": null,
   "metadata": {},
   "outputs": [],
   "source": [
    "a = open('testme.dat')"
   ]
  },
  {
   "cell_type": "markdown",
   "metadata": {},
   "source": [
    "## -------------------------\n",
    "## Warnings: "
   ]
  },
  {
   "cell_type": "code",
   "execution_count": null,
   "metadata": {},
   "outputs": [],
   "source": [
    "# from ThinkPython2:\n",
    "signal_power = 9\n",
    "noise_power  = 10\n",
    "\n",
    "ratio        = signal_power // noise_power\n",
    "decibels     = 10 * np.log10(ratio)       # errs in this line and tells you why...\n",
    "\n",
    "print(decibels)\n"
   ]
  },
  {
   "cell_type": "code",
   "execution_count": null,
   "metadata": {},
   "outputs": [],
   "source": [
    "# Code that gets array x and calcylates array y equal to sqrt( 1 - x **2 )\n",
    "\n",
    "x = -10. + np.arange(0, 20.1, 0.1) \n",
    "\n",
    "y = np.zeros( len( x ) )\n",
    "\n",
    "for i in range( len( x ) ):\n",
    "#    breakpoint()          \n",
    "    \n",
    "    q1   = x[ i ]   ** 2.\n",
    "    \n",
    "    y1     = 1 - q1  \n",
    "    \n",
    "   \n",
    "    y[ i ] = np.sqrt( y1 )\n",
    "    \n",
    "\n",
    "#print y:\n",
    "\n",
    "print( y )"
   ]
  },
  {
   "cell_type": "code",
   "execution_count": null,
   "metadata": {},
   "outputs": [],
   "source": []
  },
  {
   "cell_type": "code",
   "execution_count": null,
   "metadata": {},
   "outputs": [],
   "source": []
  },
  {
   "cell_type": "markdown",
   "metadata": {},
   "source": [
    "## -------------------------\n",
    "## Exceptions:"
   ]
  },
  {
   "cell_type": "markdown",
   "metadata": {},
   "source": [
    "### You can also make your own exceptions in Python:"
   ]
  },
  {
   "cell_type": "markdown",
   "metadata": {},
   "source": [
    "#### for this you may need to define a class:"
   ]
  },
  {
   "cell_type": "code",
   "execution_count": null,
   "metadata": {},
   "outputs": [],
   "source": [
    "#make a custom error exception:\n",
    "\n",
    "class CustomError(Exception):\n",
    "    pass\n",
    "\n",
    "\n",
    "# then in your code:\n",
    "a = -5.         # this can be user input value e.g., or a variable passed\n",
    "                # from another code..\n",
    "\n",
    "#main body of code: \n",
    "\n",
    "if a > 0:\n",
    "    print ('correct')                   # if value is positive, it's good...\n",
    "else:\n",
    "    raise CustomError(\"Wrong value!\")   # if value is negative it's wrong -> make the code crash\n",
    "    \n",
    "print( a )"
   ]
  },
  {
   "cell_type": "code",
   "execution_count": null,
   "metadata": {},
   "outputs": [],
   "source": []
  },
  {
   "cell_type": "code",
   "execution_count": null,
   "metadata": {},
   "outputs": [],
   "source": [
    "# examples in some code: \n",
    "\n",
    "#let's make a bunch of random exceptions/errors\n",
    "\n",
    "class FluxIsNegative( Exception ):\n",
    "    \"\"\" You flux is physically impossible ( < 0 ) \"\"\"\n",
    "    pass\n",
    "\n",
    "\n",
    "class GoingTheWrongWay( Exception ):\n",
    "    \"\"\" Your photon is moving the wrong way around \"\"\"\n",
    "    pass\n",
    "\n",
    "    \n",
    "flux, direction = input( \" Give me your measured flux and its direction: \" ).split() \n",
    "\n",
    "if float( flux ) < 0:\n",
    "    raise FluxIsNegative\n",
    "    \n",
    "if float( direction ) < 0:\n",
    "    raise GoingTheWrongWay\n",
    "    \n"
   ]
  },
  {
   "cell_type": "code",
   "execution_count": null,
   "metadata": {},
   "outputs": [],
   "source": [
    "# we can now make a class errors that will warn us about errors in our code:\n",
    "\n",
    "class Error( Exception ):\n",
    "    \"\"\"Base class for other exceptions\"\"\"\n",
    "    pass\n",
    "\n",
    "\n",
    "class ValueTooSmallError( Error ):\n",
    "    \"\"\" Raised when the input value is too small \"\"\"\n",
    "    pass \n",
    "\n",
    "\n",
    "class ValueTooLargeError( Error ):\n",
    "    \"\"\" Raised when the input value is too large \"\"\"\n",
    "    pass\n",
    "\n",
    "\n"
   ]
  },
  {
   "cell_type": "markdown",
   "metadata": {},
   "source": [
    "### what do you think this code does?"
   ]
  },
  {
   "cell_type": "code",
   "execution_count": null,
   "metadata": {},
   "outputs": [],
   "source": [
    "nums = input( \"Give me a number : \" )\n",
    "\n",
    "\n",
    "if float( nums ) > 10. :\n",
    "    raise ValueTooLargeError\n",
    "elif float( nums ) < 10. :\n",
    "    raise ValueTooSmallError\n",
    "else:\n",
    "    print( \"You got the right number!\" )\n",
    "    "
   ]
  },
  {
   "cell_type": "markdown",
   "metadata": {},
   "source": [
    "### You can also create exceptions that warn you but don't kill the code"
   ]
  },
  {
   "cell_type": "code",
   "execution_count": null,
   "metadata": {},
   "outputs": [],
   "source": [
    "names = [ '../all_data/emma.txt', 'first_data_read_plot.dat', 'Iamnothere.txt', 'distances_midterm.dat' ]\n",
    "\n",
    "for nm in names:\n",
    "    \n",
    "    try:\n",
    "        fin = open( nm )\n",
    "        print( ' Opened file ', nm )\n",
    "    except:\n",
    "        print( 'File', nm, 'not there' )\n"
   ]
  },
  {
   "cell_type": "markdown",
   "metadata": {},
   "source": [
    "### or you can even circumvent built in errors, e.g.:"
   ]
  },
  {
   "cell_type": "code",
   "execution_count": null,
   "metadata": {},
   "outputs": [],
   "source": [
    "while True:\n",
    "    \n",
    "    i = int( input( \"Give index please\" ) )\n",
    "    \n",
    "    try:  \n",
    "        a = [ 1, 2, 3, 4, 5 ]\n",
    "        print ( a[ i ] )  \n",
    "    except LookupError:  \n",
    "        print (\"Error: list index out of range\")\n",
    "    else:  \n",
    "        print (\"Continue w/o error\")\n",
    "        # bla bla bla....rest of code here\n",
    "        break    # we make it break for now to show it works\n",
    "    \n",
    "# see how while it would typically crash we got it to just give an error message ?"
   ]
  },
  {
   "cell_type": "markdown",
   "metadata": {},
   "source": [
    "# ----------------------"
   ]
  },
  {
   "cell_type": "markdown",
   "metadata": {},
   "source": [
    "### Many languages and programs use logging to keep track of what the code does, so that when it crashes you know what to look for. You can keep a 'log' with print() statements, but that is not ideal. Python offers a built in logging function, you simply need to import it.\n"
   ]
  },
  {
   "cell_type": "markdown",
   "metadata": {},
   "source": [
    "### e.g.,  let's see this code:"
   ]
  },
  {
   "cell_type": "code",
   "execution_count": null,
   "metadata": {},
   "outputs": [],
   "source": [
    "names = [ 'emma.txt', 'first_data_read_plot.dat', 'Iamnothere.txt', 'distances_midterm.dat' ]\n",
    "\n",
    "for nm in names:\n",
    "    \n",
    "    try:\n",
    "        fin = open( nm )\n",
    "        print( ' Opened file ', nm )\n",
    "    except:\n",
    "        print( 'File', nm, 'not there' )\n"
   ]
  },
  {
   "cell_type": "markdown",
   "metadata": {},
   "source": [
    "###  you can easily see where the problem was here, and go back and fix it.....but what if you want to keep a track of 1000s of files, and you have given it to someone else to run,  and it runs in a cluster, and....."
   ]
  },
  {
   "cell_type": "code",
   "execution_count": null,
   "metadata": {},
   "outputs": [],
   "source": [
    "import logging "
   ]
  },
  {
   "cell_type": "markdown",
   "metadata": {},
   "source": [
    "### the logger gives you an interface to provide your log messages. There are different levels of severity of errors you might want to report/log:\n",
    "- debug    ( debug msg )\n",
    "- info     ( information about code )\n",
    "- warnings ( warnings during runtime )\n",
    "- error    ( error msg )\n",
    "- critical ( aka, what killed your code )\n",
    "\n",
    "### For more info see: https://docs.python.org/3/howto/logging.html\n",
    "\n",
    "### Generally, only messages with severity of warning and above are printed"
   ]
  },
  {
   "cell_type": "code",
   "execution_count": null,
   "metadata": {},
   "outputs": [],
   "source": [
    "logging.debug('This is a debug message')\n",
    "logging.info('This is an informative message')\n",
    "logging.warning('This is a warning message')\n",
    "logging.error('This is an error message')\n",
    "logging.critical('This is a critical message')"
   ]
  },
  {
   "cell_type": "markdown",
   "metadata": {},
   "source": [
    "### debug is only needed for someone that debugs and information are not critical to keep track of  --> a typical user of your code shouldn't need to debug, so you don't want to clutter them with info"
   ]
  },
  {
   "cell_type": "code",
   "execution_count": null,
   "metadata": {},
   "outputs": [],
   "source": [
    "# if you now chose to make a log to a file you can use the logger:\n",
    "# good convection to follow (https://docs.python.org/3/howto/logging.html):\n",
    "logger = logging.getLogger(__name__)\n",
    "handler = logging.FileHandler('mylog.log')\n",
    "handler.setLevel(logging.INFO)\n",
    "logger.addHandler(handler)\n",
    "\n",
    "#---then add your messages.\n",
    "#before running, what will be saved in your log?\n",
    "logger.debug('This is a debug message')\n",
    "logger.info('This is an informative message')\n",
    "logger.warning('This is a warning message')\n",
    "logger.error('This is an error message')\n",
    "logger.critical('This is a critical message')"
   ]
  },
  {
   "cell_type": "code",
   "execution_count": null,
   "metadata": {},
   "outputs": [],
   "source": [
    "# you can also decide to add time-stamps which help with debugging \n",
    "# later (based on https://docs.python.org/3/library/logging.html): \n",
    "\n",
    "logger = logging.getLogger(__name__)\n",
    "\n",
    "# create console handler and name and give their levels:\n",
    "c_handler = logging.StreamHandler()\n",
    "f_handler = logging.FileHandler('mylog2.log')\n",
    "c_handler.setLevel(logging.WARNING)\n",
    "f_handler.setLevel(logging.ERROR)\n",
    "\n",
    "# add formatting for messages and timestamps\n",
    "c_format = logging.Formatter('%(name)s - %(levelname)s - %(message)s')\n",
    "f_format = logging.Formatter('%(asctime)s - %(name)s - %(levelname)s - %(message)s')\n",
    "c_handler.setFormatter(c_format)\n",
    "f_handler.setFormatter(f_format)\n",
    "\n",
    "# Add handlers to the logger\n",
    "logger.addHandler(c_handler)\n",
    "logger.addHandler(f_handler)\n",
    "\n",
    "# call logger to write errors etc:\n",
    "logger.debug('This is a debug message')\n",
    "logger.info('This is an informative message')\n",
    "logger.warning('This is a warning message')\n",
    "logger.error('This is an error message')\n",
    "logger.critical('This is a critical message')"
   ]
  },
  {
   "cell_type": "code",
   "execution_count": null,
   "metadata": {},
   "outputs": [],
   "source": []
  },
  {
   "cell_type": "code",
   "execution_count": null,
   "metadata": {},
   "outputs": [],
   "source": []
  },
  {
   "cell_type": "markdown",
   "metadata": {},
   "source": [
    "# -------------------------------------------------------------------\n",
    "# -------------------------------------------------------------------"
   ]
  },
  {
   "cell_type": "code",
   "execution_count": null,
   "metadata": {},
   "outputs": [],
   "source": []
  },
  {
   "cell_type": "code",
   "execution_count": null,
   "metadata": {},
   "outputs": [],
   "source": []
  },
  {
   "cell_type": "markdown",
   "metadata": {},
   "source": [
    "### Let's do some exercises now! "
   ]
  },
  {
   "cell_type": "markdown",
   "metadata": {},
   "source": [
    "### 1. You have lists f1 = [ 2, 12, 56, 42, 64, -4, 8, 42 ] and f2 = [ 5, 64, 34, -23, 42, 12, 0.01, 9 ]. \n",
    "1) Make a function divide( f1, f2) that takes as input two lists and returns a list whose elements are equal to the ratio of f2/f1. \n",
    "\n",
    "2) Turn f1 and f2 into numpy arrays. How can you do the devision? \n",
    "\n",
    "3) Return the index where list f1 equals to -4; and where array f2 is equal to 0.01 .\n",
    "\n",
    "4) Print the n=5 element of f2"
   ]
  },
  {
   "cell_type": "code",
   "execution_count": null,
   "metadata": {},
   "outputs": [],
   "source": []
  },
  {
   "cell_type": "code",
   "execution_count": null,
   "metadata": {},
   "outputs": [],
   "source": []
  },
  {
   "cell_type": "code",
   "execution_count": null,
   "metadata": {},
   "outputs": [],
   "source": []
  },
  {
   "cell_type": "code",
   "execution_count": null,
   "metadata": {},
   "outputs": [],
   "source": []
  },
  {
   "cell_type": "code",
   "execution_count": null,
   "metadata": {},
   "outputs": [],
   "source": []
  },
  {
   "cell_type": "code",
   "execution_count": null,
   "metadata": {},
   "outputs": [],
   "source": []
  },
  {
   "cell_type": "code",
   "execution_count": null,
   "metadata": {},
   "outputs": [],
   "source": []
  },
  {
   "cell_type": "code",
   "execution_count": null,
   "metadata": {},
   "outputs": [],
   "source": []
  },
  {
   "cell_type": "markdown",
   "metadata": {},
   "source": [
    "### 2. Debug the following codes:\n",
    "\n"
   ]
  },
  {
   "cell_type": "code",
   "execution_count": null,
   "metadata": {},
   "outputs": [],
   "source": [
    "def odd_numbers( N ): \n",
    "    \"\"\"Prints all odd numbers up to number N.\n",
    "    Input: N\n",
    "    Output: print of numbers \"\"\"\n",
    "    \n",
    "    q = 0\n",
    "    \n",
    "    while q < N :\n",
    "    if q % 2 = 1:\n",
    "        print( q )\n",
    "        N = N + 1 \n",
    "    return -1 \n",
    "\n",
    "\n",
    "print( odd_numbers( 42 ) )"
   ]
  },
  {
   "cell_type": "code",
   "execution_count": null,
   "metadata": {},
   "outputs": [],
   "source": []
  },
  {
   "cell_type": "code",
   "execution_count": null,
   "metadata": {},
   "outputs": [],
   "source": []
  },
  {
   "cell_type": "code",
   "execution_count": null,
   "metadata": {},
   "outputs": [],
   "source": [
    "def end_of_year_interest( N, deposits_list ) :\n",
    "    \"\"\"Function that calculates the interest (assumed 4% ) gained per year for M years and \n",
    "    prints the total balance of savings account at the end of each year. \n",
    "    Input: N (interest in %), deposits_list (list with deposit $ for years 1 to M) \n",
    "    Output: total savings amount for years 1 to M \"\"\"\n",
    "    \n",
    "    year_interest = []\n",
    "    year_total    = []\n",
    "    \n",
    "    \n",
    "    year_interest = [ deposits_list[ 0 ] *  N / 100.   ]\n",
    "    year_total = [ deposits_list[ 0 ] *  1 + N / 100.  ]\n",
    "    \n",
    "    for i in range( 1, len( deposits_list ) ):\n",
    "        \n",
    "        interest_i   = ( year_total[ i-1 ] + deposits_list[ i ] ) *  N / 100. \n",
    "        year_total_i =  (year_total[ i -1 ] + deposits_list[ i ])  *  1 + N / 100. )\n",
    "    \n",
    "        year_interest.append( interest_i )\n",
    "        year_total.append( year_total_i \n",
    "    \n",
    "    return year_total"
   ]
  },
  {
   "cell_type": "code",
   "execution_count": null,
   "metadata": {},
   "outputs": [],
   "source": []
  },
  {
   "cell_type": "markdown",
   "metadata": {},
   "source": [
    "### 3. Create a code that tells you what color your observed light is. The code should read in your log of \"observations\" from *my_observations.dat* and print out the color of each observation ('red', 'infrared', 'green' etc) and the corresponding energy of the light (remember that E = h c / $\\lambda$ , with h = 6.62607004e-34 [m2 kg / s ]  and c =3e8 [m/s] ; also 1nm = 1e-9 [m] ). \n",
    "#### For your convenience the following image shows the wavelengths range of each color. Everything with  $\\lambda$ > 700 nm you can label Infrared and everything with  $\\lambda$ < 400 nm Utraviolet.\n",
    "\n",
    "<img src=\"colors_wavs.png\" width=350 height=350 />\n",
    "source: https://en.wikipedia.org/wiki/Color "
   ]
  },
  {
   "cell_type": "code",
   "execution_count": null,
   "metadata": {},
   "outputs": [],
   "source": []
  },
  {
   "cell_type": "code",
   "execution_count": null,
   "metadata": {},
   "outputs": [],
   "source": []
  },
  {
   "cell_type": "markdown",
   "metadata": {},
   "source": [
    "### 4. Using the information from the kepler_3d function, make a function called exo_kepler_3rd(period, m_star) that gets as input the orbital period of a planet in years and the mass of its parent star, and returns the orbital distance of the planet. Since the mass of the star (Ms) could be different than that of the Sun, Kepler’s 3rd law now will be approximated by:  ${M_s\\times P}^2 \\sim \\alpha^3$ (so $\\frac{M_1}{M_2} \\times \\frac{P_1}{P_2}^2=\\frac{\\alpha_1}{\\alpha_2}^3 $). Use the properties of our Sun (1 $M_o$) and Earth (1 $M_E$) as the point of reference. Write an appropriate docstring. Call exo_kepler_3rd  for the following exoplanets:\n",
    "\n",
    "\n",
    "\n",
    "Planet | Period [days]  | Parent star mass (solar masses)\n",
    "--|:---------:|:---------:\n",
    "HR8799c\t| 232 Earth years | 1.47\n",
    "NGTS-10b\t| 0.76  | 0.696\n",
    "GJ1214b\t| 1.58 | 0.176\n",
    "\n",
    "\n",
    "\n",
    "### What does the distance of these planets to their parent star imply for the conditions of these planets?"
   ]
  },
  {
   "cell_type": "code",
   "execution_count": null,
   "metadata": {},
   "outputs": [],
   "source": []
  },
  {
   "cell_type": "code",
   "execution_count": null,
   "metadata": {},
   "outputs": [],
   "source": []
  },
  {
   "cell_type": "code",
   "execution_count": null,
   "metadata": {},
   "outputs": [],
   "source": []
  },
  {
   "cell_type": "markdown",
   "metadata": {},
   "source": [
    "### 5. In real life you will come across other people's code many times. And often it will be buggy and you will need to understand what the code was supposed to do, and fix it so that it does do what it was supposed to. \n",
    "### Go to https://colab.research.google.com/drive/1lGjSv4inSuYzoo9lewXvy0KH7XLvris5 . The code is full of bugs. Debug!"
   ]
  },
  {
   "cell_type": "code",
   "execution_count": null,
   "metadata": {},
   "outputs": [],
   "source": []
  },
  {
   "cell_type": "code",
   "execution_count": null,
   "metadata": {},
   "outputs": [],
   "source": []
  },
  {
   "cell_type": "code",
   "execution_count": null,
   "metadata": {},
   "outputs": [],
   "source": []
  },
  {
   "cell_type": "code",
   "execution_count": null,
   "metadata": {},
   "outputs": [],
   "source": []
  },
  {
   "cell_type": "code",
   "execution_count": null,
   "metadata": {},
   "outputs": [],
   "source": []
  },
  {
   "cell_type": "markdown",
   "metadata": {},
   "source": [
    "### 6. Make a numpy array x equal to linspace(12, 46, 100). Make array y equal to $sin(\\frac{2\\pi x}{16})*cos(\\frac{2\\pi x}{8})$ and an array z equal to $cos(\\frac{\\pi x}{9})*sin(\\frac{\\pi x}{6})$. \n",
    "\n",
    "- Plot y(x) and z(x) for 20<x<40. \n",
    " \n",
    "- Scan arrays x,y and z and print the elements of x and y where both y and z are positive.\n",
    "\n",
    "- Make two 2D arrays of zeros: data and data2, both with sizes equal to (length of x, length of y). \n",
    "\n",
    "- Use a double for loop to populate arrays data and data2. data[i,j] should be equal to y[i]*z[j] and data2[i,j] equal to y[i]/z[j]. \n",
    "\n",
    "- In one line (not for loop), print z where y is positive and less than 0.4. In one line, print data where y is positive and less than 0.2 in the x dimension and where z is negative and larger than -0.16 in the y dimension.\n"
   ]
  },
  {
   "cell_type": "code",
   "execution_count": null,
   "metadata": {},
   "outputs": [],
   "source": []
  }
 ],
 "metadata": {
  "kernelspec": {
   "display_name": "Python 3 (ipykernel)",
   "language": "python",
   "name": "python3"
  },
  "language_info": {
   "codemirror_mode": {
    "name": "ipython",
    "version": 3
   },
   "file_extension": ".py",
   "mimetype": "text/x-python",
   "name": "python",
   "nbconvert_exporter": "python",
   "pygments_lexer": "ipython3",
   "version": "3.9.12"
  }
 },
 "nbformat": 4,
 "nbformat_minor": 2
}
