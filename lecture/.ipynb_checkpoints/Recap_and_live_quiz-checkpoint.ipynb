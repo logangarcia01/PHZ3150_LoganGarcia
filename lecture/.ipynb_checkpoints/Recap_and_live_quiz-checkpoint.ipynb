{
 "cells": [
  {
   "cell_type": "code",
   "execution_count": 1,
   "id": "eea84912",
   "metadata": {},
   "outputs": [],
   "source": [
    "import numpy as np\n",
    "import matplotlib.pyplot as plt"
   ]
  },
  {
   "cell_type": "markdown",
   "id": "24bcc286",
   "metadata": {},
   "source": [
    "### Functions that you will use more than once and from different notebooks should always go in a seprate text file that you save as .py. \n",
    "\n",
    "- You import it as **from filename import functionname**. E.g., if you stored function read_data(input) in midterm_tkar_support_function.py you will use:  \n",
    "    **from midterm_tkar_support_function import read_data** </br>\n",
    "    (Note: the .py extention of the file is not used and the () calling of the function is not used either) \n",
    "\n",
    "- If you change the file after you imported for the first time a new import will not see the updates\n",
    "\n",
    "- restart the kernel and import file to see the new status of the .py file [for future reference, when you work with more complex problems: you can circumvent this with reload/autoreload]"
   ]
  },
  {
   "cell_type": "markdown",
   "id": "ce0b493b",
   "metadata": {},
   "source": [
    "### Start file testing_functions.py. \n",
    "\n",
    "### 1. You are given dictionary *classroom* with the names of students and their average grades. Make a function student_grades that takes as input the dictionary, scans through the names and prints an informative sentence with the letter grade for every student (assume plain ABC with A if grade is >0.90 ; B if grade 0.90> n > 0.80 and C if grade < 0.80).  Store it in testing_functions.py. Import it here and call it for the following classroom dictionary."
   ]
  },
  {
   "cell_type": "code",
   "execution_count": null,
   "id": "d8fcc294",
   "metadata": {},
   "outputs": [],
   "source": [
    "classroom = { 'Jane': 0.92 , 'Joe': 0.85, 'Petra': 0.78, 'Peter': 0.81 }"
   ]
  },
  {
   "cell_type": "code",
   "execution_count": null,
   "id": "c82bcdb0",
   "metadata": {},
   "outputs": [],
   "source": []
  },
  {
   "cell_type": "code",
   "execution_count": null,
   "id": "400d723d",
   "metadata": {},
   "outputs": [],
   "source": [
    "#import the function: Quiz 1"
   ]
  },
  {
   "cell_type": "code",
   "execution_count": null,
   "id": "ccba0e5d",
   "metadata": {},
   "outputs": [],
   "source": []
  },
  {
   "cell_type": "code",
   "execution_count": null,
   "id": "49866d26",
   "metadata": {},
   "outputs": [],
   "source": []
  },
  {
   "cell_type": "markdown",
   "id": "a5006686",
   "metadata": {},
   "source": [
    "### 2. You have three equal size arrays:\n",
    "a = np.array( [0.685,0.997,0.412,0.238,0.188,0.184,0.857,0.874,0.7832,0.9430,0.1382, 0.800,0.5598,0.875,0.346,0.522,0.150, 0.468,0.949,0.848,0.484 ,0.099,0.754,0.522,0.239, 0.8497,0.9835,0.6153,0.1569,0.753,0.874,0.234,0.312,0.746,0.5469,0.052,0.532 ] )\n",
    "\n",
    "b = np.array( [ 0.235,-0.077,0.508,0.682,0.732,0.736,0.063,0.046,0.1368,-0.023,0.7818, 0.12,0.3602,0.045,0.574,0.398,0.77,0.452,-0.029,0.072,0.436,0.821,0.166,0.398,0.681,0.0703, -0.0635,0.3047,0.7631,0.167,0.046,0.686,0.608,0.174,0.3731,0.868,0.388 ] )\n",
    "\n",
    "c = np.array( [ 0.08, 0.042, 0.2, 0.08, 0.12, 0.02,0.08, 0.84, 0.032, 0.02,0.04,0.16, 0.18, 0.64, 0.08, 0.32, 0.005,-0.053, 0.82, 0.071, 0.032, 0.0, 0.315, 0.043, 0.007, 0.08, 0.08, 0.03, 0.08, 0.074, -0.43, 0.08, 0.009, 0.008, 0.182, 0.08, 0.02 ] )\n",
    "\n",
    "In testing_functions.py make a function that takes as input the three arrays and returns an array d whose elements are equal to a+c ONLY where b>0. Import the function here. Make a publication ready plot of: a vs b where b> 0 and d vs b in the same plot. You should use different colors and markers for the two data to make them distinguishable.\n"
   ]
  },
  {
   "cell_type": "code",
   "execution_count": null,
   "id": "c3db7004",
   "metadata": {},
   "outputs": [],
   "source": []
  },
  {
   "cell_type": "code",
   "execution_count": null,
   "id": "2cec371c",
   "metadata": {},
   "outputs": [],
   "source": []
  },
  {
   "cell_type": "code",
   "execution_count": null,
   "id": "8751d9f3",
   "metadata": {},
   "outputs": [],
   "source": []
  },
  {
   "cell_type": "markdown",
   "id": "813378e0",
   "metadata": {},
   "source": [
    "### Accessing elements of arrays, lists, tuples, dictionaries,...is done with name[ ]. The name( ) is reserved for calling of functions only! \n",
    "\n",
    "### Possible confusion with \n",
    "    - test1 = [ 1, 2, 3 ] ==> list\n",
    "    - test2 = ( 1, 2, 3 ) ==> tuple\n",
    "### but note that in this case we define the variable test1 = [ ] or ( ). If you use test1[ ] you will access element(s) of test1 (e.g., test1[ 0 ] ) while if you try test1( 0 ) python will crash because it understands you call function test1, and test1 is a list."
   ]
  },
  {
   "cell_type": "markdown",
   "id": "45d766ab",
   "metadata": {},
   "source": [
    "### 3. The spectrum of a star can be well approximated using the assumption that the star is a black body. A black body is an idealized object that emits thermal radiation in a continuum spectrum (i.e. at all wavelengths) according to its temperature. According to Planck’s law a black body (here our star) of temperature T emits energy per unit wavelength $\\lambda$ of: \n",
    "\n",
    "### $B(\\lambda,T )$ = $\\frac{2 h c^2}{ \\lambda^5}$ $\\frac{1}{ e^{\\frac{hc}{\\lambda k_B T} } -1 }$,  \n",
    "\n",
    "\n",
    "\n",
    "### where c is the speed of light, h is the Planck constant and $k_B$ the Boltzmann constant. Make a function *star* that takes as input the temperature of a star and the wavelength range over which you want to calculate the black body spectrum and returns the star spectrum. Remember that: $c = 3*10^8$ m/s, $h = 6.626 * 10^{-34}$ $\\mathrm{kg} m^2/s$ and $k_B = 1.38 * 10^{-23} $ $\\mathrm{kg} m^2/s^2/K$ . \n",
    "\n",
    "### Make an array of the wavelengths *wav_bb* going from 0.1 to 25.1 microns with a step of 0.1. \n",
    "- Call the function for a body of temperature 3,000K, 7,000K and 12,000K. \n",
    "- Print the flux of the BB for wavelengths between 1.0 and 1.4 microns.\n",
    "- Plot the two spectra using a logarithmic y axis and a double logarithmic axis.\n",
    "\n",
    "\n",
    "\n"
   ]
  },
  {
   "cell_type": "code",
   "execution_count": null,
   "id": "7c862781",
   "metadata": {},
   "outputs": [],
   "source": [
    "#make the function:"
   ]
  },
  {
   "cell_type": "code",
   "execution_count": null,
   "id": "e57e1f1f",
   "metadata": {},
   "outputs": [],
   "source": []
  },
  {
   "cell_type": "code",
   "execution_count": 2,
   "id": "9ed0c9b6",
   "metadata": {},
   "outputs": [],
   "source": [
    "# call the function:"
   ]
  },
  {
   "cell_type": "code",
   "execution_count": null,
   "id": "729072a6",
   "metadata": {},
   "outputs": [],
   "source": []
  },
  {
   "cell_type": "code",
   "execution_count": null,
   "id": "33678701",
   "metadata": {},
   "outputs": [],
   "source": [
    "# print the BB flux:"
   ]
  },
  {
   "cell_type": "code",
   "execution_count": null,
   "id": "003f20bd",
   "metadata": {},
   "outputs": [],
   "source": [
    "## Quiz 2"
   ]
  },
  {
   "cell_type": "code",
   "execution_count": null,
   "id": "a6afba29",
   "metadata": {},
   "outputs": [],
   "source": []
  },
  {
   "cell_type": "code",
   "execution_count": null,
   "id": "35ee3d15",
   "metadata": {},
   "outputs": [],
   "source": []
  },
  {
   "cell_type": "markdown",
   "id": "91e849bf",
   "metadata": {},
   "source": [
    "### When accessing elements remember that the way we do this is [ start_index, end-not-include_index, step_of ]. Assume we have array_1 with 4 lines and 4 columns:\n",
    "- If we want to include all indices in one dimension we use :  (e.g., array_1[ :, 0 ] is all 4 lines of column 0 )\n",
    "- If we want to start at start and end in index N we use  : N  (e.g., array_1[ :2, 0 ] is lines 0 and 1 of column 0 )\n",
    "- If we want to start at index N and end at end we use  N :    (e.g., array_1[1: , 0 ] is lines 1, 2 and 3 of column 0) "
   ]
  },
  {
   "cell_type": "markdown",
   "id": "2f72ef1b",
   "metadata": {},
   "source": [
    "### 4. You are given student data below. First column is student ID, second is student total quiz grade, third is total hw grade and fourth is exam grade. \n",
    "- How do you get the exam grades of all students?\n",
    "- How do you get all grades of student 2203? \n",
    "- How do you get the homework and exam grade of student 2205?\n",
    "- How do you get the quiz and hw grades of students 2203,2204 and 2205?"
   ]
  },
  {
   "cell_type": "code",
   "execution_count": 5,
   "id": "a45ac807",
   "metadata": {},
   "outputs": [],
   "source": [
    "#                           ID    Qz   HW   Exam  \n",
    "student_data = np.array( [ [2201, 8.1, 8.4, 8.2 ],\n",
    "                           [2202, 7.5, 7.0, 7.3 ],\n",
    "                           [2203, 7.9, 8.5, 8.4 ],\n",
    "                           [2204, 9.5, 9.7, 9.7 ],\n",
    "                           [2205, 5.3, 6.0, 7.9 ],\n",
    "                           [2206, 5.1, 7.1, 6.8 ] ] )"
   ]
  },
  {
   "cell_type": "code",
   "execution_count": 4,
   "id": "b1bb314c",
   "metadata": {},
   "outputs": [],
   "source": [
    "#get exam grades of all students:  Quiz 3"
   ]
  },
  {
   "cell_type": "code",
   "execution_count": null,
   "id": "062505bb",
   "metadata": {},
   "outputs": [],
   "source": []
  },
  {
   "cell_type": "code",
   "execution_count": null,
   "id": "6ef40779",
   "metadata": {},
   "outputs": [],
   "source": [
    "# get all grades of student 2203:"
   ]
  },
  {
   "cell_type": "code",
   "execution_count": null,
   "id": "e6ff829c",
   "metadata": {},
   "outputs": [],
   "source": []
  },
  {
   "cell_type": "code",
   "execution_count": null,
   "id": "4c9b928c",
   "metadata": {},
   "outputs": [],
   "source": [
    "#get hw and exam grade of 2205: Quiz 4"
   ]
  },
  {
   "cell_type": "code",
   "execution_count": null,
   "id": "a924d5e1",
   "metadata": {},
   "outputs": [],
   "source": []
  },
  {
   "cell_type": "code",
   "execution_count": 8,
   "id": "d6ac79e3",
   "metadata": {},
   "outputs": [],
   "source": [
    "# get quiz and hm of  students 2203,2204 and 2205 : Quiz 5"
   ]
  },
  {
   "cell_type": "code",
   "execution_count": null,
   "id": "abd29169",
   "metadata": {},
   "outputs": [],
   "source": []
  }
 ],
 "metadata": {
  "kernelspec": {
   "display_name": "Python 3 (ipykernel)",
   "language": "python",
   "name": "python3"
  },
  "language_info": {
   "codemirror_mode": {
    "name": "ipython",
    "version": 3
   },
   "file_extension": ".py",
   "mimetype": "text/x-python",
   "name": "python",
   "nbconvert_exporter": "python",
   "pygments_lexer": "ipython3",
   "version": "3.9.12"
  }
 },
 "nbformat": 4,
 "nbformat_minor": 5
}
