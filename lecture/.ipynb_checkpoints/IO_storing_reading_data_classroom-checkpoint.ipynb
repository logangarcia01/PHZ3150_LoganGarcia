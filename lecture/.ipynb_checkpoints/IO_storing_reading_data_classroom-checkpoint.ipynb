{
 "cells": [
  {
   "cell_type": "markdown",
   "metadata": {},
   "source": [
    "# I/O, storing and reading data"
   ]
  },
  {
   "cell_type": "code",
   "execution_count": null,
   "metadata": {},
   "outputs": [],
   "source": []
  },
  {
   "cell_type": "code",
   "execution_count": 1,
   "metadata": {},
   "outputs": [],
   "source": [
    "import numpy as np"
   ]
  },
  {
   "cell_type": "markdown",
   "metadata": {},
   "source": [
    "### Usually the slowest part of codes is the Input/Output part. Careful how many times you do I/O operations\n"
   ]
  },
  {
   "cell_type": "markdown",
   "metadata": {},
   "source": [
    "### for example, compare the time it takes to read this:"
   ]
  },
  {
   "cell_type": "code",
   "execution_count": 2,
   "metadata": {},
   "outputs": [],
   "source": [
    "cf = np.zeros(10663)"
   ]
  },
  {
   "cell_type": "code",
   "execution_count": 3,
   "metadata": {
    "scrolled": false
   },
   "outputs": [
    {
     "name": "stdout",
     "output_type": "stream",
     "text": [
      "CPU times: total: 15.6 ms\n",
      "Wall time: 10 ms\n"
     ]
    }
   ],
   "source": [
    "%%time\n",
    "\n",
    "with open('10k_file.dat', 'r') as f:\n",
    "    j = 0\n",
    "    for line in f:\n",
    "        p = line.split()\n",
    "        cf[ j ] = p[4]\n",
    "        j = j + 1\n",
    "        \n"
   ]
  },
  {
   "cell_type": "markdown",
   "metadata": {},
   "source": [
    "### versus: "
   ]
  },
  {
   "cell_type": "code",
   "execution_count": 4,
   "metadata": {},
   "outputs": [
    {
     "name": "stdout",
     "output_type": "stream",
     "text": [
      "CPU times: total: 0 ns\n",
      "Wall time: 2.03 ms\n"
     ]
    }
   ],
   "source": [
    "%%time\n",
    "f = open('10k_file.dat','r')  \n",
    "my_text = f.read()               \n",
    "f.close()                        "
   ]
  },
  {
   "cell_type": "code",
   "execution_count": null,
   "metadata": {},
   "outputs": [],
   "source": []
  },
  {
   "cell_type": "markdown",
   "metadata": {},
   "source": [
    "### You can open a file to:\n",
    "\n",
    "read: f = open(‘my_file’, ‘r’)\n",
    "\n",
    "write: f = open(‘my_file’, ‘w’)\n",
    "\n",
    "append: f = open(‘my_file’, ‘a’)\n",
    "\n",
    "read/write: f = open(‘my_file’, ‘r+’)\n",
    "\n"
   ]
  },
  {
   "cell_type": "markdown",
   "metadata": {},
   "source": [
    "#### -----------------------"
   ]
  },
  {
   "cell_type": "markdown",
   "metadata": {},
   "source": [
    "### After you open a file you can do things with the data you read in:\n"
   ]
  },
  {
   "cell_type": "markdown",
   "metadata": {},
   "source": [
    "### read everything in one go: f.read()\n"
   ]
  },
  {
   "cell_type": "markdown",
   "metadata": {},
   "source": [
    "### read line by line: f.readline()\n",
    "\n",
    "### Don’t forget to eventually close your file: f.close()\n"
   ]
  },
  {
   "cell_type": "code",
   "execution_count": null,
   "metadata": {},
   "outputs": [],
   "source": []
  },
  {
   "cell_type": "markdown",
   "metadata": {},
   "source": [
    "### Note that after closing the file the f. is released from memory and trying to access it to do anything will give you an error.\n",
    "\n",
    "\n",
    "### Better practice for working with a file:\n",
    "\n",
    "with open(‘my_file') as f: <br>\n",
    "------ do things here>\n",
    "\n",
    "file is closed\n"
   ]
  },
  {
   "cell_type": "code",
   "execution_count": null,
   "metadata": {},
   "outputs": [],
   "source": []
  },
  {
   "cell_type": "markdown",
   "metadata": {},
   "source": [
    "### Let's try it out:"
   ]
  },
  {
   "cell_type": "markdown",
   "metadata": {},
   "source": [
    "#### Let's start by reading in a random text file, all in one go:"
   ]
  },
  {
   "cell_type": "code",
   "execution_count": null,
   "metadata": {},
   "outputs": [],
   "source": [
    "f = open('text_from_your_book.txt','r')  # open the file in read ('r') mode under name 'f'\n",
    "my_text = f.read()               # read all of f ( f.read() ) in variable my_text\n",
    "f.close()                        # close the file f"
   ]
  },
  {
   "cell_type": "code",
   "execution_count": null,
   "metadata": {},
   "outputs": [],
   "source": []
  },
  {
   "cell_type": "code",
   "execution_count": null,
   "metadata": {},
   "outputs": [],
   "source": [
    "#let's see what we read:\n",
    "\n",
    "print(my_text)"
   ]
  },
  {
   "cell_type": "code",
   "execution_count": null,
   "metadata": {},
   "outputs": [],
   "source": [
    "#try:\n",
    "print( f )"
   ]
  },
  {
   "cell_type": "markdown",
   "metadata": {},
   "source": [
    "### it worked!"
   ]
  },
  {
   "cell_type": "markdown",
   "metadata": {},
   "source": [
    "### Now let's try the readline():"
   ]
  },
  {
   "cell_type": "code",
   "execution_count": null,
   "metadata": {},
   "outputs": [],
   "source": [
    "f = open('text_from_your_book.txt','r')   # open the file in read ('r') mode under name 'f'\n",
    " \n",
    "print( f.readline() )             # read a line of f ( f. readline() ) and print it\n",
    "print( f.readline() )             # read another line of f\n",
    "\n",
    "f.close()                         # close the file f"
   ]
  },
  {
   "cell_type": "code",
   "execution_count": null,
   "metadata": {},
   "outputs": [],
   "source": [
    "f.readline()"
   ]
  },
  {
   "cell_type": "code",
   "execution_count": null,
   "metadata": {},
   "outputs": [],
   "source": [
    "#What does readline() do?"
   ]
  },
  {
   "cell_type": "code",
   "execution_count": null,
   "metadata": {},
   "outputs": [],
   "source": []
  },
  {
   "cell_type": "markdown",
   "metadata": {},
   "source": [
    "### now let's open it with the *with open() as f* and read it line by line:"
   ]
  },
  {
   "cell_type": "code",
   "execution_count": null,
   "metadata": {},
   "outputs": [],
   "source": [
    "with open(\"text_from_your_book.txt\", \"r\") as f:   # we again open the file as f\n",
    "    for line in f:                        # we now loop f line by line\n",
    "        print( line )                       # and we print the line we just read"
   ]
  },
  {
   "cell_type": "code",
   "execution_count": null,
   "metadata": {},
   "outputs": [],
   "source": []
  },
  {
   "cell_type": "markdown",
   "metadata": {},
   "source": [
    "### What if we want to split the lines into their elements to use them for some reason?"
   ]
  },
  {
   "cell_type": "code",
   "execution_count": null,
   "metadata": {},
   "outputs": [],
   "source": [
    "with open(\"text_from_your_book.txt\", \"r\") as f:  # open file as f\n",
    "    for line in f:                       # start looping the file line by line \n",
    "        q = line.split()                 # split the line in its parts ( split() - delimeter space )\n",
    "        print ( q )                      # print it\n",
    "\n",
    "        if q[0] == 'they':               # if the first word in the line is 'they' :\n",
    "            break                        # break out of the loop\n"
   ]
  },
  {
   "cell_type": "code",
   "execution_count": null,
   "metadata": {},
   "outputs": [],
   "source": [
    "# what happens if I ask it to print:\n",
    "print( q[ 0 ], q[ 3 ] )\n",
    "# and why?"
   ]
  },
  {
   "cell_type": "code",
   "execution_count": null,
   "metadata": {},
   "outputs": [],
   "source": []
  },
  {
   "cell_type": "markdown",
   "metadata": {},
   "source": [
    "### Now lets try to write our first file:"
   ]
  },
  {
   "cell_type": "code",
   "execution_count": null,
   "metadata": {},
   "outputs": [],
   "source": [
    "f = open('my_first_writen_file.txt','w')                # open a file in write mode ( 'w' )\n",
    "\n",
    "f.write('This is my first written and saved line! \\n')  # write something in the file \n",
    "\n",
    "f.close()                                               # close the file"
   ]
  },
  {
   "cell_type": "code",
   "execution_count": null,
   "metadata": {},
   "outputs": [],
   "source": []
  },
  {
   "cell_type": "markdown",
   "metadata": {},
   "source": [
    "### try to open the file to read it in and see what you just did:"
   ]
  },
  {
   "cell_type": "code",
   "execution_count": null,
   "metadata": {},
   "outputs": [],
   "source": [
    "with open('my_first_writen_file.txt','r') as f:\n",
    "    a = f.read()  \n",
    "\n",
    "print( a )   # it worked!"
   ]
  },
  {
   "cell_type": "code",
   "execution_count": null,
   "metadata": {},
   "outputs": [],
   "source": []
  },
  {
   "cell_type": "markdown",
   "metadata": {},
   "source": [
    "### Now let's go back to this file and open it in read/write mode:"
   ]
  },
  {
   "cell_type": "code",
   "execution_count": null,
   "metadata": {},
   "outputs": [],
   "source": [
    "f = open('my_first_writen_file.txt','r+')   # open the file in read/write mode ('r+')\n",
    "\n",
    "my_text = f.read()                          # read the file into my_text\n",
    "\n",
    "f.write('oh oh! what did I just do? \\n ')   # write something in the file; \\n for new line\n",
    "\n",
    "f.close()                                   # close the file\n",
    "\n",
    "\n",
    "print(my_text)                              # print my_text"
   ]
  },
  {
   "cell_type": "markdown",
   "metadata": {},
   "source": [
    "### let's open it again and see what we did:"
   ]
  },
  {
   "cell_type": "code",
   "execution_count": null,
   "metadata": {},
   "outputs": [],
   "source": [
    "f = open('my_first_writen_file.txt','r')\n",
    " \n",
    "my_text = f.read() \n",
    "\n",
    "print(my_text)\n",
    "\n",
    "f.close()  \n",
    "#it worked! we read a file and wrote something at the end."
   ]
  },
  {
   "cell_type": "markdown",
   "metadata": {},
   "source": [
    "### why do we need the \\n ? Let's open the file again and add 2 new lines:"
   ]
  },
  {
   "cell_type": "code",
   "execution_count": null,
   "metadata": {},
   "outputs": [],
   "source": [
    "f = open('my_first_writen_file.txt','r+')   # open the file in read/write mode ('r+')\n",
    "\n",
    "my_text = f.read()                          # read the file into my_text\n",
    "\n",
    "f.write( 'What would happen if I forget ' )\n",
    "f.write( 'to add a new line ? ')\n",
    "f.close()                                   # close the file\n",
    "\n",
    "\n",
    "### now let's read it in again and see what we did:\n",
    "f = open('my_first_writen_file.txt','r')\n",
    "my_text = f.read() \n",
    "f.close()  \n",
    "print( my_text )"
   ]
  },
  {
   "cell_type": "markdown",
   "metadata": {},
   "source": [
    "### oops! I wanted it in 2 lines and it just wrote it in 1 ! Let's try again with the \\n :"
   ]
  },
  {
   "cell_type": "code",
   "execution_count": null,
   "metadata": {},
   "outputs": [],
   "source": [
    "f = open('my_first_writen_file.txt','r+')   # open the file in read/write mode ('r+')\n",
    "\n",
    "my_text = f.read()                          # read the file into my_text\n",
    "\n",
    "f.write( \"What would happen if I wouldn't forget \\n\" )\n",
    "f.write( 'to add a new line ? \\n ')\n",
    "f.close()                                   # close the file\n",
    "\n",
    "\n",
    "### now let's read it in again and see what we did:\n",
    "f = open('my_first_writen_file.txt','r')\n",
    "my_text = f.read() \n",
    "f.close()  \n",
    "print(my_text)"
   ]
  },
  {
   "cell_type": "markdown",
   "metadata": {},
   "source": [
    "### See what happened? "
   ]
  },
  {
   "cell_type": "code",
   "execution_count": null,
   "metadata": {},
   "outputs": [],
   "source": []
  },
  {
   "cell_type": "markdown",
   "metadata": {},
   "source": [
    "### How you open a file is crucial. Make sure you always check before you run a code.\n",
    "\n",
    "e.g.,"
   ]
  },
  {
   "cell_type": "code",
   "execution_count": null,
   "metadata": {},
   "outputs": [],
   "source": [
    "#Let's open it one more time to write on it again:\n",
    "f = open('my_first_writen_file.txt','w')\n",
    "f.write('And I will add this line as well now! \\n')\n",
    "f.close()\n",
    "\n",
    "# and let's open and read it again:\n",
    "f = open('my_first_writen_file.txt','r')\n",
    "my_text = f.read() \n",
    "f.close()   \n",
    "\n",
    "print(my_text) "
   ]
  },
  {
   "cell_type": "markdown",
   "metadata": {},
   "source": [
    "### !!!oops! I completely erased the previous text! Can you see why that happened?"
   ]
  },
  {
   "cell_type": "code",
   "execution_count": null,
   "metadata": {},
   "outputs": [],
   "source": []
  },
  {
   "cell_type": "code",
   "execution_count": null,
   "metadata": {},
   "outputs": [],
   "source": [
    "#### Let's fall back to the initial file:\n",
    "\n",
    "f = open('my_first_writen_file.txt','w')      # open a file in write mode ( 'w' )\n",
    "\n",
    "f.write('This is my first written line! \\n')  # write something in the file \n",
    "f.write( 'oh oh! what did I just do? \\n' )\n",
    "f.close()                                     # close the file"
   ]
  },
  {
   "cell_type": "markdown",
   "metadata": {},
   "source": [
    "### now lets open the file again to append a line:"
   ]
  },
  {
   "cell_type": "code",
   "execution_count": null,
   "metadata": {},
   "outputs": [],
   "source": [
    "f = open ('my_first_writen_file.txt','a')         # open the file in appending ('a') mode\n",
    "f.write('and this is the other line I wrote! \\n') # write a line\n",
    "f.close()                                         # close the file"
   ]
  },
  {
   "cell_type": "code",
   "execution_count": null,
   "metadata": {},
   "outputs": [],
   "source": [
    "# and let's open and read it again:\n",
    "f = open('my_first_writen_file.txt','r')\n",
    "my_text = f.read() \n",
    "f.close()   \n",
    "\n",
    "print(my_text) "
   ]
  },
  {
   "cell_type": "code",
   "execution_count": null,
   "metadata": {},
   "outputs": [],
   "source": []
  },
  {
   "cell_type": "code",
   "execution_count": null,
   "metadata": {},
   "outputs": [],
   "source": []
  },
  {
   "cell_type": "markdown",
   "metadata": {},
   "source": [
    "### Example 1: Open and read the first 3 lines of file emma.txt; split the lines in the words they are made of. \n",
    "- Discuss: how do we open the file to read the first 3 lines only?\n",
    "- how do we split the lines in the words they are made of?\n",
    "- code!"
   ]
  },
  {
   "cell_type": "code",
   "execution_count": null,
   "metadata": {},
   "outputs": [],
   "source": []
  },
  {
   "cell_type": "code",
   "execution_count": null,
   "metadata": {},
   "outputs": [],
   "source": []
  },
  {
   "cell_type": "markdown",
   "metadata": {},
   "source": [
    "### Example 2: Now read all of Emma and split it in the words its made of. Then count how many 'the' and how many 'Emma' exist in the book.\n",
    "- Discuss: how do we read the whole book in one go?\n",
    "- how do we split the whole book in words?\n",
    "- how do we count how many 'the' and 'Emma's exist?"
   ]
  },
  {
   "cell_type": "code",
   "execution_count": null,
   "metadata": {},
   "outputs": [],
   "source": []
  },
  {
   "cell_type": "markdown",
   "metadata": {},
   "source": [
    "# -----------------------"
   ]
  },
  {
   "cell_type": "markdown",
   "metadata": {},
   "source": [
    "## np.savetxt()"
   ]
  },
  {
   "cell_type": "markdown",
   "metadata": {},
   "source": [
    "### What about having to deal with data instead of text?"
   ]
  },
  {
   "cell_type": "code",
   "execution_count": null,
   "metadata": {},
   "outputs": [],
   "source": [
    "#### Let's create a 3 by 3 data array of 1s\n",
    "\n",
    "data = np.ones ( ( 3 ,3 ) )\n"
   ]
  },
  {
   "cell_type": "markdown",
   "metadata": {},
   "source": [
    "### How do we write the data in the file?"
   ]
  },
  {
   "cell_type": "code",
   "execution_count": null,
   "metadata": {},
   "outputs": [],
   "source": [
    "# one way to do it would be to add it as an appended string:\n",
    "\n",
    "f = open('my_first_writen_file.txt','a')\n",
    "\n",
    "for i in range(3):\n",
    "    f.write(str(data[i,:])+'\\n')   #note that with the f.write you need to convert the data to a string\n",
    "                                   #if you keep it an array the code will crash/complain\n",
    "f.close()\n"
   ]
  },
  {
   "cell_type": "code",
   "execution_count": null,
   "metadata": {},
   "outputs": [],
   "source": [
    "# and let's open and read it again:\n",
    "f = open('my_first_writen_file.txt','r')\n",
    "my_text = f.read() \n",
    "f.close()   \n",
    "\n",
    "print( my_text ) "
   ]
  },
  {
   "cell_type": "markdown",
   "metadata": {},
   "source": [
    "### what if we want to save the real data as nunbers? \n",
    "### We saw how easy it is to read data with numpy (loadtxt or genfromtxt). How does it work to write data?  np.savetxt()"
   ]
  },
  {
   "cell_type": "code",
   "execution_count": null,
   "metadata": {},
   "outputs": [],
   "source": [
    "#Let's try it out first on its own:\n",
    "\n",
    "np.savetxt('my_first_numpy_array_saved.txt', data, \n",
    "           fmt='%.2f', delimiter=' ')              #notice that you can use fmt to format your output\n",
    "                    \n",
    "\n",
    "#let's check what we did:\n",
    "f = open('my_first_numpy_array_saved.txt','r')\n",
    "a = f.read()\n",
    "f.close()\n",
    "\n",
    "print( a ) "
   ]
  },
  {
   "cell_type": "code",
   "execution_count": null,
   "metadata": {},
   "outputs": [],
   "source": []
  },
  {
   "cell_type": "code",
   "execution_count": null,
   "metadata": {},
   "outputs": [],
   "source": [
    "#what happens if you want to append the numbers to a text file using savetxt?\n",
    "# first make a backup copy of my_first_writen_file.txt (trust me)\n",
    "\n",
    "#try the following. Do you think that it would work? Why/why not?\n",
    "\n",
    "f = open(\"my_first_writen_file.txt\", \"a\")\n",
    "np.savetxt('my_first_writen_file.txt', data, fmt='%.2f', delimiter=' ')\n",
    "f.close()\n",
    "\n",
    "\n",
    "#let's see what we did:\n",
    "\n",
    "f = open('my_first_writen_file.txt','r')\n",
    "a = f.read()\n",
    "f.close()\n",
    "\n",
    "print(a) #!! ouch! it erased your entire file! "
   ]
  },
  {
   "cell_type": "code",
   "execution_count": null,
   "metadata": {},
   "outputs": [],
   "source": [
    "#what you can do (but you normally will not need to, unless you do something weird to need to do this), is \n",
    "#open your file in a binary format:\n",
    "\n",
    "f=open('my_first_writen_file.txt','ab')\n",
    "\n",
    "np.savetxt(f,data, fmt='%.2f', delimiter=' ')\n",
    "\n",
    "f.close()\n",
    "\n",
    "f = open('my_first_writen_file.txt','r')\n",
    "a = f.read()\n",
    "f.close()\n",
    "\n",
    "print(a) #it worked! "
   ]
  },
  {
   "cell_type": "markdown",
   "metadata": {},
   "source": [
    "### numpy.savetxt is an OK method to store your small arrays. For larger sets you need to delve into pickles/csv ..."
   ]
  },
  {
   "cell_type": "code",
   "execution_count": null,
   "metadata": {},
   "outputs": [],
   "source": [
    "# FYI: you can also use headers with savetxt:\n",
    "np.savetxt('test_2.dat',data, fmt='%.2f', delimiter=' ', \n",
    "           header= 'This are my random data')"
   ]
  },
  {
   "cell_type": "code",
   "execution_count": null,
   "metadata": {},
   "outputs": [],
   "source": []
  },
  {
   "cell_type": "code",
   "execution_count": null,
   "metadata": {},
   "outputs": [],
   "source": []
  },
  {
   "cell_type": "markdown",
   "metadata": {},
   "source": [
    "### Example 3: Make a 5 by 5 numpy array *data_2d* of zeros. Set variable *x* equal to a numpy range from 5 to 10; and variable *y* the exponential of x. Populate *data_2d* following $z_{ij} = x_i * y_j$ . Save  *data_2d* to a file named my_radom_data.dat. Add a header like \"These are my random data\" and format the output to have 4 digit accuracy."
   ]
  },
  {
   "cell_type": "code",
   "execution_count": null,
   "metadata": {},
   "outputs": [],
   "source": []
  },
  {
   "cell_type": "code",
   "execution_count": null,
   "metadata": {},
   "outputs": [],
   "source": []
  },
  {
   "cell_type": "code",
   "execution_count": null,
   "metadata": {},
   "outputs": [],
   "source": []
  },
  {
   "cell_type": "code",
   "execution_count": null,
   "metadata": {},
   "outputs": [],
   "source": []
  },
  {
   "cell_type": "code",
   "execution_count": null,
   "metadata": {},
   "outputs": [],
   "source": []
  },
  {
   "cell_type": "code",
   "execution_count": null,
   "metadata": {},
   "outputs": [],
   "source": []
  },
  {
   "cell_type": "code",
   "execution_count": null,
   "metadata": {},
   "outputs": [],
   "source": []
  },
  {
   "cell_type": "code",
   "execution_count": null,
   "metadata": {},
   "outputs": [],
   "source": []
  },
  {
   "cell_type": "code",
   "execution_count": null,
   "metadata": {},
   "outputs": [],
   "source": []
  },
  {
   "cell_type": "markdown",
   "metadata": {},
   "source": [
    "# ------------------"
   ]
  },
  {
   "cell_type": "markdown",
   "metadata": {},
   "source": [
    "## Pickles"
   ]
  },
  {
   "cell_type": "markdown",
   "metadata": {},
   "source": [
    "### Pickles: converts your input with a binary protocol to serialize/ save your input and to deserialize/open (unpickle) it\n",
    "\n",
    "### **“Never unpickle data received from an untrusted or unauthenticated source”**\n",
    "\n",
    "### pickle module keeps track of the objects it has already serialized, so that later references to the same object won’t be serialized again\n"
   ]
  },
  {
   "cell_type": "markdown",
   "metadata": {},
   "source": [
    "### Efficient way to compress data – you can reconstruct complete Python datasets \n",
    "\n",
    "### ----\n",
    "Some may be familiar with JSON and pickles may sound comparable but keep in mind:\n",
    "\n",
    "Pickles are not human readable\n",
    "\n",
    "Pickles are Python specific\n",
    "### ----\n"
   ]
  },
  {
   "cell_type": "markdown",
   "metadata": {},
   "source": [
    "### When trying to unpickle a dataset the version of Python used may come into play: pickles are not compatible between Python 2 and 3!\n",
    "\n",
    "\n",
    "### Things to remember:\n",
    " \n",
    "import pickle <br>\n",
    "pickle.dump() <br>\n",
    "pickle.load() <br>\n"
   ]
  },
  {
   "cell_type": "code",
   "execution_count": null,
   "metadata": {},
   "outputs": [],
   "source": [
    "#Pickles\n",
    "\n",
    "import pickle\n"
   ]
  },
  {
   "cell_type": "code",
   "execution_count": null,
   "metadata": {},
   "outputs": [],
   "source": [
    "\n",
    "#Let's get a dictionary from our previous demo :\n",
    "\n",
    "car1 = {\n",
    "  \"model\" : \"Escape\",\n",
    "  \"make\" : \"Ford\"\n",
    "}\n",
    "car2 = {\n",
    "  \"model\" : \"500\",\n",
    "  \"make\" : \"Fiat\"\n",
    "}\n",
    "car3 = {\n",
    "  \"model\" : \"Tucson\",\n",
    "  \"make\" : \"Hyundai\"\n",
    "}\n",
    "\n",
    "\n",
    "all_my_cars = {\n",
    "  \"car1\" : car1,\n",
    "  \"car2\" : car2,\n",
    "  \"car3\" : car3\n",
    "}\n"
   ]
  },
  {
   "cell_type": "code",
   "execution_count": null,
   "metadata": {},
   "outputs": [],
   "source": [
    "#and now let's open a file to save the data in:\n",
    "\n",
    "f = open('my_first_pickle.pickle','wb')       # open file in binary mode \n",
    "\n",
    "pickle.dump(all_my_cars,f)                    # let's dump our pickled dictionary in there:\n",
    "\n",
    "f.close()                                     # close the file"
   ]
  },
  {
   "cell_type": "markdown",
   "metadata": {},
   "source": [
    "### congrats! you saved your first pickle!"
   ]
  },
  {
   "cell_type": "code",
   "execution_count": null,
   "metadata": {},
   "outputs": [],
   "source": [
    "#Let's now see what we saved actually:\n",
    "\n",
    "pickle_read  = open('my_first_pickle.pickle','rb')  # open and read pickle\n",
    "example_dict = pickle.load(pickle_read)             # load the pickle in example_dict"
   ]
  },
  {
   "cell_type": "code",
   "execution_count": null,
   "metadata": {},
   "outputs": [],
   "source": [
    "# test:\n",
    "\n",
    "print( example_dict.items()  )\n",
    "print( example_dict.keys()   )\n",
    "print( example_dict.values() )\n",
    "\n",
    "\n",
    "example_dict['car1']['model']\n",
    "\n",
    "#it worked!"
   ]
  },
  {
   "cell_type": "markdown",
   "metadata": {},
   "source": [
    "### Saving the dictionary in a pickle preserved its dictionary nature."
   ]
  },
  {
   "cell_type": "code",
   "execution_count": null,
   "metadata": {},
   "outputs": [],
   "source": []
  },
  {
   "cell_type": "markdown",
   "metadata": {},
   "source": [
    "### Sometimes you can have a pickle that you know a priori what data it has in it (how many columns, what each column is...)"
   ]
  },
  {
   "cell_type": "code",
   "execution_count": null,
   "metadata": {},
   "outputs": [],
   "source": [
    "# let's make some data up\n",
    "f_in = np.arange(10)\n",
    "q_in = f_in**2\n",
    "u_in = f_in**3\n",
    "\n",
    "# open a file and store your second pickled data:\n",
    "\n",
    "f = open('my_second_pickle.pickle','wb')\n",
    "\n",
    "pickle.dump([f_in, q_in, u_in],f)\n",
    "\n",
    "f.close()"
   ]
  },
  {
   "cell_type": "code",
   "execution_count": null,
   "metadata": {},
   "outputs": [],
   "source": [
    "# now that I know that my data are f_in, q_in, u_in lets unpickle it in one go:\n",
    "\n",
    "f, q, u = pickle.load( open( 'my_second_pickle.pickle','rb' ) )\n"
   ]
  },
  {
   "cell_type": "code",
   "execution_count": null,
   "metadata": {},
   "outputs": [],
   "source": [
    "# test:\n",
    "print( f == f_in )\n",
    "print( q == q_in )"
   ]
  },
  {
   "cell_type": "code",
   "execution_count": null,
   "metadata": {},
   "outputs": [],
   "source": []
  },
  {
   "cell_type": "markdown",
   "metadata": {},
   "source": [
    "# ------------------"
   ]
  },
  {
   "cell_type": "markdown",
   "metadata": {},
   "source": [
    "## CSV"
   ]
  },
  {
   "cell_type": "markdown",
   "metadata": {},
   "source": [
    "### CSV: Comma Separated data (Values) --> used to save tabular data such as a spreadsheet or a database\n",
    "\n",
    "\n",
    "### Things to remember:\n",
    "\n",
    "import csv  <br>\n",
    "csv.reader() <br>\n",
    "csv.writer()<br>\n"
   ]
  },
  {
   "cell_type": "code",
   "execution_count": null,
   "metadata": {},
   "outputs": [],
   "source": []
  },
  {
   "cell_type": "code",
   "execution_count": null,
   "metadata": {},
   "outputs": [],
   "source": [
    "#Let's now do some csv reading/writing:\n",
    "\n",
    "import csv "
   ]
  },
  {
   "cell_type": "code",
   "execution_count": null,
   "metadata": {},
   "outputs": [],
   "source": []
  },
  {
   "cell_type": "code",
   "execution_count": null,
   "metadata": {},
   "outputs": [],
   "source": [
    "## as a test case we will use the dictionary from before:\n",
    "\n",
    "with open('my_first_csv.csv', 'w') as f:     # open the file to write in it\n",
    "\n",
    "    writer = csv.writer(f)                   # you will use the csv module to write the data\n",
    "    \n",
    "    for key, value in example_dict.items():  # loop over items in your dictionary \n",
    "        \n",
    "        writer.writerow([key, value])        # write the items"
   ]
  },
  {
   "cell_type": "code",
   "execution_count": null,
   "metadata": {},
   "outputs": [],
   "source": [
    "#open the file from your Jupyter notebook tree: it is human readable (unlike the pickle...)\n",
    "\n",
    "#let's read it back in:\n",
    "\n",
    "with open('my_first_csv.csv') as f:\n",
    "    reader = csv.reader(f)\n",
    "    my_csved_dict = dict(reader)\n",
    "\n",
    "    \n",
    "print(my_csved_dict.items())\n",
    "\n",
    "print(type(my_csved_dict))\n",
    "\n"
   ]
  },
  {
   "cell_type": "code",
   "execution_count": null,
   "metadata": {},
   "outputs": [],
   "source": [
    "#note though that in this example we have lost the structure of the nested dictionary:\n",
    "#my_csved_dict['car1']['make'] will give you an error:\n",
    "\n",
    "print( my_csved_dict['car1']['make'] )"
   ]
  },
  {
   "cell_type": "code",
   "execution_count": null,
   "metadata": {},
   "outputs": [],
   "source": []
  },
  {
   "cell_type": "code",
   "execution_count": null,
   "metadata": {},
   "outputs": [],
   "source": []
  },
  {
   "cell_type": "markdown",
   "metadata": {},
   "source": [
    "### Example 4: Store the data from *data_2d* in a csv file."
   ]
  },
  {
   "cell_type": "code",
   "execution_count": null,
   "metadata": {},
   "outputs": [],
   "source": []
  },
  {
   "cell_type": "code",
   "execution_count": null,
   "metadata": {},
   "outputs": [],
   "source": []
  },
  {
   "cell_type": "code",
   "execution_count": null,
   "metadata": {},
   "outputs": [],
   "source": []
  },
  {
   "cell_type": "code",
   "execution_count": null,
   "metadata": {},
   "outputs": [],
   "source": []
  },
  {
   "cell_type": "markdown",
   "metadata": {},
   "source": [
    "# ------------------"
   ]
  },
  {
   "cell_type": "markdown",
   "metadata": {},
   "source": [
    "## Pandas"
   ]
  },
  {
   "cell_type": "markdown",
   "metadata": {},
   "source": [
    "### A great tool for data analysis and modeling of large datasets (think ML sizes….). It’s a software library that can read big amounts of data and analyze it fast\n",
    "\n",
    "\n",
    "### Can read in CSV files, SQL databases and create a Python object with rows and columns (data frame) out of that – makes working on such data faster that using tuples/dictionaries\n",
    "\n",
    "\n",
    "\n"
   ]
  },
  {
   "cell_type": "code",
   "execution_count": null,
   "metadata": {},
   "outputs": [],
   "source": []
  },
  {
   "cell_type": "code",
   "execution_count": null,
   "metadata": {},
   "outputs": [],
   "source": [
    "## Last but not least, let's try Pandas out\n",
    "import pandas as pd "
   ]
  },
  {
   "cell_type": "code",
   "execution_count": null,
   "metadata": {},
   "outputs": [],
   "source": [
    "# we will use the pickled data from above here:\n",
    "\n",
    "pd.read_pickle('my_first_pickle.pickle')  # reads it in and shows you the nested dictionaries\n"
   ]
  },
  {
   "cell_type": "code",
   "execution_count": null,
   "metadata": {},
   "outputs": [],
   "source": [
    "pd.read_csv('my_first_csv.csv')           # reads it in and shows you the table"
   ]
  },
  {
   "cell_type": "code",
   "execution_count": null,
   "metadata": {},
   "outputs": [],
   "source": [
    "#Now let's make a panda dataframe out of the pickle:\n",
    "\n",
    "pd.DataFrame(pd.read_pickle('my_first_pickle.pickle'))\n"
   ]
  },
  {
   "cell_type": "code",
   "execution_count": null,
   "metadata": {},
   "outputs": [],
   "source": [
    "# let's read in a dataframe the second pickle with the random data\n",
    "\n",
    "pd.DataFrame( pd.read_pickle('my_second_pickle.pickle') )  #it gives you the columns and their values: "
   ]
  },
  {
   "cell_type": "code",
   "execution_count": null,
   "metadata": {},
   "outputs": [],
   "source": [
    "# read the data in a dataframe named df:\n",
    "df = pd.DataFrame(pd.read_pickle('my_second_pickle.pickle')) \n",
    "\n",
    "#ask it to describe() your \n",
    "df.describe()  # summary statistics for numerical columns ; not very useful here but \n",
    "               # imagine what you can do with LARGE datasets!"
   ]
  },
  {
   "cell_type": "code",
   "execution_count": null,
   "metadata": {},
   "outputs": [],
   "source": [
    "#get the mean of all columns:\n",
    "print( df.mean() )"
   ]
  },
  {
   "cell_type": "code",
   "execution_count": null,
   "metadata": {},
   "outputs": [],
   "source": [
    "#you can get correlations between columns: \n",
    "#print( df.corr() )\n",
    "\n",
    "#max (& min) of each column:\n",
    "#df.max()   #& df.min()\n",
    "\n",
    "#get the standard deviation of each column:\n",
    "#df.std()\n",
    "\n",
    "#and much much more...   If you are interested in playing around with big data there's plenty \n",
    "#of Open Access databases"
   ]
  },
  {
   "cell_type": "code",
   "execution_count": null,
   "metadata": {},
   "outputs": [],
   "source": []
  },
  {
   "cell_type": "code",
   "execution_count": null,
   "metadata": {},
   "outputs": [],
   "source": []
  },
  {
   "cell_type": "code",
   "execution_count": null,
   "metadata": {},
   "outputs": [],
   "source": []
  },
  {
   "cell_type": "code",
   "execution_count": null,
   "metadata": {},
   "outputs": [],
   "source": []
  },
  {
   "cell_type": "code",
   "execution_count": 1,
   "metadata": {},
   "outputs": [],
   "source": []
  },
  {
   "cell_type": "code",
   "execution_count": null,
   "metadata": {},
   "outputs": [],
   "source": []
  },
  {
   "cell_type": "markdown",
   "metadata": {},
   "source": [
    "## -------------------------\n",
    "### Revisiting concepts part 1"
   ]
  },
  {
   "cell_type": "markdown",
   "metadata": {},
   "source": [
    "### - 1. Functions: \n",
    "\n",
    "def function_name( input_parameter1, input_parameter2,... ): \n",
    "\n",
    "    \"\"\" very_informative_docstring\n",
    "    Input: input_parameter1, input_parameter2,.. [units]\n",
    "    Output: output_parameters [units] \"\"\"\n",
    "\n",
    "    <do calculations here>\n",
    "    \n",
    "    return output_parameters\n",
    "    \n",
    "    \n",
    "    \n"
   ]
  },
  {
   "cell_type": "markdown",
   "metadata": {},
   "source": [
    "### When you have writen the function in the same notebook/code part you can call it directly w/o importing"
   ]
  },
  {
   "cell_type": "code",
   "execution_count": 1,
   "metadata": {},
   "outputs": [],
   "source": [
    "def add_one( number ):\n",
    "    \"\"\"Takes a number and adds one to it. \n",
    "    Input: number [float or integer]\n",
    "    Output: number plus one \"\"\"\n",
    "    \n",
    "    \n",
    "    number = number + 1\n",
    "    \n",
    "    return number "
   ]
  },
  {
   "cell_type": "code",
   "execution_count": 2,
   "metadata": {},
   "outputs": [
    {
     "name": "stdout",
     "output_type": "stream",
     "text": [
      "2\n"
     ]
    }
   ],
   "source": [
    "#call the function as: name( here_goes_input)\n",
    "\n",
    "m = add_one( 1 )\n",
    "print( m )"
   ]
  },
  {
   "cell_type": "code",
   "execution_count": 3,
   "metadata": {},
   "outputs": [
    {
     "name": "stdout",
     "output_type": "stream",
     "text": [
      "9\n"
     ]
    }
   ],
   "source": [
    "m2 = add_one( 8 )\n",
    "print( m2 )"
   ]
  },
  {
   "cell_type": "markdown",
   "metadata": {},
   "source": [
    "### When you have it written in a different .py (NOT .ipynb) file you need to import it:\n",
    "\n",
    "    from filename_without_py_extention import function_name\n",
    "\n",
    "### & then you can call it"
   ]
  },
  {
   "cell_type": "code",
   "execution_count": null,
   "metadata": {},
   "outputs": [],
   "source": []
  },
  {
   "cell_type": "code",
   "execution_count": null,
   "metadata": {},
   "outputs": [],
   "source": []
  },
  {
   "cell_type": "markdown",
   "metadata": {},
   "source": [
    "### Practice 1. Make a simple function that takes as input the name of a file with data, reads it in using one of the numpy functions and returns the data to the main code. Store the file in a separate file named \"practice_functions.py\". Import it here and call the functions for *my_first_numpy_array_saved.txt*"
   ]
  },
  {
   "cell_type": "code",
   "execution_count": null,
   "metadata": {},
   "outputs": [],
   "source": []
  },
  {
   "cell_type": "code",
   "execution_count": null,
   "metadata": {},
   "outputs": [],
   "source": []
  },
  {
   "cell_type": "code",
   "execution_count": null,
   "metadata": {},
   "outputs": [],
   "source": []
  },
  {
   "cell_type": "code",
   "execution_count": null,
   "metadata": {},
   "outputs": [],
   "source": []
  },
  {
   "cell_type": "markdown",
   "metadata": {},
   "source": [
    "### - 2. Numpy arrays (access elements, slices, data manipulation): "
   ]
  },
  {
   "cell_type": "markdown",
   "metadata": {},
   "source": [
    "### Numpy has a wealth of functions you can use to do anything you need to solve a numerical problem. If it doesn't exist in numpy, scipy will have it (we will see scipy functions later on). We import numpy at the start of our code with:"
   ]
  },
  {
   "cell_type": "code",
   "execution_count": 5,
   "metadata": {},
   "outputs": [],
   "source": [
    " import numpy as np"
   ]
  },
  {
   "cell_type": "markdown",
   "metadata": {},
   "source": [
    "### Numpy is there to make numerical things east for us. Take array data1 here:"
   ]
  },
  {
   "cell_type": "code",
   "execution_count": 6,
   "metadata": {},
   "outputs": [],
   "source": [
    "data1 = np.array( [ 12, 8, 4, 4, 0, -4, -4, 0  ] ) "
   ]
  },
  {
   "cell_type": "markdown",
   "metadata": {},
   "source": [
    "### How do we multiply all elements of data1 with 5, or how do we add 10 to all elements of data1?"
   ]
  },
  {
   "cell_type": "code",
   "execution_count": null,
   "metadata": {},
   "outputs": [],
   "source": []
  },
  {
   "cell_type": "markdown",
   "metadata": {},
   "source": [
    "### Often you need to access a small part of the data you have to do something (slicing). To do this you need to think where the data you want 'lives' in the array\n",
    "\n",
    "<img src=\"houses_to_arrays_loc.png\" width=300 height=500 />\n",
    "\n",
    "### Instead of having an address of Libra_Dr 4111 you have Libra_Dr[ 4111 ]"
   ]
  },
  {
   "cell_type": "markdown",
   "metadata": {},
   "source": [
    "### If we have 2D arrays Python reads [line, list]  ; if we have 3D: [x,y,z] etc.....If at some point you want all elements of one dimension you just use \":\"  (think [0, : ] )"
   ]
  },
  {
   "cell_type": "markdown",
   "metadata": {},
   "source": [
    "### Consider the data1 array. Is it a 'house' or a 'flat' address? What is the address of 8? What is the address of the first -4?"
   ]
  },
  {
   "cell_type": "code",
   "execution_count": null,
   "metadata": {},
   "outputs": [],
   "source": [
    "data1 = np.array( [ 12, 8, 4, 4, 0, -4, -4, 0  ] ) "
   ]
  },
  {
   "cell_type": "code",
   "execution_count": null,
   "metadata": {},
   "outputs": [],
   "source": []
  },
  {
   "cell_type": "markdown",
   "metadata": {},
   "source": [
    "### We have this array:"
   ]
  },
  {
   "cell_type": "code",
   "execution_count": 8,
   "metadata": {},
   "outputs": [],
   "source": [
    "data2 = np.array( [1, 3, 5, 7, 9, 2, 4, 8, 10, -2, -4, -10] ).reshape( (3,4) ) "
   ]
  },
  {
   "cell_type": "markdown",
   "metadata": {},
   "source": [
    "### Consider the data2 array. Is it a 'house' or a 'flat' address (if it helps you, print it)? What is the address of 8 now? What is the address of  -4?"
   ]
  },
  {
   "cell_type": "code",
   "execution_count": null,
   "metadata": {},
   "outputs": [],
   "source": []
  },
  {
   "cell_type": "code",
   "execution_count": null,
   "metadata": {},
   "outputs": [],
   "source": []
  },
  {
   "cell_type": "code",
   "execution_count": null,
   "metadata": {},
   "outputs": [],
   "source": []
  },
  {
   "cell_type": "markdown",
   "metadata": {},
   "source": [
    "### Practice 2. We have already imported numpy, so here we will practice reading data into an array and manipulating it. Get gile *practice_numpy_f22.dat* and read it in variable *student_info*. Open the file to check it out. \n",
    "- Assign the HW grades of all students to a variable *hw_grades* and the exam grades to variable *exam_grades*. \n",
    "- Assign all grades of student 2 to variable *stud_2*\n",
    "- Assuming that the average grade of a student is 25% their HW grade, 25% the Midterm, 25% their final exam and 25% their Quiz grade can you calculate the final grade of each student? Use a for loop to loop through all students and print their final grade."
   ]
  },
  {
   "cell_type": "code",
   "execution_count": 9,
   "metadata": {},
   "outputs": [],
   "source": []
  },
  {
   "cell_type": "code",
   "execution_count": 10,
   "metadata": {},
   "outputs": [],
   "source": []
  },
  {
   "cell_type": "code",
   "execution_count": 11,
   "metadata": {},
   "outputs": [],
   "source": []
  },
  {
   "cell_type": "code",
   "execution_count": null,
   "metadata": {},
   "outputs": [],
   "source": []
  },
  {
   "cell_type": "markdown",
   "metadata": {},
   "source": [
    "### Practice 3. *space_travel.dat* contains the distances of an interplanetary trip between four bodies of the solar system. For simplicity, the data are stored in a 4 by 4 table with every line being the distance from a body to another body in AU (indicated by the columns; see also the file). \n",
    "- Read the data from *space_travel.dat* in a variable *space_trip*. \n",
    "- Your spaceship takes passengers from Mercury. You ask them where they want to go. \n",
    "    - If trip is possible you tell them how far the destination is and how long it takes if they travel with a speed of 0.05 AU/day. \n",
    "    - Discuss: how do we ask our passengers where they want to go?\n",
    "    - how do we find how long their trip will take?\n",
    "    - code!\n",
    "    - try it out for a trip to the Earth\n",
    "    \n",
    "    \n",
    "- What is the longest trip we can do from the Earth?\n",
    "    - Discuss: how do we find the longest trip?\n",
    "    - print an informative statement for the longest distance you can fly from the Earth in AU.\n"
   ]
  },
  {
   "cell_type": "code",
   "execution_count": null,
   "metadata": {},
   "outputs": [],
   "source": []
  },
  {
   "cell_type": "code",
   "execution_count": null,
   "metadata": {},
   "outputs": [],
   "source": []
  },
  {
   "cell_type": "markdown",
   "metadata": {},
   "source": [
    "### - 2b. Numpy vs FOR"
   ]
  },
  {
   "cell_type": "markdown",
   "metadata": {},
   "source": [
    "### FOR is for things you want to do repeatedly. It is great for working to do things with loops, tuples, dictionaries or sometimes ND arrays. When you can use numpy though, you should prefer it over FOR. It is *much* faster:"
   ]
  },
  {
   "cell_type": "code",
   "execution_count": null,
   "metadata": {},
   "outputs": [],
   "source": []
  },
  {
   "cell_type": "markdown",
   "metadata": {},
   "source": [
    "### Create list that is the square of list check_list:\n"
   ]
  },
  {
   "cell_type": "code",
   "execution_count": 18,
   "metadata": {},
   "outputs": [],
   "source": [
    "check_list = [ 1, 3, 5, 7, 9 ]\n",
    "\n",
    "# can I do check_list = check_list**2? \n",
    " "
   ]
  },
  {
   "cell_type": "code",
   "execution_count": null,
   "metadata": {},
   "outputs": [],
   "source": [
    "check_list = check_list **2"
   ]
  },
  {
   "cell_type": "code",
   "execution_count": 16,
   "metadata": {},
   "outputs": [],
   "source": [
    "for i in range( len( check_list ) ):\n",
    "    check_list[ i ] = check_list[ i ] **2"
   ]
  },
  {
   "cell_type": "code",
   "execution_count": null,
   "metadata": {},
   "outputs": [],
   "source": []
  },
  {
   "cell_type": "markdown",
   "metadata": {},
   "source": [
    "### Create numpy array cube_ar that is the array ar1 to the power of 3"
   ]
  },
  {
   "cell_type": "code",
   "execution_count": 10,
   "metadata": {},
   "outputs": [],
   "source": [
    "ar1 = np.arange( 0.1, 1e7, 0.2 )"
   ]
  },
  {
   "cell_type": "code",
   "execution_count": 11,
   "metadata": {},
   "outputs": [
    {
     "name": "stdout",
     "output_type": "stream",
     "text": [
      "CPU times: user 3 µs, sys: 0 ns, total: 3 µs\n",
      "Wall time: 8.11 µs\n"
     ]
    }
   ],
   "source": [
    "%time\n",
    "#compare this:\n",
    "\n",
    "cube_ar = ar1**3\n"
   ]
  },
  {
   "cell_type": "code",
   "execution_count": 12,
   "metadata": {},
   "outputs": [
    {
     "name": "stdout",
     "output_type": "stream",
     "text": [
      "CPU times: user 1 µs, sys: 0 ns, total: 1 µs\n",
      "Wall time: 4.05 µs\n"
     ]
    },
    {
     "ename": "KeyboardInterrupt",
     "evalue": "",
     "output_type": "error",
     "traceback": [
      "\u001b[0;31m---------------------------------------------------------------------------\u001b[0m",
      "\u001b[0;31mKeyboardInterrupt\u001b[0m                         Traceback (most recent call last)",
      "\u001b[0;32m/var/folders/vk/lzczn8j541jbb03xcymwp9640000gn/T/ipykernel_8772/618065253.py\u001b[0m in \u001b[0;36m<module>\u001b[0;34m\u001b[0m\n\u001b[1;32m      3\u001b[0m \u001b[0;34m\u001b[0m\u001b[0m\n\u001b[1;32m      4\u001b[0m \u001b[0;32mfor\u001b[0m \u001b[0mi\u001b[0m \u001b[0;32min\u001b[0m \u001b[0mrange\u001b[0m\u001b[0;34m(\u001b[0m \u001b[0mlen\u001b[0m\u001b[0;34m(\u001b[0m \u001b[0mar1\u001b[0m \u001b[0;34m)\u001b[0m \u001b[0;34m)\u001b[0m\u001b[0;34m:\u001b[0m\u001b[0;34m\u001b[0m\u001b[0;34m\u001b[0m\u001b[0m\n\u001b[0;32m----> 5\u001b[0;31m     \u001b[0mar1\u001b[0m\u001b[0;34m[\u001b[0m \u001b[0mi\u001b[0m \u001b[0;34m]\u001b[0m \u001b[0;34m=\u001b[0m \u001b[0mar1\u001b[0m\u001b[0;34m[\u001b[0m \u001b[0mi\u001b[0m \u001b[0;34m]\u001b[0m \u001b[0;34m**\u001b[0m \u001b[0;36m3\u001b[0m\u001b[0;34m\u001b[0m\u001b[0;34m\u001b[0m\u001b[0m\n\u001b[0m",
      "\u001b[0;31mKeyboardInterrupt\u001b[0m: "
     ]
    }
   ],
   "source": [
    "%time\n",
    "#to this:\n",
    "\n",
    "for i in range( len( ar1 ) ):\n",
    "    ar1[ i ] = ar1[ i ] ** 3"
   ]
  },
  {
   "cell_type": "code",
   "execution_count": null,
   "metadata": {},
   "outputs": [],
   "source": []
  },
  {
   "cell_type": "markdown",
   "metadata": {},
   "source": [
    "### Practice 4. You have a dictionary of names of students and a list of their average grades ***classroom***. You need to scan through the names and print a letter grade for every student (assume plain ABC with A if grade is >0.90 ; B if grade 0.90> n > 0.80 and C if grade < 0.80).\n"
   ]
  },
  {
   "cell_type": "code",
   "execution_count": 13,
   "metadata": {},
   "outputs": [],
   "source": [
    "classroom = { 'Jane': 0.92 , 'Joe': 0.85, 'Petra': 0.78, 'Peter': 0.81 }"
   ]
  },
  {
   "cell_type": "code",
   "execution_count": null,
   "metadata": {},
   "outputs": [],
   "source": []
  },
  {
   "cell_type": "code",
   "execution_count": null,
   "metadata": {},
   "outputs": [],
   "source": []
  }
 ],
 "metadata": {
  "kernelspec": {
   "display_name": "Python 3 (ipykernel)",
   "language": "python",
   "name": "python3"
  },
  "language_info": {
   "codemirror_mode": {
    "name": "ipython",
    "version": 3
   },
   "file_extension": ".py",
   "mimetype": "text/x-python",
   "name": "python",
   "nbconvert_exporter": "python",
   "pygments_lexer": "ipython3",
   "version": "3.9.12"
  }
 },
 "nbformat": 4,
 "nbformat_minor": 2
}
