{
 "cells": [
  {
   "cell_type": "code",
   "execution_count": 10,
   "id": "f2a76088",
   "metadata": {},
   "outputs": [
    {
     "ename": "SyntaxError",
     "evalue": "cannot assign to function call (716179170.py, line 1)",
     "output_type": "error",
     "traceback": [
      "\u001b[1;36m  Input \u001b[1;32mIn [10]\u001b[1;36m\u001b[0m\n\u001b[1;33m    list(x) = [10, 14, 18, -4,  50, 420, -14, 20]\u001b[0m\n\u001b[1;37m    ^\u001b[0m\n\u001b[1;31mSyntaxError\u001b[0m\u001b[1;31m:\u001b[0m cannot assign to function call\n"
     ]
    }
   ],
   "source": [
    "list(x) = [10, 14, 18, -4,  50, 420, -14, 20]"
   ]
  },
  {
   "cell_type": "code",
   "execution_count": 8,
   "id": "eb52c030",
   "metadata": {},
   "outputs": [
    {
     "ename": "IndentationError",
     "evalue": "unindent does not match any outer indentation level (<tokenize>, line 8)",
     "output_type": "error",
     "traceback": [
      "\u001b[1;36m  File \u001b[1;32m<tokenize>:8\u001b[1;36m\u001b[0m\n\u001b[1;33m    else:\u001b[0m\n\u001b[1;37m    ^\u001b[0m\n\u001b[1;31mIndentationError\u001b[0m\u001b[1;31m:\u001b[0m unindent does not match any outer indentation level\n"
     ]
    }
   ],
   "source": [
    "for i in range( len(x) ):\n",
    "\n",
    "# add my checks; I need to make sure that my values are positive and less than 100\n",
    "\n",
    "          if x[i]>0:\n",
    "                  if x[i]<100:\n",
    "                          print( x[i]/2. )\n",
    "                     else:\n",
    "                          print('warning: x is too large')\n",
    "                          break\n",
    "                else:\n",
    "                 print('warning: x <0 wrong value')"
   ]
  },
  {
   "cell_type": "code",
   "execution_count": null,
   "id": "82d2106b",
   "metadata": {},
   "outputs": [],
   "source": []
  }
 ],
 "metadata": {
  "kernelspec": {
   "display_name": "Python 3 (ipykernel)",
   "language": "python",
   "name": "python3"
  },
  "language_info": {
   "codemirror_mode": {
    "name": "ipython",
    "version": 3
   },
   "file_extension": ".py",
   "mimetype": "text/x-python",
   "name": "python",
   "nbconvert_exporter": "python",
   "pygments_lexer": "ipython3",
   "version": "3.9.12"
  }
 },
 "nbformat": 4,
 "nbformat_minor": 5
}
