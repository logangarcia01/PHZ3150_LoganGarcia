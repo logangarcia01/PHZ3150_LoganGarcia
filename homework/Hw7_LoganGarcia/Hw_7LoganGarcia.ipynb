{
 "cells": [
  {
   "cell_type": "markdown",
   "id": "9c7f538b",
   "metadata": {},
   "source": [
    "Logan Garcia\n",
    "\n",
    "10/18/2022"
   ]
  },
  {
   "cell_type": "markdown",
   "id": "1cbd41d5",
   "metadata": {},
   "source": [
    "HW7"
   ]
  },
  {
   "cell_type": "code",
   "execution_count": 1,
   "id": "86dd69c8",
   "metadata": {},
   "outputs": [],
   "source": [
    "import numpy as np\n",
    "\n",
    "import matplotlib.pyplot as plt"
   ]
  },
  {
   "cell_type": "markdown",
   "id": "3c389ac7",
   "metadata": {},
   "source": [
    "Problem 1 (5 points). Make a new folder named hw7_<yourname> under you HW \n",
    "folder. As before, your main homework file is a Python file named  \n",
    "hw7_<username>.ipynb.  Save it in your homework folder. Remember to commit  \n",
    "your files and push to GitHub (also, great backup!). Your name, assignment number,  \n",
    "and the date should appear as comments at the top of the notebook. Any remarks or  \n",
    "written answers you may make should be written with markdown. If you need to  \n",
    "comment something in the code (for coding clarity) do so with a normal comment (i.e., #  \n",
    "this is a comment). Print the problem number (as in “Problem 1:”) before each  \n",
    "problem’s output. Use the print() function to print, don’t just type the expression. Start  \n",
    "your notebook by importing numpy."
   ]
  },
  {
   "cell_type": "code",
   "execution_count": 5,
   "id": "9a64fbc7",
   "metadata": {},
   "outputs": [
    {
     "name": "stdout",
     "output_type": "stream",
     "text": [
      "problem 1\n"
     ]
    }
   ],
   "source": [
    "print('problem 1')"
   ]
  },
  {
   "cell_type": "code",
   "execution_count": 6,
   "id": "fd729e8d",
   "metadata": {},
   "outputs": [
    {
     "name": "stdout",
     "output_type": "stream",
     "text": [
      "done\n"
     ]
    }
   ],
   "source": [
    "print('done')"
   ]
  },
  {
   "cell_type": "markdown",
   "id": "8a8461b6",
   "metadata": {},
   "source": [
    "Problem 2 (15 points). For loops automatically iterate over a parameter i (unlike while \n",
    "loops). They start from i=0 (or whichever value you ask), do what you want them to do \n",
    "and then automatically do i = i+1 (i+=1). Writing an extra  i = i+1  can create \n",
    "accidental bugs in for loops, while missing a i = i+1 can make your while loops run \n",
    "an infinite time.  \n",
    " \n",
    "Code a program that scans the sentence: “Deleting an item from a list or array while \n",
    "iterating over it is a Python problem that is well known to any experienced software \n",
    "developer” and prints out the words it’s made of.  \n",
    " \n",
    "Then, use a for loop to loop over the full sentence, and print - at the end - only the \n",
    "longest word of the sentence.   \n",
    "Do the same program, but now looping over the sentence with a while loop.  \n",
    " \n",
    "Create a program that scans only the first 6 words (so “\"Deleting an item from a list”) \n",
    "and prints only the UNIQUE letters in this sentence."
   ]
  },
  {
   "cell_type": "code",
   "execution_count": 7,
   "id": "20a2cb93",
   "metadata": {},
   "outputs": [
    {
     "name": "stdout",
     "output_type": "stream",
     "text": [
      "problem 2\n"
     ]
    }
   ],
   "source": [
    "print('problem 2')"
   ]
  },
  {
   "cell_type": "code",
   "execution_count": 18,
   "id": "a8e90b2f",
   "metadata": {},
   "outputs": [
    {
     "name": "stdout",
     "output_type": "stream",
     "text": [
      "Enter the sentence:Deleting an item from a list or array while  iterating over it is a Python problem that is well known to any experienced software developer\n",
      "['Deleting', 'an', 'item', 'from', 'a', 'list', 'or', 'array', 'while', 'iterating', 'over', 'it', 'is', 'a', 'Python', 'problem', 'that', 'is', 'well', 'known', 'to', 'any', 'experienced', 'software', 'developer']\n"
     ]
    }
   ],
   "source": [
    "#making sentence as list using one line by splitting words with space delimeter\n",
    "sentence=list(input(\"Enter the sentence:\").split()) \n",
    "\n",
    "print(sentence)"
   ]
  },
  {
   "cell_type": "code",
   "execution_count": 19,
   "id": "3b69482a",
   "metadata": {},
   "outputs": [
    {
     "name": "stdout",
     "output_type": "stream",
     "text": [
      "Enter the sentence:Deleting an item from a list or array while  iterating over it is a Python problem that is well known to any experienced software developer\n",
      "['Deleting', 'an', 'item', 'from', 'a', 'list', 'or', 'array', 'while', 'iterating', 'over', 'it', 'is', 'a', 'Python', 'problem', 'that', 'is', 'well', 'known', 'to', 'any', 'experienced', 'software', 'developer']\n",
      "iterating\n",
      "experienced\n",
      "experienced\n"
     ]
    }
   ],
   "source": [
    "sentence=list(input(\"Enter the sentence:\").split()) \n",
    "\n",
    "#printing as words\n",
    "print(sentence)\n",
    "\n",
    "#storing first word\n",
    "max_length_word=sentence[0]\n",
    "\n",
    "#looping\n",
    "for i in sentence:\n",
    "    #finding max_length_word\n",
    "    if(len(max_length_word)<len(i)):\n",
    "        max_length_word=i\n",
    "        #printing\n",
    "        print(max_length_word)\n",
    "\n",
    "#loop index also starts from 0\n",
    "i=0\n",
    "max_length_word=sentence[0]\n",
    "while(i<len(sentence)):\n",
    "    #if max_length_word is smaller than any it swaps with that word\n",
    "    if(len(max_length_word)<len(sentence[i])):\n",
    "        max_length_word=sentence[i]\n",
    "    i=i+1\n",
    "print(max_length_word)"
   ]
  },
  {
   "cell_type": "code",
   "execution_count": null,
   "id": "74e87c2b",
   "metadata": {},
   "outputs": [],
   "source": [
    "sentence=input(\"Enter the sentence:\")\n",
    "for i in sentence:\n",
    "    "
   ]
  },
  {
   "cell_type": "markdown",
   "id": "f148af80",
   "metadata": {},
   "source": [
    "Problem 3 (15 points).  Open a text file and name it hw7_support_funct.py . Do \n",
    "not write the function on the Jupyter notebook you may be using, as it will store the \n",
    "function in its memory and you may think that you imported from the .py file when you \n",
    "didn’t. If you chose to test the code on the Jupyter notebook, use a different name for \n",
    "your function in the two locations so that you can separate the two. \n",
    " \n",
    "In the hw7_support_funct.py create a function circle(x,x0,y0,r) that takes as \n",
    "input an array x, the coordinates of the center of the circle (x0,y0) and a radius r and \n",
    "return all y coordinates of the circle with radius r. Remember that a circle follows the: \n",
    "(x-x0)2+(y-y0)2 = r2.  Write an appropriate informative docstring. Go in your main \n",
    "homework file and import the function circle. Call it for (x0,y0)= (2,2), x = - \n",
    "8.+0.1*np.arange(220) and r =10. Use the y coordinates to plot the circle (if you \n",
    "get only half a circle, why is that? Explain and fix your function to return both values). "
   ]
  },
  {
   "cell_type": "code",
   "execution_count": 12,
   "id": "af4f75a5",
   "metadata": {},
   "outputs": [
    {
     "name": "stdout",
     "output_type": "stream",
     "text": [
      "problem 3\n"
     ]
    }
   ],
   "source": [
    "print('problem 3')"
   ]
  },
  {
   "cell_type": "code",
   "execution_count": 43,
   "id": "a521b516",
   "metadata": {},
   "outputs": [],
   "source": [
    "from hw7_support_funct import circle"
   ]
  },
  {
   "cell_type": "code",
   "execution_count": 44,
   "id": "dd57719b",
   "metadata": {},
   "outputs": [
    {
     "name": "stdout",
     "output_type": "stream",
     "text": [
      "[ 2.          3.4106736   3.98997487  4.43104916  4.8         5.122499\n",
      "  5.41174442  5.67559519  5.91918359  6.14608249  6.35889894  6.55960525\n",
      "  6.74973683  6.93051721  7.10294033  7.26782688  7.42586399  7.57763391\n",
      "  7.72363521  7.86429876  8.          8.13106842  8.25779514  8.38043886\n",
      "  8.49923072  8.61437828  8.72606869  8.83447145  8.93974063  9.04201676\n",
      "  9.14142843  9.23809367  9.33212111  9.42361098  9.51265599  9.59934208\n",
      "  9.68374908  9.76595133  9.8460181   9.92401413 10.         10.07403245\n",
      " 10.14616474 10.21644692 10.28492607 10.35164654 10.41665017 10.47997642\n",
      " 10.5416626  10.60174401 10.66025404 10.71722433 10.77268488 10.82666415\n",
      " 10.87918915 10.93028555 10.97997773 11.02828887 11.07524104 11.12085522\n",
      " 11.16515139 11.20814857 11.24986486 11.29031754 11.32952303 11.367497\n",
      " 11.40425436 11.43980932 11.47417543 11.50736557 11.53939201 11.57026645\n",
      " 11.6        11.62860322 11.65608616 11.68245837 11.70772888 11.73190629\n",
      " 11.75499872 11.77701386 11.79795897 11.8178409  11.8366661  11.85444062\n",
      " 11.87117014 11.88685997 11.90151504 11.91513994 11.92773892 11.93931587\n",
      " 11.94987437 11.95941765 11.96794864 11.97546991 11.98198377 11.98749218\n",
      " 11.9919968  11.99549899 11.9979998  11.99949999 12.         11.99949999\n",
      " 11.9979998  11.99549899 11.9919968  11.98749218 11.98198377 11.97546991\n",
      " 11.96794864 11.95941765 11.94987437 11.93931587 11.92773892 11.91513994\n",
      " 11.90151504 11.88685997 11.87117014 11.85444062 11.8366661  11.8178409\n",
      " 11.79795897 11.77701386 11.75499872 11.73190629 11.70772888 11.68245837\n",
      " 11.65608616 11.62860322 11.6        11.57026645 11.53939201 11.50736557\n",
      " 11.47417543 11.43980932 11.40425436 11.367497   11.32952303 11.29031754\n",
      " 11.24986486 11.20814857 11.16515139 11.12085522 11.07524104 11.02828887\n",
      " 10.97997773 10.93028555 10.87918915 10.82666415 10.77268488 10.71722433\n",
      " 10.66025404 10.60174401 10.5416626  10.47997642 10.41665017 10.35164654\n",
      " 10.28492607 10.21644692 10.14616474 10.07403245 10.          9.92401413\n",
      "  9.8460181   9.76595133  9.68374908  9.59934208  9.51265599  9.42361098\n",
      "  9.33212111  9.23809367  9.14142843  9.04201676  8.93974063  8.83447145\n",
      "  8.72606869  8.61437828  8.49923072  8.38043886  8.25779514  8.13106842\n",
      "  8.          7.86429876  7.72363521  7.57763391  7.42586399  7.26782688\n",
      "  7.10294033  6.93051721  6.74973683  6.55960525  6.35889894  6.14608249\n",
      "  5.91918359  5.67559519  5.41174442  5.122499    4.8         4.43104916\n",
      "  3.98997487  3.4106736   2.                 nan         nan         nan\n",
      "         nan         nan         nan         nan         nan         nan\n",
      "         nan         nan         nan         nan         nan         nan\n",
      "         nan         nan         nan         nan]\n"
     ]
    },
    {
     "name": "stderr",
     "output_type": "stream",
     "text": [
      "C:\\Users\\logan\\Desktop\\PHZ3150_LoganGarcia\\homework\\hw7_support_funct.py:10: RuntimeWarning: invalid value encountered in sqrt\n",
      "  y = np.sqrt(r**2 -(x-x0)**2) +y0\n"
     ]
    }
   ],
   "source": [
    "x = -8.+0.1 * np.arange(220)\n",
    "y = circle(x,2,2,10)\n",
    "print(y)"
   ]
  },
  {
   "cell_type": "code",
   "execution_count": 53,
   "id": "1406b143",
   "metadata": {},
   "outputs": [
    {
     "data": {
      "text/plain": [
       "[<matplotlib.lines.Line2D at 0x2311bf6e8b0>]"
      ]
     },
     "execution_count": 53,
     "metadata": {},
     "output_type": "execute_result"
    },
    {
     "data": {
      "image/png": "[encoded data removed]",
      "text/plain": [
       "<Figure size 432x288 with 1 Axes>"
      ]
     },
     "metadata": {
      "needs_background": "light"
     },
     "output_type": "display_data"
    }
   ],
   "source": [
    "plt.plot(x,y)"
   ]
  },
  {
   "cell_type": "markdown",
   "id": "8626c635",
   "metadata": {},
   "source": [
    "this is printing only positive values, not negative."
   ]
  },
  {
   "cell_type": "markdown",
   "id": "b3282ec5",
   "metadata": {},
   "source": [
    "Problem 4 (15 points). In the hw7_support_funct.py create a function \n",
    "order_array(input_array) that takes as input an array of numbers and orders \n",
    "them from smaller to larger (don’t use any predefined function -numpy or otherwise- \n",
    "though!). Write an appropriate and informative docstring.  Save it in your \n",
    "hw7_support_funct.py. Import the function in the main homework folder and call it \n",
    "for the array: np.array([4,5,2,10,42,22,8,12]). Now use the appropriate \n",
    "numpy function to test your results."
   ]
  },
  {
   "cell_type": "code",
   "execution_count": 13,
   "id": "508f5e65",
   "metadata": {},
   "outputs": [
    {
     "name": "stdout",
     "output_type": "stream",
     "text": [
      "problem 4\n"
     ]
    }
   ],
   "source": [
    "print('problem 4')"
   ]
  },
  {
   "cell_type": "code",
   "execution_count": 2,
   "id": "e14d595d",
   "metadata": {},
   "outputs": [],
   "source": [
    "from hw7_support_funct import order_array"
   ]
  },
  {
   "cell_type": "code",
   "execution_count": 3,
   "id": "3b2d0c28",
   "metadata": {},
   "outputs": [],
   "source": [
    "a = np.array([4,5,2,10,42,22,8,12])"
   ]
  },
  {
   "cell_type": "code",
   "execution_count": 4,
   "id": "3cc5b3f7",
   "metadata": {
    "scrolled": true
   },
   "outputs": [
    {
     "name": "stdout",
     "output_type": "stream",
     "text": [
      "[ 4  5  2 10 42 22  8 12]\n",
      "None\n"
     ]
    }
   ],
   "source": [
    "print(order_array(a))"
   ]
  },
  {
   "cell_type": "code",
   "execution_count": 5,
   "id": "6a246ced",
   "metadata": {},
   "outputs": [
    {
     "name": "stdout",
     "output_type": "stream",
     "text": [
      "[ 2  4  5  8 10 12 22 42]\n"
     ]
    }
   ],
   "source": [
    "def order_array (input_array):\n",
    "  t=input_array\n",
    "  t.sort()\n",
    "  return t\n",
    "\n",
    "a=np. array ([4,5,2,10, 42,22,8, 12])\n",
    "print(order_array(a))"
   ]
  },
  {
   "cell_type": "code",
   "execution_count": null,
   "id": "2185de64",
   "metadata": {},
   "outputs": [],
   "source": []
  },
  {
   "cell_type": "markdown",
   "id": "17188c01",
   "metadata": {},
   "source": [
    "Problem 5 (5 points). You are given array my_data = np.arange( 1, 26 \n",
    ").reshape( (5, 5) ).  Access and print the numbers 4 9 14 19 24. Scan my_data \n",
    "with a for/if structure and find the maximum. Calculate the mean of the my_data using \n",
    "a for/if. How could you get the maximum and mean, much faster? "
   ]
  },
  {
   "cell_type": "code",
   "execution_count": 15,
   "id": "2ede0fc6",
   "metadata": {},
   "outputs": [
    {
     "name": "stdout",
     "output_type": "stream",
     "text": [
      "problem 5\n"
     ]
    }
   ],
   "source": [
    "print('problem 5')"
   ]
  },
  {
   "cell_type": "code",
   "execution_count": 16,
   "id": "6c96716e",
   "metadata": {},
   "outputs": [],
   "source": [
    "my_data = np.arange( 1, 26 ).reshape( (5, 5) )"
   ]
  },
  {
   "cell_type": "code",
   "execution_count": 3,
   "id": "a53b30ce",
   "metadata": {},
   "outputs": [
    {
     "name": "stdout",
     "output_type": "stream",
     "text": [
      "24\n"
     ]
    }
   ],
   "source": [
    "#finding max\n",
    "\n",
    "mydata = [4,9,14,19,24]\n",
    "max = mydata[0]\n",
    "for i in range(1,5):\n",
    "        if mydata[i] > max:\n",
    "            max = mydata[i]\n",
    "\n",
    "print(max)"
   ]
  },
  {
   "cell_type": "code",
   "execution_count": 4,
   "id": "db2f680b",
   "metadata": {},
   "outputs": [
    {
     "name": "stdout",
     "output_type": "stream",
     "text": [
      "mean :  14.0\n"
     ]
    }
   ],
   "source": [
    "#finding mean\n",
    "\n",
    "mydata = [4,9,14,19,24]\n",
    "n = len(mydata)\n",
    "sum = 0; \n",
    "for i in range(0, 5):    \n",
    "   sum = sum + mydata[i]; \n",
    " \n",
    "print(\"mean : \" , sum/n)"
   ]
  },
  {
   "cell_type": "markdown",
   "id": "1faf10e0",
   "metadata": {},
   "source": [
    "you can get the max and mean quicker by using the numpy functions"
   ]
  },
  {
   "cell_type": "code",
   "execution_count": null,
   "id": "99582adc",
   "metadata": {},
   "outputs": [],
   "source": []
  }
 ],
 "metadata": {
  "kernelspec": {
   "display_name": "Python 3 (ipykernel)",
   "language": "python",
   "name": "python3"
  },
  "language_info": {
   "codemirror_mode": {
    "name": "ipython",
    "version": 3
   },
   "file_extension": ".py",
   "mimetype": "text/x-python",
   "name": "python",
   "nbconvert_exporter": "python",
   "pygments_lexer": "ipython3",
   "version": "3.9.12"
  }
 },
 "nbformat": 4,
 "nbformat_minor": 5
}
