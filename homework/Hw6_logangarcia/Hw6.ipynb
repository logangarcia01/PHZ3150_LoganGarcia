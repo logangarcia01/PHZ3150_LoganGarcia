{
 "cells": [
  {
   "cell_type": "markdown",
   "id": "3695927e",
   "metadata": {},
   "source": [
    "Logan Garcia\n",
    "\n",
    "HW6\n",
    "\n",
    "10/6/2022"
   ]
  },
  {
   "cell_type": "markdown",
   "id": "87a41d65",
   "metadata": {},
   "source": [
    "Problem 1 (5 points). For this homework you should make a new folder called HW6/.  \n",
    "Your main homework file is a Python file named hw6_<username>.ipynb.  Save it under \n",
    "HW6/ . Remember to commit your file often and push it to GitHub (also, great backup!). \n",
    "We will check this as part of your grading!  \n",
    "Your name, assignment number, and the date should appear as comments at the top \n",
    "using markdown. Put the problems numbers in markdown comments, as well as any \n",
    "remarks or written answers you may make. If you need to comment something in the \n",
    "code (for clarity) do so with a normal comment. Print the problem number (as in \n",
    "“Problem 1:”) on a line by itself before each problem’s output. Use the print() \n",
    "function to print, don’t just type the expression.  "
   ]
  },
  {
   "cell_type": "code",
   "execution_count": 1,
   "id": "ffe477f7",
   "metadata": {},
   "outputs": [
    {
     "name": "stdout",
     "output_type": "stream",
     "text": [
      "Problem 1:\n"
     ]
    }
   ],
   "source": [
    "print('Problem 1:')"
   ]
  },
  {
   "cell_type": "code",
   "execution_count": 2,
   "id": "6d0de168",
   "metadata": {},
   "outputs": [
    {
     "name": "stdout",
     "output_type": "stream",
     "text": [
      "done\n"
     ]
    }
   ],
   "source": [
    "print('done')"
   ]
  },
  {
   "cell_type": "markdown",
   "id": "d17ed4fa",
   "metadata": {},
   "source": [
    "Problem 2 (15 points). Import numpy and matplotlib.pyplot. Create \n",
    "a numpy array x that goes from 1 up to and including 100 (last element must be \n",
    "100.0) with a step of 0.5. Create array y that is the log10 of x and array z that is equal \n",
    "to the square root of x. Plot y(x) and z(x) in the same plot. Manually specify different \n",
    "colors, line styles, line thicknesses, markers (and their size) and tickmarks for your plot. \n",
    "Add titles to your plot axis. Make sure they are legible. Save it as a pdf file using the \n",
    "appropriate naming conventions.  "
   ]
  },
  {
   "cell_type": "code",
   "execution_count": 3,
   "id": "e4a4bd32",
   "metadata": {},
   "outputs": [
    {
     "name": "stdout",
     "output_type": "stream",
     "text": [
      "Problem 2:\n"
     ]
    }
   ],
   "source": [
    "print('Problem 2:')"
   ]
  },
  {
   "cell_type": "code",
   "execution_count": 4,
   "id": "bdad44e6",
   "metadata": {},
   "outputs": [],
   "source": [
    "import numpy as np"
   ]
  },
  {
   "cell_type": "code",
   "execution_count": 19,
   "id": "f5bcf4db",
   "metadata": {},
   "outputs": [],
   "source": [
    "import matplotlib.pyplot as plt"
   ]
  },
  {
   "cell_type": "code",
   "execution_count": 20,
   "id": "66d4d915",
   "metadata": {},
   "outputs": [],
   "source": [
    "x = np.arange(1.0, 100.1, 0.5)\n",
    "\n",
    "y = np.log10(x)\n",
    "\n",
    "z = np.sqrt(x)"
   ]
  },
  {
   "cell_type": "code",
   "execution_count": 26,
   "id": "e4ff33c2",
   "metadata": {},
   "outputs": [
    {
     "data": {
      "text/plain": [
       "[<matplotlib.lines.Line2D at 0x2234b924910>]"
      ]
     },
     "execution_count": 26,
     "metadata": {},
     "output_type": "execute_result"
    },
    {
     "data": {
      "image/png": "[encoded data removed]",
      "text/plain": [
       "<Figure size 432x288 with 1 Axes>"
      ]
     },
     "metadata": {
      "needs_background": "light"
     },
     "output_type": "display_data"
    }
   ],
   "source": [
    "plt.plot (y)\n",
    "plt.plot (z)"
   ]
  },
  {
   "cell_type": "code",
   "execution_count": 46,
   "id": "7e3937ea",
   "metadata": {},
   "outputs": [
    {
     "data": {
      "image/png": "[encoded data removed]",
      "text/plain": [
       "<Figure size 432x288 with 1 Axes>"
      ]
     },
     "metadata": {
      "needs_background": "light"
     },
     "output_type": "display_data"
    }
   ],
   "source": [
    "#plot it using red dotted line for y, blue solid for z\n",
    "plt.plot  ( x, y, color = 'red', linestyle = '--', linewidth = 3 )\n",
    "plt.plot  (x, z, color = 'blue', linewidth = 3)\n",
    "\n",
    "#label on the x-axis\n",
    "plt.xlabel( 'x values' )\n",
    "\n",
    "#label on the y-axis\n",
    "plt.ylabel( 'y and z values' )\n",
    "\n",
    "#title\n",
    "plt.title( 'Problem 2' , fontsize = 30 )\n",
    "\n",
    "#change label font \n",
    "plt.xlabel( 'x values', fontsize = 20 )\n",
    "plt.ylabel( ' y and z values ' , fontsize = 20 )\n",
    "\n",
    "#tick size\n",
    "plt.xticks( fontsize = 15)\n",
    "plt.yticks(fontsize = 15)\n",
    "\n",
    "#saving as PDF\n",
    "plt.savefig('hw6_LoganGarcia_problem2_grap1.pdf', format = 'pdf', dpi = 1200, bbox_inches = 'tight', pad_inches = 0.3)"
   ]
  },
  {
   "cell_type": "markdown",
   "id": "409e57cf",
   "metadata": {},
   "source": [
    "Problem 3. (15 points) Create a numpy array q that has the values: 45, 24, 5 ,30 , 3, \n",
    "67, 33, 60, 65, 13, 82, 75, 21, 77, 67, 8, 86, 62, 23, 70, 11, 70, 21, 15, 84, 51, 6, 79, 78, \n",
    "66,  2, 93, 49, 74, 23, 85, 25, 38, 1, 89 . Print the array. Print the locations where q is \n",
    "larger than 50. Print, in one command, the elements of q that are larger than 50 and \n",
    "smaller than 70.   \n",
    "  \n",
    "Make a list q_list out of q. Print the 12th up to and including the 14th elements of  \n",
    "the list q_list. Change element 28 of the list to be 42.0. Does it work? Why/ why not? \n",
    "Explain.    \n",
    " \n",
    "Make a tuple q_tuple out of q. Print the 20th element of q_tuple. Change  \n",
    "element 21 of q_tuple to be 44.0. Does it work? Why/ why not? Explain.   \n",
    "  \n",
    "Create a list of strings word_list that contains the words ‘twinkle’, ‘twinkle’, ‘little’,  \n",
    "‘star’. Scan every word (one by one is fine, we haven’t talked about for loops yet) of  \n",
    "your list and find out which words contain a ‘e’, and which words contain an ‘a’. Also, \n",
    "find the index of the letter ‘e’ and ‘a’ in the word (e.g., in Mary ‘a’ is on 1). Is word ‘star’ \n",
    "or ‘bright’ in your word_list? Write the code to test it. "
   ]
  },
  {
   "cell_type": "code",
   "execution_count": 47,
   "id": "67f0c74e",
   "metadata": {},
   "outputs": [
    {
     "name": "stdout",
     "output_type": "stream",
     "text": [
      "problem 3:\n"
     ]
    }
   ],
   "source": [
    "print('problem 3:')"
   ]
  },
  {
   "cell_type": "code",
   "execution_count": 48,
   "id": "40ed0a91",
   "metadata": {},
   "outputs": [
    {
     "name": "stdout",
     "output_type": "stream",
     "text": [
      "[45 24  5 30  3 67 33 60 65 13 82 75 21 77 67  8 86 62 23 70 11 70 21 15\n",
      " 84 51  6 79 78 66  2 93 49 74 23 85 25 38  1 89]\n"
     ]
    }
   ],
   "source": [
    "q = np.array([45, 24, 5 ,30 , 3, 67, 33, 60, 65, 13, 82, 75, 21, 77, 67, 8, 86, 62, 23, 70, 11, 70, 21, 15, 84, 51, 6, 79, 78, 66, 2, 93, 49, 74, 23, 85, 25, 38, 1, 89])\n",
    "print(q)"
   ]
  },
  {
   "cell_type": "code",
   "execution_count": 59,
   "id": "4c3a5d00",
   "metadata": {},
   "outputs": [
    {
     "name": "stdout",
     "output_type": "stream",
     "text": [
      "[67 60 65 82 75 77 67 86 62 70 70 84 51 79 78 66 93 74 85 89]\n"
     ]
    }
   ],
   "source": [
    "#find numbers larger than 50\n",
    "print(q[np.where(q>50)])"
   ]
  },
  {
   "cell_type": "code",
   "execution_count": 60,
   "id": "a2f63d70",
   "metadata": {},
   "outputs": [
    {
     "name": "stdout",
     "output_type": "stream",
     "text": [
      "[67 60 65 67 62 51 66]\n"
     ]
    }
   ],
   "source": [
    "#find numbers between 50 and 70 in array\n",
    "print(q[np.where((q>50) & (q<70))])"
   ]
  },
  {
   "cell_type": "code",
   "execution_count": 61,
   "id": "b4809acf",
   "metadata": {},
   "outputs": [],
   "source": [
    "#make array a list\n",
    "q_list = list(q)"
   ]
  },
  {
   "cell_type": "code",
   "execution_count": 63,
   "id": "2271ebf1",
   "metadata": {},
   "outputs": [
    {
     "name": "stdout",
     "output_type": "stream",
     "text": [
      "[21, 77, 67]\n"
     ]
    }
   ],
   "source": [
    "#printing elements\n",
    "print(q_list[12:15])"
   ]
  },
  {
   "cell_type": "code",
   "execution_count": 67,
   "id": "6643559e",
   "metadata": {},
   "outputs": [],
   "source": [
    "#changing element 28 to be 42\n",
    "q_list[28] = 42"
   ]
  },
  {
   "cell_type": "code",
   "execution_count": 68,
   "id": "b236be88",
   "metadata": {},
   "outputs": [
    {
     "name": "stdout",
     "output_type": "stream",
     "text": [
      "[45, 24, 5, 30, 3, 67, 33, 60, 65, 13, 82, 75, 21, 77, 67, 8, 86, 62, 23, 70, 11, 70, 21, 15, 84, 51, 6, 79, 42, 66, 2, 93, 49, 74, 23, 85, 25, 38, 1, 89]\n"
     ]
    }
   ],
   "source": [
    "print(q_list)"
   ]
  },
  {
   "cell_type": "markdown",
   "id": "8f8084dd",
   "metadata": {},
   "source": [
    "It does work because lists are able to be changed"
   ]
  },
  {
   "cell_type": "code",
   "execution_count": 69,
   "id": "9246053c",
   "metadata": {},
   "outputs": [],
   "source": [
    "q_tuple=tuple(q)"
   ]
  },
  {
   "cell_type": "code",
   "execution_count": 70,
   "id": "18cde544",
   "metadata": {},
   "outputs": [
    {
     "name": "stdout",
     "output_type": "stream",
     "text": [
      "11\n"
     ]
    }
   ],
   "source": [
    "#printing 20th element\n",
    "print(q_tuple[20])"
   ]
  },
  {
   "cell_type": "markdown",
   "id": "0b4568dd",
   "metadata": {},
   "source": [
    "You cannot change the 21st element as tuples are not muteable"
   ]
  },
  {
   "cell_type": "code",
   "execution_count": 74,
   "id": "a81d7170",
   "metadata": {},
   "outputs": [],
   "source": [
    "#creating a string with words\n",
    "Word_list = 'twinkle', 'twinkle','little', 'star'"
   ]
  },
  {
   "cell_type": "code",
   "execution_count": 76,
   "id": "74170f08",
   "metadata": {},
   "outputs": [
    {
     "name": "stdout",
     "output_type": "stream",
     "text": [
      "for twinkle : 6\n"
     ]
    }
   ],
   "source": [
    "#finding letters in string\n",
    "print('for',Word_list[0],':',Word_list[0].find('e'))"
   ]
  },
  {
   "cell_type": "code",
   "execution_count": 77,
   "id": "eaaba765",
   "metadata": {},
   "outputs": [
    {
     "name": "stdout",
     "output_type": "stream",
     "text": [
      "for twinkle : 6\n"
     ]
    }
   ],
   "source": [
    "print('for',Word_list[1],':',Word_list[1].find('e'))"
   ]
  },
  {
   "cell_type": "code",
   "execution_count": 78,
   "id": "c44664ba",
   "metadata": {},
   "outputs": [
    {
     "name": "stdout",
     "output_type": "stream",
     "text": [
      "for little : 5\n"
     ]
    }
   ],
   "source": [
    "print('for',Word_list[2],':',Word_list[2].find('e'))"
   ]
  },
  {
   "cell_type": "code",
   "execution_count": 79,
   "id": "e6359d9a",
   "metadata": {},
   "outputs": [
    {
     "name": "stdout",
     "output_type": "stream",
     "text": [
      "for star : -1\n"
     ]
    }
   ],
   "source": [
    "print('for',Word_list[3],':',Word_list[3].find('e'))"
   ]
  },
  {
   "cell_type": "code",
   "execution_count": 80,
   "id": "4135bd70",
   "metadata": {},
   "outputs": [
    {
     "name": "stdout",
     "output_type": "stream",
     "text": [
      "for twinkle : -1\n"
     ]
    }
   ],
   "source": [
    "#to find a in the sting\n",
    "print('for',Word_list[0],':',Word_list[0].find('a'))"
   ]
  },
  {
   "cell_type": "code",
   "execution_count": 81,
   "id": "f82afa96",
   "metadata": {},
   "outputs": [
    {
     "name": "stdout",
     "output_type": "stream",
     "text": [
      "for twinkle : -1\n"
     ]
    }
   ],
   "source": [
    "print('for',Word_list[1],':',Word_list[1].find('a'))"
   ]
  },
  {
   "cell_type": "code",
   "execution_count": 82,
   "id": "ce1eaa41",
   "metadata": {},
   "outputs": [
    {
     "name": "stdout",
     "output_type": "stream",
     "text": [
      "for little : -1\n"
     ]
    }
   ],
   "source": [
    "print('for',Word_list[2],':',Word_list[2].find('a'))"
   ]
  },
  {
   "cell_type": "code",
   "execution_count": 83,
   "id": "039868b4",
   "metadata": {},
   "outputs": [
    {
     "name": "stdout",
     "output_type": "stream",
     "text": [
      "for star : 2\n"
     ]
    }
   ],
   "source": [
    "print('for',Word_list[3],':',Word_list[3].find('a'))"
   ]
  },
  {
   "cell_type": "markdown",
   "id": "731ff9ef",
   "metadata": {},
   "source": [
    "Problem 4 (15 points). Create a function word_to_number that takes as input an \n",
    "English word that corresponds to a number from 0 to 20 (‘zero’, ‘one’ etc) and returns \n",
    "the corresponding number (0, 1, etc). In the function create a dictionary that maps every \n",
    "appropriate English word to the corresponding number (so 1 will be mapped to ‘one’ ). \n",
    "The keys should be your words and the values the number. Remember to write an \n",
    "appropriate docstring for your function! In the main program call the function for: ‘three’, \n",
    "‘seven’, ‘twelve’ , ‘sixteen’ and ‘nineteen’ and print an informative statements (e.g., “ \n",
    "‘three’ is 3 “ ). \n",
    " "
   ]
  },
  {
   "cell_type": "code",
   "execution_count": 85,
   "id": "eec501b8",
   "metadata": {},
   "outputs": [
    {
     "name": "stdout",
     "output_type": "stream",
     "text": [
      "problem 4:\n"
     ]
    }
   ],
   "source": [
    "print('problem 4:')"
   ]
  },
  {
   "cell_type": "code",
   "execution_count": 89,
   "id": "096e946b",
   "metadata": {},
   "outputs": [],
   "source": [
    "def word_to_number(word):\n",
    "    \n",
    "    \"\"\" function takes a word and assigns it a number in the dictionary\n",
    "            input: a word given\n",
    "            output: a number in the dictionary  \"\"\"\n",
    "    W_to_num = {}\n",
    "    \n",
    "    W_to_num['zero'] = 0\n",
    "    W_to_num['one'] = 1\n",
    "    W_to_num['two'] = 2\n",
    "    W_to_num['three'] = 3\n",
    "    W_to_num['four'] = 4\n",
    "    W_to_num['five'] = 5\n",
    "    W_to_num['six'] = 6\n",
    "    W_to_num['seven'] = 7\n",
    "    W_to_num['eight'] = 8\n",
    "    W_to_num['nine'] = 9\n",
    "    W_to_num['ten'] = 10\n",
    "    W_to_num['eleven'] = 11\n",
    "    W_to_num['twelve'] = 12\n",
    "    W_to_num['thirteen'] = 13\n",
    "    W_to_num['fourteen'] = 14\n",
    "    W_to_num['fifteen'] = 15\n",
    "    W_to_num['sixteen'] = 16\n",
    "    W_to_num['seventeen'] = 17\n",
    "    W_to_num['eighteen'] = 18\n",
    "    W_to_num['nineteen'] = 19\n",
    "    W_to_num['twenty'] = 20\n",
    "    \n",
    "    return W_to_num[w]\n",
    "                                                    \n",
    "                "
   ]
  },
  {
   "cell_type": "code",
   "execution_count": null,
   "id": "bb2a543a",
   "metadata": {},
   "outputs": [],
   "source": []
  }
 ],
 "metadata": {
  "kernelspec": {
   "display_name": "Python 3 (ipykernel)",
   "language": "python",
   "name": "python3"
  },
  "language_info": {
   "codemirror_mode": {
    "name": "ipython",
    "version": 3
   },
   "file_extension": ".py",
   "mimetype": "text/x-python",
   "name": "python",
   "nbconvert_exporter": "python",
   "pygments_lexer": "ipython3",
   "version": "3.9.12"
  }
 },
 "nbformat": 4,
 "nbformat_minor": 5
}
