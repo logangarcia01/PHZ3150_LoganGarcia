{
 "cells": [
  {
   "cell_type": "markdown",
   "id": "7f81ee26",
   "metadata": {},
   "source": [
    "Logan Garcia\n",
    "\n",
    "Hw_8\n",
    "\n",
    "11/2/2022"
   ]
  },
  {
   "cell_type": "code",
   "execution_count": 1,
   "id": "8196f657",
   "metadata": {},
   "outputs": [],
   "source": [
    "import numpy as np\n",
    "import matplotlib.pyplot as plt"
   ]
  },
  {
   "cell_type": "markdown",
   "id": "cd7beb11",
   "metadata": {},
   "source": [
    "Problem 1 (5 points). Make a new folder named hw8_<yourname> under you handin \n",
    "folder. As always, your log is part of your homework. After each problem number, give \n",
    "your answer and the names of any files you are handing in for each problem. If you \n",
    "made a HW8 entry in your log in a prior session and want to change it, just copy it to the \n",
    "current (last) session, and edit there. We will grade the last entry only. All text related to \n",
    "one assignment should be in one entry, with the problems done in order."
   ]
  },
  {
   "cell_type": "code",
   "execution_count": 2,
   "id": "8e1f6551",
   "metadata": {},
   "outputs": [
    {
     "name": "stdout",
     "output_type": "stream",
     "text": [
      "Problem 1:\n"
     ]
    }
   ],
   "source": [
    "print('Problem 1:')"
   ]
  },
  {
   "cell_type": "code",
   "execution_count": 3,
   "id": "5249111b",
   "metadata": {},
   "outputs": [
    {
     "name": "stdout",
     "output_type": "stream",
     "text": [
      "done\n"
     ]
    }
   ],
   "source": [
    "print('done')"
   ]
  },
  {
   "cell_type": "markdown",
   "id": "8cf0e53f",
   "metadata": {},
   "source": [
    "Problem 2. (20 points) In the early 17th century Kepler used observations of the \n",
    "motions of planets in our Solar System to derive his now famous laws of planetary \n",
    "motion. According to these laws, all planets in our Solar system move around in \n",
    "elliptical orbits with the Sun in one focus (1st law), their speed varies along the orbit with \n",
    "the further they are from the Sun the slower they move (2nd law) and their orbits are \n",
    "such that the square of their period is proportional to the cube of their (average) \n",
    "distance to the Sun (3rd law). Here you will test the validity of the 3rd law to planets of \n",
    "our Solar system and extrapolate it to constrain the orbital distance of three exoplanets \n",
    "from their parent stars.\n",
    "In a file hw8_support_funct.py make a function called kepler_3rd(period) that \n",
    "gets as input the orbital period of a planet in years and returns the orbital distance of a \n",
    "planet to the Sun. This function should use the simple approximation for the 3rd law: 𝑃^2 ∝ α^3, since it will focus on planets of our Solar system. From Kepler’s 3rd law 𝑃^2/𝛼^3= constant, so you can deduce that 𝑃^2/P^2 (sub)2 = 𝛼^1 (sub)3/𝑎^2 (sub)3. Use this equation in your function. \n",
    "Write an appropriate docstring. \n",
    "Use the (P,α) properties of our Earth as the reference point (P1,α1). Remember that the \n",
    "period of our Earth is 1 year or 365.25 days and a_orb = 1 AU (1 Astronomical Unit ~ \n",
    "150,000,000km or 92,967,000 miles). \n",
    "Import the function in your main homework .py and calculate the distances of the other \n",
    "planets of our Solar system using the observed periods from the following table:\n",
    "\n",
    "Planet Period [days]\n",
    "\n",
    "Mercury 87.96\n",
    "\n",
    "Venus 224.7 \n",
    "\n",
    "Mars 686.97 \n",
    "\n",
    "Jupiter 4332.82 \n",
    "\n",
    "Saturn 10775.6\n",
    "\n",
    "Uranus 30687.15\n",
    "\n",
    "Neptune 60190.03\n",
    "\n",
    "\n",
    "How do the values you get compare to the actual distances of the planets (0.4 AU ; 0.7 \n",
    "AU ; 1.524 AU ; 5.2 AU ; 9.6 AU ; 19.2 AU and 30.1AU ) ? Make a plot that compares \n",
    "the real distances with the ones you retrieve from Kepler's law. Make sure you specify\n",
    "manually different symbols and colors for the two sets (predicted and real distances).\n"
   ]
  },
  {
   "cell_type": "code",
   "execution_count": 4,
   "id": "ed5f6cab",
   "metadata": {},
   "outputs": [
    {
     "name": "stdout",
     "output_type": "stream",
     "text": [
      "Problem 2:\n"
     ]
    }
   ],
   "source": [
    "print('Problem 2:')"
   ]
  },
  {
   "cell_type": "code",
   "execution_count": 5,
   "id": "eda70ef6",
   "metadata": {},
   "outputs": [],
   "source": [
    "#importing kepler_3rd function\n",
    "from hw8_support_funct import kepler_3rd"
   ]
  },
  {
   "cell_type": "code",
   "execution_count": 6,
   "id": "a3092ac7",
   "metadata": {
    "scrolled": false
   },
   "outputs": [
    {
     "data": {
      "text/plain": [
       "array([ 0.38707637,  0.72333903,  1.52369613,  5.20140034,  9.54774529,\n",
       "       19.18275092, 30.05773308])"
      ]
     },
     "execution_count": 6,
     "metadata": {},
     "output_type": "execute_result"
    }
   ],
   "source": [
    "Planet_days = [87.96, 224.7, 686.97, 4332.82, 10775.6, 30687.15, 60190.03]\n",
    "kepler_3rd(Planet_days)"
   ]
  },
  {
   "cell_type": "code",
   "execution_count": 7,
   "id": "12797577",
   "metadata": {},
   "outputs": [
    {
     "data": {
      "text/plain": [
       "<matplotlib.collections.PathCollection at 0x2477c6f9d60>"
      ]
     },
     "execution_count": 7,
     "metadata": {},
     "output_type": "execute_result"
    },
    {
     "data": {
      "image/png": "[encoded data removed]",
      "text/plain": [
       "<Figure size 1080x1080 with 1 Axes>"
      ]
     },
     "metadata": {
      "needs_background": "light"
     },
     "output_type": "display_data"
    }
   ],
   "source": [
    "planet_names = ['Mercury','Venus','Mars','Jupiter','Saturn', 'Uranus', 'Neptune']\n",
    "Actual_Au = [0.4, 0.7, 1.524, 5.2, 9.6, 19.2, 30.1]\n",
    "\n",
    "plt.figure(figsize = (15,15))\n",
    "\n",
    "#Plotting Function for Calculated Au\n",
    "plt.scatter(planet_names, kepler_3rd(Planet_days), marker = '_', color = 'Blue')\n",
    "\n",
    "#Plotting Given Au\n",
    "plt.scatter(planet_names, Actual_Au, marker = '_', color = 'magenta')"
   ]
  },
  {
   "cell_type": "code",
   "execution_count": null,
   "id": "d5206742",
   "metadata": {},
   "outputs": [],
   "source": []
  },
  {
   "cell_type": "markdown",
   "id": "fb657dff",
   "metadata": {},
   "source": [
    "Problem 3 (20 points) Do your homework(!) In Python. \n",
    "a) (5 points) Choose any problem from a recent homework assignment or other \n",
    "assessment in another class that involves something you need to calculate or \n",
    "derive and that you can plot. State the class, section, assignment, and item \n",
    "number. State (or take a photo/ make a screenshot of) the problem. State (or \n",
    "take a photo/ make a screenshot of) your solution as given in that class \n",
    "(corrected by you). \n",
    "\n",
    "b) (15 points) Now, code your solution and make and save one or more plots. Your \n",
    "code must use two or more of: control flow structures (conditional, loops, function \n",
    "calls), when possible, avoid loops and use NumPy array math (you’ll get bonus 5 \n",
    "points for actively doing this, provided it is appropriate), broadcasting, string \n",
    "formatting, reading or writing data to/from a file, masks. However, everything you \n",
    "write should be natural and belong in the code. "
   ]
  },
  {
   "cell_type": "markdown",
   "id": "47146abe",
   "metadata": {},
   "source": [
    "Class: PHZ3150-22 0001\n",
    "\n",
    "Assignment: Hw4\n",
    "\n",
    "Problem: 2 (The Last Half where using the Function)\n",
    "\n",
    "\n",
    "In this Problem, I took the homework 4 function force_acceleration and also created a .dat file from the numbers given from the homework. I then read the data file, assigned a variable for each of the columns and then imported the function and ran it. Then created a plot showing the function."
   ]
  },
  {
   "cell_type": "code",
   "execution_count": 38,
   "id": "84017734",
   "metadata": {},
   "outputs": [
    {
     "name": "stdout",
     "output_type": "stream",
     "text": [
      "Problem 3:\n"
     ]
    }
   ],
   "source": [
    "print('Problem 3:')"
   ]
  },
  {
   "cell_type": "code",
   "execution_count": 4,
   "id": "58038495",
   "metadata": {},
   "outputs": [],
   "source": [
    "#Calling the data file created with the data given from the HW4\n",
    "Force_Mass = np.genfromtxt('Force_mass.dat')"
   ]
  },
  {
   "cell_type": "code",
   "execution_count": 5,
   "id": "d8812ae5",
   "metadata": {},
   "outputs": [
    {
     "name": "stdout",
     "output_type": "stream",
     "text": [
      "[[100. 150.]\n",
      " [ 22. 150.]\n",
      " [450. 150.]]\n"
     ]
    }
   ],
   "source": [
    "print(Force_Mass)"
   ]
  },
  {
   "cell_type": "code",
   "execution_count": 6,
   "id": "75c24f2c",
   "metadata": {},
   "outputs": [
    {
     "name": "stdout",
     "output_type": "stream",
     "text": [
      "[100.  22. 450.] [150. 150. 150.]\n"
     ]
    }
   ],
   "source": [
    "Force = Force_Mass[:,0]\n",
    "Mass = Force_Mass[:,1]\n",
    "\n",
    "print(Force, Mass)"
   ]
  },
  {
   "cell_type": "code",
   "execution_count": 7,
   "id": "abca5ade",
   "metadata": {},
   "outputs": [],
   "source": [
    "from force_acceleration import force_acceleration"
   ]
  },
  {
   "cell_type": "code",
   "execution_count": 8,
   "id": "19653e47",
   "metadata": {},
   "outputs": [
    {
     "data": {
      "text/plain": [
       "array([0.66666667, 0.14666667, 3.        ])"
      ]
     },
     "execution_count": 8,
     "metadata": {},
     "output_type": "execute_result"
    }
   ],
   "source": [
    "force_acceleration(Force,Mass)"
   ]
  },
  {
   "cell_type": "code",
   "execution_count": 37,
   "id": "6e7805b9",
   "metadata": {},
   "outputs": [
    {
     "data": {
      "text/plain": [
       "Text(0, 0.5, 'Mass')"
      ]
     },
     "execution_count": 37,
     "metadata": {},
     "output_type": "execute_result"
    },
    {
     "data": {
      "image/png": "[encoded data removed]",
      "text/plain": [
       "<Figure size 432x288 with 1 Axes>"
      ]
     },
     "metadata": {
      "needs_background": "light"
     },
     "output_type": "display_data"
    }
   ],
   "source": [
    "plt.plot  ( Mass, color = 'red', linestyle = '--', linewidth = 3 )\n",
    "plt.plot  (force_acceleration(Force,Mass),Force, color = 'blue', linewidth = 3)\n",
    "\n",
    "#label on the x-axis\n",
    "plt.xlabel( 'Acceleration' )\n",
    "\n",
    "#label on the y-axis\n",
    "plt.ylabel( 'Mass' )"
   ]
  },
  {
   "cell_type": "markdown",
   "id": "cc535ab0",
   "metadata": {},
   "source": [
    "Problem 4 (15 points) Graduation season is coming, and you need to buy presents for \n",
    "all your friends graduating! Surprising your friends with many little presents which you \n",
    "hide in one big box is more fun than getting them one big present. The logistics though, \n",
    "are hard. To prepare for that, you need to find out how much wrapping paper you will \n",
    "need for the boxes and how many presents you can fit in every box! Create a class \n",
    "graduation_presents that uses the dimensions a,b,c of a box to calculate the \n",
    "box’s surface area and volume. Assume that your dimensions are in inches. The class \n",
    "should also know how much wrapping paper you have (in inches2\n",
    ") and how many \n",
    "presents you want to fit in your box. Use a proper initiation function. \n",
    "Your class should contain: \n",
    "a) An initiation function\n",
    "b) a function that returns the surface area of the box (named, e.g.,\n",
    "surface_area), \n",
    "c) a function that returns the volume of the box (e.g., volume), \n",
    "d) a function that checks if you have enough wrapping paper to cover your box \n",
    "(enough_paper) \n",
    "e) a function that checks if your box can fit all the presents (fits; assuming that \n",
    "the average volume of a gift is 25 inches3\n",
    ") and \n",
    "f) a function (print_gift) that combines all these information and lets you know \n",
    "(with print() statements) if you have enough wrapping paper to wrap your box, if \n",
    "your gifts fit in the box, or if nothing is right. \n",
    "Test it for the following combinations:\n",
    "a b c number_of_gifts wrap_paper_available\n",
    "10 10 10 15 800\n",
    "10 10 10 55 1000\n",
    "100 20 10 55 300"
   ]
  },
  {
   "cell_type": "code",
   "execution_count": 43,
   "id": "220cc57d",
   "metadata": {},
   "outputs": [
    {
     "name": "stdout",
     "output_type": "stream",
     "text": [
      "Problem 4:\n"
     ]
    }
   ],
   "source": [
    "print('Problem 4:')"
   ]
  },
  {
   "cell_type": "code",
   "execution_count": 50,
   "id": "f386b240",
   "metadata": {},
   "outputs": [
    {
     "name": "stdout",
     "output_type": "stream",
     "text": [
      "Enter value of a:120\n",
      "Enter value of b:10\n",
      "Enter value of c:30\n",
      "Enter number of gifts:55\n",
      "Enter wrap paper available:300\n",
      "You do not have enough wrapping paper to wrap your box.\n"
     ]
    }
   ],
   "source": [
    "class graduation_presents:\n",
    "\n",
    "#initiating function\n",
    "    def __init__(self,a,b,c,number_of_gifts,wrap_paper_available):\n",
    "        self.a=a\n",
    "        self.b=b\n",
    "        self.c=c\n",
    "        self.number_of_gifts=number_of_gifts\n",
    "        self.wrap_paper_available=wrap_paper_available\n",
    "\n",
    "#function to calculate the surface area\n",
    "    def surface_area(self): \n",
    "        return 2*((self.a*self.b)+(self.a*self.c)+(self.b*self.c))\n",
    "\n",
    "#function to calculate the volume   \n",
    "    def volume(self):\n",
    "        return self.a*self.b*self.c\n",
    "\n",
    "#function to check if wrapping paper is available\n",
    "    def enough_paper(self):\n",
    "        if self.surface_area()<=self.wrap_paper_available:\n",
    "            return True\n",
    "        else:\n",
    "            return False\n",
    "\n",
    "#function checking if box will fit all presents    \n",
    "    def fits(self):\n",
    "        if self.volume()>=self.number_of_gifts*25:\n",
    "            return True\n",
    "        else:\n",
    "            return False\n",
    "\n",
    "#function printing final result\n",
    "    def print_gift(self): \n",
    "        if self.enough_paper() and self.fits():\n",
    "            print(\"You have enough wrapping paper to wrap your box and your gifts fit in the box.\")\n",
    "        elif self.enough_paper() and not self.fits():\n",
    "            print(\"You have enough wrapping paper to wrap your box but your gifts do not fit in the box.\")\n",
    "        else:\n",
    "            print(\"You do not have enough wrapping paper to wrap your box.\")\n",
    "\n",
    "#input values            \n",
    "a=int(input(\"Enter value of a:\"))\n",
    "b=int(input(\"Enter value of b:\"))\n",
    "c=int(input(\"Enter value of c:\"))\n",
    "number_of_gifts=int(input(\"Enter number of gifts:\"))\n",
    "wrap_paper_available=int(input(\"Enter wrap paper available:\"))\n",
    "\n",
    "#create object\n",
    "g=graduation_presents(a,b,c,number_of_gifts,wrap_paper_available)\n",
    "\n",
    "#call function\n",
    "g.print_gift()\n"
   ]
  },
  {
   "cell_type": "code",
   "execution_count": null,
   "id": "5df042dd",
   "metadata": {},
   "outputs": [],
   "source": []
  },
  {
   "cell_type": "code",
   "execution_count": null,
   "id": "5638bfea",
   "metadata": {},
   "outputs": [],
   "source": []
  }
 ],
 "metadata": {
  "kernelspec": {
   "display_name": "Python 3 (ipykernel)",
   "language": "python",
   "name": "python3"
  },
  "language_info": {
   "codemirror_mode": {
    "name": "ipython",
    "version": 3
   },
   "file_extension": ".py",
   "mimetype": "text/x-python",
   "name": "python",
   "nbconvert_exporter": "python",
   "pygments_lexer": "ipython3",
   "version": "3.9.12"
  }
 },
 "nbformat": 4,
 "nbformat_minor": 5
}
