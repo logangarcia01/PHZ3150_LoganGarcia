{
 "cells": [
  {
   "cell_type": "markdown",
   "id": "bce7a23a",
   "metadata": {},
   "source": [
    "Logan Garcia\n",
    "\n",
    "11/16/2022\n",
    "\n",
    "HW 9"
   ]
  },
  {
   "cell_type": "code",
   "execution_count": 1,
   "id": "de0eacc6",
   "metadata": {},
   "outputs": [],
   "source": [
    "import numpy as np\n",
    "import matplotlib as plt"
   ]
  },
  {
   "cell_type": "markdown",
   "id": "f0be8fad",
   "metadata": {},
   "source": [
    "Problem 1 (5 points). Make a new folder named hw9_<yourname>. As always, your \n",
    "log is part of your homework. After each problem number, give your answer and the \n",
    "names of any files you are handing in for each problem. If you made a HW9 entry in \n",
    "your log in a prior session and want to change it, just copy it to the current (last) \n",
    "session, and edit there. We will grade the last entry only. All text related to one \n",
    "assignment should be in one entry, with the problems done in order. "
   ]
  },
  {
   "cell_type": "code",
   "execution_count": 2,
   "id": "bb0709b8",
   "metadata": {},
   "outputs": [
    {
     "name": "stdout",
     "output_type": "stream",
     "text": [
      "Problem 1:\n"
     ]
    }
   ],
   "source": [
    "print('Problem 1:')"
   ]
  },
  {
   "cell_type": "code",
   "execution_count": 3,
   "id": "af4b4424",
   "metadata": {},
   "outputs": [
    {
     "name": "stdout",
     "output_type": "stream",
     "text": [
      "Done\n"
     ]
    }
   ],
   "source": [
    "print('Done')"
   ]
  },
  {
   "cell_type": "markdown",
   "id": "440852d0",
   "metadata": {},
   "source": [
    "Problem 2 (30 points total). You are in the committee for organizing your town’s \n",
    "triathlon and you need to have an estimate for how long the event will take, and who \n",
    "might win it. \n",
    " \n",
    "a)  (5 points) Create a numpy array sports with the average distance per sport \n",
    "(swim, bike, run) : 1500, 40000, 10000.  \n",
    "‘Mapping’ the names of athletes to an ID number (e.g, Mary = 1, John = 2 etc) \n",
    "create a numpy array athletes_times that contains information about each \n",
    "participant’s average speed per sport (so you will have a (6,4)  array containing \n",
    "the data in the green shaded area of this table): \n",
    " \n",
    "Participant ID m/s for \n",
    "swimming \n",
    "m/s for biking m/s for \n",
    "running \n",
    "Mary 1 1.204 6.6 0.32 \n",
    "John 2 1.212 6.5 0.36 \n",
    "Peter 3 1.14 6.6 0.38 \n",
    "Mafalda 4 1.12 6.2 0.38 \n",
    "Paul 5 1.24 5.6 0.4 \n",
    "Lionel 6 1.201 6.0 0.3 \n",
    " \n",
    " \n",
    "b)  (10 points)  Make a file hw9_support_funct.py  where you will store all your \n",
    "functions for this homework. In hw9_support_funct.py  create a function \n",
    "triathlon_time(sports,athletes_times) that gets as input your two \n",
    "arrays and outputs an informative message about which participant will finish first \n",
    "and their expected time in hours, and which one will finish last and their expected \n",
    "time in hours. Remember to use an appropriate docstring. \n",
    " \n",
    "c) (4 points) Change the list sports into a dictionary sports with keywords the \n",
    "sports, and values the total distance for each sport. Change athletes_times \n",
    "into a dictionary that has as keywords the names of participating athletes. For \n",
    "each participant (i.e., for each key) create a list with their average speed per \n",
    "sport (i.e., the appropriate dictionary values). \n",
    " \n",
    "d)  (8 points) In hw9_support_funct.py  create function \n",
    "triathlon_time_dict(sports,athletes_times)that get as input your \n",
    "two dictionaries and like triathlon_time(sports,athletes) outputs an \n",
    "informative message about which participant will finish first -- and their expected \n",
    "time in hours -- and which one will finish last and their expected time in hours.  \n",
    " \n",
    "Tip 1: to simplify the problem you can gather the total distances the athletes need \n",
    "to cover in a list or array in your triathlon_time_dict. \n",
    "Tip 2: Scan over your athletes dictionary, and using their average speed per \n",
    "sport calculate the total time each one needs to finish the race. Find the minimum \n",
    "and maximum of these times and use that for your print() statements. \n",
    " \n",
    " \n",
    "e)  (3 points) Import and call your functions (both triathlon_time and \n",
    "triathlon_time_dict) and let me know who finishes first and who last, and \n",
    "what their times will be."
   ]
  },
  {
   "cell_type": "markdown",
   "id": "11874503",
   "metadata": {},
   "source": [
    "Note: I could not get this problem to run by importing the function it kept saying np was not define when it was, so i put it in whole thing in the HW "
   ]
  },
  {
   "cell_type": "code",
   "execution_count": 4,
   "id": "c958f6eb",
   "metadata": {},
   "outputs": [
    {
     "name": "stdout",
     "output_type": "stream",
     "text": [
      "Problem 2:\n"
     ]
    }
   ],
   "source": [
    "print('Problem 2:')"
   ]
  },
  {
   "cell_type": "code",
   "execution_count": 16,
   "id": "0377acc0",
   "metadata": {},
   "outputs": [
    {
     "name": "stdout",
     "output_type": "stream",
     "text": [
      "The athletes array is given by:\n",
      " {'Mary': [1.204, 6.6, 0.32], 'John': [1.212, 6.5, 0.36], 'Peter': [1.14, 6.6, 0.38], 'Mafalda': [1.12, 6.2, 0.38], 'Paul': [1.24, 5.6, 0.4], 'Lionel': [1.201, 6.0, 0.3]}\n",
      " \n",
      "The participant who finished first with expected time 9.264592933947771 hours is Paul\n",
      " \n",
      "The participant who finished last with expected time 11.458044222407253 hours is Lionel\n",
      " \n",
      "The athletes dictionary is given by :\n",
      " {'Mary': [1.204, 6.6, 0.32], 'John': [1.212, 6.5, 0.36], 'Peter': [1.14, 6.6, 0.38], 'Mafalda': [1.12, 6.2, 0.38], 'Paul': [1.24, 5.6, 0.4], 'Lionel': [1.201, 6.0, 0.3]}\n",
      " \n",
      "The participant who finished first with expected time 9.264592933947771 hours is Paul\n",
      " \n",
      "The participant who finished last with expected time 11.458044222407253 hours is Lionel\n"
     ]
    }
   ],
   "source": [
    "#Part A\n",
    "sports=np.array([1500,40000,10000])\n",
    "\n",
    "athletes_list=['Mary','John','Peter','Mafalda','Paul','Lionel']\n",
    "\n",
    "athletes_times=np.array([[1.204,6.6,0.32],\n",
    "                   [1.212,6.5,0.36],\n",
    "                   [1.14,6.6,0.38],\n",
    "                   [1.12,6.2,0.38],\n",
    "                   [1.24,5.6,0.4],\n",
    "                   [1.201,6.0,0.3]])\n",
    "print(\"The athletes array is given by:\\n\",athletes)\n",
    "print(\" \")\n",
    "\n",
    "#part B function triathlon_time\n",
    "def triathlon_time(sports,athletes_time):\n",
    "    \n",
    "    sports=np.repeat(sports.reshape(1,-1),6,axis=0) \n",
    "    \n",
    "    time=np.divide(sports,athletes_time)\n",
    "    \n",
    "    total_time=(np.sum(time,axis=1)/3600).tolist()\n",
    "    \n",
    "    index_last=np.argmax(total_time)\n",
    "    \n",
    "    index_first=np.argmin(total_time)\n",
    "    \n",
    "    print(\"The participant who finished first with expected time {} hours is {}\".format(total_time[index_first],athletes_list[index_first]))\n",
    "    print(\" \")\n",
    "    print(\"The participant who finished last with expected time {} hours is {}\".format(total_time[index_last],athletes_list[index_last]))\n",
    " \n",
    "\n",
    "triathlon_time(sports,athletes_time)\n",
    "print(\" \")\n",
    "\n",
    "#part c create the sports dictionary\n",
    "sports={'swimming':1500,'biking':40000,\"running\":10000}\n",
    "\n",
    "# Part D create thhe athletes dictionary\n",
    "athletes={\"Mary\":[1.204,6.6 ,0.32],\"John\": [1.212,6.5,0.36],\"Peter\":[1.14,6.6,0.38],\n",
    "          \"Mafalda\":[1.12 ,6.2 ,0.38],\"Paul\":[1.24 ,5.6,0.4],\"Lionel\":[1.201,6.0,0.3]}\n",
    "print(\"The athletes dictionary is given by :\\n\",athletes)\n",
    "print(\" \")\n",
    "\n",
    "#PartE\n",
    "def triathlon_time_dict(sports,athletes):\n",
    "    sports_values=np.array(list(sports.values()))\n",
    "    \n",
    "    dict_expected={}\n",
    "    \n",
    "    for key,value in athletes.items():\n",
    "        dict_expected[key]=np.sum(np.divide(sports_values,np.array(value)))/3600\n",
    "        \n",
    "    dict_expected=sorted(dict_expected.items(),key=lambda item:item[1]) \n",
    "    \n",
    "    print(\"The participant who finished first with expected time {} hours is {}\".format(dict_expected[0][1],dict_expected[0][0]))\n",
    "    print(\" \")\n",
    "    print(\"The participant who finished last with expected time {} hours is {}\".format(dict_expected[-1][1],dict_expected[-1][0]))\n",
    " \n",
    "\n",
    "triathlon_time_dict(sports,athletes)"
   ]
  },
  {
   "cell_type": "markdown",
   "id": "4a372690",
   "metadata": {},
   "source": [
    "Problem 3 (15 points). We want to build an electric circuit with N resistors. What will the \n",
    "properties of our circuit be if we connect them in series or in parallel?  In \n",
    "hw9_support_funct.py  make a function my_circuit that takes as input 1) a \n",
    "string with information on whether your circuit is in series or parallel configuration, 2) the \n",
    "number of resistors, 3) a numpy array with their individual resistances and 4) the \n",
    "voltage (V) or amperage ( I ) of the circuit (depending on if it is parallel or series). The \n",
    "function should return information about the total resistance of the system and the total \n",
    "voltage (for series circuit) or amperage (for a parallel circuit). Remember that for a \n",
    "series circuit the total resistance is Rtot = Σi ( Ri ) and for a parallel circuit 1/Rtot = \n",
    "Σi (1/Ri ). For a circuit in series I = const;  and in parallel V= const.   Also, from Ohm's \n",
    "law: R = V/ I . \n",
    "Import your function and call it for a series circuit with 3 resistors with resistances \n",
    "of  5.0, 2.0 and  7.0 Ω  and a current I = 10 A; and a parallel circuit with 3 resistors with \n",
    "resistances of 12.0, 5.0 and 20.0 Ω  and a voltage of 15V. "
   ]
  },
  {
   "cell_type": "code",
   "execution_count": 17,
   "id": "9a6fcd84",
   "metadata": {},
   "outputs": [
    {
     "name": "stdout",
     "output_type": "stream",
     "text": [
      "Problem 3:\n"
     ]
    }
   ],
   "source": [
    "print('Problem 3:')"
   ]
  },
  {
   "cell_type": "code",
   "execution_count": 2,
   "id": "009c08e9",
   "metadata": {},
   "outputs": [],
   "source": [
    "from hw9_support_funct import my_circuit"
   ]
  },
  {
   "cell_type": "code",
   "execution_count": 3,
   "id": "9214f846",
   "metadata": {},
   "outputs": [],
   "source": [
    "X = [5,7,2]"
   ]
  },
  {
   "cell_type": "code",
   "execution_count": 4,
   "id": "1f2f9ed5",
   "metadata": {},
   "outputs": [
    {
     "name": "stdout",
     "output_type": "stream",
     "text": [
      "The total resistance of this series circuit is: 14  Ohms, and its voltage is: 140 V.\n"
     ]
    }
   ],
   "source": [
    "my_circuit(\"series\",3,X,10)"
   ]
  },
  {
   "cell_type": "code",
   "execution_count": 5,
   "id": "d2cf039a",
   "metadata": {},
   "outputs": [],
   "source": [
    "X = [12,5,20]"
   ]
  },
  {
   "cell_type": "code",
   "execution_count": 6,
   "id": "67806d46",
   "metadata": {},
   "outputs": [
    {
     "name": "stdout",
     "output_type": "stream",
     "text": [
      "The total resistance of this parallel circuit is: 0.3333333333333333  Ohms, and its Amperage is: 5.0 A.\n"
     ]
    }
   ],
   "source": [
    "my_circuit(\"parallel\",3,X,15)"
   ]
  },
  {
   "cell_type": "markdown",
   "id": "ac8fb2ad",
   "metadata": {},
   "source": [
    "Problem 4 (15 points) A piston has a volume V containing dry air (an ideal gas) with \n",
    "pressure P and temperature T. Under the ideal gas law 𝑃𝑉\n",
    "𝑇 =𝑐𝑜𝑛𝑠𝑡. Under adiabatic \n",
    "expansion, where no heat is added or removed, 𝑃𝑉γ =𝑐𝑜𝑛𝑠𝑡, where γ= cp=cv = 1.4 for \n",
    "dry air, and cp and cv are the heat capacities at constant pressure and volume, \n",
    "respectively.  \n",
    " \n",
    "Consider a piston that starts with volume 1 liter and pressure 1 atm at 300 K. It \n",
    "compresses to 0.1 liter. \n",
    " \n",
    "a)  (8 points) In hw9_support_funct.py make a function \n",
    "piston(V,P0,V0,T0,gamma) that takes an array of N volumes, initial (P; V; T) \n",
    "values, and γ. The function should then calculate the pressures for the piston \n",
    "volumes in V, using the adiabatic law. Then, the function should calculate the \n",
    "temperatures using the ideal gas law. The function should return an (N, 3) array \n",
    "containing (P; V; T) values. Remember to use good coding style and to include a \n",
    "docstring!  \n",
    "Import the function in your main homework, call it and print the returned array for \n",
    "V = np.linspace(1,0.1,40).  \n",
    " \n",
    "b)  (7 points) Make a 3D plot of your (P; V; T) triples as a curve in space. Be sure to \n",
    "include labels with units on each axis and a title. Save the plot as PNG using the \n",
    "appropriate naming conventions of this course."
   ]
  },
  {
   "cell_type": "code",
   "execution_count": 7,
   "id": "af81e920",
   "metadata": {},
   "outputs": [
    {
     "name": "stdout",
     "output_type": "stream",
     "text": [
      "Problem 4:\n"
     ]
    }
   ],
   "source": [
    "print('Problem 4:')"
   ]
  },
  {
   "cell_type": "code",
   "execution_count": null,
   "id": "9182e397",
   "metadata": {},
   "outputs": [],
   "source": []
  }
 ],
 "metadata": {
  "kernelspec": {
   "display_name": "Python 3 (ipykernel)",
   "language": "python",
   "name": "python3"
  },
  "language_info": {
   "codemirror_mode": {
    "name": "ipython",
    "version": 3
   },
   "file_extension": ".py",
   "mimetype": "text/x-python",
   "name": "python",
   "nbconvert_exporter": "python",
   "pygments_lexer": "ipython3",
   "version": "3.9.12"
  }
 },
 "nbformat": 4,
 "nbformat_minor": 5
}
