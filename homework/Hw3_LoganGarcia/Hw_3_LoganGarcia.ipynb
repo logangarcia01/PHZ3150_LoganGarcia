{
 "cells": [
  {
   "cell_type": "code",
   "execution_count": 1,
   "id": "8a7ffb1f",
   "metadata": {},
   "outputs": [],
   "source": [
    "# practice notebook"
   ]
  },
  {
   "cell_type": "code",
   "execution_count": 3,
   "id": "6db6080a",
   "metadata": {},
   "outputs": [
    {
     "name": "stdout",
     "output_type": "stream",
     "text": [
      "1000\n",
      "90\n"
     ]
    }
   ],
   "source": [
    "x = 10\n",
    "y = 100\n",
    "\n",
    "z = x * y\n",
    "\n",
    "w = y - x\n",
    "\n",
    "print (z)\n",
    "\n",
    "print (w)"
   ]
  },
  {
   "cell_type": "code",
   "execution_count": 4,
   "id": "235e0adb",
   "metadata": {},
   "outputs": [],
   "source": [
    "min = 3 # min is not a good variable as min normally means the minimum and is a function."
   ]
  },
  {
   "cell_type": "code",
   "execution_count": 5,
   "id": "e1721229",
   "metadata": {},
   "outputs": [
    {
     "name": "stdout",
     "output_type": "stream",
     "text": [
      "2\n"
     ]
    }
   ],
   "source": [
    "q = 1\n",
    "\n",
    "q = 1 + 1\n",
    "\n",
    "print (q)"
   ]
  },
  {
   "cell_type": "code",
   "execution_count": 6,
   "id": "270f7843",
   "metadata": {},
   "outputs": [
    {
     "name": "stdout",
     "output_type": "stream",
     "text": [
      "20\n"
     ]
    }
   ],
   "source": [
    "q = q * 10\n",
    "\n",
    "print(q)"
   ]
  },
  {
   "cell_type": "code",
   "execution_count": null,
   "id": "06090522",
   "metadata": {},
   "outputs": [],
   "source": []
  }
 ],
 "metadata": {
  "kernelspec": {
   "display_name": "Python 3 (ipykernel)",
   "language": "python",
   "name": "python3"
  },
  "language_info": {
   "codemirror_mode": {
    "name": "ipython",
    "version": 3
   },
   "file_extension": ".py",
   "mimetype": "text/x-python",
   "name": "python",
   "nbconvert_exporter": "python",
   "pygments_lexer": "ipython3",
   "version": "3.9.12"
  }
 },
 "nbformat": 4,
 "nbformat_minor": 5
}
