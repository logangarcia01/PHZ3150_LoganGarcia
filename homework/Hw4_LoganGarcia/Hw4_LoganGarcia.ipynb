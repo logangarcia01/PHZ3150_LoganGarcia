{
 "cells": [
  {
   "cell_type": "markdown",
   "id": "bd9dbc5a",
   "metadata": {},
   "source": [
    "Logan Garcia, Hw_4, Sep 14 2022 "
   ]
  },
  {
   "cell_type": "code",
   "execution_count": 1,
   "id": "2e5969a9",
   "metadata": {},
   "outputs": [
    {
     "name": "stdout",
     "output_type": "stream",
     "text": [
      "problem 1\n"
     ]
    }
   ],
   "source": [
    "print ('problem 1')"
   ]
  },
  {
   "cell_type": "markdown",
   "id": "74b47245",
   "metadata": {},
   "source": [
    " Make a new folder named hw4_<yourname> under you\n",
    "homework folder. For this homework your main homework file is a Python file named\n",
    "hw4_<username>.ipynb. Save it in your homework folder. Remember to commit\n",
    "your files and push to GitHub (also, great backup!).\n",
    "Your name, assignment number, and the date should appear as comments at the top of\n",
    "the notebook. At the start of every problem write the problem number using markdown\n",
    "comments. Any remarks or written answers you may make should be written with\n",
    "markdown. If you need to comment something in the code (for coding clarity) do so with\n",
    "a normal comment (i.e., # this is a comment). Remember that using comments is\n",
    "good coding practice, and it will be taken into account during the grading process.\n",
    "Print the problem number (as in “Problem 1:”) before each problem’s output. Use\n",
    "the print() function to print, don’t just type the expression."
   ]
  },
  {
   "cell_type": "markdown",
   "id": "f5d95c3f",
   "metadata": {},
   "source": [
    "Completed"
   ]
  },
  {
   "cell_type": "markdown",
   "id": "0f27ff17",
   "metadata": {},
   "source": [
    "Problem 2 \n",
    "\n",
    "We have a body of mass m (kg). When a force F (N) acts on it,\n",
    "according to Newton’s second law, the body will get an acceleration a (m/s2\n",
    ").\n",
    "Remember that F=ma. Write an expression that calculates F for the following mass and\n",
    "acceleration pairs:\n",
    "\n",
    ". 10->5\n",
    ". 15->10\n",
    ". 20->5\n",
    ". 40->3"
   ]
  },
  {
   "cell_type": "code",
   "execution_count": 2,
   "id": "a86359c2",
   "metadata": {},
   "outputs": [
    {
     "name": "stdout",
     "output_type": "stream",
     "text": [
      "Problem 2\n"
     ]
    }
   ],
   "source": [
    "print( 'Problem 2')\n",
    "#write expression : F = m * a"
   ]
  },
  {
   "cell_type": "code",
   "execution_count": 3,
   "id": "7d745ff2",
   "metadata": {},
   "outputs": [
    {
     "name": "stdout",
     "output_type": "stream",
     "text": [
      "50\n"
     ]
    }
   ],
   "source": [
    "m = 10\n",
    "a = 5\n",
    "\n",
    "F = m * a\n",
    "\n",
    "print (F)"
   ]
  },
  {
   "cell_type": "code",
   "execution_count": 4,
   "id": "73f33e78",
   "metadata": {},
   "outputs": [
    {
     "name": "stdout",
     "output_type": "stream",
     "text": [
      "150\n"
     ]
    }
   ],
   "source": [
    "m = 15\n",
    "a = 10\n",
    "\n",
    "F = m * a\n",
    "\n",
    "print (F)"
   ]
  },
  {
   "cell_type": "code",
   "execution_count": 5,
   "id": "396b206c",
   "metadata": {},
   "outputs": [
    {
     "name": "stdout",
     "output_type": "stream",
     "text": [
      "100\n"
     ]
    }
   ],
   "source": [
    "m = 20\n",
    "a = 5\n",
    "\n",
    "F = m * a\n",
    "\n",
    "print (F)"
   ]
  },
  {
   "cell_type": "code",
   "execution_count": 6,
   "id": "e22407ec",
   "metadata": {},
   "outputs": [
    {
     "name": "stdout",
     "output_type": "stream",
     "text": [
      "120\n"
     ]
    }
   ],
   "source": [
    "m = 40\n",
    "a = 3\n",
    "\n",
    "F = m * a\n",
    "\n",
    "print (F)"
   ]
  },
  {
   "cell_type": "code",
   "execution_count": 3,
   "id": "99f56252",
   "metadata": {},
   "outputs": [],
   "source": [
    "from force_acceleration import force_acceleration"
   ]
  },
  {
   "cell_type": "code",
   "execution_count": 5,
   "id": "e4ba08cf",
   "metadata": {},
   "outputs": [
    {
     "name": "stdout",
     "output_type": "stream",
     "text": [
      "The acceleration of the object is 0.6666666666666666 m/s^2\n"
     ]
    },
    {
     "data": {
      "text/plain": [
       "0.6666666666666666"
      ]
     },
     "execution_count": 5,
     "metadata": {},
     "output_type": "execute_result"
    }
   ],
   "source": [
    "F = 100\n",
    "m = 150\n",
    "\n",
    "force_acceleration(100,150)"
   ]
  },
  {
   "cell_type": "code",
   "execution_count": 8,
   "id": "3984a949",
   "metadata": {},
   "outputs": [
    {
     "name": "stdout",
     "output_type": "stream",
     "text": [
      "The acceleration of the object is 0.14666666666666667 m/s^2\n"
     ]
    },
    {
     "data": {
      "text/plain": [
       "0.14666666666666667"
      ]
     },
     "execution_count": 8,
     "metadata": {},
     "output_type": "execute_result"
    }
   ],
   "source": [
    "force_acceleration(22,150)\n",
    "#F = 22N, m = 150kg"
   ]
  },
  {
   "cell_type": "code",
   "execution_count": 9,
   "id": "ef82d5ea",
   "metadata": {},
   "outputs": [
    {
     "name": "stdout",
     "output_type": "stream",
     "text": [
      "The acceleration of the object is 3.0 m/s^2\n"
     ]
    },
    {
     "data": {
      "text/plain": [
       "3.0"
      ]
     },
     "execution_count": 9,
     "metadata": {},
     "output_type": "execute_result"
    }
   ],
   "source": [
    "force_acceleration(450,150)\n",
    "#F = 450N, m = 150kg"
   ]
  },
  {
   "cell_type": "markdown",
   "id": "74fa3729",
   "metadata": {},
   "source": [
    "Problem 3\n",
    "\n",
    "The acceleration of a body can be approximated by the ratio of\n",
    "the change of a body’s speed (u2-u1) over a time span (t1-t1) as: a=(u2-u1)/(t2-t1).\n",
    "Write a function called acceleration(u1,u2,t1,t2) that takes the different\n",
    "speeds (u1,u2) of a body at times t1 and t2 and calculates the acceleration of the body.\n",
    "Save it in a separate .py file, not your main homework file. Remember to start the\n",
    "function with a good docstring. In your main homework file, import the function and\n",
    "calculate the acceleration of a body for the following times and speeds. \n",
    "\n",
    "t1  t2  u1  u2\n",
    "0   2   10  13\n",
    "10 14   15  30\n",
    "14 16   32  36\n",
    "28 32   42  20\n",
    "0  10   20  22\n",
    "\n",
    "t1 and t2 are in seconds, u1 and u2 are in m/s, \n",
    "\n",
    "\n",
    "Calculate these numbers some other way to check that they are correct (in general,\n",
    "always check your code in this way). State in comments how you checked (calculator,\n",
    "web site, etc.). Name 2 test cases you could use to verify the code works as it should.\n",
    "Don’t forget to use comments in your code, when appropriate!\n"
   ]
  },
  {
   "cell_type": "markdown",
   "id": "9372036f",
   "metadata": {},
   "source": [
    "correction: \n",
    "\n",
    "t1 = 0,10,14,28,0\n",
    "t2 = 2,14,16,32,10\n",
    "u1 = 10,15,32,42,20\n",
    "u2 = 13,30,36,20,22"
   ]
  },
  {
   "cell_type": "code",
   "execution_count": 24,
   "id": "2dd17b3c",
   "metadata": {},
   "outputs": [
    {
     "name": "stdout",
     "output_type": "stream",
     "text": [
      "problem 3\n"
     ]
    }
   ],
   "source": [
    "print('problem 3')\n",
    "\n",
    "#Function a = (u2-u1)/(t2-t1) finding acceleration"
   ]
  },
  {
   "cell_type": "code",
   "execution_count": 12,
   "id": "cf29fc31",
   "metadata": {},
   "outputs": [],
   "source": [
    "from acceleration import acceleration"
   ]
  },
  {
   "cell_type": "code",
   "execution_count": 17,
   "id": "b5b5a9f1",
   "metadata": {},
   "outputs": [
    {
     "name": "stdout",
     "output_type": "stream",
     "text": [
      "The acceleration of the object is 1.5 m/s^2\n"
     ]
    },
    {
     "data": {
      "text/plain": [
       "1.5"
      ]
     },
     "execution_count": 17,
     "metadata": {},
     "output_type": "execute_result"
    }
   ],
   "source": [
    "acceleration(10,13,0,2)\n",
    "\n",
    "#t1 = 0, t2 = 2, u1 = 10, u2 = 13"
   ]
  },
  {
   "cell_type": "markdown",
   "id": "a21aedf0",
   "metadata": {},
   "source": [
    "math done in calculator, and verified it is correct."
   ]
  },
  {
   "cell_type": "code",
   "execution_count": 21,
   "id": "545bd797",
   "metadata": {},
   "outputs": [
    {
     "name": "stdout",
     "output_type": "stream",
     "text": [
      "The acceleration of the object is 3.75 m/s^2\n"
     ]
    },
    {
     "data": {
      "text/plain": [
       "3.75"
      ]
     },
     "execution_count": 21,
     "metadata": {},
     "output_type": "execute_result"
    }
   ],
   "source": [
    "acceleration(15,30,10,14)\n",
    "\n",
    "#t1 = 10, t2 = 14, u1 = 15, u2 = 30"
   ]
  },
  {
   "cell_type": "markdown",
   "id": "350451fa",
   "metadata": {},
   "source": [
    "Math done correctly after placing variables properly"
   ]
  },
  {
   "cell_type": "markdown",
   "id": "bf4065b4",
   "metadata": {},
   "source": [
    "used calculator to verify"
   ]
  },
  {
   "cell_type": "code",
   "execution_count": 20,
   "id": "bb51443c",
   "metadata": {},
   "outputs": [
    {
     "name": "stdout",
     "output_type": "stream",
     "text": [
      "The acceleration of the object is 2.0 m/s^2\n"
     ]
    },
    {
     "data": {
      "text/plain": [
       "2.0"
      ]
     },
     "execution_count": 20,
     "metadata": {},
     "output_type": "execute_result"
    }
   ],
   "source": [
    "acceleration(32,36,14,16)\n",
    "\n",
    "#t1 = 14, t2 = 16, u1 = 16, u2 = 36"
   ]
  },
  {
   "cell_type": "code",
   "execution_count": 23,
   "id": "d8b7c114",
   "metadata": {},
   "outputs": [
    {
     "name": "stdout",
     "output_type": "stream",
     "text": [
      "The acceleration of the object is 5.5 m/s^2\n"
     ]
    },
    {
     "data": {
      "text/plain": [
       "5.5"
      ]
     },
     "execution_count": 23,
     "metadata": {},
     "output_type": "execute_result"
    }
   ],
   "source": [
    "acceleration(20,42,28,32)\n",
    "\n",
    "#t1 = 28, t2 = 32, u1 = 42, u2 = 20"
   ]
  },
  {
   "cell_type": "markdown",
   "id": "0ab9b839",
   "metadata": {},
   "source": [
    "Verified by calcultor"
   ]
  },
  {
   "cell_type": "code",
   "execution_count": 25,
   "id": "f373ea2d",
   "metadata": {},
   "outputs": [
    {
     "name": "stdout",
     "output_type": "stream",
     "text": [
      "The acceleration of the object is 0.2 m/s^2\n"
     ]
    },
    {
     "data": {
      "text/plain": [
       "0.2"
      ]
     },
     "execution_count": 25,
     "metadata": {},
     "output_type": "execute_result"
    }
   ],
   "source": [
    "acceleration(20,22,0,10)\n",
    "\n",
    "#t1 = 0, t2 = 10, u1 = 20, u2 = 22"
   ]
  },
  {
   "cell_type": "markdown",
   "id": "deb1d81d",
   "metadata": {},
   "source": [
    "verifed by calculator"
   ]
  },
  {
   "cell_type": "markdown",
   "id": "2438d86c",
   "metadata": {},
   "source": [
    "one off two ways to verify the code works is to imput your own numbers that you know are correct."
   ]
  },
  {
   "cell_type": "markdown",
   "id": "a6209007",
   "metadata": {},
   "source": [
    "Problem 4\n",
    "\n",
    "Create a list velocity with numbers starting from 0 to 100\n",
    "with a step of 10. Print it.\n",
    "Create a list time with numbers from 0 to 1000 with a step of 100. Print it. Print the 3rd\n",
    "up to and including the 5th element, and the 8th velocity element.\n",
    "Using the acceleration function you created above, call the function and calculate the\n",
    "acceleration of a target for each of these velocity pairs (so the 3rd-4th, 4th-5th, 5th-8th\n",
    "element), using the corresponding times. Remember that Python starts counting from 0!\n",
    "Change the 5th element of velocity to 90 and print velocity. Does it work? Why/ why\n",
    "not?"
   ]
  },
  {
   "cell_type": "markdown",
   "id": "4f3eb59e",
   "metadata": {},
   "source": [
    "printed the list to make sure it was working properly"
   ]
  },
  {
   "cell_type": "code",
   "execution_count": 40,
   "id": "f7546a04",
   "metadata": {},
   "outputs": [],
   "source": [
    "import numpy as np"
   ]
  },
  {
   "cell_type": "code",
   "execution_count": 46,
   "id": "2543dee0",
   "metadata": {},
   "outputs": [],
   "source": [
    "Velocity = np.arange (0,101,10)\n",
    "\n",
    "#Calling Velocity a list and using numpy to help create it."
   ]
  },
  {
   "cell_type": "code",
   "execution_count": 47,
   "id": "8e509a3a",
   "metadata": {},
   "outputs": [
    {
     "name": "stdout",
     "output_type": "stream",
     "text": [
      "[  0  10  20  30  40  50  60  70  80  90 100]\n"
     ]
    }
   ],
   "source": [
    "print(Velocity)"
   ]
  },
  {
   "cell_type": "code",
   "execution_count": 50,
   "id": "d7688b62",
   "metadata": {},
   "outputs": [],
   "source": [
    "Velocity2 = np.arange (0,1001,100)\n",
    "\n",
    "#calling Velocity2 to be a list to 1000 multiplying by 100"
   ]
  },
  {
   "cell_type": "code",
   "execution_count": 51,
   "id": "790bfec4",
   "metadata": {},
   "outputs": [
    {
     "name": "stdout",
     "output_type": "stream",
     "text": [
      "[   0  100  200  300  400  500  600  700  800  900 1000]\n"
     ]
    }
   ],
   "source": [
    "print(Velocity2)"
   ]
  },
  {
   "cell_type": "code",
   "execution_count": null,
   "id": "fe50c659",
   "metadata": {},
   "outputs": [],
   "source": []
  }
 ],
 "metadata": {
  "kernelspec": {
   "display_name": "Python 3 (ipykernel)",
   "language": "python",
   "name": "python3"
  },
  "language_info": {
   "codemirror_mode": {
    "name": "ipython",
    "version": 3
   },
   "file_extension": ".py",
   "mimetype": "text/x-python",
   "name": "python",
   "nbconvert_exporter": "python",
   "pygments_lexer": "ipython3",
   "version": "3.9.12"
  }
 },
 "nbformat": 4,
 "nbformat_minor": 5
}
