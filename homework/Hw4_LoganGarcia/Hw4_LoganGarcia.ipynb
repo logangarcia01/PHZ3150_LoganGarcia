{
 "cells": [
  {
   "cell_type": "markdown",
   "id": "6ea81a84",
   "metadata": {},
   "source": [
    "Logan Garcia, Hw_4, Sep 14 2022 "
   ]
  },
  {
   "cell_type": "code",
   "execution_count": 3,
   "id": "50696287",
   "metadata": {},
   "outputs": [
    {
     "name": "stdout",
     "output_type": "stream",
     "text": [
      "problem 1\n"
     ]
    }
   ],
   "source": [
    "print ('problem 1')"
   ]
  },
  {
   "cell_type": "markdown",
   "id": "cefc78e5",
   "metadata": {},
   "source": [
    " Make a new folder named hw4_<yourname> under you\n",
    "homework folder. For this homework your main homework file is a Python file named\n",
    "hw4_<username>.ipynb. Save it in your homework folder. Remember to commit\n",
    "your files and push to GitHub (also, great backup!).\n",
    "Your name, assignment number, and the date should appear as comments at the top of\n",
    "the notebook. At the start of every problem write the problem number using markdown\n",
    "comments. Any remarks or written answers you may make should be written with\n",
    "markdown. If you need to comment something in the code (for coding clarity) do so with\n",
    "a normal comment (i.e., # this is a comment). Remember that using comments is\n",
    "good coding practice, and it will be taken into account during the grading process.\n",
    "Print the problem number (as in “Problem 1:”) before each problem’s output. Use\n",
    "the print() function to print, don’t just type the expression."
   ]
  },
  {
   "cell_type": "markdown",
   "id": "ce63e492",
   "metadata": {},
   "source": [
    "Completed"
   ]
  },
  {
   "cell_type": "markdown",
   "id": "e3d752e4",
   "metadata": {},
   "source": [
    "Problem 2 \n",
    "\n",
    "We have a body of mass m (kg). When a force F (N) acts on it,\n",
    "according to Newton’s second law, the body will get an acceleration a (m/s2\n",
    ").\n",
    "Remember that F=ma. Write an expression that calculates F for the following mass and\n",
    "acceleration pairs:\n",
    "\n",
    ". 10->5\n",
    ". 15->10\n",
    ". 20->5\n",
    ". 40->3"
   ]
  },
  {
   "cell_type": "code",
   "execution_count": 4,
   "id": "0e80a94c",
   "metadata": {},
   "outputs": [
    {
     "name": "stdout",
     "output_type": "stream",
     "text": [
      "Problem 2\n"
     ]
    }
   ],
   "source": [
    "print( 'Problem 2')\n",
    "#write expression : F = m * a"
   ]
  },
  {
   "cell_type": "code",
   "execution_count": 10,
   "id": "d0dd4569",
   "metadata": {},
   "outputs": [
    {
     "name": "stdout",
     "output_type": "stream",
     "text": [
      "50\n"
     ]
    }
   ],
   "source": [
    "m = 10\n",
    "a = 5\n",
    "\n",
    "F = m * a\n",
    "\n",
    "print (F)"
   ]
  },
  {
   "cell_type": "code",
   "execution_count": 11,
   "id": "56b9703f",
   "metadata": {},
   "outputs": [
    {
     "name": "stdout",
     "output_type": "stream",
     "text": [
      "150\n"
     ]
    }
   ],
   "source": [
    "m = 15\n",
    "a = 10\n",
    "\n",
    "F = m * a\n",
    "\n",
    "print (F)"
   ]
  },
  {
   "cell_type": "code",
   "execution_count": 12,
   "id": "b7fcbc7b",
   "metadata": {},
   "outputs": [
    {
     "name": "stdout",
     "output_type": "stream",
     "text": [
      "100\n"
     ]
    }
   ],
   "source": [
    "m = 20\n",
    "a = 5\n",
    "\n",
    "F = m * a\n",
    "\n",
    "print (F)"
   ]
  },
  {
   "cell_type": "code",
   "execution_count": 13,
   "id": "62e8f744",
   "metadata": {},
   "outputs": [
    {
     "name": "stdout",
     "output_type": "stream",
     "text": [
      "120\n"
     ]
    }
   ],
   "source": [
    "m = 40\n",
    "a = 3\n",
    "\n",
    "F = m * a\n",
    "\n",
    "print (F)"
   ]
  },
  {
   "cell_type": "code",
   "execution_count": null,
   "id": "79f171c9",
   "metadata": {},
   "outputs": [],
   "source": []
  }
 ],
 "metadata": {
  "kernelspec": {
   "display_name": "Python 3 (ipykernel)",
   "language": "python",
   "name": "python3"
  },
  "language_info": {
   "codemirror_mode": {
    "name": "ipython",
    "version": 3
   },
   "file_extension": ".py",
   "mimetype": "text/x-python",
   "name": "python",
   "nbconvert_exporter": "python",
   "pygments_lexer": "ipython3",
   "version": "3.9.12"
  }
 },
 "nbformat": 4,
 "nbformat_minor": 5
}
