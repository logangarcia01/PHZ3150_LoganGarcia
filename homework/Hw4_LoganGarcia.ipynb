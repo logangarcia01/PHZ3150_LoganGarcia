{
 "cells": [
  {
   "cell_type": "markdown",
   "id": "8fe0ef65",
   "metadata": {},
   "source": [
    "Logan Garcia, Hw_4, Sep 14 2022 "
   ]
  },
  {
   "cell_type": "code",
   "execution_count": 1,
   "id": "2b235d94",
   "metadata": {},
   "outputs": [
    {
     "name": "stdout",
     "output_type": "stream",
     "text": [
      "problem 1\n"
     ]
    }
   ],
   "source": [
    "print ('problem 1')"
   ]
  },
  {
   "cell_type": "markdown",
   "id": "de9afa13",
   "metadata": {},
   "source": [
    " Make a new folder named hw4_<yourname> under you\n",
    "homework folder. For this homework your main homework file is a Python file named\n",
    "hw4_<username>.ipynb. Save it in your homework folder. Remember to commit\n",
    "your files and push to GitHub (also, great backup!).\n",
    "Your name, assignment number, and the date should appear as comments at the top of\n",
    "the notebook. At the start of every problem write the problem number using markdown\n",
    "comments. Any remarks or written answers you may make should be written with\n",
    "markdown. If you need to comment something in the code (for coding clarity) do so with\n",
    "a normal comment (i.e., # this is a comment). Remember that using comments is\n",
    "good coding practice, and it will be taken into account during the grading process.\n",
    "Print the problem number (as in “Problem 1:”) before each problem’s output. Use\n",
    "the print() function to print, don’t just type the expression."
   ]
  },
  {
   "cell_type": "markdown",
   "id": "f5273462",
   "metadata": {},
   "source": [
    "Completed"
   ]
  },
  {
   "cell_type": "markdown",
   "id": "1ab0a288",
   "metadata": {},
   "source": [
    "Problem 2 \n",
    "\n",
    "We have a body of mass m (kg). When a force F (N) acts on it,\n",
    "according to Newton’s second law, the body will get an acceleration a (m/s2\n",
    ").\n",
    "Remember that F=ma. Write an expression that calculates F for the following mass and\n",
    "acceleration pairs:\n",
    "\n",
    ". 10->5\n",
    ". 15->10\n",
    ". 20->5\n",
    ". 40->3"
   ]
  },
  {
   "cell_type": "code",
   "execution_count": 2,
   "id": "9ad1c071",
   "metadata": {},
   "outputs": [
    {
     "name": "stdout",
     "output_type": "stream",
     "text": [
      "Problem 2\n"
     ]
    }
   ],
   "source": [
    "print( 'Problem 2')\n",
    "#write expression : F = m * a"
   ]
  },
  {
   "cell_type": "code",
   "execution_count": 3,
   "id": "cdc38acc",
   "metadata": {},
   "outputs": [
    {
     "name": "stdout",
     "output_type": "stream",
     "text": [
      "50\n"
     ]
    }
   ],
   "source": [
    "m = 10\n",
    "a = 5\n",
    "\n",
    "F = m * a\n",
    "\n",
    "print (F)"
   ]
  },
  {
   "cell_type": "code",
   "execution_count": 4,
   "id": "cd9824b5",
   "metadata": {},
   "outputs": [
    {
     "name": "stdout",
     "output_type": "stream",
     "text": [
      "150\n"
     ]
    }
   ],
   "source": [
    "m = 15\n",
    "a = 10\n",
    "\n",
    "F = m * a\n",
    "\n",
    "print (F)"
   ]
  },
  {
   "cell_type": "code",
   "execution_count": 5,
   "id": "60148efa",
   "metadata": {},
   "outputs": [
    {
     "name": "stdout",
     "output_type": "stream",
     "text": [
      "100\n"
     ]
    }
   ],
   "source": [
    "m = 20\n",
    "a = 5\n",
    "\n",
    "F = m * a\n",
    "\n",
    "print (F)"
   ]
  },
  {
   "cell_type": "code",
   "execution_count": 6,
   "id": "455d3f38",
   "metadata": {},
   "outputs": [
    {
     "name": "stdout",
     "output_type": "stream",
     "text": [
      "120\n"
     ]
    }
   ],
   "source": [
    "m = 40\n",
    "a = 3\n",
    "\n",
    "F = m * a\n",
    "\n",
    "print (F)"
   ]
  },
  {
   "cell_type": "code",
   "execution_count": 3,
   "id": "cfd447d0",
   "metadata": {},
   "outputs": [],
   "source": [
    "from force_acceleration import force_acceleration"
   ]
  },
  {
   "cell_type": "code",
   "execution_count": 5,
   "id": "29eb9511",
   "metadata": {},
   "outputs": [
    {
     "name": "stdout",
     "output_type": "stream",
     "text": [
      "The acceleration of the object is 0.6666666666666666 m/s^2\n"
     ]
    },
    {
     "data": {
      "text/plain": [
       "0.6666666666666666"
      ]
     },
     "execution_count": 5,
     "metadata": {},
     "output_type": "execute_result"
    }
   ],
   "source": [
    "F = 100\n",
    "m = 150\n",
    "\n",
    "force_acceleration(100,150)"
   ]
  },
  {
   "cell_type": "code",
   "execution_count": 8,
   "id": "5d3b5a13",
   "metadata": {},
   "outputs": [
    {
     "name": "stdout",
     "output_type": "stream",
     "text": [
      "The acceleration of the object is 0.14666666666666667 m/s^2\n"
     ]
    },
    {
     "data": {
      "text/plain": [
       "0.14666666666666667"
      ]
     },
     "execution_count": 8,
     "metadata": {},
     "output_type": "execute_result"
    }
   ],
   "source": [
    "force_acceleration(22,150)\n",
    "#F = 22N, m = 150kg"
   ]
  },
  {
   "cell_type": "code",
   "execution_count": 9,
   "id": "c86a10d2",
   "metadata": {},
   "outputs": [
    {
     "name": "stdout",
     "output_type": "stream",
     "text": [
      "The acceleration of the object is 3.0 m/s^2\n"
     ]
    },
    {
     "data": {
      "text/plain": [
       "3.0"
      ]
     },
     "execution_count": 9,
     "metadata": {},
     "output_type": "execute_result"
    }
   ],
   "source": [
    "force_acceleration(450,150)\n",
    "#F = 450N, m = 150kg"
   ]
  },
  {
   "cell_type": "markdown",
   "id": "7d7064fe",
   "metadata": {},
   "source": [
    "Problem 3\n",
    "\n",
    "The acceleration of a body can be approximated by the ratio of\n",
    "the change of a body’s speed (u2-u1) over a time span (t1-t1) as: a=(u2-u1)/(t2-t1).\n",
    "Write a function called acceleration(u1,u2,t1,t2) that takes the different\n",
    "speeds (u1,u2) of a body at times t1 and t2 and calculates the acceleration of the body.\n",
    "Save it in a separate .py file, not your main homework file. Remember to start the\n",
    "function with a good docstring. In your main homework file, import the function and\n",
    "calculate the acceleration of a body for the following times and speeds. \n",
    "\n",
    "t1  t2  u1  u2\n",
    "0   2   10  13\n",
    "10 14   15  30\n",
    "14 16   32  36\n",
    "28 32   42  20\n",
    "0  10   20  22\n",
    "\n",
    "t1 and t2 are in seconds, u1 and u2 are in m/s, \n",
    "\n",
    "\n",
    "Calculate these numbers some other way to check that they are correct (in general,\n",
    "always check your code in this way). State in comments how you checked (calculator,\n",
    "web site, etc.). Name 2 test cases you could use to verify the code works as it should.\n",
    "Don’t forget to use comments in your code, when appropriate!\n"
   ]
  },
  {
   "cell_type": "markdown",
   "id": "26d1d23d",
   "metadata": {},
   "source": [
    "correction: \n",
    "\n",
    "t1 = 0,10,14,28,0\n",
    "t2 = 2,14,16,32,10\n",
    "u1 = 10,15,32,42,20\n",
    "u2 = 13,30,36,20,22"
   ]
  },
  {
   "cell_type": "code",
   "execution_count": 10,
   "id": "88f2b377",
   "metadata": {},
   "outputs": [
    {
     "name": "stdout",
     "output_type": "stream",
     "text": [
      "problem 3\n"
     ]
    }
   ],
   "source": [
    "print('problem 3')"
   ]
  },
  {
   "cell_type": "code",
   "execution_count": null,
   "id": "05060441",
   "metadata": {},
   "outputs": [],
   "source": [
    "from force_"
   ]
  }
 ],
 "metadata": {
  "kernelspec": {
   "display_name": "Python 3 (ipykernel)",
   "language": "python",
   "name": "python3"
  },
  "language_info": {
   "codemirror_mode": {
    "name": "ipython",
    "version": 3
   },
   "file_extension": ".py",
   "mimetype": "text/x-python",
   "name": "python",
   "nbconvert_exporter": "python",
   "pygments_lexer": "ipython3",
   "version": "3.9.12"
  }
 },
 "nbformat": 4,
 "nbformat_minor": 5
}
