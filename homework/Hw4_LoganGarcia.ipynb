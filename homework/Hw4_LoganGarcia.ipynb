{
 "cells": [
  {
   "cell_type": "markdown",
   "id": "509d8ef6",
   "metadata": {},
   "source": [
    "Logan Garcia, Hw_4, Sep 14 2022 "
   ]
  },
  {
   "cell_type": "code",
   "execution_count": 1,
   "id": "36e9a4f8",
   "metadata": {},
   "outputs": [
    {
     "name": "stdout",
     "output_type": "stream",
     "text": [
      "problem 1\n"
     ]
    }
   ],
   "source": [
    "print ('problem 1')"
   ]
  },
  {
   "cell_type": "markdown",
   "id": "3017486d",
   "metadata": {},
   "source": [
    " Make a new folder named hw4_<yourname> under you\n",
    "homework folder. For this homework your main homework file is a Python file named\n",
    "hw4_<username>.ipynb. Save it in your homework folder. Remember to commit\n",
    "your files and push to GitHub (also, great backup!).\n",
    "Your name, assignment number, and the date should appear as comments at the top of\n",
    "the notebook. At the start of every problem write the problem number using markdown\n",
    "comments. Any remarks or written answers you may make should be written with\n",
    "markdown. If you need to comment something in the code (for coding clarity) do so with\n",
    "a normal comment (i.e., # this is a comment). Remember that using comments is\n",
    "good coding practice, and it will be taken into account during the grading process.\n",
    "Print the problem number (as in “Problem 1:”) before each problem’s output. Use\n",
    "the print() function to print, don’t just type the expression."
   ]
  },
  {
   "cell_type": "markdown",
   "id": "fe5364c6",
   "metadata": {},
   "source": [
    "Completed"
   ]
  },
  {
   "cell_type": "markdown",
   "id": "be886119",
   "metadata": {},
   "source": [
    "Problem 2 \n",
    "\n",
    "We have a body of mass m (kg). When a force F (N) acts on it,\n",
    "according to Newton’s second law, the body will get an acceleration a (m/s2\n",
    ").\n",
    "Remember that F=ma. Write an expression that calculates F for the following mass and\n",
    "acceleration pairs:\n",
    "\n",
    ". 10->5\n",
    ". 15->10\n",
    ". 20->5\n",
    ". 40->3"
   ]
  },
  {
   "cell_type": "code",
   "execution_count": 2,
   "id": "f234f57c",
   "metadata": {},
   "outputs": [
    {
     "name": "stdout",
     "output_type": "stream",
     "text": [
      "Problem 2\n"
     ]
    }
   ],
   "source": [
    "print( 'Problem 2')\n",
    "#write expression : F = m * a"
   ]
  },
  {
   "cell_type": "code",
   "execution_count": 3,
   "id": "95bd8221",
   "metadata": {},
   "outputs": [
    {
     "name": "stdout",
     "output_type": "stream",
     "text": [
      "50\n"
     ]
    }
   ],
   "source": [
    "m = 10\n",
    "a = 5\n",
    "\n",
    "F = m * a\n",
    "\n",
    "print (F)"
   ]
  },
  {
   "cell_type": "code",
   "execution_count": 4,
   "id": "4e4a2cff",
   "metadata": {},
   "outputs": [
    {
     "name": "stdout",
     "output_type": "stream",
     "text": [
      "150\n"
     ]
    }
   ],
   "source": [
    "m = 15\n",
    "a = 10\n",
    "\n",
    "F = m * a\n",
    "\n",
    "print (F)"
   ]
  },
  {
   "cell_type": "code",
   "execution_count": 5,
   "id": "fd8654d6",
   "metadata": {},
   "outputs": [
    {
     "name": "stdout",
     "output_type": "stream",
     "text": [
      "100\n"
     ]
    }
   ],
   "source": [
    "m = 20\n",
    "a = 5\n",
    "\n",
    "F = m * a\n",
    "\n",
    "print (F)"
   ]
  },
  {
   "cell_type": "code",
   "execution_count": 6,
   "id": "42ae23bc",
   "metadata": {},
   "outputs": [
    {
     "name": "stdout",
     "output_type": "stream",
     "text": [
      "120\n"
     ]
    }
   ],
   "source": [
    "m = 40\n",
    "a = 3\n",
    "\n",
    "F = m * a\n",
    "\n",
    "print (F)"
   ]
  },
  {
   "cell_type": "code",
   "execution_count": 3,
   "id": "2ddcdbd5",
   "metadata": {},
   "outputs": [],
   "source": [
    "from force_acceleration import force_acceleration"
   ]
  },
  {
   "cell_type": "code",
   "execution_count": 5,
   "id": "2a031729",
   "metadata": {},
   "outputs": [
    {
     "name": "stdout",
     "output_type": "stream",
     "text": [
      "The acceleration of the object is 0.6666666666666666 m/s^2\n"
     ]
    },
    {
     "data": {
      "text/plain": [
       "0.6666666666666666"
      ]
     },
     "execution_count": 5,
     "metadata": {},
     "output_type": "execute_result"
    }
   ],
   "source": [
    "F = 100\n",
    "m = 150\n",
    "\n",
    "force_acceleration(100,150)"
   ]
  },
  {
   "cell_type": "code",
   "execution_count": 8,
   "id": "7b5c2aa4",
   "metadata": {},
   "outputs": [
    {
     "name": "stdout",
     "output_type": "stream",
     "text": [
      "The acceleration of the object is 0.14666666666666667 m/s^2\n"
     ]
    },
    {
     "data": {
      "text/plain": [
       "0.14666666666666667"
      ]
     },
     "execution_count": 8,
     "metadata": {},
     "output_type": "execute_result"
    }
   ],
   "source": [
    "force_acceleration(22,150)\n",
    "#F = 22N, m = 150kg"
   ]
  },
  {
   "cell_type": "code",
   "execution_count": 9,
   "id": "b4023ae5",
   "metadata": {},
   "outputs": [
    {
     "name": "stdout",
     "output_type": "stream",
     "text": [
      "The acceleration of the object is 3.0 m/s^2\n"
     ]
    },
    {
     "data": {
      "text/plain": [
       "3.0"
      ]
     },
     "execution_count": 9,
     "metadata": {},
     "output_type": "execute_result"
    }
   ],
   "source": [
    "force_acceleration(450,150)\n",
    "#F = 450N, m = 150kg"
   ]
  },
  {
   "cell_type": "markdown",
   "id": "7245a0c5",
   "metadata": {},
   "source": [
    "Problem 3\n",
    "\n",
    "The acceleration of a body can be approximated by the ratio of\n",
    "the change of a body’s speed (u2-u1) over a time span (t1-t1) as: a=(u2-u1)/(t2-t1).\n",
    "Write a function called acceleration(u1,u2,t1,t2) that takes the different\n",
    "speeds (u1,u2) of a body at times t1 and t2 and calculates the acceleration of the body.\n",
    "Save it in a separate .py file, not your main homework file. Remember to start the\n",
    "function with a good docstring. In your main homework file, import the function and\n",
    "calculate the acceleration of a body for the following times and speeds. \n",
    "\n",
    "t1  t2  u1  u2\n",
    "0   2   10  13\n",
    "10 14   15  30\n",
    "14 16   32  36\n",
    "28 32   42  20\n",
    "0  10   20  22\n",
    "\n",
    "t1 and t2 are in seconds, u1 and u2 are in m/s, \n",
    "\n",
    "\n",
    "Calculate these numbers some other way to check that they are correct (in general,\n",
    "always check your code in this way). State in comments how you checked (calculator,\n",
    "web site, etc.). Name 2 test cases you could use to verify the code works as it should.\n",
    "Don’t forget to use comments in your code, when appropriate!\n"
   ]
  },
  {
   "cell_type": "markdown",
   "id": "9729065a",
   "metadata": {},
   "source": [
    "correction: \n",
    "\n",
    "t1 = 0,10,14,28,0\n",
    "t2 = 2,14,16,32,10\n",
    "u1 = 10,15,32,42,20\n",
    "u2 = 13,30,36,20,22"
   ]
  },
  {
   "cell_type": "code",
   "execution_count": 10,
   "id": "e1feaf31",
   "metadata": {},
   "outputs": [
    {
     "name": "stdout",
     "output_type": "stream",
     "text": [
      "problem 3\n"
     ]
    }
   ],
   "source": [
    "print('problem 3')"
   ]
  },
  {
   "cell_type": "code",
   "execution_count": 11,
   "id": "439f8e02",
   "metadata": {},
   "outputs": [
    {
     "ename": "IndentationError",
     "evalue": "unexpected indent (acceleration.py, line 8)",
     "output_type": "error",
     "traceback": [
      "Traceback \u001b[1;36m(most recent call last)\u001b[0m:\n",
      "  File \u001b[0;32m~\\anaconda3\\lib\\site-packages\\IPython\\core\\interactiveshell.py:3369\u001b[0m in \u001b[0;35mrun_code\u001b[0m\n    exec(code_obj, self.user_global_ns, self.user_ns)\n",
      "\u001b[1;36m  Input \u001b[1;32mIn [11]\u001b[1;36m in \u001b[1;35m<cell line: 1>\u001b[1;36m\u001b[0m\n\u001b[1;33m    from acceleration import acceleration\u001b[0m\n",
      "\u001b[1;36m  File \u001b[1;32m~\\Desktop\\PHZ3150_LoganGarcia\\homework\\Hw4_LoganGarcia\\acceleration.py:8\u001b[1;36m\u001b[0m\n\u001b[1;33m    a = (u2-u1)/(t2-t1)\u001b[0m\n\u001b[1;37m    ^\u001b[0m\n\u001b[1;31mIndentationError\u001b[0m\u001b[1;31m:\u001b[0m unexpected indent\n"
     ]
    }
   ],
   "source": [
    "from acceleration import acceleration"
   ]
  },
  {
   "cell_type": "code",
   "execution_count": null,
   "id": "3f76da47",
   "metadata": {},
   "outputs": [],
   "source": []
  }
 ],
 "metadata": {
  "kernelspec": {
   "display_name": "Python 3 (ipykernel)",
   "language": "python",
   "name": "python3"
  },
  "language_info": {
   "codemirror_mode": {
    "name": "ipython",
    "version": 3
   },
   "file_extension": ".py",
   "mimetype": "text/x-python",
   "name": "python",
   "nbconvert_exporter": "python",
   "pygments_lexer": "ipython3",
   "version": "3.9.12"
  }
 },
 "nbformat": 4,
 "nbformat_minor": 5
}
