{
 "cells": [
  {
   "cell_type": "markdown",
   "id": "c73a0d5f",
   "metadata": {},
   "source": [
    "Logan Garcia, Hw_4, Sep 14 2022 "
   ]
  },
  {
   "cell_type": "code",
   "execution_count": 1,
   "id": "76985fe4",
   "metadata": {},
   "outputs": [
    {
     "name": "stdout",
     "output_type": "stream",
     "text": [
      "problem 1\n"
     ]
    }
   ],
   "source": [
    "print ('problem 1')"
   ]
  },
  {
   "cell_type": "markdown",
   "id": "f7a218e5",
   "metadata": {},
   "source": [
    " Make a new folder named hw4_<yourname> under you\n",
    "homework folder. For this homework your main homework file is a Python file named\n",
    "hw4_<username>.ipynb. Save it in your homework folder. Remember to commit\n",
    "your files and push to GitHub (also, great backup!).\n",
    "Your name, assignment number, and the date should appear as comments at the top of\n",
    "the notebook. At the start of every problem write the problem number using markdown\n",
    "comments. Any remarks or written answers you may make should be written with\n",
    "markdown. If you need to comment something in the code (for coding clarity) do so with\n",
    "a normal comment (i.e., # this is a comment). Remember that using comments is\n",
    "good coding practice, and it will be taken into account during the grading process.\n",
    "Print the problem number (as in “Problem 1:”) before each problem’s output. Use\n",
    "the print() function to print, don’t just type the expression."
   ]
  },
  {
   "cell_type": "markdown",
   "id": "7c7a0415",
   "metadata": {},
   "source": [
    "Completed"
   ]
  },
  {
   "cell_type": "markdown",
   "id": "d9a11f48",
   "metadata": {},
   "source": [
    "Problem 2 \n",
    "\n",
    "We have a body of mass m (kg). When a force F (N) acts on it,\n",
    "according to Newton’s second law, the body will get an acceleration a (m/s2\n",
    ").\n",
    "Remember that F=ma. Write an expression that calculates F for the following mass and\n",
    "acceleration pairs:\n",
    "\n",
    ". 10->5\n",
    ". 15->10\n",
    ". 20->5\n",
    ". 40->3"
   ]
  },
  {
   "cell_type": "code",
   "execution_count": 2,
   "id": "03006e89",
   "metadata": {},
   "outputs": [
    {
     "name": "stdout",
     "output_type": "stream",
     "text": [
      "Problem 2\n"
     ]
    }
   ],
   "source": [
    "print( 'Problem 2')\n",
    "#write expression : F = m * a"
   ]
  },
  {
   "cell_type": "code",
   "execution_count": 3,
   "id": "9cf58267",
   "metadata": {},
   "outputs": [
    {
     "name": "stdout",
     "output_type": "stream",
     "text": [
      "50\n"
     ]
    }
   ],
   "source": [
    "m = 10\n",
    "a = 5\n",
    "\n",
    "F = m * a\n",
    "\n",
    "print (F)"
   ]
  },
  {
   "cell_type": "code",
   "execution_count": 4,
   "id": "9eb07df5",
   "metadata": {},
   "outputs": [
    {
     "name": "stdout",
     "output_type": "stream",
     "text": [
      "150\n"
     ]
    }
   ],
   "source": [
    "m = 15\n",
    "a = 10\n",
    "\n",
    "F = m * a\n",
    "\n",
    "print (F)"
   ]
  },
  {
   "cell_type": "code",
   "execution_count": 5,
   "id": "0bf1b802",
   "metadata": {},
   "outputs": [
    {
     "name": "stdout",
     "output_type": "stream",
     "text": [
      "100\n"
     ]
    }
   ],
   "source": [
    "m = 20\n",
    "a = 5\n",
    "\n",
    "F = m * a\n",
    "\n",
    "print (F)"
   ]
  },
  {
   "cell_type": "code",
   "execution_count": 6,
   "id": "363b08e2",
   "metadata": {},
   "outputs": [
    {
     "name": "stdout",
     "output_type": "stream",
     "text": [
      "120\n"
     ]
    }
   ],
   "source": [
    "m = 40\n",
    "a = 3\n",
    "\n",
    "F = m * a\n",
    "\n",
    "print (F)"
   ]
  },
  {
   "cell_type": "code",
   "execution_count": 8,
   "id": "4f2c9f04",
   "metadata": {},
   "outputs": [
    {
     "ename": "SyntaxError",
     "evalue": "invalid syntax (force_to_acceleration.py, line 9)",
     "output_type": "error",
     "traceback": [
      "Traceback \u001b[1;36m(most recent call last)\u001b[0m:\n",
      "  File \u001b[0;32m~\\anaconda3\\lib\\site-packages\\IPython\\core\\interactiveshell.py:3369\u001b[0m in \u001b[0;35mrun_code\u001b[0m\n    exec(code_obj, self.user_global_ns, self.user_ns)\n",
      "\u001b[1;36m  Input \u001b[1;32mIn [8]\u001b[1;36m in \u001b[1;35m<cell line: 1>\u001b[1;36m\u001b[0m\n\u001b[1;33m    import force_to_acceleration\u001b[0m\n",
      "\u001b[1;36m  File \u001b[1;32m~\\Desktop\\PHZ3150_LoganGarcia\\homework\\Hw4_LoganGarcia\\force_to_acceleration.py:9\u001b[1;36m\u001b[0m\n\u001b[1;33m    print( \"The acceleration of the object is\" , a , \"m/s^2\". )\u001b[0m\n\u001b[1;37m                                                              ^\u001b[0m\n\u001b[1;31mSyntaxError\u001b[0m\u001b[1;31m:\u001b[0m invalid syntax\n"
     ]
    }
   ],
   "source": [
    "import force_to_acceleration"
   ]
  },
  {
   "cell_type": "code",
   "execution_count": null,
   "id": "0103dc4c",
   "metadata": {},
   "outputs": [],
   "source": []
  }
 ],
 "metadata": {
  "kernelspec": {
   "display_name": "Python 3 (ipykernel)",
   "language": "python",
   "name": "python3"
  },
  "language_info": {
   "codemirror_mode": {
    "name": "ipython",
    "version": 3
   },
   "file_extension": ".py",
   "mimetype": "text/x-python",
   "name": "python",
   "nbconvert_exporter": "python",
   "pygments_lexer": "ipython3",
   "version": "3.9.12"
  }
 },
 "nbformat": 4,
 "nbformat_minor": 5
}
