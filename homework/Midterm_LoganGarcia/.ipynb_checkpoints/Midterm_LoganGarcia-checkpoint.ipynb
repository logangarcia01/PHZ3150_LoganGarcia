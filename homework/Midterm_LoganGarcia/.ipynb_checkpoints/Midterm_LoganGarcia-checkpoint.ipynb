{
 "cells": [
  {
   "cell_type": "markdown",
   "id": "8ffbe43e",
   "metadata": {},
   "source": [
    "### For this Midterm exam we will be coding a little navigation program. Typically, a good navigation program is pretty complex with thousands of variables that need to be taken into account. We will do a simplified case where a traveler can only travel between 12 cities, on predetermined routes. Your task will be to let the driver know how long their trip will be and what the best route is when they want to go from A to B. \n",
    "\n",
    "### Problems to Hand In: Your log is part of your Midterm exam. In one of the entries, it should identify the start and end of the Midterm and list the problem numbers in order. Keep notes about what you are doing for each problem, as well as the answers to the problems. \n"
   ]
  },
  {
   "cell_type": "markdown",
   "id": "7744dd14",
   "metadata": {},
   "source": [
    "<img src=\"octodriver.png\" width=300 height=300 />"
   ]
  },
  {
   "cell_type": "markdown",
   "id": "14bbee08",
   "metadata": {},
   "source": [
    "## ----------------------------- \n",
    "## Problem 1 (5 points total). "
   ]
  },
  {
   "cell_type": "markdown",
   "id": "b68890c2",
   "metadata": {},
   "source": [
    "### A) (2 points) Start by making a new folder under HW/ called Midterm/.  Your main homework file is this Jupyter notebook. Remember to rename it to midterm_$\\mathrm{<username>}$.ipynb.  Save it under Midterm/ . Remember to commit your file often and push to GitHub. Note that Github also serves as a great backup and will help you to submit *something* if an unexpected problem appears before the deadline (e.g., your laptop breaks). We will check this as part of your grading!\n",
    "\n",
    "### Your name, assignment number, and the date should appear as comments at the top using markdown. Any remarks or written answers you may make should be written using Markdown. If you need to comment something in the code (for clarity) do so with a normal comment. Use the print() function to print, don’t just type the expression. "
   ]
  },
  {
   "cell_type": "markdown",
   "id": "eb3cd28a",
   "metadata": {},
   "source": [
    "Logan Garcia\n",
    "\n",
    "10/19/2022\n",
    "\n",
    "PHZ3150 Midterm"
   ]
  },
  {
   "cell_type": "markdown",
   "id": "a21abba8",
   "metadata": {},
   "source": [
    "### B) (3 points). For this program you will need the numerical module of Python. Do the appropriate import.\n"
   ]
  },
  {
   "cell_type": "code",
   "execution_count": 1,
   "id": "4b39e2ee",
   "metadata": {},
   "outputs": [],
   "source": [
    "import numpy as np"
   ]
  },
  {
   "cell_type": "code",
   "execution_count": null,
   "id": "48f64bf0",
   "metadata": {},
   "outputs": [],
   "source": []
  },
  {
   "cell_type": "markdown",
   "id": "281a702b",
   "metadata": {},
   "source": [
    "## -----------------------------\n",
    "## Problem 2 (20 points total).  Let’s start our program! "
   ]
  },
  {
   "cell_type": "markdown",
   "id": "41f08b62",
   "metadata": {},
   "source": [
    "### A) (4 points) We need to inform the user of our navigation system that we need from them a start and ending point for their trip. Print an informative sentence that lets the user know that we need them to input two cities (start_city, target_city). Their available options should be: Atlanta, Baltimore, Boston, Charlotte, Dallas, Denver, Jacksonville, Minneapolis, Orlando, Sacramento, Tampa and Washington (let the user know this!). \n",
    "\n",
    "<img src=\"map_part.png\" width=500 height=350 />\n",
    "Caption: Google maps screenshot of a part of the cities that your traveler can go from/to. Not included for clarity are Sacramento and Minneapolis."
   ]
  },
  {
   "cell_type": "code",
   "execution_count": 2,
   "id": "720f9b8b",
   "metadata": {},
   "outputs": [
    {
     "name": "stdout",
     "output_type": "stream",
     "text": [
      "Thank You for using our system, please input a start city and target city down below.\n"
     ]
    }
   ],
   "source": [
    "print(\"Thank You for using our system, please input a start city and target city down below.\")"
   ]
  },
  {
   "cell_type": "markdown",
   "id": "aeaca5ee",
   "metadata": {},
   "source": [
    "### B) (4 points) Ask the input start_city and target_city for your trip"
   ]
  },
  {
   "cell_type": "code",
   "execution_count": null,
   "id": "20246ea3",
   "metadata": {},
   "outputs": [],
   "source": [
    "#Takes the city the user wants to start at\n",
    "start_city = input(\"\\nEnter the City where you want to start your trip from:\")"
   ]
  },
  {
   "cell_type": "code",
   "execution_count": null,
   "id": "9e76939a",
   "metadata": {},
   "outputs": [],
   "source": [
    "#Takes the city the user wants to go to\n",
    "target_city = input(\"\\nEnter the city name where you want to reach:\")"
   ]
  },
  {
   "cell_type": "markdown",
   "id": "e2857955",
   "metadata": {},
   "source": [
    "### C) (4 points) Make a list cities_list with all the names of the possible cities the traveler can go from/to."
   ]
  },
  {
   "cell_type": "code",
   "execution_count": 2,
   "id": "6b04bfe5",
   "metadata": {},
   "outputs": [],
   "source": [
    "cities_list = [\"Atlanta\", \"Baltimore\", \"Boston\", \"Charlotte\", \"Dallas\", \"Denver\", \"Miami\", \"Minneapolis\", \"Orlando\", \"Sacramento\", \"Tampa\", \"Washington\"]"
   ]
  },
  {
   "cell_type": "code",
   "execution_count": 3,
   "id": "fa12f775",
   "metadata": {},
   "outputs": [
    {
     "name": "stdout",
     "output_type": "stream",
     "text": [
      "The name of all cities that are available to fly to are \n",
      "\n",
      "Atlanta\n",
      "Baltimore\n",
      "Boston\n",
      "Charlotte\n",
      "Dallas\n",
      "Denver\n",
      "Miami\n",
      "Minneapolis\n",
      "Orlando\n",
      "Sacramento\n",
      "Tampa\n",
      "Washington\n"
     ]
    }
   ],
   "source": [
    "print(\"The name of all cities that are available to fly to are \\n\")\n",
    "# creating a for loop to list all the cities\n",
    "for city in cities_list:\n",
    "    print(f\"{city}\")"
   ]
  },
  {
   "cell_type": "markdown",
   "id": "77e6253f",
   "metadata": {},
   "source": [
    "### D) (4 points) Check if the input start and target cities are among the cities the traveler is allowed to travel to/from. If not, print an error statement that asks them to input another, appropriate city."
   ]
  },
  {
   "cell_type": "code",
   "execution_count": null,
   "id": "7f789270",
   "metadata": {},
   "outputs": [],
   "source": [
    "#if else statement taking into account the user input to see if the start city is on the list\n",
    "\n",
    "if start_city in cities_list:\n",
    "    print('Yes, your city is on the list.')\n",
    "    \n",
    "else:\n",
    "    print('Your city is not on the list please enter a new one.\\n')\n",
    "    start_city = input(\"\\nEnter new city to start from: \")\n"
   ]
  },
  {
   "cell_type": "code",
   "execution_count": null,
   "id": "8694a515",
   "metadata": {},
   "outputs": [],
   "source": [
    "#if else statement taking into account the user input to see if the start city is on the list\n",
    "\n",
    "if start_city in cities_list:\n",
    "    print('Yes, your city is on the list.')\n",
    "    \n",
    "else:\n",
    "    print('Your city is not on the list please enter a new one.\\n')\n",
    "    start_city = input(\"\\nEnter new city to start from: \")"
   ]
  },
  {
   "cell_type": "code",
   "execution_count": null,
   "id": "83c201f4",
   "metadata": {},
   "outputs": [],
   "source": [
    "#if else statement taking into account the user input to see if the target city is on the list\n",
    "\n",
    "if target_city in cities_list:\n",
    "    print('Yes, your city is on the list.')\n",
    "    \n",
    "else:\n",
    "    print('Your city is not on the list please enter a new one.\\n')\n",
    "    target_city = input(\"\\nEnter the city name where you want to reach:\")"
   ]
  },
  {
   "cell_type": "markdown",
   "id": "e49c84f4",
   "metadata": {},
   "source": [
    "### E)\t(4 points) Test that your code so far works. Run it with a start city: Paris and end city: Orlando. When the code complains for your start city, give new start city: Atlanta. Make a screenshot of your test and save it with the appropriate name to your Midterm folder. "
   ]
  },
  {
   "cell_type": "code",
   "execution_count": null,
   "id": "c61f97fe",
   "metadata": {},
   "outputs": [],
   "source": [
    "print('completed')"
   ]
  },
  {
   "cell_type": "code",
   "execution_count": null,
   "id": "a0e35013",
   "metadata": {},
   "outputs": [],
   "source": []
  },
  {
   "cell_type": "markdown",
   "id": "2a0d6091",
   "metadata": {},
   "source": [
    "## -----------------------------\n",
    "## Problem 3 (20 points total)."
   ]
  },
  {
   "cell_type": "markdown",
   "id": "e6d5e833",
   "metadata": {},
   "source": [
    "### A) (3 points) From *Webcourses/Files/Midterm project*  get file “distances_midterm.dat”. This file contains the total distance on the route between city A and B. If you open the file, you will see that it contains a 12 x 12 table (as we have 12 cities we can travel between) with the distances between cities. The $i^{th}$ line and $i^{th}$ column are a given city, so that the diagonal is 0s (as the distance from A to A is zero). The distance between Atlanta and Baltimore, e.g., is 678 miles so that line 0 (#5 of the file) column 1 of your data (i.e., the distance from Atlanta to Baltimore) is 678 (note that the same is true for line 1 [-Baltimore], column 0[-Atlanta] as this is the distance from Baltimore to Atlanta). Use the appropriate numpy function to read the data into variable *travel_data*."
   ]
  },
  {
   "cell_type": "code",
   "execution_count": 2,
   "id": "ef978b85",
   "metadata": {},
   "outputs": [],
   "source": [
    "cities_list = [\"Atlanta\", \"Baltimore\", \"Boston\", \"Charlotte\", \"Dallas\", \"Denver\", \"Miami\", \"Minneapolis\", \"Orlando\", \"Sacramento\", \"Tampa\", \"Washington\"]"
   ]
  },
  {
   "cell_type": "code",
   "execution_count": 4,
   "id": "03e2bb1e",
   "metadata": {},
   "outputs": [],
   "source": [
    "travel_data = np.genfromtxt('distances_midterm.dat')"
   ]
  },
  {
   "cell_type": "code",
   "execution_count": 5,
   "id": "e544f7cd",
   "metadata": {},
   "outputs": [
    {
     "name": "stdout",
     "output_type": "stream",
     "text": [
      "[[   0.  678. 1094.  245.  782. 1402.  662. 1127.  438. 2467.  467.  638.]\n",
      " [ 678.    0.  400.  422. 1366. 1633. 1103. 1109.  983. 2730.  941.   39.]\n",
      " [1094.  400.    0.  839. 1761. 1969. 1497. 1390. 1381. 3008. 1341.  439.]\n",
      " [ 245.  422.  839.    0. 1026. 1562.  735. 1180.  524. 2676.  580.  399.]\n",
      " [ 782. 1366. 1761. 1026.    0.  785. 1313.  991. 1092. 1726. 1107. 1328.]\n",
      " [1402. 1633. 1969. 1562.  785.    0. 2064.  914. 1843. 1162. 1857. 1661.]\n",
      " [ 662. 1103. 1497.  735. 1313. 2064.    0. 1773.  237. 3039.  270. 1158.]\n",
      " [1127. 1109. 1390. 1180.  991.  914. 1773.    0. 1568. 1887. 1583. 1108.]\n",
      " [ 438.  983. 1381.  524. 1092. 1843.  237. 1568.    0. 2810.   84.  846.]\n",
      " [2467. 2730. 3008. 2676. 1726. 1162. 3039. 1887. 2810.    0. 2832. 2728.]\n",
      " [ 467.  941. 1341.  580. 1107. 1857.  270. 1583.   84. 2832.    0.  903.]\n",
      " [ 638.   39.  439.  390. 1328. 1661. 1158. 1108.  846. 2728.  903.    0.]]\n"
     ]
    }
   ],
   "source": [
    "print(travel_data)"
   ]
  },
  {
   "cell_type": "markdown",
   "id": "737ddd6b",
   "metadata": {},
   "source": [
    "### B) (4 points) Find which cities the traveler wants to travel from/ to. Use your preferred method to get the index of the cities (assign to variables *first_city* and *second_city*) from your list. "
   ]
  },
  {
   "cell_type": "code",
   "execution_count": 7,
   "id": "2eff1d2b",
   "metadata": {},
   "outputs": [
    {
     "name": "stdout",
     "output_type": "stream",
     "text": [
      "\n",
      "Enter the City where you want to start your trip from:Orlando\n",
      "\n",
      "Enter the city name where you want to reach:Tampa\n"
     ]
    }
   ],
   "source": [
    "start_city = input(\"\\nEnter the City where you want to start your trip from:\")\n",
    "target_city = input(\"\\nEnter the city name where you want to reach:\")\n",
    "\n",
    "first_city = cities_list.index(start_city)\n",
    "second_city = cities_list.index(target_city)"
   ]
  },
  {
   "cell_type": "code",
   "execution_count": null,
   "id": "30693512",
   "metadata": {},
   "outputs": [],
   "source": []
  },
  {
   "cell_type": "markdown",
   "id": "fe6078bc",
   "metadata": {},
   "source": [
    "### C) (4 points) Using the *travel_data* and indexes *first_city* and *second_city*, find the distance the traveler will travel. Print an informative statement to let the driver know what the distance between their start and end city are."
   ]
  },
  {
   "cell_type": "code",
   "execution_count": 8,
   "id": "f88a7aaf",
   "metadata": {},
   "outputs": [
    {
     "name": "stdout",
     "output_type": "stream",
     "text": [
      "The distance from Orlando and Tampa is: 84.0 miles\n"
     ]
    }
   ],
   "source": [
    "distance = travel_data[first_city][second_city]\n",
    "print(f\"The distance from {start_city} and {target_city} is:\", distance,\"miles\")"
   ]
  },
  {
   "cell_type": "code",
   "execution_count": null,
   "id": "f3d52b4d",
   "metadata": {},
   "outputs": [],
   "source": []
  },
  {
   "cell_type": "markdown",
   "id": "78278edd",
   "metadata": {},
   "source": [
    "### D) (5 points) Assume that the traveler can travel at an average speed of 75mph. Calculate the average travel time it will take them to go from their start_city to their target_city. Calculate how many days ( *travel_time_days* ), hours ( *travel_time_hours* ) and minutes ( *travel_time_minutes* ) the trip will take. Print an informative statement that lets the traveler know how long their trip will be in days, hours and minutes."
   ]
  },
  {
   "cell_type": "code",
   "execution_count": 9,
   "id": "91cbfb22",
   "metadata": {},
   "outputs": [
    {
     "name": "stdout",
     "output_type": "stream",
     "text": [
      "The Time of your trip is 0.0 days 1.0 hours and 7.0 minutes.\n"
     ]
    }
   ],
   "source": [
    "avg_spd = 75\n",
    "\n",
    "travel_time_hours = distance // avg_spd\n",
    "\n",
    "hrs_decimal = distance / avg_spd\n",
    "pre_min = hrs_decimal - travel_time_hours\n",
    "travel_time_minutes = round(pre_min * 60,0)\n",
    "\n",
    "travel_time_days = round(hrs_decimal / 24,0)\n",
    "    \n",
    "print(\"The Time of your trip is\", travel_time_days, \"days\", travel_time_hours, \"hours and\", travel_time_minutes, \"minutes.\")"
   ]
  },
  {
   "cell_type": "code",
   "execution_count": null,
   "id": "91c648c7",
   "metadata": {},
   "outputs": [],
   "source": []
  },
  {
   "cell_type": "markdown",
   "id": "da274a0c",
   "metadata": {},
   "source": [
    "### E) (2 points) Test that your program so far works. Run it from the start_city: Tampa to target_city : Orlando. Your trip should take 1hr and some minutes (note that our assumed average speed is higher than the legal speed limit, so you will get there faster than what, e.g., Google maps suggests). "
   ]
  },
  {
   "cell_type": "code",
   "execution_count": 10,
   "id": "22ea2f35",
   "metadata": {},
   "outputs": [
    {
     "name": "stdout",
     "output_type": "stream",
     "text": [
      "completed above\n"
     ]
    }
   ],
   "source": [
    "print(\"completed above\")"
   ]
  },
  {
   "cell_type": "code",
   "execution_count": 11,
   "id": "c7e368ef",
   "metadata": {},
   "outputs": [],
   "source": [
    "#Screenshot shows test"
   ]
  },
  {
   "cell_type": "markdown",
   "id": "55a27dc5",
   "metadata": {},
   "source": [
    "### F) (2 points) Turn the program into a function that takes as input a list of the two cities (start, target) and outputs the necessary information (distance, time..). Make sure you include an appropriate informative docstring!"
   ]
  },
  {
   "cell_type": "code",
   "execution_count": 12,
   "id": "42b1f88d",
   "metadata": {},
   "outputs": [
    {
     "name": "stdout",
     "output_type": "stream",
     "text": [
      "The Time of your trip is 0.0 days 1.0 hours and 7.0 minutes.\n"
     ]
    }
   ],
   "source": [
    "def city_func(cities_list):\n",
    "    \"\"\"Input: Start city and target city\n",
    "       Output: Time and distance between the two cities\"\"\"\n",
    "    \n",
    "    #index code\n",
    "    first_city = cities_list.index(start_city)\n",
    "    second_city = cities_list.index(target_city)\n",
    "    \n",
    "    \n",
    "    #distance code\n",
    "avg_spd = 75\n",
    "\n",
    "travel_time_hours = distance // avg_spd\n",
    "\n",
    "hrs_decimal = distance / avg_spd\n",
    "pre_min = hrs_decimal - travel_time_hours\n",
    "travel_time_minutes = round(pre_min * 60,0)\n",
    "\n",
    "travel_time_days = round(hrs_decimal / 24,0)\n",
    "    \n",
    "print(\"The Time of your trip is\", travel_time_days, \"days\", travel_time_hours, \"hours and\", travel_time_minutes, \"minutes.\")\n",
    "    \n",
    "\n",
    "cities_list = [\"Atlanta\", \"Baltimore\", \"Boston\", \"Charlotte\", \"Dallas\", \"Denver\", \"Miami\", \"Minneapolis\", \"Orlando\", \"Sacramento\", \"Tampa\", \"Washington\"]\n",
    "\n",
    "cities_list.append([start_city,target_city])"
   ]
  },
  {
   "cell_type": "code",
   "execution_count": null,
   "id": "60412d46",
   "metadata": {},
   "outputs": [],
   "source": []
  },
  {
   "cell_type": "code",
   "execution_count": null,
   "id": "12cef32a",
   "metadata": {},
   "outputs": [],
   "source": []
  },
  {
   "cell_type": "markdown",
   "id": "e031b5a2",
   "metadata": {},
   "source": [
    "## -----------------------------\n",
    "## Problem 4 (15 points total).\n",
    "\n",
    "### We will now change the existing program to add an extra city as a pitstop.  Let’s make a cross-country road trip from Boston to Sacramento via Denver. Modify your Problem 3 code and function as follows: "
   ]
  },
  {
   "cell_type": "markdown",
   "id": "c291b596",
   "metadata": {},
   "source": [
    "\n",
    "\n",
    "### A) (2 points)  We will now ask the input *start_city*, a *pitstop_city* and a *target_city* for the trip. "
   ]
  },
  {
   "cell_type": "code",
   "execution_count": 20,
   "id": "da8ee415",
   "metadata": {},
   "outputs": [
    {
     "name": "stdout",
     "output_type": "stream",
     "text": [
      "\n",
      "Enter the City where you want to start your trip from:Sacramento\n",
      "\n",
      "Enter the City where you want to make a pitstop:Denver\n",
      "\n",
      "Enter the city name where you want to reach:Boston\n"
     ]
    }
   ],
   "source": [
    "#Asking for city inputs\n",
    "\n",
    "start_city2 = input(\"\\nEnter the City where you want to start your trip from:\")\n",
    "pitstop_city2 = input(\"\\nEnter the City where you want to make a pitstop:\")\n",
    "target_city2 = input(\"\\nEnter the city name where you want to reach:\")\n",
    "\n",
    "first_city2 = cities_list.index(start_city2)\n",
    "second_city2 = cities_list.index(pitstop_city2)\n",
    "third_city2 = cities_list.index(target_city2)"
   ]
  },
  {
   "cell_type": "markdown",
   "id": "734078b6",
   "metadata": {},
   "source": [
    "### B) (2 points) Update your function to find which cities the traveler wants to travel from, pitstop at, and go to in your list of cities. Use your preferred method to get the index of the cities (first_city, second_city and third_city) from your list. "
   ]
  },
  {
   "cell_type": "code",
   "execution_count": 21,
   "id": "94ca18f6",
   "metadata": {},
   "outputs": [
    {
     "name": "stdout",
     "output_type": "stream",
     "text": [
      "Atlanta\n",
      "Baltimore\n",
      "Boston\n",
      "Charlotte\n",
      "Dallas\n",
      "Denver\n",
      "Miami\n",
      "Minneapolis\n",
      "Orlando\n",
      "Sacramento\n",
      "Tampa\n",
      "Washington\n",
      "['Orlando', 'Tampa']\n",
      "\n",
      "Enter the City where you want to start your trip from:Sacramento\n",
      "\n",
      "Enter the City where you want to make a pitstop:Denver\n",
      "\n",
      "Enter the city name where you want to reach:Boston\n"
     ]
    }
   ],
   "source": [
    "def city_func(cities_list):\n",
    "    \"\"\"Input: Start city, pitstop city and target city\n",
    "       Output: Time and distance between the three cities\"\"\"\n",
    "    \n",
    "    print(\"The name of all cities that are available to fly to are \\n\")\n",
    "# creating a for loop to list all the cities\n",
    "for city in cities_list:\n",
    "    print(f\"{city}\")\n",
    "    \n",
    "start_city2 = input(\"\\nEnter the City where you want to start your trip from:\")\n",
    "pitstop_city2 = input(\"\\nEnter the City where you want to make a pitstop:\")\n",
    "target_city2 = input(\"\\nEnter the city name where you want to reach:\")\n",
    "    \n",
    "#index code\n",
    "first_city2 = cities_list.index(start_city2)\n",
    "third_city2 = cities_list.index(pitstop_city2)\n",
    "second_city2 = cities_list.index(target_city2)\n",
    "    "
   ]
  },
  {
   "cell_type": "code",
   "execution_count": null,
   "id": "256c48cf",
   "metadata": {},
   "outputs": [],
   "source": []
  },
  {
   "cell_type": "markdown",
   "id": "00493ba0",
   "metadata": {},
   "source": [
    "### C) (4 points) Use the above indices and your travel_data to find the distance between first_city - second_city and second_city-third_city. Assuming that your traveler’s car can do 24.9 mpg on the highway and their tank holds 16gallons, calculate how many refueling stops they will need to do on the first and the second leg of their trip Assume that you start the trip with a full tank and round the numbers (e.g., needing 3.2 stops doesn’t make sense). Print an informative statement that lets the traveler know how many stops they will need to do on the two legs of their trip."
   ]
  },
  {
   "cell_type": "code",
   "execution_count": 22,
   "id": "30b0cd4c",
   "metadata": {},
   "outputs": [
    {
     "name": "stdout",
     "output_type": "stream",
     "text": [
      "The name of all cities that are available to fly to are \n",
      "\n",
      "Atlanta\n",
      "Baltimore\n",
      "Boston\n",
      "Charlotte\n",
      "Dallas\n",
      "Denver\n",
      "Miami\n",
      "Minneapolis\n",
      "Orlando\n",
      "Sacramento\n",
      "Tampa\n",
      "Washington\n",
      "['Orlando', 'Tampa']\n",
      "The distance from Sacramento to Denver is: 1162.0 miles.\n",
      "The distance from Denver to Boston is : 1969.0 miles.\n",
      "The amount of fuel stops needed to drive from Sacramento and Denver is  : 2.0.\n",
      "The amount of fuel stops needed to drive from Denver and Boston is  : 4.0.\n"
     ]
    }
   ],
   "source": [
    "print(\"The name of all cities that are available to fly to are \\n\")\n",
    "# creating a for loop to list all the cities\n",
    "for city in cities_list:\n",
    "    print(f\"{city}\")\n",
    "\n",
    "#Function for distance from start to layover city\n",
    "dis_layover = travel_data[first_city2][third_city2]\n",
    "print(f\"The distance from {start_city2} to {pitstop_city2} is: {dis_layover} miles.\")\n",
    "\n",
    "#Function for distnace from layover to destination city\n",
    "dis_to_dest_from_lay = travel_data[third_city2][second_city2]\n",
    "print(f\"The distance from {pitstop_city2} to {target_city2} is : {dis_to_dest_from_lay} miles.\")\n",
    "\n",
    "#function for refuling\n",
    "dis_layover_refuel_stop = np.floor(dis_layover / (24.9 * 16))\n",
    "dis_to_dest_from_lay_refuel_stop = np.floor(dis_to_dest_from_lay / (24.9 *16))\n",
    "\n",
    "print(f\"The amount of fuel stops needed to drive from {start_city2} and {pitstop_city2} is  : {dis_layover_refuel_stop}.\")\n",
    "\n",
    "print(f\"The amount of fuel stops needed to drive from {pitstop_city2} and {target_city2} is  : {dis_to_dest_from_lay_refuel_stop}.\" )"
   ]
  },
  {
   "cell_type": "code",
   "execution_count": null,
   "id": "ba21fcdd",
   "metadata": {},
   "outputs": [],
   "source": []
  },
  {
   "cell_type": "markdown",
   "id": "f36fc24c",
   "metadata": {},
   "source": [
    "### D) (4 points) Assume an average price of $2.4 per gallon and calculate how much the trip will cost in fuel. Print an informative statement that lets the traveler know the total (gas-only) value of their trip. "
   ]
  },
  {
   "cell_type": "code",
   "execution_count": 25,
   "id": "59a57f58",
   "metadata": {},
   "outputs": [],
   "source": [
    "tot_fuel_cst = np.ceil((2.4 * 16 * dis_layover_refuel_stop ) + (2.4 * 16 * dis_to_dest_from_lay_refuel_stop))"
   ]
  },
  {
   "cell_type": "code",
   "execution_count": 26,
   "id": "f6715a1e",
   "metadata": {},
   "outputs": [
    {
     "name": "stdout",
     "output_type": "stream",
     "text": [
      "The total gas cost of the trip from Boston to Sacramento is : $231.0.\n"
     ]
    }
   ],
   "source": [
    "print(f\"The total gas cost of the trip from {start_city2} to {target_city2} is : ${tot_fuel_cst}.\")"
   ]
  },
  {
   "cell_type": "markdown",
   "id": "571ffa22",
   "metadata": {},
   "source": [
    "### E) (3 points) Did it all work? Run the code for start_city: Boston, pitstop_city: Denver and target_city: Sacramento. "
   ]
  },
  {
   "cell_type": "code",
   "execution_count": 23,
   "id": "741068fd",
   "metadata": {},
   "outputs": [
    {
     "name": "stdout",
     "output_type": "stream",
     "text": [
      "Atlanta\n",
      "Baltimore\n",
      "Boston\n",
      "Charlotte\n",
      "Dallas\n",
      "Denver\n",
      "Miami\n",
      "Minneapolis\n",
      "Orlando\n",
      "Sacramento\n",
      "Tampa\n",
      "Washington\n",
      "['Orlando', 'Tampa']\n",
      "\n",
      "Enter the City where you want to start your trip from:Boston\n",
      "\n",
      "Enter the City where you want to make a pitstop:Denver\n",
      "\n",
      "Enter the city name where you want to reach:Sacramento\n"
     ]
    }
   ],
   "source": [
    "#function\n",
    "def city_func(cities_list):\n",
    "    \"\"\"Input: Start city, pitstop city and target city\n",
    "       Output: Time and distance between the three cities\"\"\"\n",
    "    \n",
    "    print(\"The name of all cities that are available to fly to are \\n\")\n",
    "# creating a for loop to list all the cities\n",
    "for city in cities_list:\n",
    "    print(f\"{city}\")\n",
    "    \n",
    "start_city2 = input(\"\\nEnter the City where you want to start your trip from:\")\n",
    "pitstop_city2 = input(\"\\nEnter the City where you want to make a stop in:\")\n",
    "target_city2 = input(\"\\nEnter the city name where you want to reach:\")\n",
    "    \n",
    "#index code\n",
    "first_city2 = cities_list.index(start_city2)\n",
    "third_city2 = cities_list.index(pitstop_city2)\n",
    "second_city2 = cities_list.index(target_city2)"
   ]
  },
  {
   "cell_type": "code",
   "execution_count": 24,
   "id": "73224165",
   "metadata": {},
   "outputs": [
    {
     "name": "stdout",
     "output_type": "stream",
     "text": [
      "The name of all cities that are available to fly to are \n",
      "\n",
      "Atlanta\n",
      "Baltimore\n",
      "Boston\n",
      "Charlotte\n",
      "Dallas\n",
      "Denver\n",
      "Miami\n",
      "Minneapolis\n",
      "Orlando\n",
      "Sacramento\n",
      "Tampa\n",
      "Washington\n",
      "['Orlando', 'Tampa']\n",
      "The distance from Boston to Denver is: 1969.0 miles.\n",
      "The distance from Denver to Sacramento is : 1162.0 miles.\n",
      "The amount of fuel stops needed to drive from Boston and Denver is  : 4.0.\n",
      "The amount of fuel stops needed to drive from Denver and Sacramento is  : 2.0.\n"
     ]
    }
   ],
   "source": [
    "#taking the cities input and showing how many fuel stops as well as distance\n",
    "print(\"The name of all cities that are available to fly to are \\n\")\n",
    "# creating a for loop to list all the cities\n",
    "for city in cities_list:\n",
    "    print(f\"{city}\")\n",
    "\n",
    "#Function for distance from start to layover city\n",
    "dis_layover = travel_data[first_city2][third_city2]\n",
    "print(f\"The distance from {start_city2} to {pitstop_city2} is: {dis_layover} miles.\")\n",
    "\n",
    "#Function for distnace from layover to destination city\n",
    "dis_to_dest_from_lay = travel_data[third_city2][second_city2]\n",
    "print(f\"The distance from {pitstop_city2} to {target_city2} is : {dis_to_dest_from_lay} miles.\")\n",
    "\n",
    "#function for refuling\n",
    "dis_layover_refuel_stop = np.floor(dis_layover / (24.9 * 16))\n",
    "dis_to_dest_from_lay_refuel_stop = np.floor(dis_to_dest_from_lay / (24.9 *16))\n",
    "\n",
    "print(f\"The amount of fuel stops needed to drive from {start_city2} and {pitstop_city2} is  : {dis_layover_refuel_stop}.\")\n",
    "\n",
    "print(f\"The amount of fuel stops needed to drive from {pitstop_city2} and {target_city2} is  : {dis_to_dest_from_lay_refuel_stop}.\" )"
   ]
  },
  {
   "cell_type": "code",
   "execution_count": 27,
   "id": "f9c42c53",
   "metadata": {},
   "outputs": [
    {
     "name": "stdout",
     "output_type": "stream",
     "text": [
      "The total gas cost of the trip from Boston to Sacramento is : $231.0.\n"
     ]
    }
   ],
   "source": [
    "#function for the fuel cost\n",
    "tot_fuel_cst = np.ceil((2.4 * 16 * dis_layover_refuel_stop ) + (2.4 * 16 * dis_to_dest_from_lay_refuel_stop))\n",
    "\n",
    "print(f\"The total gas cost of the trip from {start_city2} to {target_city2} is : ${tot_fuel_cst}.\")"
   ]
  },
  {
   "cell_type": "markdown",
   "id": "c1b2fc6f",
   "metadata": {},
   "source": [
    "## -----------------------------\n",
    "## Problem 5 (20 points total) \n",
    "\n",
    "### Let’s try to do a basic navigation code using all our previous parts."
   ]
  },
  {
   "cell_type": "markdown",
   "id": "789b4b82",
   "metadata": {},
   "source": [
    "### A) (3 points) Adapt the code by again asking the traveler to only give you a start city and destination city. You will need to then adapt the function from Problem 4 as follows:"
   ]
  },
  {
   "cell_type": "code",
   "execution_count": 32,
   "id": "d63b81cf",
   "metadata": {},
   "outputs": [
    {
     "name": "stdout",
     "output_type": "stream",
     "text": [
      "The name of all cities that are available to fly to are \n",
      "\n",
      "Atlanta\n",
      "Baltimore\n",
      "Boston\n",
      "Charlotte\n",
      "Dallas\n",
      "Denver\n",
      "Miami\n",
      "Minneapolis\n",
      "Orlando\n",
      "Sacramento\n",
      "Tampa\n",
      "Washington\n",
      "\n",
      "Enter the City where you want to start your trip from:Baltimore\n",
      "\n",
      "Enter the city name where you want to reach:Orlando\n"
     ]
    }
   ],
   "source": [
    "print(\"The name of all cities that are available to fly to are \\n\")\n",
    "# creating a for loop to list all the cities\n",
    "for city in cities_list:\n",
    "    print(f\"{city}\")\n",
    "    \n",
    "start_city2 = input(\"\\nEnter the City where you want to start your trip from:\")\n",
    "\n",
    "target_city2 = input(\"\\nEnter the city name where you want to reach:\")"
   ]
  },
  {
   "cell_type": "code",
   "execution_count": null,
   "id": "e9be3ccf",
   "metadata": {},
   "outputs": [],
   "source": []
  },
  {
   "cell_type": "markdown",
   "id": "4206cfa8",
   "metadata": {},
   "source": [
    "### B) (15 points total) The basis of a navigation program is to get your from A to B in the shortest distance/time possible. Let’s try to do this! "
   ]
  },
  {
   "cell_type": "markdown",
   "id": "d1e20160",
   "metadata": {},
   "source": [
    "### 1. (3 points) Get the indexes of the cities you start from (start_city) and want to end at (second_city). "
   ]
  },
  {
   "cell_type": "code",
   "execution_count": 33,
   "id": "5682060b",
   "metadata": {},
   "outputs": [],
   "source": [
    "\n",
    "#first city index\n",
    "first_city3 = cities_list.index(start_city2)\n",
    "#second city index\n",
    "second_city3 = cities_list.index(target_city2)"
   ]
  },
  {
   "cell_type": "code",
   "execution_count": null,
   "id": "7d615c7f",
   "metadata": {},
   "outputs": [],
   "source": []
  },
  {
   "cell_type": "markdown",
   "id": "7b9671d8",
   "metadata": {},
   "source": [
    "### 2. (10 points) You now need to scan the travel_data table to find the right pitstop city that takes you from A to B in the minimum total distance. Make sure that the straight A to B option is not taken into account, as we need to do a pitstop in some city C. Scan all possible combinations A-->C,C-->B and keep the index (min_tot_dist_ind) of pitstop city C that minimizes the total distance (A-->C) + (C-->B). Print an informative statement that lets the traveler know that they will need to stop in city C, and what the total distance traveled will be. "
   ]
  },
  {
   "cell_type": "code",
   "execution_count": 8,
   "id": "7eb74e59",
   "metadata": {},
   "outputs": [
    {
     "name": "stdout",
     "output_type": "stream",
     "text": [
      "Your trip from, Baltimore to Atlanta will require a stop in Charlotte with a total distance of 677.0 miles. This route is the shortest available.\n"
     ]
    }
   ],
   "source": [
    "t_dist = 0\n",
    "dist = []\n",
    "n = 0\n",
    "\n",
    "for i in travel_data[first_city3,:]:\n",
    "    t_dist = i + travel_data[n, second_city3]\n",
    "    dist.append(t_dist)\n",
    "    n += 1\n",
    "\n",
    "if dist.index(travel_data[first_city3,second_city3]) != t_dist:\n",
    "    min_total_distance_ind = dist.index(min(dist))\n",
    "\n",
    "print(\"Your trip from,\", cities_list[first_city3], 'to', cities_list[second_city3], 'will require a stop in', \n",
    "     cities_list[min_total_distance_ind], 'with a total distance of', t_dist, 'miles.', 'This route is the shortest available.')"
   ]
  },
  {
   "cell_type": "code",
   "execution_count": null,
   "id": "c8b2bf35",
   "metadata": {},
   "outputs": [],
   "source": []
  },
  {
   "cell_type": "markdown",
   "id": "b3f185a8",
   "metadata": {},
   "source": [
    "### 3. (2 points) Run this program for a trip from Baltimore to Orlando. What is your pitstop city?"
   ]
  },
  {
   "cell_type": "code",
   "execution_count": 34,
   "id": "6d1b2d01",
   "metadata": {},
   "outputs": [],
   "source": [
    "def short_route(first_city3, second_city3):\n",
    "    \"\"\"Provides shortest route given the entered cities\n",
    "    Input: city names first_city3, second_city3\n",
    "    Output: shortest route \n",
    "    \"\"\"\n",
    "    t_dist = 0\n",
    "    dist = []\n",
    "    n = 0\n",
    "\n",
    "    cities_list = [\"Atlanta\", \"Baltimore\", \"Boston\", \"Charlotte\", \"Dallas\", \"Denver\", \"Miami\", \"Minneapolis\", \"Orlando\", \"Sacramento\", \"Tampa\", \"Washington\"]\n",
    "    \n",
    "    for i in travel_data[first_city3,:]:\n",
    "        t_dist = i + travel_data[n, second_city3]\n",
    "        dist.append(t_dist)\n",
    "        n += 1\n",
    "    #print(distances)\n",
    "\n",
    "    if dist.index(travel_data[first_city3,second_city3]) != t_dist:\n",
    "        min_total_distance_ind = dist.index(min(dist))\n",
    "    #test    print(min_tot_dist_ind)\n",
    "\n",
    "    print(\"Your trip from,\", cities_list[first_city3], 'to', cities_list[second_city3], 'will require a stop in', \n",
    "         cities_list[min_total_distance_ind], 'with a total distance of', t_dist, 'miles.', 'This route is the shortest available.')"
   ]
  },
  {
   "cell_type": "code",
   "execution_count": 35,
   "id": "288497fa",
   "metadata": {},
   "outputs": [
    {
     "name": "stdout",
     "output_type": "stream",
     "text": [
      "Your trip from, Baltimore to Orlando will require a stop in Washington with a total distance of 885.0 miles. This route is the shortest available.\n",
      "None\n"
     ]
    }
   ],
   "source": [
    "print(short_route(first_city3,second_city3))"
   ]
  },
  {
   "cell_type": "markdown",
   "id": "95be31f0",
   "metadata": {},
   "source": [
    "### 4. (2 points) Change your function to let the traveler know where they will need to stop, how many stops for gas they will need to do in every leg of the trip and how much the total gas cost of the trip will be. Run it for a trip from Baltimore to Orlando."
   ]
  },
  {
   "cell_type": "code",
   "execution_count": null,
   "id": "7e976c98",
   "metadata": {},
   "outputs": [],
   "source": []
  },
  {
   "cell_type": "code",
   "execution_count": null,
   "id": "f302ef43",
   "metadata": {},
   "outputs": [],
   "source": []
  },
  {
   "cell_type": "code",
   "execution_count": null,
   "id": "1994993b",
   "metadata": {},
   "outputs": [],
   "source": []
  },
  {
   "cell_type": "markdown",
   "id": "9869b8b5",
   "metadata": {},
   "source": [
    "## -----------------------------\n",
    "## Problem 6 (10 points) \n",
    "\n",
    "### Prepare and submit your homework. Write what you did to make and submit the zip file into your log. Don’t forget to commit your finalized code and push it to GitHub. When satisfied, close the log, copy it to your homework directory one last time, and run the commands to make and submit the zip file. Turn the file in on WebCourses. "
   ]
  },
  {
   "cell_type": "code",
   "execution_count": null,
   "id": "134b22c8",
   "metadata": {},
   "outputs": [],
   "source": []
  }
 ],
 "metadata": {
  "kernelspec": {
   "display_name": "Python 3 (ipykernel)",
   "language": "python",
   "name": "python3"
  },
  "language_info": {
   "codemirror_mode": {
    "name": "ipython",
    "version": 3
   },
   "file_extension": ".py",
   "mimetype": "text/x-python",
   "name": "python",
   "nbconvert_exporter": "python",
   "pygments_lexer": "ipython3",
   "version": "3.9.12"
  }
 },
 "nbformat": 4,
 "nbformat_minor": 5
}
