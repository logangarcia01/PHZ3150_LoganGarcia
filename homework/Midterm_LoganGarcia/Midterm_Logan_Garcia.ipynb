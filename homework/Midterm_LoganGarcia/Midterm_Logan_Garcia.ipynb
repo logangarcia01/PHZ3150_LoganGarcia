{
 "cells": [
  {
   "cell_type": "markdown",
   "id": "8ffbe43e",
   "metadata": {},
   "source": [
    "### For this Midterm exam we will be coding a little navigation program. Typically, a good navigation program is pretty complex with thousands of variables that need to be taken into account. We will do a simplified case where a traveler can only travel between 12 cities, on predetermined routes. Your task will be to let the driver know how long their trip will be and what the best route is when they want to go from A to B. \n",
    "\n",
    "### Problems to Hand In: Your log is part of your Midterm exam. In one of the entries, it should identify the start and end of the Midterm and list the problem numbers in order. Keep notes about what you are doing for each problem, as well as the answers to the problems. \n"
   ]
  },
  {
   "cell_type": "markdown",
   "id": "7744dd14",
   "metadata": {},
   "source": [
    "<img src=\"octodriver.png\" width=300 height=300 />"
   ]
  },
  {
   "cell_type": "markdown",
   "id": "14bbee08",
   "metadata": {},
   "source": [
    "## ----------------------------- \n",
    "## Problem 1 (5 points total). "
   ]
  },
  {
   "cell_type": "markdown",
   "id": "b68890c2",
   "metadata": {},
   "source": [
    "### A) (2 points) Start by making a new folder under HW/ called Midterm/.  Your main homework file is this Jupyter notebook. Remember to rename it to midterm_$\\mathrm{<username>}$.ipynb.  Save it under Midterm/ . Remember to commit your file often and push to GitHub. Note that Github also serves as a great backup and will help you to submit *something* if an unexpected problem appears before the deadline (e.g., your laptop breaks). We will check this as part of your grading!\n",
    "\n",
    "### Your name, assignment number, and the date should appear as comments at the top using markdown. Any remarks or written answers you may make should be written using Markdown. If you need to comment something in the code (for clarity) do so with a normal comment. Use the print() function to print, don’t just type the expression. "
   ]
  },
  {
   "cell_type": "markdown",
   "id": "eb3cd28a",
   "metadata": {},
   "source": [
    "Logan Garcia\n",
    "\n",
    "10/19/2022\n",
    "\n",
    "PHZ3150 Midterm"
   ]
  },
  {
   "cell_type": "markdown",
   "id": "a21abba8",
   "metadata": {},
   "source": [
    "### B) (3 points). For this program you will need the numerical module of Python. Do the appropriate import.\n"
   ]
  },
  {
   "cell_type": "code",
   "execution_count": 8,
   "id": "4b39e2ee",
   "metadata": {},
   "outputs": [],
   "source": [
    "import numpy as np"
   ]
  },
  {
   "cell_type": "code",
   "execution_count": null,
   "id": "48f64bf0",
   "metadata": {},
   "outputs": [],
   "source": []
  },
  {
   "cell_type": "markdown",
   "id": "281a702b",
   "metadata": {},
   "source": [
    "## -----------------------------\n",
    "## Problem 2 (20 points total).  Let’s start our program! "
   ]
  },
  {
   "cell_type": "markdown",
   "id": "41f08b62",
   "metadata": {},
   "source": [
    "### A) (4 points) We need to inform the user of our navigation system that we need from them a start and ending point for their trip. Print an informative sentence that lets the user know that we need them to input two cities (start_city, target_city). Their available options should be: Atlanta, Baltimore, Boston, Charlotte, Dallas, Denver, Jacksonville, Minneapolis, Orlando, Sacramento, Tampa and Washington (let the user know this!). \n",
    "\n",
    "<img src=\"map_part.png\" width=500 height=350 />\n",
    "Caption: Google maps screenshot of a part of the cities that your traveler can go from/to. Not included for clarity are Sacramento and Minneapolis."
   ]
  },
  {
   "cell_type": "code",
   "execution_count": 2,
   "id": "720f9b8b",
   "metadata": {},
   "outputs": [
    {
     "name": "stdout",
     "output_type": "stream",
     "text": [
      "Thank You for using our system, please input a start city and target city down below.\n"
     ]
    }
   ],
   "source": [
    "print(\"Thank You for using our system, please input a start city and target city down below.\")"
   ]
  },
  {
   "cell_type": "markdown",
   "id": "aeaca5ee",
   "metadata": {},
   "source": [
    "### B) (4 points) Ask the input start_city and target_city for your trip"
   ]
  },
  {
   "cell_type": "code",
   "execution_count": 3,
   "id": "20246ea3",
   "metadata": {},
   "outputs": [
    {
     "name": "stdout",
     "output_type": "stream",
     "text": [
      "\n",
      "Enter the City where you want to start your trip from:Paris\n"
     ]
    }
   ],
   "source": [
    "#Takes the city the user wants to start at\n",
    "start_city = input(\"\\nEnter the City where you want to start your trip from:\").capitalize()"
   ]
  },
  {
   "cell_type": "code",
   "execution_count": 4,
   "id": "9e76939a",
   "metadata": {},
   "outputs": [
    {
     "name": "stdout",
     "output_type": "stream",
     "text": [
      "\n",
      "Enter the city name where you want to reach:Orlando\n"
     ]
    }
   ],
   "source": [
    "#Takes the city the user wants to go to\n",
    "target_city = input(\"\\nEnter the city name where you want to reach:\").capitalize()"
   ]
  },
  {
   "cell_type": "markdown",
   "id": "e2857955",
   "metadata": {},
   "source": [
    "### C) (4 points) Make a list cities_list with all the names of the possible cities the traveler can go from/to."
   ]
  },
  {
   "cell_type": "code",
   "execution_count": 2,
   "id": "6b04bfe5",
   "metadata": {},
   "outputs": [],
   "source": [
    "cities_list = [\"Atlanta\", \"Baltimore\", \"Boston\", \"Charlotte\", \"Dallas\", \"Denver\",\"Miami\", \"Minneapolis\", \"Orlando\", \"Sacramento\", \"Tampa\", \"Washington\"]"
   ]
  },
  {
   "cell_type": "code",
   "execution_count": 3,
   "id": "fa12f775",
   "metadata": {},
   "outputs": [
    {
     "name": "stdout",
     "output_type": "stream",
     "text": [
      "The name of all cities that are available to fly to are \n",
      "\n",
      "Atlanta\n",
      "Baltimore\n",
      "Boston\n",
      "Charlotte\n",
      "Dallas\n",
      "Denver\n",
      "Miami\n",
      "Minneapolis\n",
      "Orlando\n",
      "Sacramento\n",
      "Tampa\n",
      "Washington\n"
     ]
    }
   ],
   "source": [
    "print(\"The name of all cities that are available to fly to are \\n\")\n",
    "# creating a for loop to list all the cities\n",
    "for city in cities_list:\n",
    "    print(f\"{city}\")"
   ]
  },
  {
   "cell_type": "markdown",
   "id": "77e6253f",
   "metadata": {},
   "source": [
    "### D) (4 points) Check if the input start and target cities are among the cities the traveler is allowed to travel to/from. If not, print an error statement that asks them to input another, appropriate city."
   ]
  },
  {
   "cell_type": "code",
   "execution_count": 9,
   "id": "7f789270",
   "metadata": {},
   "outputs": [
    {
     "name": "stdout",
     "output_type": "stream",
     "text": [
      "Yes, your city is on the list.\n"
     ]
    }
   ],
   "source": [
    "#if else statement taking into account the user input to see if the start city is on the list\n",
    "\n",
    "if start_city in cities_list:\n",
    "    print('Yes, your city is on the list.')\n",
    "    \n",
    "else:\n",
    "    print('Your city is not on the list please enter a new one.\\n')\n",
    "    start_city = input(\"\\nEnter new city to start from: \").capitalize()\n"
   ]
  },
  {
   "cell_type": "code",
   "execution_count": 10,
   "id": "bafbc646",
   "metadata": {},
   "outputs": [
    {
     "name": "stdout",
     "output_type": "stream",
     "text": [
      "Yes, your city is on the list.\n"
     ]
    }
   ],
   "source": [
    "#if else statement taking into account the user input to see if the start city is on the list\n",
    "\n",
    "if start_city in cities_list:\n",
    "    print('Yes, your city is on the list.')\n",
    "    \n",
    "else:\n",
    "    print('Your city is not on the list please enter a new one.\\n')\n",
    "    start_city = input(\"\\nEnter new city to start from: \").capitalize()"
   ]
  },
  {
   "cell_type": "code",
   "execution_count": 11,
   "id": "83c201f4",
   "metadata": {},
   "outputs": [
    {
     "name": "stdout",
     "output_type": "stream",
     "text": [
      "Yes, your city is on the list.\n"
     ]
    }
   ],
   "source": [
    "#if else statement taking into account the user input to see if the target city is on the list\n",
    "\n",
    "if target_city in cities_list:\n",
    "    print('Yes, your city is on the list.')\n",
    "    \n",
    "else:\n",
    "    print('Your city is not on the list please enter a new one.\\n')\n",
    "    target_city = input(\"\\nEnter the city name where you want to reach:\").capitalize()"
   ]
  },
  {
   "cell_type": "markdown",
   "id": "e49c84f4",
   "metadata": {},
   "source": [
    "### E)\t(4 points) Test that your code so far works. Run it with a start city: Paris and end city: Orlando. When the code complains for your start city, give new start city: Atlanta. Make a screenshot of your test and save it with the appropriate name to your Midterm folder. "
   ]
  },
  {
   "cell_type": "code",
   "execution_count": 12,
   "id": "c61f97fe",
   "metadata": {},
   "outputs": [
    {
     "name": "stdout",
     "output_type": "stream",
     "text": [
      "completed\n"
     ]
    }
   ],
   "source": [
    "print('completed')"
   ]
  },
  {
   "cell_type": "code",
   "execution_count": null,
   "id": "a0e35013",
   "metadata": {},
   "outputs": [],
   "source": []
  },
  {
   "cell_type": "markdown",
   "id": "2a0d6091",
   "metadata": {},
   "source": [
    "## -----------------------------\n",
    "## Problem 3 (20 points total)."
   ]
  },
  {
   "cell_type": "markdown",
   "id": "e6d5e833",
   "metadata": {},
   "source": [
    "### A) (3 points) From *Webcourses/Files/Midterm project*  get file “distances_midterm.dat”. This file contains the total distance on the route between city A and B. If you open the file, you will see that it contains a 12 x 12 table (as we have 12 cities we can travel between) with the distances between cities. The $i^{th}$ line and $i^{th}$ column are a given city, so that the diagonal is 0s (as the distance from A to A is zero). The distance between Atlanta and Baltimore, e.g., is 678 miles so that line 0 (#5 of the file) column 1 of your data (i.e., the distance from Atlanta to Baltimore) is 678 (note that the same is true for line 1 [-Baltimore], column 0[-Atlanta] as this is the distance from Baltimore to Atlanta). Use the appropriate numpy function to read the data into variable *travel_data*."
   ]
  },
  {
   "cell_type": "code",
   "execution_count": 4,
   "id": "ef978b85",
   "metadata": {},
   "outputs": [],
   "source": [
    "cities_list = [\"Atlanta\", \"Baltimore\", \"Boston\", \"Charlotte\", \"Dallas\", \"Denver\", \"Miami\", \"Minneapolis\", \"Orlando\", \"Sacramento\", \"Tampa\", \"Washington\"]"
   ]
  },
  {
   "cell_type": "code",
   "execution_count": 9,
   "id": "03e2bb1e",
   "metadata": {},
   "outputs": [],
   "source": [
    "travel_data = np.genfromtxt('distances_midterm.dat')"
   ]
  },
  {
   "cell_type": "code",
   "execution_count": 15,
   "id": "5df6470f",
   "metadata": {},
   "outputs": [
    {
     "name": "stdout",
     "output_type": "stream",
     "text": [
      "[[   0.  678. 1094.  245.  782. 1402.  662. 1127.  438. 2467.  467.  638.]\n",
      " [ 678.    0.  400.  422. 1366. 1633. 1103. 1109.  983. 2730.  941.   39.]\n",
      " [1094.  400.    0.  839. 1761. 1969. 1497. 1390. 1381. 3008. 1341.  439.]\n",
      " [ 245.  422.  839.    0. 1026. 1562.  735. 1180.  524. 2676.  580.  399.]\n",
      " [ 782. 1366. 1761. 1026.    0.  785. 1313.  991. 1092. 1726. 1107. 1328.]\n",
      " [1402. 1633. 1969. 1562.  785.    0. 2064.  914. 1843. 1162. 1857. 1661.]\n",
      " [ 662. 1103. 1497.  735. 1313. 2064.    0. 1773.  237. 3039.  270. 1158.]\n",
      " [1127. 1109. 1390. 1180.  991.  914. 1773.    0. 1568. 1887. 1583. 1108.]\n",
      " [ 438.  983. 1381.  524. 1092. 1843.  237. 1568.    0. 2810.   84.  846.]\n",
      " [2467. 2730. 3008. 2676. 1726. 1162. 3039. 1887. 2810.    0. 2832. 2728.]\n",
      " [ 467.  941. 1341.  580. 1107. 1857.  270. 1583.   84. 2832.    0.  903.]\n",
      " [ 638.   39.  439.  390. 1328. 1661. 1158. 1108.  846. 2728.  903.    0.]]\n"
     ]
    }
   ],
   "source": [
    "print(travel_data)"
   ]
  },
  {
   "cell_type": "markdown",
   "id": "737ddd6b",
   "metadata": {},
   "source": [
    "### B) (4 points) Find which cities the traveler wants to travel from/ to. Use your preferred method to get the index of the cities (assign to variables *first_city* and *second_city*) from your list. "
   ]
  },
  {
   "cell_type": "code",
   "execution_count": 16,
   "id": "2eff1d2b",
   "metadata": {},
   "outputs": [
    {
     "name": "stdout",
     "output_type": "stream",
     "text": [
      "\n",
      "Enter the City where you want to start your trip from:Orlando\n",
      "\n",
      "Enter the city name where you want to reach:Denver\n"
     ]
    }
   ],
   "source": [
    "start_city = input(\"\\nEnter the City where you want to start your trip from:\").capitalize()\n",
    "target_city = input(\"\\nEnter the city name where you want to reach:\").capitalize()\n",
    "\n",
    "first_city = cities_list.index(start_city)\n",
    "second_city = cities_list.index(target_city)"
   ]
  },
  {
   "cell_type": "code",
   "execution_count": null,
   "id": "30693512",
   "metadata": {},
   "outputs": [],
   "source": []
  },
  {
   "cell_type": "markdown",
   "id": "fe6078bc",
   "metadata": {},
   "source": [
    "### C) (4 points) Using the *travel_data* and indexes *first_city* and *second_city*, find the distance the traveler will travel. Print an informative statement to let the driver know what the distance between their start and end city are."
   ]
  },
  {
   "cell_type": "code",
   "execution_count": 17,
   "id": "f88a7aaf",
   "metadata": {},
   "outputs": [
    {
     "name": "stdout",
     "output_type": "stream",
     "text": [
      "The distance from Orlando and Denver is: 1843.0 miles\n"
     ]
    }
   ],
   "source": [
    "distance = travel_data[first_city][second_city]\n",
    "print(f\"The distance from {start_city} and {target_city} is:\", distance,\"miles\")"
   ]
  },
  {
   "cell_type": "code",
   "execution_count": null,
   "id": "f3d52b4d",
   "metadata": {},
   "outputs": [],
   "source": []
  },
  {
   "cell_type": "markdown",
   "id": "78278edd",
   "metadata": {},
   "source": [
    "### D) (5 points) Assume that the traveler can travel at an average speed of 75mph. Calculate the average travel time it will take them to go from their start_city to their target_city. Calculate how many days ( *travel_time_days* ), hours ( *travel_time_hours* ) and minutes ( *travel_time_minutes* ) the trip will take. Print an informative statement that lets the traveler know how long their trip will be in days, hours and minutes."
   ]
  },
  {
   "cell_type": "code",
   "execution_count": 18,
   "id": "91cbfb22",
   "metadata": {},
   "outputs": [
    {
     "name": "stdout",
     "output_type": "stream",
     "text": [
      "The Time of your trip is 1.0 days 0.0 hours and 34.0 minutes.\n"
     ]
    }
   ],
   "source": [
    "t_hours = distance/75\n",
    "rnd_hours = np.floor(t_hours)\n",
    "\n",
    "t_minutes = t_hours - rnd_hours\n",
    "minutes = t_minutes*60\n",
    "rnd_minutes = np.floor(minutes)\n",
    "\n",
    "t_days = t_hours/24\n",
    "rnd_days = np.floor(t_days)\n",
    "\n",
    "travel_time_days = rnd_days\n",
    "travel_time_hours = rnd_hours\n",
    "travel_time_minutes = rnd_minutes\n",
    "\n",
    "if travel_time_hours >=24:\n",
    "    travel_time_hours = travel_time_hours - 24\n",
    "    \n",
    "print(\"The Time of your trip is\", travel_time_days, \"days\", travel_time_hours, \"hours and\", travel_time_minutes, \"minutes.\")"
   ]
  },
  {
   "cell_type": "code",
   "execution_count": null,
   "id": "91c648c7",
   "metadata": {},
   "outputs": [],
   "source": []
  },
  {
   "cell_type": "markdown",
   "id": "da274a0c",
   "metadata": {},
   "source": [
    "### E) (2 points) Test that your program so far works. Run it from the start_city: Tampa to target_city : Orlando. Your trip should take 1hr and some minutes (note that our assumed average speed is higher than the legal speed limit, so you will get there faster than what, e.g., Google maps suggests). "
   ]
  },
  {
   "cell_type": "code",
   "execution_count": 19,
   "id": "22ea2f35",
   "metadata": {},
   "outputs": [
    {
     "name": "stdout",
     "output_type": "stream",
     "text": [
      "completed above\n"
     ]
    }
   ],
   "source": [
    "print(\"completed above\")"
   ]
  },
  {
   "cell_type": "code",
   "execution_count": 20,
   "id": "c7e368ef",
   "metadata": {},
   "outputs": [],
   "source": [
    "#Screenshot shows test"
   ]
  },
  {
   "cell_type": "markdown",
   "id": "55a27dc5",
   "metadata": {},
   "source": [
    "### F) (2 points) Turn the program into a function that takes as input a list of the two cities (start, target) and outputs the necessary information (distance, time..). Make sure you include an appropriate informative docstring!"
   ]
  },
  {
   "cell_type": "code",
   "execution_count": 21,
   "id": "42b1f88d",
   "metadata": {},
   "outputs": [],
   "source": [
    "def city_func(cities_list):\n",
    "    \"\"\"Input: Start city and target city\n",
    "       Output: Time and distance between the two cities\"\"\"\n",
    "    \n",
    "    #index code\n",
    "    first_city = cities_list.index(start_city)\n",
    "    second_city = cities_list.index(target_city)\n",
    "    \n",
    "    \n",
    "    #distance code\n",
    "    t_hours = distance/75\n",
    "    rnd_hours = np.floor(t_hours)\n",
    "\n",
    "    t_minutes = t_hours - rnd_hours\n",
    "    minutes = t_minutes*60\n",
    "    rnd_minutes = np.floor(minutes)\n",
    "\n",
    "    t_days = t_hours/24\n",
    "    rnd_days = np.floor(t_days)\n",
    "\n",
    "    travel_time_days = rnd_days\n",
    "    travel_time_hours = rnd_hours\n",
    "    travel_time_minutes = rnd_minutes\n",
    "\n",
    "    if travel_time_hours >=24:\n",
    "        travel_time_hours = travel_time_hours - 24\n",
    "    \n",
    "    print(\"The Time of your trip is\", travel_time_days, \"days\", travel_time_hours, \"hours and\", travel_time_minutes, \"minutes.\")\n",
    "    \n",
    "    return\n",
    "\n",
    "cities_list = [\"Atlanta\", \"Baltimore\", \"Boston\", \"Charlotte\", \"Dallas\", \"Denver\", \"Miami\" \"Minneapolis\", \"Orlando\", \"Sacramento\", \"Tampa\", \"Washington\"]\n",
    "\n",
    "cities_list.append([start_city,target_city])"
   ]
  },
  {
   "cell_type": "code",
   "execution_count": null,
   "id": "6ed73459",
   "metadata": {},
   "outputs": [],
   "source": []
  },
  {
   "cell_type": "code",
   "execution_count": null,
   "id": "60412d46",
   "metadata": {},
   "outputs": [],
   "source": []
  },
  {
   "cell_type": "code",
   "execution_count": null,
   "id": "12cef32a",
   "metadata": {},
   "outputs": [],
   "source": []
  },
  {
   "cell_type": "markdown",
   "id": "e031b5a2",
   "metadata": {},
   "source": [
    "## -----------------------------\n",
    "## Problem 4 (15 points total).\n",
    "\n",
    "### We will now change the existing program to add an extra city as a pitstop.  Let’s make a cross-country road trip from Boston to Sacramento via Denver. Modify your Problem 3 code and function as follows: "
   ]
  },
  {
   "cell_type": "markdown",
   "id": "c291b596",
   "metadata": {},
   "source": [
    "\n",
    "\n",
    "### A) (2 points)  We will now ask the input *start_city*, a *pitstop_city* and a *target_city* for the trip. "
   ]
  },
  {
   "cell_type": "code",
   "execution_count": 41,
   "id": "da8ee415",
   "metadata": {},
   "outputs": [
    {
     "name": "stdout",
     "output_type": "stream",
     "text": [
      "\n",
      "Enter the City where you want to start your trip from:Denver\n",
      "\n",
      "Enter the City where you want to make a pitstop:Washington\n",
      "\n",
      "Enter the city name where you want to reach:Atlanta\n"
     ]
    }
   ],
   "source": [
    "start_city = input(\"\\nEnter the City where you want to start your trip from:\").capitalize()\n",
    "pitstop_city = input(\"\\nEnter the City where you want to make a pitstop:\").capitalize()\n",
    "target_city = input(\"\\nEnter the city name where you want to reach:\").capitalize()\n",
    "\n",
    "first_city = cities_list.index(start_city)\n",
    "second_city = cities_list.index(target_city)\n",
    "third_city = cities_list.index(pitstop_city)"
   ]
  },
  {
   "cell_type": "code",
   "execution_count": 42,
   "id": "4ea7cb15",
   "metadata": {},
   "outputs": [
    {
     "name": "stdout",
     "output_type": "stream",
     "text": [
      "The distance from Denver and Washington is: 1661.0 miles.The distance from Washington and Atlanta is: 638.0\n"
     ]
    }
   ],
   "source": [
    "distance = travel_data[first_city][third_city]\n",
    "dis = travel_data[third_city][second_city]\n",
    "print(f\"The distance from {start_city} and {pitstop_city} is:\", distance,\"miles.\" f\"The distance from {pitstop_city} and {target_city} is:\",dis)"
   ]
  },
  {
   "cell_type": "markdown",
   "id": "734078b6",
   "metadata": {},
   "source": [
    "### B) (2 points) Update your function to find which cities the traveler wants to travel from, pitstop at, and go to in your list of cities. Use your preferred method to get the index of the cities (first_city, second_city and third_city) from your list. "
   ]
  },
  {
   "cell_type": "code",
   "execution_count": null,
   "id": "712db470",
   "metadata": {},
   "outputs": [],
   "source": []
  },
  {
   "cell_type": "code",
   "execution_count": 43,
   "id": "94ca18f6",
   "metadata": {},
   "outputs": [],
   "source": [
    "def city_fun(cities_list):\n",
    "    \"\"\"Input: Start city, pitstop city and target city\n",
    "       Output: Time and distance between the three cities\"\"\"\n",
    "    \n",
    "    #index code\n",
    "    first_city = cities_list.index(start_city)\n",
    "    third_city = cities_list.index(pitstop_city)\n",
    "    second_city = cities_list.index(target_city)\n",
    "    \n",
    "    \n",
    "    #time code\n",
    "    t_hours = distance/75\n",
    "    rnd_hours = np.floor(t_hours)\n",
    "\n",
    "    t_minutes = t_hours - rnd_hours\n",
    "    minutes = t_minutes*60\n",
    "    rnd_minutes = np.floor(minutes)\n",
    "\n",
    "    t_days = t_hours/24\n",
    "    rnd_days = np.floor(t_days)\n",
    "    \n",
    "    #time code for stop to target\n",
    "    \n",
    "    total_hours = dis/75\n",
    "    round_hours = np.floor(total_hours)\n",
    "    \n",
    "    total_minutes = total_hours - round_hours\n",
    "    Min = total_minutes*60\n",
    "    round_minutes = np.floor(Min)\n",
    "    \n",
    "    total_days = total_hours/24\n",
    "    round_days = np.floor(total_days)\n",
    "    \n",
    "\n",
    "    travel_time_days = rnd_days + round_days\n",
    "    travel_time_hours = rnd_hours + round_hours\n",
    "    travel_time_minutes = rnd_minutes + round_minutes\n",
    "\n",
    "    if travel_time_hours >=24:\n",
    "        travel_time_hours = travel_time_hours - 24\n",
    "        \n",
    "    print(\"The Time of your trip is\", travel_time_days, \"days\", travel_time_hours, \"hours and\", travel_time_minutes, \"minutes.\")\n",
    "    \n",
    "    return\n",
    "\n",
    "cities_list = [\"Atlanta\", \"Baltimore\", \"Boston\", \"Charlotte\", \"Dallas\", \"Denver\", \"Miami\", \"Minneapolis\", \"Orlando\", \"Sacramento\", \"Tampa\", \"Washington\"]\n",
    "\n",
    "cities_list.append([start_city,pitstop_city,target_city])"
   ]
  },
  {
   "cell_type": "code",
   "execution_count": 44,
   "id": "fcb4e504",
   "metadata": {},
   "outputs": [
    {
     "name": "stdout",
     "output_type": "stream",
     "text": [
      "The Time of your trip is 0.0 days 6.0 hours and 38.0 minutes.\n",
      "None\n"
     ]
    }
   ],
   "source": [
    "print(city_fun(cities_list))"
   ]
  },
  {
   "cell_type": "markdown",
   "id": "00493ba0",
   "metadata": {},
   "source": [
    "### C) (4 points) Use the above indices and your travel_data to find the distance between first_city - second_city and second_city-third_city. Assuming that your traveler’s car can do 24.9 mpg on the highway and their tank holds 16gallons, calculate how many refueling stops they will need to do on the first and the second leg of their trip Assume that you start the trip with a full tank and round the numbers (e.g., needing 3.2 stops doesn’t make sense). Print an informative statement that lets the traveler know how many stops they will need to do on the two legs of their trip."
   ]
  },
  {
   "cell_type": "code",
   "execution_count": null,
   "id": "30b0cd4c",
   "metadata": {},
   "outputs": [],
   "source": []
  },
  {
   "cell_type": "code",
   "execution_count": null,
   "id": "ba21fcdd",
   "metadata": {},
   "outputs": [],
   "source": []
  },
  {
   "cell_type": "markdown",
   "id": "f36fc24c",
   "metadata": {},
   "source": [
    "### D) (4 points) Assume an average price of $2.4 per gallon and calculate how much the trip will cost in fuel. Print an informative statement that lets the traveler know the total (gas-only) value of their trip. "
   ]
  },
  {
   "cell_type": "code",
   "execution_count": null,
   "id": "59a57f58",
   "metadata": {},
   "outputs": [],
   "source": []
  },
  {
   "cell_type": "code",
   "execution_count": null,
   "id": "f6715a1e",
   "metadata": {},
   "outputs": [],
   "source": []
  },
  {
   "cell_type": "markdown",
   "id": "571ffa22",
   "metadata": {},
   "source": [
    "### E) (3 points) Did it all work? Run the code for start_city: Boston, pitstop_city: Denver and target_city: Sacramento. "
   ]
  },
  {
   "cell_type": "code",
   "execution_count": null,
   "id": "741068fd",
   "metadata": {},
   "outputs": [],
   "source": []
  },
  {
   "cell_type": "code",
   "execution_count": null,
   "id": "73224165",
   "metadata": {},
   "outputs": [],
   "source": []
  },
  {
   "cell_type": "code",
   "execution_count": null,
   "id": "f9c42c53",
   "metadata": {},
   "outputs": [],
   "source": []
  },
  {
   "cell_type": "markdown",
   "id": "c1b2fc6f",
   "metadata": {},
   "source": [
    "## -----------------------------\n",
    "## Problem 5 (20 points total) \n",
    "\n",
    "### Let’s try to do a basic navigation code using all our previous parts."
   ]
  },
  {
   "cell_type": "markdown",
   "id": "789b4b82",
   "metadata": {},
   "source": [
    "### A) (3 points) Adapt the code by again asking the traveler to only give you a start city and destination city. You will need to then adapt the function from Problem 4 as follows:"
   ]
  },
  {
   "cell_type": "code",
   "execution_count": null,
   "id": "d63b81cf",
   "metadata": {},
   "outputs": [],
   "source": []
  },
  {
   "cell_type": "code",
   "execution_count": null,
   "id": "e9be3ccf",
   "metadata": {},
   "outputs": [],
   "source": []
  },
  {
   "cell_type": "markdown",
   "id": "4206cfa8",
   "metadata": {},
   "source": [
    "### B) (15 points total) The basis of a navigation program is to get your from A to B in the shortest distance/time possible. Let’s try to do this! "
   ]
  },
  {
   "cell_type": "markdown",
   "id": "d1e20160",
   "metadata": {},
   "source": [
    "### 1. (3 points) Get the indexes of the cities you start from (start_city) and want to end at (second_city). "
   ]
  },
  {
   "cell_type": "code",
   "execution_count": null,
   "id": "5682060b",
   "metadata": {},
   "outputs": [],
   "source": []
  },
  {
   "cell_type": "code",
   "execution_count": null,
   "id": "7d615c7f",
   "metadata": {},
   "outputs": [],
   "source": []
  },
  {
   "cell_type": "markdown",
   "id": "7b9671d8",
   "metadata": {},
   "source": [
    "### 2. (10 points) You now need to scan the travel_data table to find the right pitstop city that takes you from A to B in the minimum total distance. Make sure that the straight A to B option is not taken into account, as we need to do a pitstop in some city C. Scan all possible combinations A-->C,C-->B and keep the index (min_tot_dist_ind) of pitstop city C that minimizes the total distance (A-->C) + (C-->B). Print an informative statement that lets the traveler know that they will need to stop in city C, and what the total distance traveled will be. "
   ]
  },
  {
   "cell_type": "code",
   "execution_count": null,
   "id": "7eb74e59",
   "metadata": {},
   "outputs": [],
   "source": []
  },
  {
   "cell_type": "code",
   "execution_count": null,
   "id": "c8b2bf35",
   "metadata": {},
   "outputs": [],
   "source": []
  },
  {
   "cell_type": "markdown",
   "id": "b3f185a8",
   "metadata": {},
   "source": [
    "### 3. (2 points) Run this program for a trip from Baltimore to Orlando. What is your pitstop city?"
   ]
  },
  {
   "cell_type": "code",
   "execution_count": null,
   "id": "6d1b2d01",
   "metadata": {},
   "outputs": [],
   "source": []
  },
  {
   "cell_type": "code",
   "execution_count": null,
   "id": "288497fa",
   "metadata": {},
   "outputs": [],
   "source": []
  },
  {
   "cell_type": "markdown",
   "id": "95be31f0",
   "metadata": {},
   "source": [
    "### 4. (2 points) Change your function to let the traveler know where they will need to stop, how many stops for gas they will need to do in every leg of the trip and how much the total gas cost of the trip will be. Run it for a trip from Baltimore to Orlando."
   ]
  },
  {
   "cell_type": "code",
   "execution_count": null,
   "id": "7e976c98",
   "metadata": {},
   "outputs": [],
   "source": []
  },
  {
   "cell_type": "code",
   "execution_count": null,
   "id": "f302ef43",
   "metadata": {},
   "outputs": [],
   "source": []
  },
  {
   "cell_type": "code",
   "execution_count": null,
   "id": "1994993b",
   "metadata": {},
   "outputs": [],
   "source": []
  },
  {
   "cell_type": "markdown",
   "id": "9869b8b5",
   "metadata": {},
   "source": [
    "## -----------------------------\n",
    "## Problem 6 (10 points) \n",
    "\n",
    "### Prepare and submit your homework. Write what you did to make and submit the zip file into your log. Don’t forget to commit your finalized code and push it to GitHub. When satisfied, close the log, copy it to your homework directory one last time, and run the commands to make and submit the zip file. Turn the file in on WebCourses. "
   ]
  },
  {
   "cell_type": "code",
   "execution_count": null,
   "id": "134b22c8",
   "metadata": {},
   "outputs": [],
   "source": []
  }
 ],
 "metadata": {
  "kernelspec": {
   "display_name": "Python 3 (ipykernel)",
   "language": "python",
   "name": "python3"
  },
  "language_info": {
   "codemirror_mode": {
    "name": "ipython",
    "version": 3
   },
   "file_extension": ".py",
   "mimetype": "text/x-python",
   "name": "python",
   "nbconvert_exporter": "python",
   "pygments_lexer": "ipython3",
   "version": "3.9.12"
  }
 },
 "nbformat": 4,
 "nbformat_minor": 5
}
