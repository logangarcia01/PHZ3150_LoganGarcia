{
 "cells": [
  {
   "cell_type": "markdown",
   "metadata": {},
   "source": [
    "# The perpetual exam season"
   ]
  },
  {
   "cell_type": "markdown",
   "metadata": {},
   "source": [
    "### Orlando, FL: You are one of the major investigators on the world. A telegraph comes in your office:\n",
    "\n",
    "<img src=\"telegraph_north_pole.png\" width=600 height=600 />\n",
    "\n",
    "<img src=\"grinchtocat.gif\" width=200 height=200 />\n",
    "\n",
    "### You fly immediately to the North Pole to get all information available, find and save Saint Nictocat and students around the globe. Upon arrival the Grinchtocat arrests you and locks you up in a dundgeon room. Can this be the end of winter break and the first perpetual exam season?\n",
    "\n",
    "<img src=\"saint_nictocat.jpeg\" width=200 height=200 />\n",
    "\n",
    "### Thankfully, a good elf made sure to leave hints around the room for you to escape. They also left the key to the dundgeon room where Saint Nictocat is locked away.\n",
    "\n",
    "### Your mission, if you chose to accept it, is to get out of the room and free Saint Nictocat before December 8, 12:01 pm. You alone can save students from redoing all exams of 2022!"
   ]
  },
  {
   "cell_type": "markdown",
   "metadata": {},
   "source": [
    "## --------------------------------------"
   ]
  },
  {
   "cell_type": "code",
   "execution_count": null,
   "metadata": {},
   "outputs": [],
   "source": [
    "your_name = input('Please give me your name: ')\n",
    "\n",
    "print('\\n Welcome inspector '+your_name+'. You alone can save Christmas.')\n",
    "print('I left some hints for you around the room. They should help you escape on time and find Santa.')"
   ]
  },
  {
   "cell_type": "markdown",
   "metadata": {},
   "source": [
    "## Problem 1. <br> Looking for a way out ( **10 points** ) "
   ]
  },
  {
   "cell_type": "code",
   "execution_count": null,
   "metadata": {},
   "outputs": [],
   "source": [
    "print(\"Inspector \"+your_name +\"\"\", let's save the students together. To escape from this \n",
    "      room you will need to use the coding knowledge you got this semester.\"\"\")\n",
    "print('\\n')\n",
    "print(\"\"\"Don't forget that a good log is part of a successful mission! Start your log please!\"\"\")\n",
    "print('\\n')\n",
    "print(\"\"\"You will need to import the necesary packages to do numerical problems and plot images. Start \n",
    "      by doing all your imports here. \"\"\")"
   ]
  },
  {
   "cell_type": "code",
   "execution_count": null,
   "metadata": {},
   "outputs": [],
   "source": [
    "#import your modules here:"
   ]
  },
  {
   "cell_type": "code",
   "execution_count": null,
   "metadata": {},
   "outputs": [],
   "source": [
    "print(\"\"\"You also need to create an empty list named *key_code* that you will slowly populate \n",
    "with the keys you get as you solve the puzzles\"\"\")"
   ]
  },
  {
   "cell_type": "code",
   "execution_count": null,
   "metadata": {},
   "outputs": [],
   "source": [
    "# start your key code here:\n"
   ]
  },
  {
   "cell_type": "code",
   "execution_count": null,
   "metadata": {},
   "outputs": [],
   "source": [
    "print(\"\"\"Let's find our way out of here! \"\"\")"
   ]
  },
  {
   "cell_type": "markdown",
   "metadata": {},
   "source": [
    "### You take a look around the room. \n",
    "<img src=\"the_room_overview.png\" width=500 height=300 />\n"
   ]
  },
  {
   "cell_type": "markdown",
   "metadata": {},
   "source": [
    "### At the other side you see the door. Next to it there is something that looks like a key pad. The hints that the good elf left all around the room are needed to get the code and escape out of this room...\n"
   ]
  },
  {
   "cell_type": "markdown",
   "metadata": {},
   "source": [
    "<img src=\"the_door.png\" width=300 height=300 />\n"
   ]
  },
  {
   "cell_type": "markdown",
   "metadata": {},
   "source": [
    "### Desks, books, painting, chairs are all over the place. This room is so full of possible hiding places. Where to start? "
   ]
  },
  {
   "cell_type": "markdown",
   "metadata": {},
   "source": [
    "## Problem 2.   <br> The weird looking note ( **15 points** ) "
   ]
  },
  {
   "cell_type": "markdown",
   "metadata": {},
   "source": [
    "### Walking across the room you notice a note on the floor. At first glance it seems like a weird collection of numbers. But then you realize it's a code. \n",
    "\n",
    "- Make a list *message* that contains all the numbers on the note. \n",
    "- Write a dictionary *letters_numbers* that has as keys letters of the alphabet and as values numbers 1 to 26.\n",
    "- Make a code that loops over the numbers in the note and uses the dictionary to decode the message. Print the message out."
   ]
  },
  {
   "cell_type": "code",
   "execution_count": null,
   "metadata": {},
   "outputs": [],
   "source": [
    "print( 'This is what is written on the note:')\n",
    "print(\"\"\" 12 15 15 11   9 14 19 9 4 5   20 8 5  2 12 21 5   2 15 15 11  \"\"\")"
   ]
  },
  {
   "cell_type": "code",
   "execution_count": null,
   "metadata": {},
   "outputs": [],
   "source": []
  },
  {
   "cell_type": "code",
   "execution_count": null,
   "metadata": {},
   "outputs": [],
   "source": []
  },
  {
   "cell_type": "code",
   "execution_count": null,
   "metadata": {},
   "outputs": [],
   "source": []
  },
  {
   "cell_type": "code",
   "execution_count": null,
   "metadata": {},
   "outputs": [],
   "source": []
  },
  {
   "cell_type": "markdown",
   "metadata": {},
   "source": [
    "## Problem 3. <br> The blue book ( 15 points)"
   ]
  },
  {
   "cell_type": "markdown",
   "metadata": {},
   "source": [
    "### You walk toward the table at the end of the room. There is a blue book lying on top of it. The good elf scratched the number 13 on the back of it. That is (clearly) a clue! \n",
    "- Write a code that reads the book line by line, and counts how many many times the word 'thirteen' appears in it. \n",
    "- The code should then print an informative statement to let you know  how many 'thirteen' it found. \n",
    "\n",
    "### This is the first number you need for the key pad. \n",
    "- Populate your *key_code* and print the current *key_code* out!\n",
    "\n",
    "#### Warning: DO NOT change the lower/upper case of the words in the book; you might get a wrong answer!"
   ]
  },
  {
   "cell_type": "code",
   "execution_count": null,
   "metadata": {},
   "outputs": [],
   "source": []
  },
  {
   "cell_type": "code",
   "execution_count": null,
   "metadata": {},
   "outputs": [],
   "source": []
  },
  {
   "cell_type": "code",
   "execution_count": null,
   "metadata": {},
   "outputs": [],
   "source": []
  },
  {
   "cell_type": "markdown",
   "metadata": {},
   "source": [
    "## Problem 4. <br> Mona Lisa needs glasses ( 15 points)"
   ]
  },
  {
   "cell_type": "markdown",
   "metadata": {},
   "source": [
    "### The elf left you a message on the last line of the blue book\n",
    "- Adapt your previous code to print it out. "
   ]
  },
  {
   "cell_type": "code",
   "execution_count": null,
   "metadata": {},
   "outputs": [],
   "source": []
  },
  {
   "cell_type": "markdown",
   "metadata": {},
   "source": [
    "### You look across the room and you see a painting of Mona Lisa wearing glasses. What can that mean?  You look around and notice a weird looking flashlight nearby. That is it! There is a secret layer painted on the painting! You just need to see it to get the next number. "
   ]
  },
  {
   "cell_type": "markdown",
   "metadata": {},
   "source": [
    "- Use your favorite numpy routine to read in the data from 'the_secret_painting.dat'.\n",
    "- Make a contour plot using contouring levels 0, 1, 2. Make sure to plot the y-axis in reverse order (top should be 0) so that you see the right number. \n",
    "- Make the plot publication ready. \n",
    "\n",
    "- Populate your *key_code* with this number.  Print the *key_code*."
   ]
  },
  {
   "cell_type": "code",
   "execution_count": null,
   "metadata": {},
   "outputs": [],
   "source": []
  },
  {
   "cell_type": "code",
   "execution_count": null,
   "metadata": {},
   "outputs": [],
   "source": []
  },
  {
   "cell_type": "code",
   "execution_count": null,
   "metadata": {},
   "outputs": [],
   "source": []
  },
  {
   "cell_type": "code",
   "execution_count": null,
   "metadata": {},
   "outputs": [],
   "source": []
  },
  {
   "cell_type": "markdown",
   "metadata": {},
   "source": [
    "## Problem 5. <br> The return of the blue book ( 10 points)"
   ]
  },
  {
   "cell_type": "markdown",
   "metadata": {},
   "source": [
    "### You got two clues already and get excited! Walking backwards you knock over the blue book and a cryptic note falls from it: \n",
    "\n",
    "$\\Sigma_{i=2}^{i=7} n_i  / n_{i=1}$\n",
    "\n",
    "### what could this mean? You look at the book contents and suddenly it all makes sense! The text is full of numbers. You just need to add together the counts of each number from 'two' up to 'seven', and then devide by the counts of 'one's ! \n",
    "\n",
    "- Make a code that reads all the blue book and counts how many 'one's, 'two's,'three's...'seven's the book has. Your code needs to identify both 'One' and 'one' but not words like 'anyone'.\n",
    "- Add the numbers up for the counts of 'two', 'three',...,'seven' and devide with the amount of 'one's. \n",
    "- The integer of the division is the next number you need for the key pad.\n",
    "\n",
    "- Populate your *key_code* with this number.  \n",
    "- Print the *key_code*."
   ]
  },
  {
   "cell_type": "code",
   "execution_count": null,
   "metadata": {},
   "outputs": [],
   "source": []
  },
  {
   "cell_type": "code",
   "execution_count": null,
   "metadata": {},
   "outputs": [],
   "source": []
  },
  {
   "cell_type": "code",
   "execution_count": null,
   "metadata": {},
   "outputs": [],
   "source": []
  },
  {
   "cell_type": "code",
   "execution_count": null,
   "metadata": {},
   "outputs": [],
   "source": []
  },
  {
   "cell_type": "markdown",
   "metadata": {},
   "source": [
    "## Problem 6. <br> The acceleration derivation ( 50 points)"
   ]
  },
  {
   "cell_type": "markdown",
   "metadata": {},
   "source": [
    "### Looking across the room you see the elf drew a big 6 next to a map. This map must be the next thing to look at. The map has the predetermined route of the sleigh and on top of it a note \"the acceleration derivation....\". You turn the map around and you see a list of numbers. The numbers correspond to time stamps on the map and distances between them, with a distance-error bar based on the sleigh's GPS. Use this data to retrieve the average acceleration of the the sleigh.\n",
    "\n",
    "- Read data from sleigh_speeds.dat in a variable named sleigh.\n",
    "- Assign each column of the data to an appropriately named variable.\n",
    "- Plot the sleigh's distance as a function of time making a publication-ready plot *with errorbars* and limit the xrange to only show the first 600 seconds of the ride. "
   ]
  },
  {
   "cell_type": "code",
   "execution_count": null,
   "metadata": {},
   "outputs": [],
   "source": []
  },
  {
   "cell_type": "code",
   "execution_count": null,
   "metadata": {},
   "outputs": [],
   "source": []
  },
  {
   "cell_type": "code",
   "execution_count": null,
   "metadata": {},
   "outputs": [],
   "source": []
  },
  {
   "cell_type": "markdown",
   "metadata": {},
   "source": [
    "### (15 points) : \n",
    "### You just realized that Grinchtocat tried to make it harder for you to get the code to the door. All timestamps and thus all your data are scrambled! \n",
    "\n",
    "- Make a function sort_it_all( in1, in2, in3 ) that gets as input 3 arrays and then sorts all arrays based on the sorting of the first array.  As an example, if these are your data:\n",
    "\n",
    "time | distance     | error\n",
    "--|:---------:|:-----------:\n",
    "2.4 | 4.2        | 0.1  \n",
    "0.4 | 10.2      | 0.12\n",
    "1.2 | 22.4 | 0.08\n",
    "\n",
    " - the function should order time as: 0.4 --> 1.2 --> 2.4 and then use information from this sorting to sort all the data as:\n",
    "\n",
    "time | distance     | error\n",
    "--|:---------:|:-----------:\n",
    "0.4 | 10.2      | 0.12\n",
    "1.2 | 22.4 | 0.08\n",
    "2.4 | 4.2        | 0.1  \n",
    "\n",
    "\n",
    " - The function should return all arrays ordered correctly.  Call the function and order you sleigh data based on the ordering of the timestamps (so, e.g.,  sort_it_all( timestamps, distance, error_distance) )."
   ]
  },
  {
   "cell_type": "code",
   "execution_count": null,
   "metadata": {},
   "outputs": [],
   "source": []
  },
  {
   "cell_type": "code",
   "execution_count": null,
   "metadata": {},
   "outputs": [],
   "source": []
  },
  {
   "cell_type": "markdown",
   "metadata": {},
   "source": [
    "### 25 points total:\n",
    "\n",
    "- Use the ordered data to fit a model of the form $s = u * t$  and a model of the form $s = 0.5 * a * t^2 + u_o * t$. Which model best describes the data and why? \n",
    "\n",
    "   - tip: limit your scan of the u parameter in the 0 to 10 space for the first model with a step of 1; and the a in the 0 to 5 with a step of 0.1 and u0 in the 0 to 20 with a step of 2 for the second model \n",
    "\n",
    "- What is the acceleration a of the best-fit model?\n",
    "- Populate your *key_code* with the integer part of the acceleration.  \n",
    "- Print the *key_code*."
   ]
  },
  {
   "cell_type": "code",
   "execution_count": null,
   "metadata": {},
   "outputs": [],
   "source": []
  },
  {
   "cell_type": "code",
   "execution_count": null,
   "metadata": {},
   "outputs": [],
   "source": []
  },
  {
   "cell_type": "code",
   "execution_count": null,
   "metadata": {},
   "outputs": [],
   "source": []
  },
  {
   "cell_type": "code",
   "execution_count": null,
   "metadata": {},
   "outputs": [],
   "source": []
  },
  {
   "cell_type": "code",
   "execution_count": null,
   "metadata": {},
   "outputs": [],
   "source": []
  },
  {
   "cell_type": "markdown",
   "metadata": {},
   "source": [
    "## Problem 7. <br>  Bugs! bugs! bugs on the screen! (10 points)"
   ]
  },
  {
   "cell_type": "markdown",
   "metadata": {},
   "source": [
    "### On the other side of the room you see a chair in front of a computer. The chair has a 7 scratched on it. This must be where the next clue lies. You walk to the chair and look at the computer screen. There is some code, but it is full of bugs. What was the elf thinking? \n",
    "\n",
    "- Debug the code and find the next number. \n",
    "\n",
    "- Populate your *key_code* with the number m.  \n",
    "- Print the *key_code*."
   ]
  },
  {
   "cell_type": "code",
   "execution_count": null,
   "metadata": {},
   "outputs": [],
   "source": [
    "\"\"\"This is the code you see written on the screen \"\"\"\n",
    "\n",
    "\n",
    "print(your_name + \"m is next number you need. I hope I wrote this correctly:\")\n",
    "\n",
    "# get arrays:\n",
    "\n",
    "rands = np.array( [ [5, 12, 4, 32, -56, 33, 8], [ 22, -34, -45, 67, 6, 13, 20 ] , \n",
    "                  [ 4, -44, 42, 29, 3, 12, 27], [6, 13, 28, 36, 56, 32, 18], \n",
    "                  [ 16, 33, 18, 4, 35, 67, 88], [1.2, 24, -727, 9, 16, 29, 48]])\n",
    "\n",
    "qrand = np.array( [ [3, 32, -9, 12, -0.5, 3, -1.8], [ 2.2, -4, -14, -2.4, -6.4, 1.2, 0.0 ] , \n",
    "                  [ 2, -42.42, -43.2, 25.2, -20.2, 5.3, 2.0], [-2.1, 3, -0.24, 3.2, 4.3, 1.4, -3.2], \n",
    "                  [- 3.4, 2 , 4.2, 2.2, -4.4, 5.9, 2.2], [1.12, 3.23, -0.42, 2.2, 9.3, 2.4, 6.12] ] \n",
    "\n",
    "#set variable m to *a* value\n",
    "    m = 2000 \n",
    " \n",
    "#use n and q for the x and y directions and if both arrays are negative in (x,y) multiply and add;\n",
    "#else subtract 3 from m\n",
    "\n",
    "for n in range( len( rands ) ):\n",
    "    for q in range( len( rands[  :, n ])):\n",
    "        if (qrand[ n, q] < 0) & (rands [n, n] < 0 ) :\n",
    "            print(\"both elements are negative )\n",
    "            m = m +  qrand[ n , n ] * rands[ n , q ] ''\n",
    "        else:\n",
    "        m = m - 3\n",
    "    #get the final m:        \n",
    "    m = int( m/777 ) -1 \n",
    "        \n",
    "#print note about where to look next\n",
    "print('Push the red button next to the keyboard')                  "
   ]
  },
  {
   "cell_type": "code",
   "execution_count": null,
   "metadata": {},
   "outputs": [],
   "source": []
  },
  {
   "cell_type": "code",
   "execution_count": null,
   "metadata": {},
   "outputs": [],
   "source": []
  },
  {
   "cell_type": "code",
   "execution_count": null,
   "metadata": {},
   "outputs": [],
   "source": []
  },
  {
   "cell_type": "markdown",
   "metadata": {},
   "source": [
    "## Problem 8. <br>  The lighthouse on the tree (15 points)\n",
    "\n",
    "\n",
    "### You push the button. Suddenly there is light coming out of the lighthouse on top of the tree. The lighthouse emits two beams of light in opposite directions (so, the two beams are separated by $180^\\circ$) The screen in front of you starts recording data. A message appears on the screen:"
   ]
  },
  {
   "cell_type": "code",
   "execution_count": null,
   "metadata": {},
   "outputs": [],
   "source": [
    "print( \"\"\"Get the period of the lighthouse. The integer part of the period (two numbers) \n",
    "are your next two numbers \"\"\"+ your_name + '!')"
   ]
  },
  {
   "cell_type": "markdown",
   "metadata": {},
   "source": [
    "- Read in the data from lighthouse_data.dat.\n",
    "  The data contain time stamps recorded by the system and the corresponding intensity of the light from the lighthouse. \n",
    "- What is the period of the lighthouse (i.e., the time it takes to see the same face of the lighthouse again; the time it takes for the lighthouse to make a $360^\\circ$ rotation). \n",
    "\n",
    "  - Tip: remember that you only need the integer part, so if you find a period of 10.2 the numbers to append are 1 0 \n",
    "\n",
    "- Populate your *key_code* with the two numbers separetely (so 24 would be 2, 4).  \n",
    "- Print the *key_code*."
   ]
  },
  {
   "cell_type": "code",
   "execution_count": null,
   "metadata": {},
   "outputs": [],
   "source": []
  },
  {
   "cell_type": "code",
   "execution_count": null,
   "metadata": {},
   "outputs": [],
   "source": []
  },
  {
   "cell_type": "code",
   "execution_count": null,
   "metadata": {},
   "outputs": [],
   "source": []
  },
  {
   "cell_type": "code",
   "execution_count": null,
   "metadata": {},
   "outputs": [],
   "source": []
  },
  {
   "cell_type": "code",
   "execution_count": null,
   "metadata": {},
   "outputs": [],
   "source": []
  },
  {
   "cell_type": "markdown",
   "metadata": {},
   "source": [
    "## Problem 9. <br>  The next clue (10 points)\n",
    "\n",
    "### A message appears on the screen: \n",
    "\n",
    "\"\"\" Get the_next_hint.dat file to find where to look for your next hint. \"\"\"\n",
    "\n",
    "### Where could your next clue lie? To figure out you need to practice your 3D plotting. \n",
    "\n",
    "- Read data from file the_next_hint.dat and assign the three columns to variables x1, y1, z1. \n",
    "- Make a 3D scatter plot with your x1,y1,z1 data. \n",
    "- Save the 3D plot with an appropriate name.\n",
    "- What does it look like? Where is your next clue in the room? Print an informative statement with your answer. "
   ]
  },
  {
   "cell_type": "code",
   "execution_count": null,
   "metadata": {},
   "outputs": [],
   "source": []
  },
  {
   "cell_type": "code",
   "execution_count": null,
   "metadata": {},
   "outputs": [],
   "source": []
  },
  {
   "cell_type": "code",
   "execution_count": null,
   "metadata": {},
   "outputs": [],
   "source": []
  },
  {
   "cell_type": "code",
   "execution_count": null,
   "metadata": {},
   "outputs": [],
   "source": []
  },
  {
   "cell_type": "markdown",
   "metadata": {},
   "source": [
    "## Problem 10. <br>  Olaf loves puzzles (26 points)\n",
    "\n",
    "### You reach the snowman. On his scarf there is a key to unlock the box next to him. You open the box. The dungeon key is in there. If you can get out of here, you will be able to free Saint Nictocat! You are two steps away from saving every student from retakes!\n",
    "\n",
    "### You see two puzzles in the box and a note \"the number that is a common solution to these puzzles is the last number you need for the key code.\"\n",
    "\n",
    "### The first puzzle: \n",
    "- Has a riddle on the front: \"We are two numbers, less than 10. When you multiply us you will get this number. What numbers are we?\". On the back there are two 2D matrices: puzzle_part1 and puzzle_part2 (see next shell). \n",
    "  - Use the appropriate numpy functions to multiply the matrices. You need to do a formal matrix multiplication, not the element-wise one that A * B would give you.\n",
    "  - and get the trace of the resulting matrix. \n",
    "  - What are the two numbers of the ridde that when multiplied will give you the trace? Print an informative statement. \n",
    "\n",
    "### The second puzzle:\n",
    "- An alien at Proxima Centauri b looks toward our Sun with their telescope and records a transit (a planet crosses in front of the Sun disk). The planet caused a dip in the light the alien saw of $\\Delta$f=0.007456. The event repeated after 10,740 days. Using Doppler spectroscopy the alien found that the planet causes the Sun to wobble with a velocity semi-amplitude of 2.76m/s. Which planet did the alien see? If Mercury is 1, Venus is 2, this planet is N. \n",
    "\n",
    "    - Find the Radius and Mass of the planet using the information from above and these tips:\n",
    "      - Tip for the transit: you know that $\\Delta$f $\\sim \\frac{R^2_{planet}}{R^2_{star}}$. Use this to find the radius of the planet in km, if you know that the Sun has a radius of 696,000km \n",
    "      - Tip for the wobbling: you know that the velocity semi-amplitude is given by $K = \\frac{28.43 [m/s]}{\\sqrt{1-e^2}} \\frac{m_{planet}\\sin i}{m_{Jupiter}}(\\frac{m_{planet}+m_{Sun}}{m_{Sun}})^{-2/3} (\\frac{P}{1 year})^{-1/3}$. Use this to find the mass of the planet. You can assume that e = 0 and sini = 1. Also, note that $m_{planet} << m_{Sun}$ \n",
    "      \n",
    "    - Now that you now the Radius, Mass and Period of the planet, compare against this NASA database: https://nssdc.gsfc.nasa.gov/planetary/factsheet/ \n",
    "    - Which is the planet the alien saw? \n",
    "    - What is the number N of the planet (if Mercury=1, Venus =2, etc)? Print an informative statement. \n",
    "    \n",
    "    \n",
    "- What is the number that is a common solution to the two puzzles? Populate your *key_code* with the number.\n",
    "- Print the *key_code*."
   ]
  },
  {
   "cell_type": "code",
   "execution_count": null,
   "metadata": {},
   "outputs": [],
   "source": [
    "\"\"\"The first puzzle\"\"\"\n",
    "\n",
    "puzzle_part1 = np.array( ([5, 2, 3, 1], [4, 2, 3, 0], [1, 0, -2, 4], [1, 1, -1, 1] ))\n",
    "puzzle_part2 = np.array( ([3, 2, 1, 0], [1, 1, 3, 4], [-3, 3, 2, 1], [2, 5, 3, 1] ))\n",
    "\n"
   ]
  },
  {
   "cell_type": "code",
   "execution_count": null,
   "metadata": {},
   "outputs": [],
   "source": []
  },
  {
   "cell_type": "code",
   "execution_count": null,
   "metadata": {},
   "outputs": [],
   "source": []
  },
  {
   "cell_type": "code",
   "execution_count": null,
   "metadata": {},
   "outputs": [],
   "source": []
  },
  {
   "cell_type": "code",
   "execution_count": null,
   "metadata": {},
   "outputs": [],
   "source": [
    "\"\"\"The second puzzle\"\"\"\n",
    "\n"
   ]
  },
  {
   "cell_type": "code",
   "execution_count": null,
   "metadata": {},
   "outputs": [],
   "source": []
  },
  {
   "cell_type": "code",
   "execution_count": null,
   "metadata": {},
   "outputs": [],
   "source": []
  },
  {
   "cell_type": "code",
   "execution_count": null,
   "metadata": {},
   "outputs": [],
   "source": []
  },
  {
   "cell_type": "markdown",
   "metadata": {},
   "source": [
    "## Problem 12. <br>  Free the students! (3 points)\n",
    "\n",
    "### You did it! You have the 8 digits that you need to exit the room! You run to the key pad and enter the code. Did it work? Open the pdf free_the_cat.pdf using the 8 digits you got (no spaces or commas in between). "
   ]
  },
  {
   "cell_type": "code",
   "execution_count": null,
   "metadata": {},
   "outputs": [],
   "source": []
  },
  {
   "cell_type": "markdown",
   "metadata": {},
   "source": [
    "## Problem 13. <br> The final push (10 points)\n",
    "\n",
    "### Prepare and submit your homework. Write what you will do to make and submit the zip file into your log. Don’t forget to also commit your finalized log and push it to GitHub. When satisfied, close the log, copy it to your homework directory, and run the commands to make and submit the zip file. Turn the file in on WebCourses. !"
   ]
  },
  {
   "cell_type": "markdown",
   "metadata": {},
   "source": [
    "<img src=\"goodbye.png\" width=400 height=400 />\n"
   ]
  }
 ],
 "metadata": {
  "kernelspec": {
   "display_name": "Python 3 (ipykernel)",
   "language": "python",
   "name": "python3"
  },
  "language_info": {
   "codemirror_mode": {
    "name": "ipython",
    "version": 3
   },
   "file_extension": ".py",
   "mimetype": "text/x-python",
   "name": "python",
   "nbconvert_exporter": "python",
   "pygments_lexer": "ipython3",
   "version": "3.9.12"
  }
 },
 "nbformat": 4,
 "nbformat_minor": 2
}
