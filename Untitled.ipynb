{
 "cells": [
  {
   "cell_type": "code",
   "execution_count": 1,
   "id": "6dc1df8b",
   "metadata": {},
   "outputs": [
    {
     "name": "stderr",
     "output_type": "stream",
     "text": [
      "C:\\Users\\logan\\AppData\\Local\\Temp\\ipykernel_28708\\1616404627.py:33: RuntimeWarning: divide by zero encountered in long_scalars\n",
      "  rel_dif = (my_data[ l1, l2 ] - my_control_data[ l1, l2 ])/ my_control_data[ l1, l2 ]\n"
     ]
    },
    {
     "name": "stdout",
     "output_type": "stream",
     "text": [
      "[[1 1 1 2 3 1]\n",
      " [3 1 2 1 1 1]\n",
      " [3 3 1 1 1 1]\n",
      " [1 1 1 1 1 3]]\n"
     ]
    },
    {
     "data": {
      "image/png": "[encoded data removed]",
      "text/plain": [
       "<Figure size 576x576 with 1 Axes>"
      ]
     },
     "metadata": {
      "needs_background": "light"
     },
     "output_type": "display_data"
    }
   ],
   "source": [
    "# make my imports\n",
    "\n",
    "import numpy as np\n",
    "import matplotlib.pyplot as plt\n",
    "\n",
    "# get the data from the experiments:\n",
    "\n",
    "my_data = np.array( ( [12, 34, -3, 27, 28, -17 ],\n",
    "                    [ 6, 52, 37, -22, -67, 12 ],\n",
    "                    [29, -124, 8, -45, -44, 50 ],\n",
    "                    [ 3, 18, -69, 32, 48, 284 ] ) )\n",
    "\n",
    "my_control_data = np.array( ( [12, 442, -12, 22, 21, 17 ],\n",
    "                    [ 0, -32, 32, -22, -61, -2 ],\n",
    "                    [22, -14, 8, 35, -41, 45 ],\n",
    "                    [ 33, 21, -62, 132, 47, 34 ] ) )\n",
    "\n",
    "# The data should be consistent with each other. Check that values of a given measurement\n",
    "# (a given i,j combination) are within fifteen percent (relatively) of each other. These are good data!\n",
    "# If they are within 25% they may be noisy measurements.\n",
    "# If they flip sign they are useless data.\n",
    "# Make a mask data_control that contains info about the quality of the data:\n",
    "# 1: good, 2: within 15%-25%, 3: 25%+, 4: bad data (>0 in one measurement, <0 in the other)\n",
    "\n",
    "\n",
    "#make mask data control array equal to 3:\n",
    "data_control = 0 * my_data + 3\n",
    "\n",
    "# loop over arrays and check values:\n",
    "for l1 in range( 4 ):\n",
    "    for l2 in range( 6 ):\n",
    "      #calculate the relative error\n",
    "        rel_dif = (my_data[ l1, l2 ] - my_control_data[ l1, l2 ])/ my_control_data[ l1, l2 ]\n",
    "      #check it in comparison to the known limits and flag the mask accordingly\n",
    "        if rel_dif <= 0.15:\n",
    "            data_control[ l1, l2] = 1\n",
    "        elif (rel_dif > 0.15 and rel_dif <= 0.25 ):\n",
    "            data_control[ l1, l2] = 2\n",
    "        elif (my_data[ l1, l2 ] > 0 and my_control_data[ l1, l2 ] < 0) or (my_data[ l1, l2 ] < 0 and my_control_data[ l1, l2 ] > 0) :\n",
    "            data_control[ l1, l2 ] = 4\n",
    "      \n",
    "      \n",
    "\n",
    "#check the output:\n",
    "print( data_control )\n",
    "\n",
    "#visualize your results:\n",
    "# plot the datasets using a different color for the different flags: 1= red, 2 = blue, 3 = gray, 4 = orange\n",
    "# also use different symbols: 1 = circles, 2 = squares, 3 = diamonds, 4 = stars\n",
    "\n",
    "#get edges of plot:\n",
    "min_xy = np.min( [np.min( my_data ), np.min( my_control_data ) ] )\n",
    "max_xy = np.max( [np.max( my_data ), np.max( my_control_data ) ] )\n",
    "\n",
    "#set up the plot\n",
    "plt.figure( figsize= (8,8) )\n",
    "\n",
    "plt.plot( np.arange( 24 ), np.linspace( min_xy, max_xy, num = 24 ) , linestyle = 'none')\n",
    "\n",
    "n = 0\n",
    "#plot all i,j combinations:\n",
    "for i in range( 4 ):\n",
    "    for j in range( 6 ):\n",
    "      \n",
    "        if data_control[ i, j ] == 1:\n",
    "            plt.plot( n, my_data[ i,j ], color = 'red', marker = 'o' )\n",
    "            plt.plot( n, my_control_data[ i,j ], color = 'red', marker = 'o' )\n",
    "        if data_control[ i, j ] == 2:\n",
    "            plt.plot( n, my_data[ i,j ], color = 'blue', marker = 's' )\n",
    "            plt.plot( n, my_control_data[ i,j ], color = 'blue', marker = 's' )\n",
    "        if data_control[ i, j ] == 3:\n",
    "            plt.plot( n, my_data[ i,j ], color = 'gray', marker = 'd' )\n",
    "            plt.plot( n, my_control_data[ i,j ], color = 'gray', marker = 'd' )\n",
    "        if data_control[ i, j ] == 4:\n",
    "            plt.plot( n, my_data[ i,j ], color = 'orange', marker = '*' )\n",
    "            plt.plot( n, my_control_data[ i,j ] )\n",
    "\n",
    "    n = n + 1"
   ]
  },
  {
   "cell_type": "code",
   "execution_count": null,
   "id": "668a998d",
   "metadata": {},
   "outputs": [],
   "source": []
  }
 ],
 "metadata": {
  "kernelspec": {
   "display_name": "Python 3 (ipykernel)",
   "language": "python",
   "name": "python3"
  },
  "language_info": {
   "codemirror_mode": {
    "name": "ipython",
    "version": 3
   },
   "file_extension": ".py",
   "mimetype": "text/x-python",
   "name": "python",
   "nbconvert_exporter": "python",
   "pygments_lexer": "ipython3",
   "version": "3.9.12"
  }
 },
 "nbformat": 4,
 "nbformat_minor": 5
}
