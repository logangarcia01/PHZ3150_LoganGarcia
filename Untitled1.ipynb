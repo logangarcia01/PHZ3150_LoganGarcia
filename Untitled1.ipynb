{
 "cells": [
  {
   "cell_type": "code",
   "execution_count": 1,
   "id": "e778ba60",
   "metadata": {},
   "outputs": [],
   "source": [
    "import numpy as np"
   ]
  },
  {
   "cell_type": "code",
   "execution_count": 3,
   "id": "6fd303e8",
   "metadata": {},
   "outputs": [],
   "source": [
    "m1= [ 1, 3, 5, 7, 9, 11, 13, 15]"
   ]
  },
  {
   "cell_type": "code",
   "execution_count": 5,
   "id": "d34839f3",
   "metadata": {},
   "outputs": [
    {
     "name": "stdout",
     "output_type": "stream",
     "text": [
      "7\n"
     ]
    }
   ],
   "source": [
    "print( m1[ 3 ] )"
   ]
  },
  {
   "cell_type": "code",
   "execution_count": 12,
   "id": "5116c3b8",
   "metadata": {},
   "outputs": [
    {
     "ename": "TypeError",
     "evalue": "ufunc 'bitwise_xor' not supported for the input types, and the inputs could not be safely coerced to any supported types according to the casting rule ''safe''",
     "output_type": "error",
     "traceback": [
      "\u001b[1;31m---------------------------------------------------------------------------\u001b[0m",
      "\u001b[1;31mTypeError\u001b[0m                                 Traceback (most recent call last)",
      "Input \u001b[1;32mIn [12]\u001b[0m, in \u001b[0;36m<cell line: 3>\u001b[1;34m()\u001b[0m\n\u001b[0;32m      1\u001b[0m data1\u001b[38;5;241m=\u001b[39m np\u001b[38;5;241m.\u001b[39marange( \u001b[38;5;241m1\u001b[39m, \u001b[38;5;241m10\u001b[39m, \u001b[38;5;241m0.01\u001b[39m )     \u001b[38;5;66;03m#get data on x axis\u001b[39;00m\n\u001b[1;32m----> 3\u001b[0m data2 \u001b[38;5;241m=\u001b[39m \u001b[43mdata1\u001b[49m\u001b[38;5;241;43m^\u001b[39;49m\u001b[43m(\u001b[49m\u001b[38;5;241;43m3\u001b[39;49m\u001b[38;5;241;43m/\u001b[39;49m\u001b[38;5;241;43m2\u001b[39;49m\u001b[43m)\u001b[49m                       \u001b[38;5;66;03m#data on y axis equal to x to the power of 1.5\u001b[39;00m\n\u001b[0;32m      4\u001b[0m data3 \u001b[38;5;241m=\u001b[39m np\u001b[38;5;241m.\u001b[39mzeros( \u001b[38;5;28mlen\u001b[39m( data1 ), \u001b[38;5;28mlen\u001b[39m( data2 ) ) \u001b[38;5;66;03m#make 2D table that will be populated as: data3[ i,j ] = data1[ i ] * data2[ j ]\u001b[39;00m\n\u001b[0;32m      6\u001b[0m \u001b[38;5;66;03m#loop over data and populate data3:\u001b[39;00m\n",
      "\u001b[1;31mTypeError\u001b[0m: ufunc 'bitwise_xor' not supported for the input types, and the inputs could not be safely coerced to any supported types according to the casting rule ''safe''"
     ]
    }
   ],
   "source": [
    "data1= np.arange( 1, 10, 0.01 )     #get data on x axis\n",
    "\n",
    "data2 = data1^(3/2)                       #data on y axis equal to x to the power of 1.5\n",
    "data3 = np.zeros( len( data1 ), len( data2 ) ) #make 2D table that will be populated as: data3[ i,j ] = data1[ i ] * data2[ j ]\n",
    "\n",
    "#loop over data and populate data3:\n",
    "\n",
    "for n in range( len( data1 ) ):\n",
    "\n",
    "       for m in range( len( data2 ) ):\n",
    "\n",
    " \n",
    "\n",
    "           data3[ i, j ] = data1[ i ] * data2[ j ]"
   ]
  },
  {
   "cell_type": "code",
   "execution_count": null,
   "id": "db4d7845",
   "metadata": {},
   "outputs": [],
   "source": []
  }
 ],
 "metadata": {
  "kernelspec": {
   "display_name": "Python 3 (ipykernel)",
   "language": "python",
   "name": "python3"
  },
  "language_info": {
   "codemirror_mode": {
    "name": "ipython",
    "version": 3
   },
   "file_extension": ".py",
   "mimetype": "text/x-python",
   "name": "python",
   "nbconvert_exporter": "python",
   "pygments_lexer": "ipython3",
   "version": "3.9.12"
  }
 },
 "nbformat": 4,
 "nbformat_minor": 5
}
