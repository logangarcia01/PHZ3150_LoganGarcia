{
 "cells": [
  {
   "cell_type": "markdown",
   "id": "1b621483",
   "metadata": {},
   "source": [
    "Logan Garcia\n",
    "\n",
    "Hw5\n",
    "\n",
    "09/22/2022"
   ]
  },
  {
   "cell_type": "markdown",
   "id": "ce04ae4d",
   "metadata": {},
   "source": [
    "Problem 1 (5 points). Make a new folder named hw5_<yourname>.  \n",
    "For this homework your main homework file is a Python file named  \n",
    "hw5_<username>.ipynb.  Save it in your homework folder. Remember to commit  \n",
    "your files and push to GitHub (also, great backup!). Your name, assignment number,  \n",
    "and the date should appear as comments at the top of the notebook. At the start of  \n",
    "every problem, write the problem number using markdown comments. Any remarks or  \n",
    "written answers you may make should also be written with markdown. If you need to  \n",
    "comment something in the code (for coding clarity) do so with a normal comment (i.e., #  \n",
    "this is a comment). Print the problem number (as in “Problem 1:”) before each  \n",
    "problem’s output. Use the print() function to print, don’t just type the expression.  \n",
    " \n",
    "Start your notebook by importing numpy."
   ]
  },
  {
   "cell_type": "code",
   "execution_count": 1,
   "id": "bcbba17a",
   "metadata": {},
   "outputs": [],
   "source": [
    "import numpy as np"
   ]
  },
  {
   "cell_type": "code",
   "execution_count": null,
   "id": "7d8512af",
   "metadata": {},
   "outputs": [],
   "source": []
  },
  {
   "cell_type": "markdown",
   "id": "24097b0f",
   "metadata": {},
   "source": [
    "Problem 2 (15 points). \n",
    "\n",
    "Recall the quadratic formula 𝑥 =−𝑏±√𝑏2−4𝑎𝑐\n",
    "2𝑎 , which solves for \n",
    "the roots of  𝑎𝑥2 +𝑏𝑥+𝑐 =0. Write a function that calculates and returns a list \n",
    "containing both of the roots, given the three coefficients. Be sure to include a docstring! \n",
    "What does it need to include? Calculate the roots of 𝑥2 −𝑥−12 =0, returning them \n",
    "directly into two variables. Print them. "
   ]
  },
  {
   "cell_type": "code",
   "execution_count": 13,
   "id": "d31128e3",
   "metadata": {},
   "outputs": [],
   "source": [
    "from Quad import quad\n",
    "a = 1\n",
    "b = 1\n",
    "c = -12"
   ]
  },
  {
   "cell_type": "code",
   "execution_count": null,
   "id": "e4d9b9e4",
   "metadata": {},
   "outputs": [],
   "source": []
  },
  {
   "cell_type": "markdown",
   "id": "a62aaabf",
   "metadata": {},
   "source": [
    "Problem 3 (10 points). \n",
    "\n",
    "Create a list student_h that contains lists with the heights of \n",
    "students in feet and inches. A person being 5' 6\" would be noted as [5, 6], a person \n",
    "being 5' 10\" would be noted as [5, 10] etc. Populate it with the heights of five students \n",
    "who are : 5’ 1”, 4’ 10”, 6’ 02”, 5’ 07”, and 6’ 11”.  \n",
    "Create a function ft_to_m_cm that takes as input a value from student_h and  \n",
    "returns each height in a new list [m, cm] (round cm up). Call the function for all values of  \n",
    "student_h and print the results with an informative sentence (e.g., Student 1 has a  \n",
    "height of 1 m 10 cm )  (Remember that 1 ft ~= 0.3048 m and 1 inch ~= 0.0254 m and  \n",
    "1m has 100cm).  "
   ]
  },
  {
   "cell_type": "code",
   "execution_count": null,
   "id": "8253805d",
   "metadata": {},
   "outputs": [],
   "source": []
  },
  {
   "cell_type": "code",
   "execution_count": null,
   "id": "5f84e610",
   "metadata": {},
   "outputs": [],
   "source": []
  },
  {
   "cell_type": "markdown",
   "id": "87adb7dd",
   "metadata": {},
   "source": [
    "Problem 4 (20 points). \n",
    "\n",
    "Create a function displacement(u_init, t ,a) that \n",
    "calculates the total displacement of a body during a time interval t, when the body has \n",
    "initial speed u_init and a constant acceleration a. Save it in a separate .py file, not \n",
    "your main homework file. Remember to start the function with a proper docstring.  \n",
    "The displacement of a body that moves with a constant acceleration will be:  \n",
    "s=u_init*t+0.5*a*t2, where t is the total time the object moves, a the  \n",
    "constant acceleration and u_init the initial speed of the body. In your main homework  \n",
    "file import the function and calculate the total displacement for u_init=0, a=[10, \n",
    "20, 30] and t=[2,4,14]. Again, calculate these numbers some other way to check \n",
    "that they are correct, and write on your log how you checked it. "
   ]
  },
  {
   "cell_type": "code",
   "execution_count": 14,
   "id": "9ad5596d",
   "metadata": {},
   "outputs": [],
   "source": [
    "from displacement import displacement"
   ]
  },
  {
   "cell_type": "code",
   "execution_count": 29,
   "id": "1663b53d",
   "metadata": {},
   "outputs": [
    {
     "name": "stdout",
     "output_type": "stream",
     "text": [
      "The displacement of body with initial speed =  0 acceleration =  10 and time =  2 is:  20.0\n",
      "The displacement of body with initial speed =  0 acceleration =  20 and time =  4 is:  160.0\n",
      "The displacement of body with initial speed =  0 acceleration =  30 and time =  14 is:  2940.0\n"
     ]
    }
   ],
   "source": [
    "\n",
    "#initial diplacement \n",
    "u_init = 0\n",
    "\n",
    "# acceleration\n",
    "a = [10, 20, 30]\n",
    "\n",
    "# time \n",
    "t = [2, 4, 14]\n",
    "\n",
    "\n",
    "for i in range(3):\n",
    "    s = displacement(u_init, t[i], a[i])\n",
    "    print(\"The displacement of the body with an initial speed = \",u_init, \"acceleration = \",a[i], \"and time = \",t[i], \"is: \",s)"
   ]
  },
  {
   "cell_type": "markdown",
   "id": "4602edf5",
   "metadata": {},
   "source": []
  },
  {
   "cell_type": "code",
   "execution_count": null,
   "id": "ec061b33",
   "metadata": {},
   "outputs": [],
   "source": []
  }
 ],
 "metadata": {
  "kernelspec": {
   "display_name": "Python 3 (ipykernel)",
   "language": "python",
   "name": "python3"
  },
  "language_info": {
   "codemirror_mode": {
    "name": "ipython",
    "version": 3
   },
   "file_extension": ".py",
   "mimetype": "text/x-python",
   "name": "python",
   "nbconvert_exporter": "python",
   "pygments_lexer": "ipython3",
   "version": "3.9.12"
  }
 },
 "nbformat": 4,
 "nbformat_minor": 5
}
